{
 "cells": [
  {
   "cell_type": "code",
   "execution_count": 50,
   "metadata": {
    "collapsed": false
   },
   "outputs": [],
   "source": [
    "import numpy as np\n",
    "import matplotlib.pyplot as plt\n",
    "%matplotlib inline\n",
    "from matplotlib import rcParams\n",
    "rcParams['font.family'] = 'serif'\n",
    "rcParams['font.size'] = 16"
   ]
  },
  {
   "cell_type": "markdown",
   "metadata": {},
   "source": [
    "This is for doing the linear convection equation from module 2, lesson 1"
   ]
  },
  {
   "cell_type": "code",
   "execution_count": 66,
   "metadata": {
    "collapsed": true
   },
   "outputs": [],
   "source": [
    "# time and space discritization\n",
    "nx = 21      # number of spacial steps\n",
    "x = numpy.linspace(0,2,nx) # range of x\n",
    "dx = x.max()/(nx-1)        # space step\n",
    "nt = 25       # number of time steps\n",
    "dt = 0.02     # time step\n",
    "t = numpy.linspace(0,nt*dt,nt)\n",
    "c = 1         # wave speed\n",
    "\n",
    "# solution initialization\n",
    "u = numpy.zeros(nx)\n",
    "u_exact = numpy.zeros(nx)\n",
    "\n",
    "# initial condition:\n",
    "for i, val in enumerate(x):\n",
    "    if 0.900 <= val <= 1.000:\n",
    "        u[i] = 10*(val-0.9)\n",
    "        u_exact[i] = 10*(val-0.9)\n",
    "    elif 1.0 <= val <= 1.1:\n",
    "        u[i] = 10*(1.1-val)\n",
    "        u_exact[i] = 10*(1.1-val)"
   ]
  },
  {
   "cell_type": "code",
   "execution_count": 68,
   "metadata": {
    "collapsed": false
   },
   "outputs": [],
   "source": [
    "# solve\n",
    "# exact solution\n",
    "for n in range(1,nt):\n",
    "    un1 = u_exact.copy()\n",
    "    for i in range(1,nx):\n",
    "        u_exact[i] = un1[i]*(x[i]-c*t[i])\n",
    "\n",
    "\n",
    "\n",
    "for n in range(1,nt):\n",
    "    un2 = u.copy()\n",
    "    for i in range(1,nx):\n",
    "        u[i] = un2[i] - c*dt/dx*(un2[i] - un2[i-1])\n",
    "# exact solution\n"
   ]
  },
  {
   "cell_type": "code",
   "execution_count": 57,
   "metadata": {
    "collapsed": false
   },
   "outputs": [
    {
     "data": {
      "text/plain": [
       "(0, 2.5)"
      ]
     },
     "execution_count": 57,
     "metadata": {},
     "output_type": "execute_result"
    },
    {
     "data": {
      "image/png": "[encoded data removed]",
      "text/plain": [
       "<matplotlib.figure.Figure at 0x10a06a7f0>"
      ]
     },
     "metadata": {},
     "output_type": "display_data"
    }
   ],
   "source": [
    "pyplot.figure()\n",
    "pyplot.plot(x, u)\n",
    "pyplot.ylim(0,2.5)"
   ]
  },
  {
   "cell_type": "code",
   "execution_count": 48,
   "metadata": {
    "collapsed": false
   },
   "outputs": [],
   "source": [
    "u_prime_center = numpy.zeros(u.shape)\n",
    "u_prime_center[0] = (u[1] - u[0])/dx*2\n",
    "u_double_prime_center = numpy.zeros(u.shape)\n",
    "u_double_prime_center[0] = (u[1] - u[0])/dx**2\n",
    "for i in range(len(u)-1):\n",
    "    u_prime_center[i+1] = (u[i+1]+u[i-1])/2*dx"
   ]
  },
  {
   "cell_type": "code",
   "execution_count": 49,
   "metadata": {
    "collapsed": false
   },
   "outputs": [
    {
     "data": {
      "text/plain": [
       "(0, 0.05)"
      ]
     },
     "execution_count": 49,
     "metadata": {},
     "output_type": "execute_result"
    },
    {
     "data": {
      "image/png": "[encoded data removed]",
      "text/plain": [
       "<matplotlib.figure.Figure at 0x10a84a390>"
      ]
     },
     "metadata": {},
     "output_type": "display_data"
    }
   ],
   "source": [
    "pyplot.figure()\n",
    "pyplot.plot(x, u_prime_center)\n",
    "pyplot.ylim(0,0.05)"
   ]
  },
  {
   "cell_type": "code",
   "execution_count": 65,
   "metadata": {
    "collapsed": false
   },
   "outputs": [
    {
     "ename": "NameError",
     "evalue": "name 't' is not defined",
     "output_type": "error",
     "traceback": [
      "\u001b[0;31m---------------------------------------------------------------------------\u001b[0m",
      "\u001b[0;31mNameError\u001b[0m                                 Traceback (most recent call last)",
      "\u001b[0;32m<ipython-input-65-4bdbfb9296ce>\u001b[0m in \u001b[0;36m<module>\u001b[0;34m()\u001b[0m\n\u001b[0;32m----> 1\u001b[0;31m \u001b[0mnp\u001b[0m\u001b[0;34m.\u001b[0m\u001b[0mshape\u001b[0m\u001b[0;34m(\u001b[0m\u001b[0mt\u001b[0m\u001b[0;34m)\u001b[0m\u001b[0;34m\u001b[0m\u001b[0m\n\u001b[0m",
      "\u001b[0;31mNameError\u001b[0m: name 't' is not defined"
     ]
    }
   ],
   "source": [
    "np.shape(t)"
   ]
  }
 ],
 "metadata": {
  "anaconda-cloud": {},
  "kernelspec": {
   "display_name": "Python [Root]",
   "language": "python",
   "name": "Python [Root]"
  },
  "language_info": {
   "codemirror_mode": {
    "name": "ipython",
    "version": 3
   },
   "file_extension": ".py",
   "mimetype": "text/x-python",
   "name": "python",
   "nbconvert_exporter": "python",
   "pygments_lexer": "ipython3",
   "version": "3.5.2"
  }
 },
 "nbformat": 4,
 "nbformat_minor": 0
}
