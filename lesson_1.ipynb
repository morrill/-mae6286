{
 "cells": [
  {
   "cell_type": "code",
   "execution_count": 2,
   "metadata": {
    "collapsed": true
   },
   "outputs": [],
   "source": [
    "%matplotlib inline"
   ]
  },
  {
   "cell_type": "code",
   "execution_count": 3,
   "metadata": {
    "collapsed": false
   },
   "outputs": [
    {
     "data": {
      "text/plain": [
       "'/home/morrill/mae6286'"
      ]
     },
     "execution_count": 3,
     "metadata": {},
     "output_type": "execute_result"
    }
   ],
   "source": [
    "pwd"
   ]
  },
  {
   "cell_type": "markdown",
   "metadata": {},
   "source": [
    "ls = list\n",
    "\n",
    ".. takes us up one folder in the current directory, to \"morrill/\"\n",
    "\n",
    "we then put the path into the lesson 01 folder for the numerical mooc repository (/numerical-mooc/lessons/01_phugoid/) to find the file name of the .py file that defines the function for plotting phugoid oscillations. "
   ]
  },
  {
   "cell_type": "code",
   "execution_count": 6,
   "metadata": {
    "collapsed": false
   },
   "outputs": [
    {
     "name": "stdout",
     "output_type": "stream",
     "text": [
      "01_01_Phugoid_Theory.ipynb        \u001b[0m\u001b[01;34mfigures\u001b[0m/\r\n",
      "01_02_Phugoid_Oscillation.ipynb   \u001b[01;32mphugoid.py\u001b[0m*\r\n",
      "01_03_PhugoidFullModel.ipynb      README.md\r\n",
      "01_04_Second_Order_Methods.ipynb  Rocket_Assignment.ipynb\r\n",
      "burn.rate.png\r\n"
     ]
    }
   ],
   "source": [
    "ls ../numerical-mooc/lessons/01_phugoid/"
   ]
  },
  {
   "cell_type": "markdown",
   "metadata": {},
   "source": [
    "Now we can call the cell magic \"run\" to run that .py file so that the funciton is defined."
   ]
  },
  {
   "cell_type": "code",
   "execution_count": 7,
   "metadata": {
    "collapsed": true
   },
   "outputs": [],
   "source": [
    "%run ../numerical-mooc/lessons/01_phugoid/phugoid.py"
   ]
  },
  {
   "cell_type": "code",
   "execution_count": null,
   "metadata": {
    "collapsed": true
   },
   "outputs": [],
   "source": []
  }
 ],
 "metadata": {
  "anaconda-cloud": {},
  "kernelspec": {
   "display_name": "Python [default]",
   "language": "python",
   "name": "python3"
  },
  "language_info": {
   "codemirror_mode": {
    "name": "ipython",
    "version": 3
   },
   "file_extension": ".py",
   "mimetype": "text/x-python",
   "name": "python",
   "nbconvert_exporter": "python",
   "pygments_lexer": "ipython3",
   "version": "3.5.2"
  }
 },
 "nbformat": 4,
 "nbformat_minor": 0
}
