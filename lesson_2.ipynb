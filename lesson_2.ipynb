{
 "cells": [
  {
   "cell_type": "code",
   "execution_count": 6,
   "metadata": {
    "collapsed": false
   },
   "outputs": [],
   "source": [
    "import numpy as np\n",
    "import matplotlib.pyplot as plt\n",
    "%matplotlib inline"
   ]
  },
  {
   "cell_type": "code",
   "execution_count": 11,
   "metadata": {
    "collapsed": false
   },
   "outputs": [],
   "source": [
    "T = 100.0\n",
    "dt = 0.02\n",
    "N = int(T/dt)+1\n",
    "t = np.linspace(0.0, T, N)\n",
    "tchallenge = np.arange(0., T, dt)"
   ]
  },
  {
   "cell_type": "markdown",
   "metadata": {},
   "source": [
    "### Challenge 1\n",
    "\n",
    "Write code in 2nd cell using numpy.arange instead of linspace.\n",
    "Need to increase T by dt in order to get the right size:"
   ]
  },
  {
   "cell_type": "code",
   "execution_count": 14,
   "metadata": {
    "collapsed": true
   },
   "outputs": [],
   "source": [
    "T = 100.0\n",
    "dt = 0.02\n",
    "N = int(T/dt)+1\n",
    "tchallenge = np.arange(0., T+dt, dt)"
   ]
  },
  {
   "cell_type": "markdown",
   "metadata": {},
   "source": [
    "Check to see that the \"grids\" are the same size:"
   ]
  },
  {
   "cell_type": "code",
   "execution_count": 16,
   "metadata": {
    "collapsed": false
   },
   "outputs": [
    {
     "data": {
      "text/plain": [
       "True"
      ]
     },
     "execution_count": 16,
     "metadata": {},
     "output_type": "execute_result"
    }
   ],
   "source": [
    "len(tchallenge) == len(t)"
   ]
  },
  {
   "cell_type": "markdown",
   "metadata": {},
   "source": [
    "Moving forward with the problem:"
   ]
  },
  {
   "cell_type": "code",
   "execution_count": 18,
   "metadata": {
    "collapsed": false
   },
   "outputs": [],
   "source": [
    "#initial conditions:\n",
    "z0 = 100. #altitude\n",
    "b0 = 10.  #upward velocity resulting from gust\n",
    "zt = 100. #mean height\n",
    "g = 9.81  #acceleration due to gravity\n",
    "\n",
    "u = np.array([z0, b0])\n",
    "\n",
    "# initialize an array to hold the changing elevation values:\n",
    "z = np.zeros(N) \n",
    "z[0] = z0  #sets first elevation value to initial elevation"
   ]
  },
  {
   "cell_type": "markdown",
   "metadata": {},
   "source": [
    "Now step through the time grid and record solutions:\n",
    "\n",
    "This is an interesting way to do this, u is replaced by u + dt x f(t) everytime through the loop."
   ]
  },
  {
   "cell_type": "code",
   "execution_count": 21,
   "metadata": {
    "collapsed": false
   },
   "outputs": [],
   "source": [
    "#time-loop using Euler's Method:\n",
    "for n in range(1,N):\n",
    "    u = u + dt*np.array([u[1], g*(1-u[0]/zt)])\n",
    "    z[n] = u[0]"
   ]
  }
 ],
 "metadata": {
  "kernelspec": {
   "display_name": "Python [default]",
   "language": "python",
   "name": "python3"
  },
  "language_info": {
   "codemirror_mode": {
    "name": "ipython",
    "version": 3
   },
   "file_extension": ".py",
   "mimetype": "text/x-python",
   "name": "python",
   "nbconvert_exporter": "python",
   "pygments_lexer": "ipython3",
   "version": "3.5.2"
  }
 },
 "nbformat": 4,
 "nbformat_minor": 1
}
