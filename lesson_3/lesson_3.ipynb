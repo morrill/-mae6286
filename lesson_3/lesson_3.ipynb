{
 "cells": [
  {
   "cell_type": "code",
   "execution_count": 4,
   "metadata": {
    "collapsed": false
   },
   "outputs": [],
   "source": [
    "from math import sin, cos, log, ceil\n",
    "import numpy as np\n",
    "import matplotlib.pyplot as plt\n",
    "%matplotlib inline\n",
    "from matplotlib import rcParams\n",
    "rcParams['font.family'] = 'serif'\n",
    "rcParams['font.size'] = 16"
   ]
  },
  {
   "cell_type": "code",
   "execution_count": 5,
   "metadata": {
    "collapsed": true
   },
   "outputs": [],
   "source": [
    "# Euler's method function:\n",
    "def euler_step(u, f, dt):\n",
    "    \"\"\"Returns the solution at the next time-step using Euler's method.\n",
    "    \n",
    "    Parameters\n",
    "    ----------\n",
    "    u : array of float\n",
    "        solution at the previous time-step.\n",
    "    f : function\n",
    "        function to compute the right hand-side of the system of equation.\n",
    "    dt : float\n",
    "        time-increment.\n",
    "    \n",
    "    Returns\n",
    "    -------\n",
    "    u_n_plus_1 : array of float\n",
    "        approximate solution at the next time step.\"\"\"\n",
    "    return u + dt * f(u)\n",
    "\n",
    "# system equation function\n",
    "def f(u):\n",
    "    \"\"\"Returns the right-hand side of the phugoid system of equations.\n",
    "    \n",
    "    Parameters\n",
    "    ----------\n",
    "    u : array of float\n",
    "        array containing the solution at time n.\n",
    "        \n",
    "    Returns\n",
    "    -------\n",
    "    dudt : array of float\n",
    "        array containing the RHS given u.\n",
    "    \"\"\"\n",
    "    \n",
    "    v = u[0]\n",
    "    theta = u[1]\n",
    "    x = u[2]\n",
    "    y = u[3]\n",
    "    return np.array([-g*sin(theta) - C_D/C_L*g/v_t**2*v**2,\n",
    "                    -g*cos(theta)/v + g/v_t**2*v,\n",
    "                    v*cos(theta),\n",
    "                    v*sin(theta)])"
   ]
  },
  {
   "cell_type": "code",
   "execution_count": 6,
   "metadata": {
    "collapsed": true
   },
   "outputs": [],
   "source": [
    "# model parameters:\n",
    "g = 9.81   # acceleration due to gravity in m/s^2\n",
    "v_t = 30.0 # trim velocity in m/s\n",
    "C_D = 1/40 # drag coefficient\n",
    "C_L = 1    # for convenience\n",
    "\n",
    "### initial conditions ###\n",
    "v0 = v_t    # start at trim velocity (or add a delta)\n",
    "theta0 = 0 # initial angle of trajectory\n",
    "x0 = 0     # horizontal position is arbitrary\n",
    "y0 = 1000  # initial altitude"
   ]
  },
  {
   "cell_type": "code",
   "execution_count": 7,
   "metadata": {
    "collapsed": false
   },
   "outputs": [],
   "source": [
    "T = 100   # final time\n",
    "dt = 0.1    # time increment\n",
    "N = int(T/dt) + 1\n",
    "t = np.linspace(0,T,N)  # time discretization\n",
    "\n",
    "# initialize the array containing the solution for each time-step\n",
    "u = np.empty((N, 4))\n",
    "u[0] = np.array([v0, theta0, x0, y0]) # fill 1st element with intial values\n",
    "\n",
    "# time loop - Euler method\n",
    "for n in range(N-1):\n",
    "    \n",
    "    u[n+1] = euler_step(u[n], f, dt)"
   ]
  },
  {
   "cell_type": "code",
   "execution_count": 8,
   "metadata": {
    "collapsed": false
   },
   "outputs": [],
   "source": [
    "# get glider's position as function of time\n",
    "x = u[:,2]\n",
    "y = u[:,3]"
   ]
  },
  {
   "cell_type": "code",
   "execution_count": 9,
   "metadata": {
    "collapsed": false
   },
   "outputs": [
    {
     "data": {
      "text/plain": [
       "[<matplotlib.lines.Line2D at 0x7fd3e41bffd0>]"
      ]
     },
     "execution_count": 9,
     "metadata": {},
     "output_type": "execute_result"
    },
    {
     "data": {
      "image/png": "[encoded data removed]",
      "text/plain": [
       "<matplotlib.figure.Figure at 0x7fd3de151a90>"
      ]
     },
     "metadata": {},
     "output_type": "display_data"
    }
   ],
   "source": [
    "# visualize the path\n",
    "plt.figure(figsize=(8,6))\n",
    "plt.grid(True)\n",
    "plt.xlabel(r'x', fontsize=18)\n",
    "plt.ylabel(r'y', fontsize=18)\n",
    "plt.title('Glider trajectory, flight time = %.2f' % T, fontsize=18)\n",
    "plt.plot(x,y, 'k-', lw=2)"
   ]
  },
  {
   "cell_type": "code",
   "execution_count": 11,
   "metadata": {
    "collapsed": false
   },
   "outputs": [],
   "source": [
    "# convergence:\n",
    "dt_values = np.array([0.1, 0.05, 0.01, 0.005, 0.001])\n",
    "u_values = np.empty_like(dt_values, dtype=np.ndarray) #multidimensional array\n",
    "\n",
    "for i, dt in enumerate(dt_values):\n",
    "    N = int(T/dt)+1 # number of time steps\n",
    "    t = np.linspace(0.0, T, N) # time discretization\n",
    "    \n",
    "    # initialize array containing the solution for each time-step\n",
    "    u = np.empty((N,4))\n",
    "    u[0] = np.array([v0, theta0, x0, y0])\n",
    "    \n",
    "    # time loop\n",
    "    for n in range(N-1):\n",
    "        u[n+1] = euler_step(u[n], f, dt)\n",
    "        \n",
    "    # store the value of u related to each grid\n",
    "    u_values[i] = u"
   ]
  },
  {
   "cell_type": "code",
   "execution_count": 12,
   "metadata": {
    "collapsed": true
   },
   "outputs": [],
   "source": [
    "# differencing function:\n",
    "def get_diffgrid(u_current, u_fine, dt):\n",
    "    \"\"\"Returns the difference between one grid and the fine one using L-1 norm.\n",
    "    \n",
    "    Parameters\n",
    "    ----------\n",
    "    u_current : array of float\n",
    "        solution on the current grid.\n",
    "    u_finest : array of float\n",
    "        solution on the fine grid.\n",
    "    dt : float\n",
    "        time-increment on the current grid.\n",
    "    \n",
    "    Returns\n",
    "    -------\n",
    "    diffgrid : float\n",
    "        difference computed in the L-1 norm.\n",
    "    \"\"\"\n",
    "    # Get length of both current and fine u arrays\n",
    "    N_current = len(u_current[:,0])\n",
    "    N_fine = len(u_fine[:,0])\n",
    "    \n",
    "    # Ratio of number of points so that we can compare the smaller array to the large one\n",
    "    grid_size_ratio = ceil(N_fine/N_current)\n",
    "    \n",
    "    # Get difference between the current and fine arrays x values usint the L1 norm. Can also do for y values.\n",
    "    diffgrid = dt*np.sum(np.abs(u_current[:,2]-u_fine[::grid_size_ratio,2]))\n",
    "    \n",
    "    return diffgrid"
   ]
  },
  {
   "cell_type": "code",
   "execution_count": 13,
   "metadata": {
    "collapsed": false
   },
   "outputs": [
    {
     "name": "stdout",
     "output_type": "stream",
     "text": [
      "dt = 0.1\n",
      "dt = 0.05\n",
      "dt = 0.01\n",
      "dt = 0.005\n",
      "dt = 0.001\n"
     ]
    }
   ],
   "source": [
    "# compute differences:\n",
    "diffgrid = np.empty_like(dt_values)\n",
    "\n",
    "for i, dt in enumerate(dt_values):\n",
    "    print('dt = {}'.format(dt))\n",
    "    \n",
    "    # Call the get_diffgrid function for each value of dt and the complimentary u array\n",
    "    diffgrid[i] = get_diffgrid(u_values[i], u_values[-1], dt)"
   ]
  },
  {
   "cell_type": "code",
   "execution_count": 14,
   "metadata": {
    "collapsed": false
   },
   "outputs": [
    {
     "data": {
      "text/plain": [
       "[<matplotlib.lines.Line2D at 0x7fd3de0e0da0>]"
      ]
     },
     "execution_count": 14,
     "metadata": {},
     "output_type": "execute_result"
    },
    {
     "data": {
      "image/png": "[encoded data removed]",
      "text/plain": [
       "<matplotlib.figure.Figure at 0x7fd3dd78b278>"
      ]
     },
     "metadata": {},
     "output_type": "display_data"
    }
   ],
   "source": [
    "# plot the differences\n",
    "\n",
    "plt.figure(figsize=(6,6))\n",
    "plt.grid(True)\n",
    "plt.xlabel('$\\Delta t$', fontsize=18)\n",
    "plt.ylabel('$L_1$-norm of the grid differences', fontsize=18)\n",
    "plt.axis('equal')\n",
    "plt.loglog(dt_values[:-1], diffgrid[:-1], color='k', ls='-', lw=2, marker='o')"
   ]
  },
  {
   "cell_type": "code",
   "execution_count": 15,
   "metadata": {
    "collapsed": false
   },
   "outputs": [
    {
     "name": "stdout",
     "output_type": "stream",
     "text": [
      "The order of convergence is p = 1.014\n"
     ]
    }
   ],
   "source": [
    "# order of convergence\n",
    "r = 2\n",
    "h = 0.001\n",
    "\n",
    "dt_values2 = np.array([h, r*h, r**2*h])\n",
    "u_values2 = np.empty_like(dt_values2, dtype=np.ndarray)\n",
    "diffgrid2=np.empty(2)\n",
    "\n",
    "for i, dt in enumerate(dt_values2):\n",
    "    \n",
    "    N = int(T/dt) + 1 # number of time steps\n",
    "    \n",
    "    t = np.linspace(0.0, T, N) # time discretization\n",
    "    \n",
    "    # initialize arrays\n",
    "    u = np.empty((N,4))\n",
    "    u[0] = np.array([v0, theta0, x0, y0])\n",
    "    \n",
    "    # time loop\n",
    "    for n in range(N-1):\n",
    "        u[n+1] = euler_step(u[n], f, dt)\n",
    "        \n",
    "    u_values2[i] = u\n",
    "    \n",
    "# calculate f2 - f1\n",
    "diffgrid2[0] = get_diffgrid(u_values2[1], u_values2[0], dt_values2[1])\n",
    "\n",
    "# calculate f3 - f2\n",
    "diffgrid2[1] = get_diffgrid(u_values2[2], u_values2[1], dt_values2[2])\n",
    "\n",
    "# ccalculate the order of convergence\n",
    "p = (log(diffgrid2[1]) - log(diffgrid2[0]))/log(r)\n",
    "\n",
    "print('The order of convergence is p = {:.3f}'.format(p));"
   ]
  },
  {
   "cell_type": "markdown",
   "metadata": {},
   "source": [
    "### Paper airplane challenge\n",
    "\n",
    "Find initial velocity and and launch angle to maximize flight distance, x."
   ]
  },
  {
   "cell_type": "code",
   "execution_count": 97,
   "metadata": {
    "collapsed": false
   },
   "outputs": [],
   "source": [
    "# model parameters:\n",
    "g = 9.81   # acceleration due to gravity in m/s^2\n",
    "v_t = 5.0  # trim velocity in m/s\n",
    "C_D = 1.0  # drag coefficient --- or D/L if C_L=1\n",
    "C_L = 5.0  # to make L/D=5.0\n",
    "\n",
    "### initial conditions ###\n",
    "v0 = np.arange(1.,31.)                    # Array of initial velocities \n",
    "theta0 = np.arange(0., np.pi/2, np.pi/12) # Array of initial angles of attack\n",
    "x0 = 0     # horizontal position is arbitrary\n",
    "y0 = 100  # initial altitude\n",
    "\n",
    "T = 125   # final time\n",
    "dt = 0.01    # time increment\n",
    "N = int(T/dt) + 1\n",
    "t = np.linspace(0,T,N)  # time discretization"
   ]
  },
  {
   "cell_type": "code",
   "execution_count": 92,
   "metadata": {
    "collapsed": false
   },
   "outputs": [],
   "source": [
    "# initialize the array containing the solution for each v0 and theta\n",
    "# multidimensional array containing the solutions u for each v0/theta0 combo\n",
    "u_values3 = np.ndarray(shape=(len(v0), len(theta0), N, 4))\n",
    "xy_values3 = np.ndarray(shape=(len(v0), len(theta0), N, 2)) # this one is just for the x and y values\n",
    "\n",
    "# do all the loops for v and theta\n",
    "for i, v in enumerate(v0):\n",
    "    for k, theta in enumerate(theta0):\n",
    "        u = np.empty((N, 4))\n",
    "        u[0] = np.array([v, theta, x0, y0]) # fill 1st element with intial values\n",
    "\n",
    "        # time loop - Euler method\n",
    "        for n in range(N-1):\n",
    "            u[n+1] = euler_step(u[n], f, dt)\n",
    "            \"\"\" \n",
    "            this if statement used to stop the calculation once the plane hit the ground (y = 0), but the ndarray, xy_values \n",
    "            was still filled with garbage including nan and other weird numbers that were messing up the plot and max x value.\n",
    "            I would like to have it break out when y drops below zero and then truncate (cut) the rest of the array off but I\n",
    "            don't know how.\n",
    "            \"\"\"\n",
    "            #if u[n+1,3] <= 0:\n",
    "             #   break\n",
    "        u_values3[i,k] = u\n",
    "        xy_values3[i,k] = u[:,2:]"
   ]
  },
  {
   "cell_type": "code",
   "execution_count": 114,
   "metadata": {
    "collapsed": false
   },
   "outputs": [],
   "source": [
    "# find and assign the maximum x value and store the indicies\n",
    "xmax = np.amax(xy_values3[:,:,:,0])\n",
    "xmax_ind = np.unravel_index(xy_values3.argmax(), xy_values3.shape)\n",
    "\n",
    "# initial velocity and theta that maximize x\n",
    "v0_xmax = v0[xmax_ind[0]]\n",
    "theta0_xmax = theta0[xmax_ind[1]]\n",
    "\n",
    "# get x and y array for the maximum flight distince and cut off data after landing (for y<=0)\n",
    "xy3 = xy_values3[4,0,np.logical_not(xy_values3[xmax_ind[0],xmax_ind[1],:,1] <= 0),:]"
   ]
  },
  {
   "cell_type": "code",
   "execution_count": 119,
   "metadata": {
    "collapsed": false
   },
   "outputs": [
    {
     "data": {
      "text/plain": [
       "array([  5.00000000e-02,   1.00000000e+02])"
      ]
     },
     "execution_count": 119,
     "metadata": {},
     "output_type": "execute_result"
    }
   ],
   "source": []
  },
  {
   "cell_type": "code",
   "execution_count": 120,
   "metadata": {
    "collapsed": false,
    "scrolled": true
   },
   "outputs": [
    {
     "data": {
      "text/plain": [
       "[<matplotlib.lines.Line2D at 0x7fd3d9226ba8>]"
      ]
     },
     "execution_count": 120,
     "metadata": {},
     "output_type": "execute_result"
    },
    {
     "data": {
      "image/png": "[encoded data removed]",
      "text/plain": [
       "<matplotlib.figure.Figure at 0x7fd3ddd00390>"
      ]
     },
     "metadata": {},
     "output_type": "display_data"
    }
   ],
   "source": [
    "# visualize the path\n",
    "plt.figure(figsize=(8,6))\n",
    "plt.grid(True)\n",
    "plt.xlabel(r'x', fontsize=18)\n",
    "plt.ylabel(r'y', fontsize=18)\n",
    "plt.title('Paper airplane trajectory, flight time = %.2f' % T, fontsize=18)\n",
    "#plt.xlim([400,600])\n",
    "#plt.ylim([-10,10])\n",
    "plt.plot(xy3[:,0],xy3[:,1], 'k-', lw=2)"
   ]
  },
  {
   "cell_type": "code",
   "execution_count": 66,
   "metadata": {
    "collapsed": true
   },
   "outputs": [],
   "source": [
    "np.set_printoptions(threshold=np.inf)"
   ]
  }
 ],
 "metadata": {
  "anaconda-cloud": {},
  "kernelspec": {
   "display_name": "Python [default]",
   "language": "python",
   "name": "python3"
  },
  "language_info": {
   "codemirror_mode": {
    "name": "ipython",
    "version": 3
   },
   "file_extension": ".py",
   "mimetype": "text/x-python",
   "name": "python",
   "nbconvert_exporter": "python",
   "pygments_lexer": "ipython3",
   "version": "3.5.2"
  }
 },
 "nbformat": 4,
 "nbformat_minor": 1
}
