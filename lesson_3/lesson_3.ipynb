{
 "cells": [
  {
   "cell_type": "code",
   "execution_count": 1,
   "metadata": {
    "collapsed": false
   },
   "outputs": [],
   "source": [
    "from math import sin, cos, log, ceil\n",
    "import numpy as np\n",
    "import matplotlib.pyplot as plt\n",
    "%matplotlib inline\n",
    "from matplotlib import rcParams\n",
    "rcParams['font.family'] = 'serif'\n",
    "rcParams['font.size'] = 16"
   ]
  },
  {
   "cell_type": "code",
   "execution_count": 2,
   "metadata": {
    "collapsed": true
   },
   "outputs": [],
   "source": [
    "# Euler's method function:\n",
    "def euler_step(u, f, dt):\n",
    "    \"\"\"Returns the solution at the next time-step using Euler's method.\n",
    "    \n",
    "    Parameters\n",
    "    ----------\n",
    "    u : array of float\n",
    "        solution at the previous time-step.\n",
    "    f : function\n",
    "        function to compute the right hand-side of the system of equation.\n",
    "    dt : float\n",
    "        time-increment.\n",
    "    \n",
    "    Returns\n",
    "    -------\n",
    "    u_n_plus_1 : array of float\n",
    "        approximate solution at the next time step.\"\"\"\n",
    "    return u + dt * f(u)\n",
    "\n",
    "# system equation function\n",
    "def f(u):\n",
    "    \"\"\"Returns the right-hand side of the phugoid system of equations.\n",
    "    \n",
    "    Parameters\n",
    "    ----------\n",
    "    u : array of float\n",
    "        array containing the solution at time n.\n",
    "        \n",
    "    Returns\n",
    "    -------\n",
    "    dudt : array of float\n",
    "        array containing the RHS given u.\n",
    "    \"\"\"\n",
    "    \n",
    "    v = u[0]\n",
    "    theta = u[1]\n",
    "    x = u[2]\n",
    "    y = u[3]\n",
    "    return np.array([-g*sin(theta) - C_D/C_L*g/v_t**2*v**2,\n",
    "                    -g*cos(theta)/v + g/v_t**2*v,\n",
    "                    v*cos(theta),\n",
    "                    v*sin(theta)])"
   ]
  },
  {
   "cell_type": "code",
   "execution_count": 56,
   "metadata": {
    "collapsed": true
   },
   "outputs": [],
   "source": [
    "# model parameters:\n",
    "g = 9.81   # acceleration due to gravity in m/s^2\n",
    "v_t = 30.0 # trim velocity in m/s\n",
    "C_D = 1/40 # drag coefficient\n",
    "C_L = 1    # for convenience\n",
    "\n",
    "### initial conditions ###\n",
    "v0 = v_t    # start at trim velocity (or add a delta)\n",
    "theta0 = 0 # initial angle of trajectory\n",
    "x0 = 0     # horizontal position is arbitrary\n",
    "y0 = 1000  # initial altitude"
   ]
  },
  {
   "cell_type": "code",
   "execution_count": 57,
   "metadata": {
    "collapsed": false
   },
   "outputs": [],
   "source": [
    "T = 100   # final time\n",
    "dt = 0.1    # time increment\n",
    "N = int(T/dt) + 1\n",
    "t = np.linspace(0,T,N)  # time discretization\n",
    "\n",
    "# initialize the array containing the solution for each time-step\n",
    "u = np.empty((N, 4))\n",
    "u[0] = np.array([v0, theta0, x0, y0]) # fill 1st element with intial values\n",
    "\n",
    "# time loop - Euler method\n",
    "for n in range(N-1):\n",
    "    \n",
    "    u[n+1] = euler_step(u[n], f, dt)"
   ]
  },
  {
   "cell_type": "code",
   "execution_count": 58,
   "metadata": {
    "collapsed": false
   },
   "outputs": [],
   "source": [
    "# get glider's position as function of time\n",
    "x = u[:,2]\n",
    "y = u[:,3]"
   ]
  },
  {
   "cell_type": "code",
   "execution_count": 59,
   "metadata": {
    "collapsed": false
   },
   "outputs": [
    {
     "data": {
      "text/plain": [
       "[<matplotlib.lines.Line2D at 0x7f7630bc0080>]"
      ]
     },
     "execution_count": 59,
     "metadata": {},
     "output_type": "execute_result"
    },
    {
     "data": {
      "image/png": "[encoded data removed]",
      "text/plain": [
       "<matplotlib.figure.Figure at 0x7f7630bf2c88>"
      ]
     },
     "metadata": {},
     "output_type": "display_data"
    }
   ],
   "source": [
    "# visualize the path\n",
    "plt.figure(figsize=(8,6))\n",
    "plt.grid(True)\n",
    "plt.xlabel(r'x', fontsize=18)\n",
    "plt.ylabel(r'y', fontsize=18)\n",
    "plt.title('Glider trajectory, flight time = %.2f' % T, fontsize=18)\n",
    "plt.plot(x,y, 'k-', lw=2)"
   ]
  },
  {
   "cell_type": "code",
   "execution_count": 60,
   "metadata": {
    "collapsed": false
   },
   "outputs": [],
   "source": [
    "# convergence:\n",
    "dt_values = np.array([0.1, 0.05, 0.01, 0.005, 0.001])\n",
    "u_values = np.empty_like(dt_values, dtype=np.ndarray) #multidimensional array\n",
    "\n",
    "for i, dt in enumerate(dt_values):\n",
    "    N = int(T/dt)+1 # number of time steps\n",
    "    t = np.linspace(0.0, T, N) # time discretization\n",
    "    \n",
    "    # initialize array containing the solution for each time-step\n",
    "    u = np.empty((N,4))\n",
    "    u[0] = np.array([v0, theta0, x0, y0])\n",
    "    \n",
    "    # time loop\n",
    "    for n in range(N-1):\n",
    "        u[n+1] = euler_step(u[n], f, dt)\n",
    "        \n",
    "    # store the value of u related to each grid\n",
    "    u_values[i] = u"
   ]
  },
  {
   "cell_type": "code",
   "execution_count": 61,
   "metadata": {
    "collapsed": true
   },
   "outputs": [],
   "source": [
    "# differencing function:\n",
    "def get_diffgrid(u_current, u_fine, dt):\n",
    "    \"\"\"Returns the difference between one grid and the fine one using L-1 norm.\n",
    "    \n",
    "    Parameters\n",
    "    ----------\n",
    "    u_current : array of float\n",
    "        solution on the current grid.\n",
    "    u_finest : array of float\n",
    "        solution on the fine grid.\n",
    "    dt : float\n",
    "        time-increment on the current grid.\n",
    "    \n",
    "    Returns\n",
    "    -------\n",
    "    diffgrid : float\n",
    "        difference computed in the L-1 norm.\n",
    "    \"\"\"\n",
    "    # Get length of both current and fine u arrays\n",
    "    N_current = len(u_current[:,0])\n",
    "    N_fine = len(u_fine[:,0])\n",
    "    \n",
    "    # Ratio of number of points so that we can compare the smaller array to the large one\n",
    "    grid_size_ratio = ceil(N_fine/N_current)\n",
    "    \n",
    "    # Get difference between the current and fine arrays x values usint the L1 norm. Can also do for y values.\n",
    "    diffgrid = dt*np.sum(np.abs(u_current[:,2]-u_fine[::grid_size_ratio,2]))\n",
    "    \n",
    "    return diffgrid"
   ]
  },
  {
   "cell_type": "code",
   "execution_count": 62,
   "metadata": {
    "collapsed": false
   },
   "outputs": [
    {
     "name": "stdout",
     "output_type": "stream",
     "text": [
      "dt = 0.1\n",
      "dt = 0.05\n",
      "dt = 0.01\n",
      "dt = 0.005\n",
      "dt = 0.001\n"
     ]
    }
   ],
   "source": [
    "# compute differences:\n",
    "diffgrid = np.empty_like(dt_values)\n",
    "\n",
    "for i, dt in enumerate(dt_values):\n",
    "    print('dt = {}'.format(dt))\n",
    "    \n",
    "    # Call the get_diffgrid function for each value of dt and the complimentary u array\n",
    "    diffgrid[i] = get_diffgrid(u_values[i], u_values[-1], dt)"
   ]
  },
  {
   "cell_type": "code",
   "execution_count": 63,
   "metadata": {
    "collapsed": false
   },
   "outputs": [
    {
     "data": {
      "text/plain": [
       "[<matplotlib.lines.Line2D at 0x7f7630b7e630>]"
      ]
     },
     "execution_count": 63,
     "metadata": {},
     "output_type": "execute_result"
    },
    {
     "data": {
      "image/png": "[encoded data removed]",
      "text/plain": [
       "<matplotlib.figure.Figure at 0x7f7630b3c160>"
      ]
     },
     "metadata": {},
     "output_type": "display_data"
    }
   ],
   "source": [
    "# plot the differences\n",
    "\n",
    "plt.figure(figsize=(6,6))\n",
    "plt.grid(True)\n",
    "plt.xlabel('$\\Delta t$', fontsize=18)\n",
    "plt.ylabel('$L_1$-norm of the grid differences', fontsize=18)\n",
    "plt.axis('equal')\n",
    "plt.loglog(dt_values[:-1], diffgrid[:-1], color='k', ls='-', lw=2, marker='o')"
   ]
  },
  {
   "cell_type": "code",
   "execution_count": 64,
   "metadata": {
    "collapsed": false
   },
   "outputs": [
    {
     "name": "stdout",
     "output_type": "stream",
     "text": [
      "The order of convergence is p = 1.014\n"
     ]
    }
   ],
   "source": [
    "# order of convergence\n",
    "r = 2\n",
    "h = 0.001\n",
    "\n",
    "dt_values2 = np.array([h, r*h, r**2*h])\n",
    "u_values2 = np.empty_like(dt_values2, dtype=np.ndarray)\n",
    "diffgrid2=np.empty(2)\n",
    "\n",
    "for i, dt in enumerate(dt_values2):\n",
    "    \n",
    "    N = int(T/dt) + 1 # number of time steps\n",
    "    \n",
    "    t = np.linspace(0.0, T, N) # time discretization\n",
    "    \n",
    "    # initialize arrays\n",
    "    u = np.empty((N,4))\n",
    "    u[0] = np.array([v0, theta0, x0, y0])\n",
    "    \n",
    "    # time loop\n",
    "    for n in range(N-1):\n",
    "        u[n+1] = euler_step(u[n], f, dt)\n",
    "        \n",
    "    u_values2[i] = u\n",
    "    \n",
    "# calculate f2 - f1\n",
    "diffgrid2[0] = get_diffgrid(u_values2[1], u_values2[0], dt_values2[1])\n",
    "\n",
    "# calculate f3 - f2\n",
    "diffgrid2[1] = get_diffgrid(u_values2[2], u_values2[1], dt_values2[2])\n",
    "\n",
    "# ccalculate the order of convergence\n",
    "p = (log(diffgrid2[1]) - log(diffgrid2[0]))/log(r)\n",
    "\n",
    "print('The order of convergence is p = {:.3f}'.format(p));"
   ]
  }
 ],
 "metadata": {
  "anaconda-cloud": {},
  "kernelspec": {
   "display_name": "Python [default]",
   "language": "python",
   "name": "python3"
  },
  "language_info": {
   "codemirror_mode": {
    "name": "ipython",
    "version": 3
   },
   "file_extension": ".py",
   "mimetype": "text/x-python",
   "name": "python",
   "nbconvert_exporter": "python",
   "pygments_lexer": "ipython3",
   "version": "3.5.2"
  }
 },
 "nbformat": 4,
 "nbformat_minor": 1
}
