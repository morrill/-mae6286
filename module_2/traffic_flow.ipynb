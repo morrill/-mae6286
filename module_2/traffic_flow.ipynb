{
 "cells": [
  {
   "cell_type": "markdown",
   "metadata": {},
   "source": [
    "### Traffic flow"
   ]
  },
  {
   "cell_type": "code",
   "execution_count": 73,
   "metadata": {
    "collapsed": false
   },
   "outputs": [],
   "source": [
    "import sympy\n",
    "from sympy import init_printing\n",
    "import numpy as np\n",
    "import matplotlib.pyplot as plt\n",
    "init_printing()\n",
    "%matplotlib inline"
   ]
  },
  {
   "cell_type": "code",
   "execution_count": 142,
   "metadata": {
    "collapsed": false
   },
   "outputs": [],
   "source": [
    "# initial problem parameters:\n",
    "Vmax = 80     # maximum velocity [km/hr]\n",
    "L = 11        # length of road [km]\n",
    "rho_max = 250 # maximum car density [cars/km]\n",
    "\n",
    "# discretization\n",
    "nx = 50       # number of x steps\n",
    "dx = L/(nx-1) # x step\n",
    "dt = 0.001    # time step [hr]\n",
    "T = 0.2       # total time [hr]\n",
    "nt = int(T/dt)# number of time steps\n",
    "\n",
    "# initial conditions\n",
    "x = np.linspace(0,L,nx)\n",
    "rho0 = np.ones(nx)*10\n",
    "rho0[10:20] = 50\n",
    "# Boundary condition rho(x = 0,t) = 10"
   ]
  },
  {
   "cell_type": "code",
   "execution_count": 50,
   "metadata": {
    "collapsed": false
   },
   "outputs": [
    {
     "data": {
      "image/png": "[encoded data removed]",
      "text/plain": [
       "<matplotlib.figure.Figure at 0x20e04da1f28>"
      ]
     },
     "metadata": {},
     "output_type": "display_data"
    }
   ],
   "source": [
    "plt.plot(x,rho0,color='#003366', ls='--', lw=3)\n",
    "plt.ylim(0,51);"
   ]
  },
  {
   "cell_type": "code",
   "execution_count": 140,
   "metadata": {
    "collapsed": true
   },
   "outputs": [],
   "source": [
    "# Functions\n",
    "# Flux:\n",
    "def flux(rho):\n",
    "    return Vmax*rho*(1-rho/rho_max)\n",
    "\n",
    "# Velocity:\n",
    "def velocity(rho):\n",
    "    return Vmax*(1-rho/rho_max)\n",
    "\n",
    "# discretization function\n",
    "def solve_disc(u, f):\n",
    "    return u[1:-1] - dt/dx*(f(u[1:-1])-f(u[0:-2]))"
   ]
  },
  {
   "cell_type": "code",
   "execution_count": 141,
   "metadata": {
    "collapsed": false,
    "scrolled": true
   },
   "outputs": [
    {
     "name": "stderr",
     "output_type": "stream",
     "text": [
      "G:\\Program Files (x86)\\Anaconda\\lib\\site-packages\\ipykernel\\__main__.py:4: RuntimeWarning: overflow encountered in multiply\n"
     ]
    },
    {
     "data": {
      "image/png": "[encoded data removed]",
      "text/plain": [
       "<matplotlib.figure.Figure at 0x20e04dddcf8>"
      ]
     },
     "metadata": {},
     "output_type": "display_data"
    }
   ],
   "source": [
    "# initiallize solution:\n",
    "u = np.ndarray(shape=(nt,3,len(rho0))) # multidimensional array for all solution \n",
    "                                       # data, each row is a different time step\n",
    "                                       # the columns are for rho, v, and F\n",
    "u[0,:,:] = ([rho0, velocity(rho0), flux(rho0)]) # valuse at t=0\n",
    "\n",
    "# loop for solving discretized equation\n",
    "for n in range(nt-1):\n",
    "    u[n+1,0,0] = 10\n",
    "    u[n+1, 0, 1:-1] = solve_disc(u[n,0,:], flux) \n",
    "    u[n+1, 1, :] = velocity(u[n+1,0,:])\n",
    "    u[n+1, 2, :] = flux(u[n+1, 0, :])\n",
    "    #rho[1:-1] = rho_n[1:-1] - dt/dx*(F(rho_n[1:-1]) - F(rho_n[0:-2]))\n",
    "    \n",
    "#plt.plot(x,rho,color='#003366', ls='--', lw=3)\n",
    "#plt.plot(x,rho0,color='k', lw=1)\n",
    "#plt.ylim(0, 51);\n",
    "\n",
    "plt.plot(x,u[-155,0,:],color='#003366', ls='--', lw=3)\n",
    "plt.plot(x,u[0,0,:],color='k', lw=1)\n",
    "plt.ylim(0, 51);"
   ]
  },
  {
   "cell_type": "code",
   "execution_count": 72,
   "metadata": {
    "collapsed": false
   },
   "outputs": [
    {
     "name": "stdout",
     "output_type": "stream",
     "text": [
      "Minimum velocity at (t = 0): 17.78 [m/s]\n"
     ]
    }
   ],
   "source": [
    "# minimum velocity at t = 0 in [m/s]\n",
    "print('Minimum velocity at (t = 0): %.2f [m/s]'\\\n",
    "      % (np.min(velocity(rho0))*(1000/3600)))"
   ]
  },
  {
   "cell_type": "code",
   "execution_count": 138,
   "metadata": {
    "collapsed": false
   },
   "outputs": [
    {
     "name": "stdout",
     "output_type": "stream",
     "text": [
      "Minimum velocity at (t = 0): 17.78 [m/s]\n"
     ]
    }
   ],
   "source": [
    "# minimum velocity at t = 0 in [m/s]\n",
    "print('Minimum velocity at (t = 0): %.2f [m/s]'\\\n",
    "      % (np.min(u[0,1,:])*(1000/3600)))"
   ]
  },
  {
   "cell_type": "code",
   "execution_count": 165,
   "metadata": {
    "collapsed": false
   },
   "outputs": [
    {
     "data": {
      "text/plain": [
       "range(0, 199)"
      ]
     },
     "execution_count": 165,
     "metadata": {},
     "output_type": "execute_result"
    }
   ],
   "source": [
    "range(nt-1)"
   ]
  },
  {
   "cell_type": "code",
   "execution_count": 162,
   "metadata": {
    "collapsed": false
   },
   "outputs": [
    {
     "data": {
      "text/plain": [
       "(1, 49)"
      ]
     },
     "execution_count": 162,
     "metadata": {},
     "output_type": "execute_result"
    }
   ],
   "source": [
    "np.unravel_index(u[:,0,:].argmax(), u[:,0,:].shape)"
   ]
  },
  {
   "cell_type": "code",
   "execution_count": 169,
   "metadata": {
    "collapsed": false
   },
   "outputs": [
    {
     "data": {
      "text/plain": [
       "array([  1.00000000e+001,   1.00000000e+001,   1.00000000e+001,\n",
       "         1.00000000e+001,   1.00000000e+001,   1.00000000e+001,\n",
       "         1.00000000e+001,   1.00000000e+001,   1.00000000e+001,\n",
       "         1.00000000e+001,   3.91665455e+001,   5.00000000e+001,\n",
       "         5.00000000e+001,   5.00000000e+001,   5.00000000e+001,\n",
       "         5.00000000e+001,   5.00000000e+001,   5.00000000e+001,\n",
       "         5.00000000e+001,   5.00000000e+001,   2.08334545e+001,\n",
       "         1.00000000e+001,   1.00000000e+001,   1.00000000e+001,\n",
       "         1.00000000e+001,   1.00000000e+001,   1.00000000e+001,\n",
       "         1.00000000e+001,   1.00000000e+001,   1.00000000e+001,\n",
       "         1.00000000e+001,   1.00000000e+001,   1.00000000e+001,\n",
       "         1.00000000e+001,   1.00000000e+001,   1.00000000e+001,\n",
       "         1.00000000e+001,   1.00000000e+001,   1.00000000e+001,\n",
       "         1.00000000e+001,   1.00000000e+001,   1.00000000e+001,\n",
       "         1.00000000e+001,   1.00000000e+001,   1.00000000e+001,\n",
       "         1.00000000e+001,   1.00000000e+001,   1.00000000e+001,\n",
       "         1.00000000e+001,   4.86258897e+218])"
      ]
     },
     "execution_count": 169,
     "metadata": {},
     "output_type": "execute_result"
    }
   ],
   "source": [
    "u[1,0]"
   ]
  }
 ],
 "metadata": {
  "anaconda-cloud": {},
  "kernelspec": {
   "display_name": "Python [Root]",
   "language": "python",
   "name": "Python [Root]"
  },
  "language_info": {
   "codemirror_mode": {
    "name": "ipython",
    "version": 3
   },
   "file_extension": ".py",
   "mimetype": "text/x-python",
   "name": "python",
   "nbconvert_exporter": "python",
   "pygments_lexer": "ipython3",
   "version": "3.5.2"
  }
 },
 "nbformat": 4,
 "nbformat_minor": 0
}
