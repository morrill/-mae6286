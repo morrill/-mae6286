{
 "cells": [
  {
   "cell_type": "markdown",
   "metadata": {},
   "source": [
    "### Traffic flow"
   ]
  },
  {
   "cell_type": "code",
   "execution_count": 8,
   "metadata": {
    "collapsed": false
   },
   "outputs": [],
   "source": [
    "import sympy\n",
    "from sympy import init_printing\n",
    "import numpy \n",
    "import matplotlib.pyplot as plt\n",
    "init_printing()\n",
    "%matplotlib inline"
   ]
  },
  {
   "cell_type": "code",
   "execution_count": 35,
   "metadata": {
    "collapsed": false
   },
   "outputs": [],
   "source": [
    "# initial problem parameters:\n",
    "Vmax = 80     # maximum velocity [km/hr]\n",
    "L = 11        # length of road [km]\n",
    "rho_max = 250 # maximum car density [cars/km]\n",
    "\n",
    "# discretization\n",
    "nx = 50       # number of x steps\n",
    "dx = L/(nx-1)\n",
    "dt = 0.001    # time step\n",
    "nt = 100      # number of time steps\n",
    "\n",
    "# initial conditions\n",
    "x = numpy.linspace(0,L,nx)\n",
    "rho0 = numpy.ones(nx)*10\n",
    "rho0[10:20] = 50\n",
    "rho_n = numpy.ones(nx)\n",
    "# Boundary condition rho(x = 0,t) = 10"
   ]
  },
  {
   "cell_type": "code",
   "execution_count": 15,
   "metadata": {
    "collapsed": false
   },
   "outputs": [
    {
     "data": {
      "image/png": "[encoded data removed]",
      "text/plain": [
       "<matplotlib.figure.Figure at 0x20e035c36d8>"
      ]
     },
     "metadata": {},
     "output_type": "display_data"
    }
   ],
   "source": [
    "plt.plot(x,rho0,color='#003366', ls='--', lw=3)\n",
    "plt.ylim(0,51);"
   ]
  },
  {
   "cell_type": "code",
   "execution_count": 4,
   "metadata": {
    "collapsed": true
   },
   "outputs": [],
   "source": [
    "# Functions\n",
    "# Flux:\n",
    "def F(rho):\n",
    "    return Vmax*rho*(1-rho/rho_max)\n",
    "\n",
    "# Velocity:\n",
    "def velocity(rho):\n",
    "    return Vmax*(1-rho/rho_max)"
   ]
  },
  {
   "cell_type": "code",
   "execution_count": 36,
   "metadata": {
    "collapsed": false
   },
   "outputs": [
    {
     "data": {
      "image/png": "[encoded data removed]",
      "text/plain": [
       "<matplotlib.figure.Figure at 0x20e04cb3f98>"
      ]
     },
     "metadata": {},
     "output_type": "display_data"
    }
   ],
   "source": [
    "for n in range(nt):\n",
    "    rho_n = rho0.copy()\n",
    "    rho0[1:-1] = rho_n[1:-1] - dt/dx*(F(rho_n[1:-1]) - F(rho_n[0:-2]))\n",
    "    \n",
    "plt.plot(x,rho0,color='#003366', ls='--', lw=3);"
   ]
  },
  {
   "cell_type": "code",
   "execution_count": 37,
   "metadata": {
    "collapsed": false
   },
   "outputs": [
    {
     "data": {
      "text/plain": [
       "array([ 10.        ,  10.        ,  10.        ,  10.        ,\n",
       "        10.        ,  10.        ,  10.        ,  10.        ,\n",
       "        10.        ,  10.        ,  10.        ,  10.        ,\n",
       "        10.        ,  10.        ,  10.        ,  10.        ,\n",
       "        10.00000001,  10.00000004,  10.00000025,  10.00000131,\n",
       "        10.00000615,  10.00002616,  10.00010141,  10.00036076,\n",
       "        10.00118562,  10.00362075,  10.01032854,  10.02765218,\n",
       "        10.06977868,  10.16657804,  10.37725302,  10.81164215,\n",
       "        11.65727263,  13.1970083 ,  15.77247331,  19.61925218,\n",
       "        24.56448965,  29.83173668,  34.33452333,  37.31733489,\n",
       "        38.66863638,  38.7067898 ,  37.84560366,  36.4212727 ,\n",
       "        34.66275751,  32.71621968,  30.67486934,  28.60069597,\n",
       "        26.53791545,  10.        ])"
      ]
     },
     "execution_count": 37,
     "metadata": {},
     "output_type": "execute_result"
    }
   ],
   "source": [
    "rho0"
   ]
  },
  {
   "cell_type": "code",
   "execution_count": 31,
   "metadata": {
    "collapsed": false
   },
   "outputs": [
    {
     "data": {
      "image/png": "[encoded data removed]",
      "text/latex": [
       "$$768.0$$"
      ],
      "text/plain": [
       "768.0"
      ]
     },
     "execution_count": 31,
     "metadata": {},
     "output_type": "execute_result"
    }
   ],
   "source": [
    "10*80*(1-10/250)"
   ]
  }
 ],
 "metadata": {
  "anaconda-cloud": {},
  "kernelspec": {
   "display_name": "Python [Root]",
   "language": "python",
   "name": "Python [Root]"
  },
  "language_info": {
   "codemirror_mode": {
    "name": "ipython",
    "version": 3
   },
   "file_extension": ".py",
   "mimetype": "text/x-python",
   "name": "python",
   "nbconvert_exporter": "python",
   "pygments_lexer": "ipython3",
   "version": "3.5.2"
  }
 },
 "nbformat": 4,
 "nbformat_minor": 0
}
