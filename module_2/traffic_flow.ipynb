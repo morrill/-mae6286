{
 "cells": [
  {
   "cell_type": "markdown",
   "metadata": {},
   "source": [
    "### Traffic flow"
   ]
  },
  {
   "cell_type": "code",
   "execution_count": 73,
   "metadata": {
    "collapsed": false
   },
   "outputs": [],
   "source": [
    "import sympy\n",
    "from sympy import init_printing\n",
    "import numpy as np\n",
    "import matplotlib.pyplot as plt\n",
    "init_printing()\n",
    "%matplotlib inline"
   ]
  },
  {
   "cell_type": "code",
   "execution_count": 84,
   "metadata": {
    "collapsed": false
   },
   "outputs": [],
   "source": [
    "# initial problem parameters:\n",
    "Vmax = 80     # maximum velocity [km/hr]\n",
    "L = 11        # length of road [km]\n",
    "rho_max = 250 # maximum car density [cars/km]\n",
    "\n",
    "# discretization\n",
    "nx = 50       # number of x steps\n",
    "dx = L/(nx-1) # x step\n",
    "dt = 0.001    # time step [hr]\n",
    "T = 1         # total time [hr]\n",
    "nt = int(T/dt)# number of time steps\n",
    "\n",
    "dt_dx = dt/dx # ratio of dt/dx for use indiscritization function\n",
    "\n",
    "# initial conditions\n",
    "x = np.linspace(0,L,nx)\n",
    "rho0 = np.ones(nx)*10\n",
    "rho0[10:20] = 50\n",
    "# Boundary condition rho(x = 0,t) = 10"
   ]
  },
  {
   "cell_type": "code",
   "execution_count": 50,
   "metadata": {
    "collapsed": false
   },
   "outputs": [
    {
     "data": {
      "image/png": "[encoded data removed]",
      "text/plain": [
       "<matplotlib.figure.Figure at 0x20e04da1f28>"
      ]
     },
     "metadata": {},
     "output_type": "display_data"
    }
   ],
   "source": [
    "plt.plot(x,rho0,color='#003366', ls='--', lw=3)\n",
    "plt.ylim(0,51);"
   ]
  },
  {
   "cell_type": "code",
   "execution_count": 81,
   "metadata": {
    "collapsed": true
   },
   "outputs": [],
   "source": [
    "# Functions\n",
    "# Flux:\n",
    "def flux(rho):\n",
    "    return Vmax*rho*(1-rho/rho_max)\n",
    "\n",
    "# Velocity:\n",
    "def velocity(rho):\n",
    "    return Vmax*(1-rho/rho_max)\n",
    "\n",
    "# both functions:\n",
    "def f(u):\n",
    "    rho = u[0]\n",
    "    v = u[1]\n",
    "    F = u[2]\n",
    "    return np.array([])\n",
    "\n",
    "# discretization function\n",
    "def solve_disc(u, f, dt_dx):\n",
    "    return u - dt_dx*(f())"
   ]
  },
  {
   "cell_type": "code",
   "execution_count": 64,
   "metadata": {
    "collapsed": false,
    "scrolled": true
   },
   "outputs": [
    {
     "data": {
      "image/png": "[encoded data removed]",
      "text/plain": [
       "<matplotlib.figure.Figure at 0x20e04bd74e0>"
      ]
     },
     "metadata": {},
     "output_type": "display_data"
    }
   ],
   "source": [
    "# initiallize solution:\n",
    "u = np.ndarray(shape=(nt,3,len(rho0))) # multidimensional array for all solution \n",
    "                                       # data, each row is a different time step\n",
    "                                       # the columns are for rho, v, and F\n",
    "u = ([rho0, velocity(rho0), flux(rho0)])\n",
    "\n",
    "# loop for solving discretized equation\n",
    "for n in range(nt):\n",
    "    un = u.copy()\n",
    "    u[0]\n",
    "    rho[1:-1] = rho_n[1:-1] - dt/dx*(F(rho_n[1:-1]) - F(rho_n[0:-2]))\n",
    "    \n",
    "plt.plot(x,rho,color='#003366', ls='--', lw=3)\n",
    "plt.plot(x,rho0,color='k', lw=1)\n",
    "plt.ylim(0, 51);"
   ]
  },
  {
   "cell_type": "code",
   "execution_count": 72,
   "metadata": {
    "collapsed": false
   },
   "outputs": [
    {
     "name": "stdout",
     "output_type": "stream",
     "text": [
      "Minimum velocity at (t = 0): 17.78 [m/s]\n"
     ]
    }
   ],
   "source": [
    "# minimum velocity at t = 0 in [m/s]\n",
    "print('Minimum velocity at (t = 0): %.2f [m/s]'\\\n",
    "      % (np.min(velocity(rho0))*(1000/3600)))"
   ]
  },
  {
   "cell_type": "code",
   "execution_count": 87,
   "metadata": {
    "collapsed": false
   },
   "outputs": [
    {
     "data": {
      "image/png": "[encoded data removed]",
      "text/latex": [
       "$$\\left ( 1000, \\quad 3, \\quad 50\\right )$$"
      ],
      "text/plain": [
       "(1000, 3, 50)"
      ]
     },
     "execution_count": 87,
     "metadata": {},
     "output_type": "execute_result"
    }
   ],
   "source": [
    "u = np.ndarray(shape=(nt,3,len(rho0))) # multidimensional array for all solution \n",
    "                                       # data, each row is a different time step\n",
    "                                       # the columns are for rho, v, and F\n",
    "un = ([rho0,velocity(rho0),flux(rho0)])\n",
    "np.shape(u)"
   ]
  }
 ],
 "metadata": {
  "anaconda-cloud": {},
  "kernelspec": {
   "display_name": "Python [Root]",
   "language": "python",
   "name": "Python [Root]"
  },
  "language_info": {
   "codemirror_mode": {
    "name": "ipython",
    "version": 3
   },
   "file_extension": ".py",
   "mimetype": "text/x-python",
   "name": "python",
   "nbconvert_exporter": "python",
   "pygments_lexer": "ipython3",
   "version": "3.5.2"
  }
 },
 "nbformat": 4,
 "nbformat_minor": 0
}
