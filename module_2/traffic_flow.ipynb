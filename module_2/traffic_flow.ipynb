{
 "cells": [
  {
   "cell_type": "markdown",
   "metadata": {},
   "source": [
    "### Traffic flow"
   ]
  },
  {
   "cell_type": "code",
   "execution_count": 73,
   "metadata": {
    "collapsed": false
   },
   "outputs": [],
   "source": [
    "import sympy\n",
    "from sympy import init_printing\n",
    "import numpy as np\n",
    "import matplotlib.pyplot as plt\n",
    "init_printing()\n",
    "%matplotlib inline"
   ]
  },
  {
   "cell_type": "code",
   "execution_count": 229,
   "metadata": {
    "collapsed": false
   },
   "outputs": [],
   "source": [
    "# initial problem parameters:\n",
    "Vmax = 136     # maximum velocity [km/hr]\n",
    "L = 11        # length of road [km]\n",
    "rho_max = 250 # maximum car density [cars/km]\n",
    "\n",
    "# discretization\n",
    "nx = 50       # number of x steps\n",
    "dx = L/(nx-1) # x step\n",
    "dt = 0.001    # time step [hr]\n",
    "T = 0.2       # total time [hr]\n",
    "nt = int(T/dt)# number of time steps\n",
    "\n",
    "# initial conditions\n",
    "x = np.linspace(0,L,nx)\n",
    "rho0 = np.ones(nx)*20\n",
    "rho0[10:20] = 50\n",
    "# Boundary condition rho(x = 0,t) = 10"
   ]
  },
  {
   "cell_type": "code",
   "execution_count": 230,
   "metadata": {
    "collapsed": false
   },
   "outputs": [
    {
     "data": {
      "image/png": "[encoded data removed]",
      "text/plain": [
       "<matplotlib.figure.Figure at 0x20e04b13cc0>"
      ]
     },
     "metadata": {},
     "output_type": "display_data"
    }
   ],
   "source": [
    "plt.plot(x,rho0,color='#003366', ls='--', lw=3)\n",
    "plt.ylim(0,51);"
   ]
  },
  {
   "cell_type": "code",
   "execution_count": 225,
   "metadata": {
    "collapsed": false
   },
   "outputs": [],
   "source": [
    "# Functions\n",
    "# Flux:\n",
    "def flux(rho):\n",
    "    return Vmax*rho*(1-rho/rho_max)\n",
    "\n",
    "# Velocity:\n",
    "def velocity(rho):\n",
    "    return Vmax*(1-rho/rho_max)\n",
    "\n",
    "# discretization function\n",
    "def solve_disc(u):\n",
    "    return u[1:] - dt/dx*(flux(u[1:])-flux(u[0:-1]))\n",
    "\n",
    "# for converting time to minutes \n",
    "def min_to_hour(t):\n",
    "    # t = time in minutes you want data\n",
    "    return int(round((t/60)/dt,0))"
   ]
  },
  {
   "cell_type": "code",
   "execution_count": 232,
   "metadata": {
    "collapsed": false,
    "scrolled": true
   },
   "outputs": [
    {
     "data": {
      "image/png": "[encoded data removed]",
      "text/plain": [
       "<matplotlib.figure.Figure at 0x20e04e022e8>"
      ]
     },
     "metadata": {},
     "output_type": "display_data"
    }
   ],
   "source": [
    "# initiallize solution:\n",
    "u = np.ndarray(shape=(nt,3,len(rho0))) # multidimensional array for all solution \n",
    "                                       # data, each row is a different time step\n",
    "                                       # the columns are for rho, v, and F\n",
    "u[0,:,:] = ([rho0, velocity(rho0), flux(rho0)]) # valuse at t=0\n",
    "\n",
    "# loop for solving discretized equation\n",
    "for n in range(nt-1):\n",
    "    u[n+1,0,0] = 20 # boundary condition\n",
    "    u[n+1, 0, 1:] = solve_disc(u[n,0,:]) \n",
    "    u[n+1, 1, :] = velocity(u[n+1,0,:])\n",
    "    u[n+1, 2, :] = flux(u[n+1, 0, :])\n",
    "\n",
    "plt.plot(x,u[3,0,:],color='#003366', ls='--', lw=3)\n",
    "plt.plot(x,u[0,0,:],color='k', lw=1)\n",
    "plt.ylim(0, 51);"
   ]
  },
  {
   "cell_type": "code",
   "execution_count": 233,
   "metadata": {
    "collapsed": false
   },
   "outputs": [
    {
     "name": "stdout",
     "output_type": "stream",
     "text": [
      "Minimum velocity at (t = 0): 30.22 [m/s]\n"
     ]
    }
   ],
   "source": [
    "# minimum velocity at t = 0 in [m/s]\n",
    "print('Minimum velocity at (t = 0): %.2f [m/s]'\\\n",
    "      % (np.min(u[min_to_hour(0),1,:])*(1000/3600)))"
   ]
  },
  {
   "cell_type": "code",
   "execution_count": 234,
   "metadata": {
    "collapsed": false
   },
   "outputs": [
    {
     "name": "stdout",
     "output_type": "stream",
     "text": [
      "Average velocity at (t = 3 minutes): 33.86 [m/s]\n"
     ]
    }
   ],
   "source": [
    "# average velocity at t = 3 min in [m/s]\n",
    "print('Average velocity at (t = 3 minutes): %.2f [m/s]'\\\n",
    "      % (np.mean(u[min_to_hour(3),1,:])*(1000/3600)))"
   ]
  },
  {
   "cell_type": "code",
   "execution_count": 228,
   "metadata": {
    "collapsed": false
   },
   "outputs": [
    {
     "name": "stdout",
     "output_type": "stream",
     "text": [
      "Minumum velocity at (t = 6 minutes): 18.78 [m/s]\n"
     ]
    }
   ],
   "source": [
    "# average velocity at t = 3 min in [m/s]\n",
    "print('Minumum velocity at (t = 6 minutes): %.2f [m/s]'\\\n",
    "      % (np.min(u[min_to_hour(6),1,:])*(1000/3600)))"
   ]
  }
 ],
 "metadata": {
  "anaconda-cloud": {},
  "kernelspec": {
   "display_name": "Python [Root]",
   "language": "python",
   "name": "Python [Root]"
  },
  "language_info": {
   "codemirror_mode": {
    "name": "ipython",
    "version": 3
   },
   "file_extension": ".py",
   "mimetype": "text/x-python",
   "name": "python",
   "nbconvert_exporter": "python",
   "pygments_lexer": "ipython3",
   "version": "3.5.2"
  }
 },
 "nbformat": 4,
 "nbformat_minor": 0
}
