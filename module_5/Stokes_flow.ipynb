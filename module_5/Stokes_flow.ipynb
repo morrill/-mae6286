{
 "cells": [
  {
   "cell_type": "code",
   "execution_count": 1,
   "metadata": {
    "collapsed": false
   },
   "outputs": [],
   "source": [
    "import numpy\n",
    "from matplotlib import pyplot, cm, rcParams\n",
    "from mpl_toolkits.mplot3d import Axes3D\n",
    "from numba import jit\n",
    "%matplotlib inline\n",
    "rcParams['font.size'] = 16"
   ]
  },
  {
   "cell_type": "code",
   "execution_count": 2,
   "metadata": {
    "collapsed": true
   },
   "outputs": [],
   "source": [
    "# problem parameters\n",
    "nx = 41\n",
    "ny = 41\n",
    "\n",
    "l = 1.\n",
    "h = 1.\n",
    "\n",
    "dx = l/(nx-1)\n",
    "dy = h/(ny-1)\n",
    "\n",
    "l1_target = 1e-6\n",
    "\n",
    "u = 1\n",
    "\n",
    "def L1norm(new, old):\n",
    "    norm = numpy.sum(numpy.abs(new-old))\n",
    "    return norm"
   ]
  },
  {
   "cell_type": "code",
   "execution_count": 26,
   "metadata": {
    "collapsed": false
   },
   "outputs": [],
   "source": [
    "# function to solve using Jacobi\n",
    "def jacobi(w,ksi,dy,dx,u,l1_target):\n",
    "    \"\"\"Iteratively solves the Laplace equation using the Jacobi method\n",
    "    \n",
    "    Parameters:\n",
    "    -----------\n",
    "    p: 2D array of float\n",
    "        Initial potential distribution\n",
    "    l2_target: float\n",
    "        target for the difference between consecutive solutions\n",
    "        \n",
    "    Returns:\n",
    "    --------\n",
    "    p: 2D array of float\n",
    "        Potential distribution after relaxation\n",
    "    \"\"\"\n",
    "    l1norm = 1\n",
    "    wn = numpy.empty_like(w)\n",
    "    ksin = numpy.empty_like(ksi)\n",
    "    iterations = 0\n",
    "    \n",
    "    while l1norm > l1_target:\n",
    "        wn = w.copy()\n",
    "        ksin = ksi.copy()\n",
    "        \n",
    "        w[1:-1,1:-1] = 0.25*(wn[1:-1,2:] + wn[1:-1,:-2] \\\n",
    "                            + wn[2:,1:-1] + wn[:-2,1:-1])\n",
    "        \n",
    "        \n",
    "        ksi[1:-1,1:-1] = 0.25*(ksin[1:-1,2:] + ksin[1:-1,:-2] \\\n",
    "                            + ksin[2:,1:-1] + ksin[:-2,1:-1]) + 1/(4*dx**2)*w[1:-1,1:-1]\n",
    "        \n",
    "        # Dirichlet B.C. for ksi, should be automatic\n",
    "        #ksi[:,0] = 0 #left side\n",
    "        #ksi[:,-1] = 0 #right side\n",
    "        #ksi[-1,:] = 0 #top side\n",
    "        #ksi[0,:] = 0 #bottom side\n",
    "                               \n",
    "        # Dirichlet B.C. for w\n",
    "        w[1:-1,0] = -1/(2*dy**2)*(8*ksi[1:-1,1] - ksi[1:-1,2]) # left side\n",
    "        w[1:-1,-1] = -1/(2*dy**2)*(8*ksi[1:-1,-2] - ksi[1:-1,-3]) # right side\n",
    "        w[0,1:-1] = -1/(2*dy**2)*(8*ksi[1,1:-1] - ksi[2,1:-1]) # bottom side                       \n",
    "        w[-1,1:-1] = -1/(2*dy**2)*(8*ksi[-2,1:-1] - ksi[-3,1:-1]) - 3*u/dy # top side                       \n",
    "                               \n",
    "        l1norm = max(L1norm(w,wn),L1norm(ksi,ksin))\n",
    "        iterations += 1\n",
    "    print('Converged in {} iterations'.format(iterations))\n",
    "    return w, ksi"
   ]
  },
  {
   "cell_type": "code",
   "execution_count": 27,
   "metadata": {
    "collapsed": false
   },
   "outputs": [
    {
     "name": "stdout",
     "output_type": "stream",
     "text": [
      "Converged in 55 iterations\n"
     ]
    },
    {
     "name": "stderr",
     "output_type": "stream",
     "text": [
      "D:\\Program Files\\Anaconda\\lib\\site-packages\\ipykernel\\__main__.py:29: RuntimeWarning: overflow encountered in multiply\n",
      "D:\\Program Files\\Anaconda\\lib\\site-packages\\ipykernel\\__main__.py:41: RuntimeWarning: overflow encountered in multiply\n",
      "D:\\Program Files\\Anaconda\\lib\\site-packages\\ipykernel\\__main__.py:29: RuntimeWarning: invalid value encountered in add\n"
     ]
    }
   ],
   "source": [
    "wi = numpy.zeros((nx,ny))\n",
    "ksii = numpy.zeros((nx,ny))\n",
    "\n",
    "w, ksi = jacobi(wi.copy(),ksii.copy(),dy,dx,u,l1_target)"
   ]
  },
  {
   "cell_type": "code",
   "execution_count": 28,
   "metadata": {
    "collapsed": false
   },
   "outputs": [
    {
     "name": "stdout",
     "output_type": "stream",
     "text": [
      "[  0.00000000e+000   2.57045572e+093  -5.99681323e+094   3.54099584e+101\n",
      "  -1.85205329e+108   8.62978706e+114  -3.60116660e+121   1.35237158e+128\n",
      "  -4.59152140e+134   1.41565567e+141  -3.98124054e+147   1.02589138e+154\n",
      "  -2.43374011e+160   5.34290574e+166  -1.09167908e+173   2.08938018e+179\n",
      "  -3.77298987e+185   6.48018831e+191  -1.06778566e+198   1.70310680e+204\n",
      "  -2.65207467e+210   4.06274767e+216  -6.16032523e+222   9.28659754e+228\n",
      "  -1.39576136e+235   2.09492159e+241  -3.14252076e+247   4.71300800e+253\n",
      "  -7.06787312e+259   1.05991447e+266  -1.58946414e+272   2.38358219e+278\n",
      "  -3.57444990e+284   5.36027384e+290  -8.03816903e+296   1.20526619e+303\n",
      "              -inf               inf              -inf               inf\n",
      "   0.00000000e+000]\n"
     ]
    }
   ],
   "source": [
    "print(ksi[:,1])"
   ]
  },
  {
   "cell_type": "code",
   "execution_count": null,
   "metadata": {
    "collapsed": true
   },
   "outputs": [],
   "source": []
  }
 ],
 "metadata": {
  "kernelspec": {
   "display_name": "Python [Root]",
   "language": "python",
   "name": "Python [Root]"
  },
  "language_info": {
   "codemirror_mode": {
    "name": "ipython",
    "version": 3
   },
   "file_extension": ".py",
   "mimetype": "text/x-python",
   "name": "python",
   "nbconvert_exporter": "python",
   "pygments_lexer": "ipython3",
   "version": "3.5.2"
  }
 },
 "nbformat": 4,
 "nbformat_minor": 0
}
