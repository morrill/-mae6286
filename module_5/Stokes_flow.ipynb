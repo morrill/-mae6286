{
 "cells": [
  {
   "cell_type": "code",
   "execution_count": 1,
   "metadata": {
    "collapsed": false
   },
   "outputs": [],
   "source": [
    "import numpy\n",
    "from matplotlib import pyplot, cm\n",
    "%matplotlib inline"
   ]
  },
  {
   "cell_type": "code",
   "execution_count": 2,
   "metadata": {
    "collapsed": true
   },
   "outputs": [],
   "source": [
    "# problem parameters\n",
    "nx = 41\n",
    "ny = 41\n",
    "\n",
    "l = 1.\n",
    "h = 1.\n",
    "\n",
    "dx = l/(nx-1)\n",
    "dy = h/(ny-1)\n",
    "\n",
    "x = numpy.linspace(0,l,nx)\n",
    "y = numpy.linspace(0,h,ny)\n",
    "\n",
    "wi = numpy.zeros((nx,ny))\n",
    "ksii = numpy.zeros((nx,ny))\n",
    "\n",
    "l1_target = 1e-6\n",
    "\n",
    "u = 1\n",
    "\n",
    "def L1norm(new, old):\n",
    "    norm = numpy.sum(numpy.abs(new-old))\n",
    "    return norm"
   ]
  },
  {
   "cell_type": "code",
   "execution_count": 27,
   "metadata": {
    "collapsed": false
   },
   "outputs": [],
   "source": [
    "# function to solve using Jacobi\n",
    "def jacobi(w,ksi,dy,u,l1_target):\n",
    "    \"\"\"Iteratively solves the Laplace equation using the Jacobi method\n",
    "    \n",
    "    Parameters:\n",
    "    -----------\n",
    "    w: 2D array of float\n",
    "        Initial vorticity distribution\n",
    "    ksi:\n",
    "    l1_target: float\n",
    "        target for the difference between consecutive solutions\n",
    "        \n",
    "    Returns:\n",
    "    --------\n",
    "    p: 2D array of float\n",
    "        Potential distribution after relaxation\n",
    "    \"\"\"\n",
    "    l1norm = 1\n",
    "    \n",
    "    wn = numpy.empty_like(w)\n",
    "    ksin = numpy.empty_like(ksi)\n",
    "    \n",
    "    iterations = 0\n",
    "    \n",
    "    #for i in range(0,100):\n",
    "    while l1norm > l1_target:\n",
    "        wn = w.copy()\n",
    "        ksin = ksi.copy()\n",
    "        \n",
    "        w[1:-1,1:-1] = 0.25*(wn[1:-1,2:] + wn[1:-1,:-2] \\\n",
    "                            + wn[2:,1:-1] + wn[:-2,1:-1])\n",
    "        \n",
    "        \n",
    "        ksi[1:-1,1:-1] = 0.25*(ksin[1:-1,2:] + ksin[1:-1,:-2] \\\n",
    "                            + ksin[2:,1:-1] + ksin[:-2,1:-1] + wn[1:-1,1:-1]*dy**2)\n",
    "    \n",
    "        # Dirichlet B.C. for ksi is handled automatically cause its zero                      \n",
    "        # Dirichlet B.C. for w\n",
    "        w[1:-1,0] = -1/(2*dy**2)*(8*ksi[1:-1,1] - ksi[1:-1,2]) # left side\n",
    "        w[1:-1,-1] = -1/(2*dy**2)*(8*ksi[1:-1,-2] - ksi[1:-1,-3]) # right side\n",
    "        w[0,1:-1] = -1/(2*dy**2)*(8*ksi[1,1:-1] - ksi[2,1:-1]) # bottom side                       \n",
    "        w[-1,1:-1] = -1/(2*dy**2)*(8*ksi[-2,1:-1] - ksi[-3,1:-1]) - 3*u/dy # top side                       \n",
    "                               \n",
    "        l1norm = max(L1norm(w,wn),L1norm(ksi,ksin))\n",
    "        #ksi_l1norm = L1norm(ksi,ksin)\n",
    "        #w_l1norm = L1norm(w,wn)\n",
    "        #l1norm = max(ksi_l1norm,w_l1norm)\n",
    "        \n",
    "        #print('l1norm for w      l1norm for ksi')\n",
    "        #print(\"{}          {}\".format(w_l1norm,ksi_l1norm))\n",
    "        iterations += 1\n",
    "    print('Converged in {} iterations'.format(iterations))\n",
    "    return w, ksi"
   ]
  },
  {
   "cell_type": "code",
   "execution_count": 28,
   "metadata": {
    "collapsed": false
   },
   "outputs": [
    {
     "name": "stdout",
     "output_type": "stream",
     "text": [
      "Converged in 4060 iterations\n"
     ]
    }
   ],
   "source": [
    "w, ksi = jacobi(wi.copy(),ksii.copy(),dy,u,l1_target)"
   ]
  },
  {
   "cell_type": "code",
   "execution_count": 29,
   "metadata": {
    "collapsed": false,
    "scrolled": false
   },
   "outputs": [
    {
     "name": "stdout",
     "output_type": "stream",
     "text": [
      "Maximum ksi: 2.204824401880539e-06\n",
      "Maximum w  : 36.196743\n"
     ]
    },
    {
     "data": {
      "image/png": "[encoded data removed]",
      "text/plain": [
       "<matplotlib.figure.Figure at 0x24135e44fd0>"
      ]
     },
     "metadata": {},
     "output_type": "display_data"
    }
   ],
   "source": [
    "pyplot.figure(figsize=(10,8))\n",
    "pyplot.contourf(x,y,ksi,cmap=cm.viridis);\n",
    "pyplot.colorbar();\n",
    "print(\"Maximum ksi: {}\".format(ksi.max()))\n",
    "print(\"Maximum w  : {:f}\".format(w.max()))"
   ]
  },
  {
   "cell_type": "code",
   "execution_count": 30,
   "metadata": {
    "collapsed": false
   },
   "outputs": [
    {
     "name": "stdout",
     "output_type": "stream",
     "text": [
      "[[  0.00000000e+00   0.00000000e+00   0.00000000e+00   0.00000000e+00]\n",
      " [  0.00000000e+00   1.41429633e-06   2.17360372e-06   1.16739933e-09]\n",
      " [  0.00000000e+00   2.20482440e-06   1.45898838e-07  -1.21067219e-05]\n",
      " [  0.00000000e+00   1.51969379e-07  -1.18848694e-05  -4.51728086e-05]]\n"
     ]
    }
   ],
   "source": [
    "print(ksi[0:4,0:4])"
   ]
  },
  {
   "cell_type": "code",
   "execution_count": null,
   "metadata": {
    "collapsed": true
   },
   "outputs": [],
   "source": []
  }
 ],
 "metadata": {
  "kernelspec": {
   "display_name": "Python [Root]",
   "language": "python",
   "name": "Python [Root]"
  },
  "language_info": {
   "codemirror_mode": {
    "name": "ipython",
    "version": 3
   },
   "file_extension": ".py",
   "mimetype": "text/x-python",
   "name": "python",
   "nbconvert_exporter": "python",
   "pygments_lexer": "ipython3",
   "version": "3.5.2"
  }
 },
 "nbformat": 4,
 "nbformat_minor": 0
}
