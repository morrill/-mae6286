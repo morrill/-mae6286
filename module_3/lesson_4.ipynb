{
 "cells": [
  {
   "cell_type": "code",
   "execution_count": 2,
   "metadata": {
    "collapsed": false
   },
   "outputs": [],
   "source": [
    "from traffic import rho_red_light, computeF"
   ]
  },
  {
   "cell_type": "code",
   "execution_count": 6,
   "metadata": {
    "collapsed": false
   },
   "outputs": [
    {
     "name": "stdout",
     "output_type": "stream",
     "text": [
      "Help on function rho_red_light in module traffic:\n",
      "\n",
      "rho_red_light(nx, rho_max, rho_in)\n",
      "    Computes \"red light\" initial condition with shock\n",
      "    \n",
      "    Parameters\n",
      "    ----------\n",
      "    nx        : int\n",
      "        Number of grid points in x\n",
      "    rho_max   : float\n",
      "        Maximum allowed car density\n",
      "    rho_in    : float\n",
      "        Density of incoming cars \n",
      "    \n",
      "    Returns\n",
      "    -------\n",
      "    rho: array of floats\n",
      "        Array with initial values of density\n",
      "\n"
     ]
    }
   ],
   "source": [
    "help(rho_red_light)"
   ]
  },
  {
   "cell_type": "code",
   "execution_count": 1,
   "metadata": {
    "collapsed": true
   },
   "outputs": [],
   "source": [
    "%matplotlib inline\n",
    "import numpy\n",
    "from matplotlib import pyplot\n",
    "from matplotlib import rcParams\n",
    "rcParams['font.family'] = 'serif'\n",
    "rcParams['font.size'] = 16\n",
    "from matplotlib import animation\n",
    "from IPython.display import HTML"
   ]
  },
  {
   "cell_type": "code",
   "execution_count": 6,
   "metadata": {
    "collapsed": false
   },
   "outputs": [
    {
     "name": "stderr",
     "output_type": "stream",
     "text": [
      "G:\\Users\\Michael Orrill\\Documents\\local_repo\\mae6286\\module_3\\traffic.py:21: VisibleDeprecationWarning: using a non-integer number instead of an integer will result in an error in the future\n",
      "  rho[:(nx-1)*3./4.] = rho_in\n"
     ]
    }
   ],
   "source": [
    "# Basic initial condition parameters\n",
    "# defining grid size, time steps, CFL condition, etc...\n",
    "\n",
    "nx = 100\n",
    "nt = 30\n",
    "dx = 4.0/nx\n",
    "\n",
    "rho_in = 5.\n",
    "rho_max = 10.\n",
    "\n",
    "V_max = 1.\n",
    "\n",
    "# x_i now is the center of the i-th cell\n",
    "x = numpy.linspace(0+0.5*dx, 4-0.5*dx, nx)\n",
    "\n",
    "rho = rho_red_light(nx, rho_max, rho_in)"
   ]
  },
  {
   "cell_type": "code",
   "execution_count": 8,
   "metadata": {
    "collapsed": true
   },
   "outputs": [],
   "source": [
    "# functions\n",
    "# animation function\n",
    "def animate(data):\n",
    "    x = numpy.linspace(0+0.5*dx, 4-0.5*dx, nx)\n",
    "    y = data\n",
    "    line.set_data(x,y)\n",
    "    return line,\n",
    "\n",
    "# Godunov's method function\n",
    "def godunov(rho, nt, dt, dx, rho_max, V_max):\n",
    "    \"\"\" Computes the solution with the Godunov scheme using the Lax-Friedrichs flux.\n",
    "    \n",
    "    Parameters\n",
    "    ----------\n",
    "    rho    : array of floats\n",
    "            Density at current time-step\n",
    "    nt     : int\n",
    "            Number of time steps\n",
    "    dt     : float\n",
    "            Time-step size\n",
    "    dx     : float\n",
    "            Mesh spacing\n",
    "    rho_max: float\n",
    "            Maximum allowed car density\n",
    "    V_max  : float\n",
    "            Speed limit\n",
    "    \n",
    "    Returns\n",
    "    -------\n",
    "    rho_n : array of floats\n",
    "            Density after nt time steps at every point x\n",
    "    \"\"\"\n",
    "    # initialize our results array with dimension nt by nx\n",
    "    rho_n = numpy.zeros((nt, len(rho)))\n",
    "    # copy initial u array into each row of new array\n",
    "    rho_n[:,:] = rho.copy()\n",
    "    \n",
    "    # setup some temporary arrays\n",
    "    rho_plus = numpy.zeros_like(rho)\n",
    "    rho_minus = numpy.zeros_like(rho)\n",
    "    flux = numpy.zeros_like(rho)\n",
    "    \n",
    "    for t in range(1,nt):\n",
    "        rho_plus[:-1] = rho[1:] # Cant do i + 1/2 indices, so cell boundary\n",
    "        rho_minus = rho.copy() # arrays at index i are at location i + 1/2\n",
    "        flux = 0.5*(computeF(V_max, rho_max, rho_minus) + \n",
    "                    computeF(V_max, rho_max, rho_plus) + \n",
    "                    dx/dt*(rho_minus - rho_plus))\n",
    "        rho_n[t,1:-1] = rho[1:-1] + dt/dx*(flux[:-2] - flux[1:-1])\n",
    "        rho_n[t,0] = rho[0]\n",
    "        rho_n[t,-1] = rho[-1]\n",
    "        rho = rho_n[t].copy()\n",
    "    return rho_n"
   ]
  },
  {
   "cell_type": "code",
   "execution_count": 9,
   "metadata": {
    "collapsed": false
   },
   "outputs": [
    {
     "name": "stderr",
     "output_type": "stream",
     "text": [
      "G:\\Users\\Michael Orrill\\Documents\\local_repo\\mae6286\\module_3\\traffic.py:21: VisibleDeprecationWarning: using a non-integer number instead of an integer will result in an error in the future\n",
      "  rho[:(nx-1)*3./4.] = rho_in\n"
     ]
    }
   ],
   "source": [
    "sigma = 1.\n",
    "dt = sigma*dx/V_max\n",
    "\n",
    "rho = rho_red_light(nx, rho_max, rho_in) # make sure u is set to our expected IC\n",
    "rho_n = godunov(rho, nt, dt, dx, rho_max, V_max)"
   ]
  },
  {
   "cell_type": "code",
   "execution_count": 17,
   "metadata": {
    "collapsed": false
   },
   "outputs": [
    {
     "data": {
      "image/png": "[encoded data removed]",
      "text/plain": [
       "<matplotlib.figure.Figure at 0x1f9ec865940>"
      ]
     },
     "metadata": {},
     "output_type": "display_data"
    }
   ],
   "source": [
    "fig = pyplot.figure();\n",
    "ax = pyplot.axes(xlim=(0,4),ylim=(4.5,11),xlabel=('Distance'),ylabel=('Traffic density'));\n",
    "line, = ax.plot([],[],color='#003366', lw=2);"
   ]
  },
  {
   "cell_type": "code",
   "execution_count": 19,
   "metadata": {
    "collapsed": false
   },
   "outputs": [
    {
     "data": {
      "text/html": [
       "<video width=\"432.0\" height=\"288.0\" controls autoplay loop>\n",
       "  <source type=\"video/mp4\" src=\"data:video/mp4;base64,AAAAHGZ0eXBNNFYgAAACAGlzb21pc28yYXZjMQAAAAhmcmVlAAAq/m1kYXQAAAKuBgX//6rcRem9\n",
       "5tlIt5Ys2CDZI+7veDI2NCAtIGNvcmUgMTQ4IHIyNzA1IDNmNWVkNTYgLSBILjI2NC9NUEVHLTQg\n",
       "QVZDIGNvZGVjIC0gQ29weWxlZnQgMjAwMy0yMDE2IC0gaHR0cDovL3d3dy52aWRlb2xhbi5vcmcv\n",
       "eDI2NC5odG1sIC0gb3B0aW9uczogY2FiYWM9MSByZWY9MyBkZWJsb2NrPTE6MDowIGFuYWx5c2U9\n",
       "MHgzOjB4MTEzIG1lPWhleCBzdWJtZT03IHBzeT0xIHBzeV9yZD0xLjAwOjAuMDAgbWl4ZWRfcmVm\n",
       "PTEgbWVfcmFuZ2U9MTYgY2hyb21hX21lPTEgdHJlbGxpcz0xIDh4OGRjdD0xIGNxbT0wIGRlYWR6\n",
       "b25lPTIxLDExIGZhc3RfcHNraXA9MSBjaHJvbWFfcXBfb2Zmc2V0PS0yIHRocmVhZHM9OSBsb29r\n",
       "YWhlYWRfdGhyZWFkcz0xIHNsaWNlZF90aHJlYWRzPTAgbnI9MCBkZWNpbWF0ZT0xIGludGVybGFj\n",
       "ZWQ9MCBibHVyYXlfY29tcGF0PTAgY29uc3RyYWluZWRfaW50cmE9MCBiZnJhbWVzPTMgYl9weXJh\n",
       "bWlkPTIgYl9hZGFwdD0xIGJfYmlhcz0wIGRpcmVjdD0xIHdlaWdodGI9MSBvcGVuX2dvcD0wIHdl\n",
       "aWdodHA9MiBrZXlpbnQ9MjUwIGtleWludF9taW49MjAgc2NlbmVjdXQ9NDAgaW50cmFfcmVmcmVz\n",
       "aD0wIHJjX2xvb2thaGVhZD00MCByYz1jcmYgbWJ0cmVlPTEgY3JmPTIzLjAgcWNvbXA9MC42MCBx\n",
       "cG1pbj0wIHFwbWF4PTY5IHFwc3RlcD00IGlwX3JhdGlvPTEuNDAgYXE9MToxLjAwAIAAABL/ZYiE\n",
       "AD///vdonwKbWkN6gOSVxSXbT4H/q2dwfI/pAwAAAwAArq0yHNyJ05+oAb998dQZ5GfTwnf+OZWg\n",
       "8FQnkKZLR6IhE8CLq4VlQJwGV+rO30dQQmTYg2/tr3yBXHh3VjQsK54KOHWcJi/f6S9zxHCpYT1Q\n",
       "6LtSAukmomERfWn3Tz0H97k+vmI5U1xdhvS5KU6+K4thmki/1K0LMEseQ7Zu6Jc9puael3hUbA5k\n",
       "3uTW+IemknEjNhFd0DtWYdZ3QIri7/8FfbenQCq4GC5+l/7oqSDEj5t5P1vpntzJlaQeucyJtVn6\n",
       "q+E43HCn42kVq14Pk8UMKbxLoi5EZIuyHc5Fk+FapLfWk8Yaf3lje+drbKPlC+kmsWzi8BTbrb3E\n",
       "9ODMpr87tnLXXVVSfPgW0QJ15JwANTQgX4K/UFm5oCcc/5IbaXsNfUjgtp/i1vU0u7xu1AKx3ONj\n",
       "8iKAY4Z152/BfAAno/DeH8CZtxJG89ZAASLGR+jrawc1TWv8PoWmCoevYbz2D7yBEktGYb4oedHs\n",
       "J4dW3gpKZzign4qDZmXX8S6yac0b+X4jzGMz1hHW6O2O8tXGyrhc6WpZbeWZiQIF2zxnXe4jH443\n",
       "SaAyXZTtTUbGMcNbl5Um45A/16Bprow0KzvYdEcqQfnd/5RwJuga8XANZ9bS+fpgW8f/+Ak/2v+4\n",
       "/qffpWIoOCWqWLKe0hhODsX4WtIgZF100IVny9D/mEFHVkdOF6zRVB5tGTBTXA4VN7JcwupvImL1\n",
       "AL2OEX0r2UzXG8wYU/NkK+ET7JPFG54Qfkm+A4xAT0mG1ADiYm4/A5Bv1/wAGjZmX++Bi3rilW+u\n",
       "OeM4h2Szl4MIcF74vZy2D++AMMvJ9BFCU/Xjr3fknKUwz4Ps7CPzfb6QCMhlpKP6zkBZbN0Iw1Oi\n",
       "eIajc/g2NZUqYTG07aMB9oywaU5MpAoutEyERgFvguxTSCO31c+5xqSHTzESvdEoNQIvWgSakY8T\n",
       "DzXNnKtrzsbhoqimzIVu56QH4zbX0Jk0LSet90pw+tYTLVKY+TbqVTfokVGZwbKioT0Xgq69HQSA\n",
       "k/Wh42k2PswyIakBceZ84gAKuKcrtLvgIf6JQeLncaGE85oSW76ryIbMi4r4i2BDtyE33Nf0sfC3\n",
       "Tw0cU6qPpjsvFuLOBPcLzLaNGFmvC2/wEuEf5ENq3ShkkVM6IcfGUoU3Qwcfkcxy68SObUdDqaq1\n",
       "DCmxUzOxP8x/v7B4RT3Q7+MEYoOZ/ucv8P2jh45Sj/YtUQvANy4u2V2GAUEB5mp8OCVAAC45GGEt\n",
       "vZ/a7SQNwPQHHWGqV4xiNCZ50Y7kcoe5s35B0j0qL0lDrjuSWEs3nGHOai0qnYodRDEh9kO91KM7\n",
       "xWDaJSweqr27m9d4YxcT2m+RpgsqCwU2oi2wTpDM1Py5OBMlSlr3tjjvlXG+8Pf2/lrW8Kw4ZMJO\n",
       "x1D9m8x+9X0UxX7SXg3NPmu9600irUh1eBboYWYoqgAmwsMikV1rfv61i9HwIoPT+EihgQSyM7ni\n",
       "G0V1yiAjZ9VxTxmsmt5YRv4wrbLQHA2tBawVDNT2LMtLX++2JCwwAHOtSfJMv7I2O1rfy0Y2QwSH\n",
       "xg93pwfhk/6yThsUexMw8AWfdkFsrk0+3tqb1VYTiE1otV2XQaqA/mwOAtsbyH+NjtAKbc5zuo5w\n",
       "JVfcwxpOaJ+zVRBECeMwL1g3SFVSy7YcSM83IA6kA1SyZejry9t+pzqTpugfZbDNaLRYN3iz9XV4\n",
       "QCfHo/Cug37wvb/Q/P/y8aRGQd3CVALIC/DSC3gC+6UHMSQUFnIPS/a654tsOIWiytVybutyA13a\n",
       "tWzot9fD5a9l9AbN8ybZB5GRLa6CnrdVYmkvOc1S8WrCv40LkQthPJuHEoLQvCOiouU0vIf9bh10\n",
       "fYnW3gykm83TCUKWoJKxQ9TH12+0Y+0y7pJnrkcfb0Ez/Tnpzugbb8b9FxN3gEGc5Mq6v2vPuPm1\n",
       "NXULJhC/W8fmKQ/QzboMkeHUAvvooXSHB1+/x1ASfQAKovebdbmTKEFaVyVZmozB4XihSp4zJIk9\n",
       "LbqGdRXav+EcSWHiWWyMXgtHw5gyvxRoePXU301jZ+Q4Ix90LS7vGezPWk+VNkA+LPCrpIa3OrQK\n",
       "sWz+J6p6Chv7OQVjhjhaoFKKg1Vr0/aKMLZXQfqUKV2B98sV/+SMTctHnsa6QZeYR4M+9jm00Ob9\n",
       "mWVqtQyJnrUR1anv0X7CoMzFUjCyLgPqUbcY/Am4WEQC9MbNIC/KKQoxuB6deb1QG/xvg4VuQV8a\n",
       "oTnvEOLgHVPIP1uPQRlpqnYuPlRg1eaK2I/rqXZAm+29k3lXLEZ2y61xchIooQs7P40dnGwyW7oJ\n",
       "Lyn/RzNNHF6B2bRbQcXrNwoJp0wj/xmckLpeCMw3ObzIxKKXv9gmSPEZ/y4Njk/oArMfqi9ADAGf\n",
       "aNkzHoGoc/hVrP34w3XUQPUpLaexGD0FuadaiaOFA1HNu29VMUJ/+M05AcQ+Sv0qp8gWmmWWq6cz\n",
       "bHwbFChXMMHxU7D0ZJ9KCsPVCEN6WZ5EnjyhVVM18dg/i9NNVUKJV6gFIFpHtcZ/f6KoLycYWGdn\n",
       "BnNCPAyZGR5Q41ihF0SWPve4PE4oiT1kVwKJkJocsOPTmXMEg/gI+M+pfIFSnSj+bnHQRB/HNIMc\n",
       "r0JEM1LXKDYE2m+Usm8iDjAU4Rvw3eYTkRflj0YxZER82pw1PY+5Sng1TIS9RUHU11kEdoBIcJH9\n",
       "ppbG1AD1gApURC8ZKdxFbN1JOxDMozcAJSC6ot/lHTT7EGEq5T0g+rUbK700NurM66OuuK3ieY64\n",
       "PyTsu++pOZwwOAJd+sWbpXSO0+X0Bf594IOk72OLRiCVqeJGpwPV355Ew5gq9xhWNK3LUcRXd43/\n",
       "KBJkq1FoB5f7Geg8vmT0kiWNryj9E8hbeBosX77+5y5Op0YMIskFPNZCxPft1F713HSAsTncGPka\n",
       "gJrrZIbXTzxkwBEmMETbDtaEcISXpCTebkvsDP9TuFLY6MSrBC6dRg1GFDEF+T5/GFi6TQEnW0lQ\n",
       "vUPMN9lsJFA+CDjs9aYb17vO9zigOGeW8M8lTrKUm+3UHoAJ7i7plMJ/2tQfY4nV/PsVZKSIDjje\n",
       "rxaf1ZoGDn+Lyyyrt5UpLJ1xapT6qWZegAA/KbRj4on7mT4MLmyZPEzzxKrbvzwdzMeDx9IHbqUN\n",
       "Dgt9WOEpiS/7aGFlhhyHBRZsFEJfZVY9l+HkyLQ1aH/RW+j1hNUxj700JKfLZfX5dX+GwuyEJzz7\n",
       "FPKuL5ZBHA0/3jbypIq4m802KgC5h5ThysAlb1he3fuIKi2Pn8JyFuTfnZIGtQncnwJy54EkDdja\n",
       "LnjbI1FMGRxw9hjfXJS7uZ3RsXPAQSaqGkRsIY6GHVUvmHO1p/Ssns9xhHLG/Q20buBeBj9OstV7\n",
       "+7i7AWjLBA4dcbVyF6/gC40z9VoPOLWrclfN6qFadoafdj8HNVxxk+MVakukwhYBdzFpCdWeoxos\n",
       "jKvl14vf7yXGdhUrNnXkiFvgOyzNLboe35kNkqh0EvA9VzyN+vWgQJDD5vVw4cpjzue6e0fOzly/\n",
       "HqYkMW57rs7ur7heiXX1PE2H4bpvw7W0EB+To9g1Tofia4Tu6x2sjIXmfzMOGCgNA7r7YERjIUNi\n",
       "H1BjBBZ0sGDVpDma+M7Q7O30TAPcQ4F74Op3PZJkguBzfwJyQn35UygpnVE42TgRCN1jihicNLhq\n",
       "o9JkgnhcoiTwpDUpq+1ASwV3bLZN5nC4HG0eMB3XjKVxRdfRnrOkv/VPs180RK+IzaTLQxs10Lm5\n",
       "HllN2SOTOdTVEdoXfA/tD82LTWQ04qk+/6InGnraTfIzyx5HdnE0QiXrDo/yCiV9Gzff+n8U7pru\n",
       "aXhVw4Bi97I7SKRJv8TxF9XzxNWAUe8qF2cSc/iXiqINkznO0fKmfG4LU8VX4hG0EjBkrF1a3/ky\n",
       "OIvseiZCVdL7SItVkX+nbqz7EoatSX0jZ9+5q/MRPcPZvNQp/RIzv45Rab4DZiG8I3OO4IxVvR6w\n",
       "GdNeV3Tvdd91q1AXv1m8NobqS2T50U+GKBobrK9it45iCDRk6yN+A0zeh+tQqV6NB9U97H5gq0vP\n",
       "ORDvZq+J5We5kXJt5JCOsn6TKLLN2+9FvX6LhUoZdL5stgxEAFimYXq9HKezlGxqPu2F2Sne60I3\n",
       "gtre1Tv0Qm1D1x2VcvVgvd7YGFWlSBKSfN2bQ6qgmbETgfoSZRW0yu0lPvyKqGzayuWcLWTolCWS\n",
       "wHa9wjlh3ZSZa/siaf5+C0lF2Fv7u7vJRx5sLEq+8grieA0mthTEYczr5oj+Jzf0Zwmhpa0+e0id\n",
       "/PQGudmNTVvLy73TZKSsZoI+xwu/nLICD7oVKorykMXf7ChR7TXxgxH3N0feyJ394TmKfWMS5OZ3\n",
       "+brzVXx5GfqvIIHUnNnR8UdQgjvg/H/whmZOUHCsrpC9knJxtut8WpCueKoPwXBRMsgZP1/GrUsx\n",
       "Rv7dA6U/gIpAQ4MBMQkirRbMriIe+gv1rldPrpSuRdYvSuaxUzG7YXeaNyoRUXUQfpN3wA5LyMB8\n",
       "q0cjlo212nB6fpNBJZQh6nLW2gZS9DXth6pvlas97RZxwBOXI82aek59A1utCTHcPZHO50T1iCnO\n",
       "bRvMQ1fXBXW9CFt7HRluMY3t9SCgabYLl+X/Aau7g+N7mlrcTgxcThX0fqXX1EfMdr6AAmDTvmbV\n",
       "mWYBem2PJcA9D95rtjKG2S9JCleLD68kftQXGpG3e5DNNrcUdg6IJWXaZ1F3pUhH30VfJdbCypX0\n",
       "7qpNYWddccBz9cxXB+sMGPZcEJyfwl5Ort3YTq5jTBHvplpCgJcv43Ta17YjYO2LOVPBtuSApQfo\n",
       "S3Dl8//nZzYPEGoMQ1cz+EBTBTdwIQ+S53zjr92cXS0KqMSFJ3ubDo4smD/7SMN+FEKfivYul62/\n",
       "O5AxnzH0vkDkiNfH0U49OPQ8x4nD8eQl/UaXob06hegNXBVfVxX/uBIOJBk5VDjZJQpEkDCRIiwg\n",
       "N4GcIRUA2d0785KM1obIYaxAGC328mOFmvL3Q2a395cez3nPIy+uoSXg4T0vxATiAfnX5salTYCs\n",
       "it8/7OeVpJgtvF4zpuwwvRlmVLRu82jojVyY1+ddxsXxiZA1x3Q3ngDP1F8zGX27/6TAoHlyDPfG\n",
       "HM+qTWvup3E7AtkQ3oJYtJTciLUVzcBANfFEFjgzchkBVVQQ1PVoy9JYhWfjfD8tW7upmgRt6w30\n",
       "X23d/WzSL1PBmWbU0tJk3L1RXYmbZ8TWKZER/7T1icsGflZk8pLxCjp7HZEdn+wlaU34+TBkYN53\n",
       "PXUBzfzYFRgXro0NJtKGRvrMgqoSGLhEDmMNGui8r4rhNJb3ILVKAO6gKfl8BpGAanMMs0yI2gw3\n",
       "ZyafopjRSoTrQffrytA9pw5AFJQFPiJPB9xpPPilZdwcodtForqLpoBm9R1XWdEKQowjDs9OHPtU\n",
       "dMhq3gGwD4n4cgiTH3G8itw/sBtlT6mYNz9HoTEv5vw+p4D2/9j+jD/9HAFOf5wMO58eh5T7g3Z8\n",
       "5RZyTVP3cKmqsRt0ZHadhrfixUBtCR0AWyreUl/lpE4jSI6203FXHdyBqcU6rcDzsNv6/DvAz46x\n",
       "f/ksycoIuVs8gIhsxc76Uyz9xNXQaCp1vuZfr2UgiePL0R/A3gF4ZNrAk5puW+q7JJjVn+vnanQi\n",
       "P/Yz1ov9a5wr1zCSYaqRJJ7ZKLPZzFKIsoE39J5XBqD+opB44zYmq1yW/KuwsIfriQUB1RncgYV0\n",
       "sFJ77zVTVEBpiIWxsQ8X8VRpY8w+Sp8DT00CrBZbNdTaxCgKgQxCLECr1jHPJJ6zs0s3olHOoK/J\n",
       "z0p3EYyIZBFBMPNwbkIToMJ6Md5Zm/3pJ2O0Or6cDfOjXoP2d0xMY2WYQxEk9t6RcCoN3KKApSvF\n",
       "gI+GYkCy7TvbvCdx4uadlgWMPSd95piXWI/NhP0MJ+Gs/zfAFw9Ijg0Fwv67RPsPINmz0W70lpYn\n",
       "Fqfn5HpB/4oXRA5ZEqHUHVYbhJ+eRaB0QvmZQGY5yE0mauAXOHGcCn0YBH8e2EdXs/B2OrH0hyJO\n",
       "YVjrtaGtQ913APKXBtBdUC88n8jCzVmPrMYorQvJSLU9JbYfcWaU16N1nZ25nnrtM8IRh6iyjCWY\n",
       "sPg0hRK8D0tQMz+LsTWwg1Zr0FWAePkZy2XJbtqFhhv4ULHOTdWUCvjXL97F8jVe8vhEUdj8MHJg\n",
       "Kdl0+mS464GaKDif/yPK0w4Q1sR/Me7ihu/sEGswOXon81lmfsDqNHtoVuQV8zq5hKga+AfBOksH\n",
       "7YBQOgopqvA97mB6eidga7Z6vFflxIyuMu8j1hzsOTHvnsZ+8fZ7FoS8gC8emv5KWQ3MTw9ylbIh\n",
       "+v0wAWbTvhC4UHWmnmmrqHHVBKIsG+JUu1FZc96j9455UZEfdBJNssJjTBji0SqX7vpe8EzuyeqD\n",
       "10JWOZIzrYjMf1atu2QJAAACgUGaI2xD//6plhMCmfAF/ux2uCLBMwBkvNMheL+QGUSFGcO1ymA3\n",
       "7qkjkWeEv3jL6mL2exKxnTZ1eqmQlRDe2zJfGiG07nYz13Pn94BqlZ+zTiBso8SZ3VWeBtKtIxkx\n",
       "qu1xH+Sa+C6msVvLxRUW+K7/Yf4lvvdeJMPUrp3DZcXlBealn1shy3u7tx//s3yNC8BV1UP5BNVt\n",
       "34jU6ZcoGGWWhtVDWD2XZLZM7Z9Lt8DgFYxwD/9dqnDPMLECeXG17HkZ+iypqyXHhkWog9RDSdRO\n",
       "DmyYmrc85Sp/krN/cvI1wTLu71A4CxuBvPspSFXMmHJGTnL5nQcbeHuPoYlLviimqGAqHop2UfZr\n",
       "vyPQ8l709zCZVit2YxKw0ASk2t39v6DS03YmwhL2cRHEBPQy1yjh28GplVxUmp1MWblEx2iJCM7k\n",
       "3PPCQwLFEK57mHDIjA0aeDl69HKRvxW5o2bqyV+Oq93NudyIHtVUqlNs4JU3Gu6YuX7ELpQ2DvN/\n",
       "0eWvTSd38E4pROkn14iFuFXruIgvpoIDik8ofmVyMBqQxIbwq27F2SvcKWvvG+9tB4Mx4T2pOx6G\n",
       "25T0f785+39d+1ejDPL5OPhf8qlpBvLR314350T3OoB/72R/8zR9rzE1fo5xa3QDN5iL2tYdHQI1\n",
       "idPbItOOPMygK6c85/3W262DjhIb+sAwTblaQdMy1JPZ0vj9EwkbiTBoifHfKijwg2Lt3Lf+9hhO\n",
       "25GRYIWaWxkmhl0N6/CcCZwQexz4jNDlg6EWw6wNbhwFTv8JIHYfq3KfXVZX/gUAuHo2mm69+3Dd\n",
       "60NjyCv4qI9mEf/t/3JrVYekc66G4qopfBUCtKOOKSxwAAAAxkGeQXiF/wLFa06tyO7lg7ofOKkv\n",
       "fS2ACBKUblQT44kG0rzpBFJaEW8U1P1O/tLsLNBB+H6lbNbOdZfGt5G/e9P8HY1eCPQkRnw/38RP\n",
       "KsE1L/OHPTlE4tM4c7ZkOX9eOOGqG594rDO5CO1oAKv94+3E8Lg7sOyaXkbBmWC8cNWenbxfjceq\n",
       "RyJWgVZP00YBBvGpOA6dsTdJBqdF3A+CL1QTSK0fQOi1VjDsVdiInbAAAAMATCoW/I1S4Vi5Pehm\n",
       "26KPCT4cEQAAAJ4BnmJqQr8AdrhWXgACdfsJyguToVf3ieK5dNOEIfQb7uWYlQTnG24eZqJUEwGd\n",
       "guWHNy3XTtUyCzvKx16rhfaz7m+cT6XfUgqW+ZPY8LLpycDp6Fbw/uq1iFIebQ070ZTbhvdoNaqO\n",
       "gNTf4TItIHZ6IBx0Wm1jYpiV9AjXPOI3B3ccrYwTM4Ou27V7S8+y+gR5NLocs1ArEaBXB8fecAAA\n",
       "AMlBmmdJqEFomUwIf//+qZYATAxVd2gBGKIj7ePVtNn1I9aQb3kOwMDmhIOMh65mCqtkRT7P8Xm+\n",
       "/HEwTciqCVLJNb+XxxIndpDOxqrGAfW9Ay+jwFjT5i6sDshmBo4zyJ1/4FxCzl/dk+AOQYf1HxG7\n",
       "Q0ZlbUm4VF5SpzrNKsyyHxmom3nxawJ8vkVswPyc/glRovaUGQ0bUjEKOuC3TMP2W/qEvhs/jNDQ\n",
       "CdiODfhd77JConjSsSNtIpJJ8RxpZqIXoEtWU6kgu4EAAAEGQZ6FRREsM/8AQV8b5yOAKj1PKtZU\n",
       "0UdcXte3Mp/J4XhWJzob3TqQMo1xAQvGQYPXeSbnUctwpKAtgfzYRdJnMQTcyi4C+a7gmk0vLDhG\n",
       "ptg+iuMNFzaI3S+nQAfs5aVXan4Ybx4b40gKP67ToSzNvOQgpa8M26KHgwC5RQKMLSvTIWnWN87d\n",
       "8o2XaxuoOdgKYB2nDbLrxV0bpj5cK7Y+TrNOxdRKkj00xQMWl2gAIW/fBSP2NT02evsaWW8Ll26N\n",
       "ogQOpy7epIOfV4AcH10o7tpWh7mLyX0deVnF9GBlNzm3prR+5/CH8NyN0mgAVaMiynNRzsJKO+rp\n",
       "/E1TwReDbJYYKw3FgQAAAJkBnqR0Qr8AeZmiWsnQAJ1DGv34VQjie+fKkr+uKkoyLDODmcn0bvA6\n",
       "fDdooL9xx7HA2xrjKpdxWbxPFuih5FUjtm032Ym97cb0bs1B8ft3AOIkXmtMX6snGs1OBhXP4Wv7\n",
       "bJg21wUhPTuVPzyxsCVx9b2ukRAPm7jV3D9MY+LEs4x3OjOKCKKqrUNowj/oTCz8NW3kIP+VnTUA\n",
       "AACaAZ6makK/AHmqU32f9fj5YeS/OCuUAJl0fGIl0s5vBYc/fYYE+ngQemdBZM8Lf/rseLWIH65j\n",
       "2jatqVVo0kqrW2m4YU8U8wEG1i4JtbKLm6pcDlLCdfTwwg3uLQkR0hAohy0atI6wPi7eUd0uWglO\n",
       "RUHtTst4LuXOl5PYZVpEDnNgsTTpSqqXMfnX1lCzjFHu6FX2/naXROoJQQAAANxBmqtJqEFsmUwI\n",
       "f//+qZYATAxX2Gp40PBFbbnPRrJ1OplJgCsRG85NuRyQtSuQPcMG1tCM2U8CN6tIO+Asgx9CcZBM\n",
       "Tq72M6SuCo4LllH7Hb75kDXp49sVvmz8LrqsaWsHoyN0oSxnxTVB3kIikzIJvf6sxuFpd5rRGH//\n",
       "qSFMxF3TLtiorfLgLuEeJu/nc4ipxo7ouVey+vO2rYEE0swN25twM22T2VyMfDef/KyZMBX6HynM\n",
       "e/0xjf7QIqVq0Z0aVVmpFx5MyCVXoIDKk9ZbJ5yHLqga+zXi29LAAAAAsUGeyUUVLDP/AEFtMkIA\n",
       "Ez/NAB3nIhzclKaCPJ7EKDBXwtmzllJTFKQ5r9akRhe2VLFHE4RBzI7+wr+pbyb3owtnU1NixTuK\n",
       "fWoIPUS7kGDLgf/1yRBJvpOLwsOsjMALgTP5brhQAVnik4SbT7Qo6//rlIBKfTkNfrkWP37PX/BD\n",
       "enki4ziQ1SLpoQqSlqPXeC5lYBfX4Rv9xVyS9tDls7X6HixlA4e8kZzH39VKieZhoAAAALUBnuh0\n",
       "Qr8AeZnN6WAC53empFc/lmnK+dw6q3ktEBPpeRoOVrXUtvjfd4lQ6WYLPVXbb5U7f1IwNbz86kIK\n",
       "0/XrrbIgnyJuKktAA7y819ynPcp5BDIilWiUyS6fTE6OVwVQ/zf4AGeRE+0lYcbwEFNeI4ENK6Dr\n",
       "LD8vYyBSbdI8rxb0keh7nzVKzvCv8qonRTvf9YtTpD+EBkwIleJypCp3osz7REeHKco1TsxFbC8+\n",
       "NPEsejStAAAAowGe6mpCvwB5eJNSPlpyS5tMz0AJlrT3ehBT6XqJTo/B/YMGdYUxfxXjJAj1QkVC\n",
       "iquJxCf1So/jI6TDF7OLUUogf3R/l6yXi5l6X4/aZnru1SyGldy4pUdszqkr7uppV48HG/Ma6iR8\n",
       "1YqOhFNkC21UesfVtbcFKuLvLK2+BqgLOW6BXY8qQyqtkR1W77Bs14qoz1pybNYeC/opoKh7oJ9/\n",
       "/CoAAAC8QZrvSahBbJlMCH///qmWAE4MV+9oARlaLzoGwDvsdZ2mhWg0kwXoEtzJFL5pc6l/ikSa\n",
       "RAcHLyaWwcLnajxaCc/c4t55/M7Id9l0PnjYzgn20AtlpQw3G+uPNc3BKgU/60PWpbvkQbmGgy7M\n",
       "Zq09E+i4O/hF33ZQyawgMSt4zUQJXJfvtGQdU1CC5hvqkKp4Ue1r4zpAOqeJ/P56lkRROYnte60J\n",
       "Kzw6teu+lYUa1svC1+FR1znVN0NHyGAAAACpQZ8NRRUsM/8AQ24iAqyavrUAAhTS4Nrm5++f4H4M\n",
       "LX3iQDHPuhh5q77GEcuKIXeP+4TkDBWqkWKIskZK4+FjnepzogKs8anvZz0JM3QNNi3ZlYbAKRMD\n",
       "6C0o+06ybnit0+aAI+NDvGITykcHUodJc7xPQW9ZS6LoIdeGZAb4sl7FYZkUvvEWD38LCwXhgDmT\n",
       "U0SC391F7gKi2hG964Ws7wrMdlRGYQ5vqQAAAK0Bnyx0Qr8AeT4OIzGsAJq78jaBBOR5YXOOeTav\n",
       "0gc/B/D12hsaVvbnlQAwW9Sq5LVnKi1vKickzeDr4J0TXMEDiZbWVns5R55AlpQY+QAMFF4QLFCK\n",
       "5hrYUtfb8tw/LjY0i971YJMeOnSCByTiz1ik6/A6hEiGkwS/R2Q+yJdX4UxUjRpG7xNn7sSSBzAI\n",
       "Quvaj/MkqSUUN7gj1LsJLuJdv4s4tgggdJcW9DAVQQAAAKQBny5qQr8AfFkjGOBRFDmhLi7VwAE4\n",
       "lLnxgSy+nNO7c4lDs/brrjA0qr1L928TQwfXVmvgN3Bc4D3LgxXqRmZo2B932DwiC+UtG1LwkuR9\n",
       "nPB6rdV1+0Wz+9DdorW/2sRVT0sKLFxNtFcMK1OYVlrA8ZB5rqVBPA3y41O267sNfPs6AFqFu+N5\n",
       "7cQXpWSn8ta+w7c26N1eUNedwl15A5gQdikdsQAAAKZBmzNJqEFsmUwId//+qZYATgoPW3QAWxOV\n",
       "3dyucdLMfqiBnXIzKzK3e/r5ydO+bb9pUlUZ4xu+y/EncLYl8L09fqeu6WJUfJDhmO37EqEVpAJb\n",
       "j0KXI5CfxEf9f8MS6w0PcGkleEk8oKiMDCAa1+zGviltN1ah3q/hgz4599sLJwgalROo+49fSrpj\n",
       "49VgO1W9PFMXFM9V+Sc9NM24af9sFVrwmriAAAAAikGfUUUVLDP/AEN1OI2NSwI0VI4AHIiRAxol\n",
       "rDQHBq4pcMsTbll4J5OLEl7in7xdjrEsuQsUeh9kMrA15NvnaB2ZaMZv1SG09yvZjUzqqmcLVBM+\n",
       "mG6orju4tLZpaVbrVBMLBm8N+7k7CjAQsDkL57JnXWkezX+CVbC/AgqaEWzy5X47347fuaWYagAA\n",
       "AJsBn3B0Qr8AfCV+jBb9W+wj+UkAHv5SgZ8ELIyEdu/2jLp7CUJ/NoQJhVxyZoPynJS+RbDvjdjo\n",
       "s4ajk2Z46VHimq3nlrW9M8cbWMnQ8kn6ypcY/mykXKeO+9sWGN/83e81RWkwFT8pmZuXIteRB7zw\n",
       "60iDng7biUdgqhsGueT8FxFKY4km/RwwoSHvuQ/37CnywvwvXRBQ4L8XgQAAAJ0Bn3JqQr8AfDiT\n",
       "JyzYkC7USsfN8znACan2VRbuXIxwfVFKp/EK6x1naWPNc40yHmbFiOff00eZDaLSVZ9P3OUDdmXs\n",
       "iRhlCKFwtdFCmEjZC1kJbzu/H0ixRONxn0nOjpmLNlskuExypARdsMNUhFNPzvtEfaIb6QZoCP6q\n",
       "2Os+6gqgnq91K6Q6MMgFwB5TfXc9SJ6J9EotIlDkG7ggAAAAikGbd0moQWyZTAh3//6plgBOCg8m\n",
       "Mmy2E1cAB4JPp3f/UUdF2kATCjdbPyhw/cfMRlc8dK59it95J0sZUyc8G+/EiHYdLIRRrDKLMqw+\n",
       "mAcFzrnHvG8+dxIbCE/+LosfySfnfdeeeJRwSy5eN822fXx3bTFwlNN7bnNgp5+oPzV4DwUUspeU\n",
       "ZBxCfAAAAI9Bn5VFFSwz/wBDdTiPWMH2gBeX0J4b1ldxVrPYKTdEZ3XPPwd4ml35Kq0DHPSfJZQr\n",
       "adRr4Qc+z9D+7tcsb9/xz1ErsP3RcjDyA0NZ9Jii21Cck0uudOlv7gOGSWCNBaVWtmm0lRrm6wu6\n",
       "ha1ogODXl8wX2tLjeYQcGlDlvcRfS1bse28DhiXfplEk+IZzKwAAAKcBn7R0Qr8Ae/4OIVS/UGGw\n",
       "ImvJQQATKMRKHlKczhzPlZ2L/2IT3vi/9ZuBzACidX5bnjGW7TKLZYRlnbD1Qa+mq3J0CkRtm8mX\n",
       "KEfd8rml2jzY2Qz0dU2Woz6iqBjJ3Khe8BG+4OtnkIDjHyDW6vz2kCcdoUdXyKL2DZQOXobSDRRT\n",
       "lupNE5CAQ/e0rcZeuaYi7H7cS6BNWL5IHQB1KW6OfbUN/SjpZAAAALABn7ZqQr8AfA8NRqCnaYGw\n",
       "At47XV0AefwwHmC9ZxSgaA1RsNQMO8s79TqWNH4ZGP+pbVtWsTc7tCkO5FGfXjXyN/0/qzi926dy\n",
       "a0LcDD8WgfxIPoAG4IdVfy7InWY4cQeJF7dWbtOl+5JsX+r/ffpnLuTRDCkKGnOInk8BjakFORyu\n",
       "4TGNKf27ZfyM6L21aqe8te/o7njZqK8x28k2/2yJ2iuwkFx386dcBjAhCxZ3wQAAAG5Bm7tJqEFs\n",
       "mUwIZ//+nhACaiAcbl1OCJKmEOAB9isi53L/P1UvRTmlutGXogYqjj+pdau8uFxP+VqLQ8ng4UBw\n",
       "T2JDskkKj6w+03w8DUKH2RCt1BimN493zKRVa3aUPSw1rpuXoP5XZghu2CEwnwAAAJVBn9lFFSwz\n",
       "/wBFbQURLeh0H/860AH/61rfxNiO6mI37QDKfuwwryfgASWOUjUgrk9oSd1aX6yDyNTlXQ6Nys74\n",
       "6TNPiPaKx2O4iykMFR7NGUCs6kmDSEaGkUy75eA+WQGSBd7LYMvEFmzwZKvtZ78ADaIWSjSbCRJA\n",
       "cwi2giVhn/v2PdGof8qs0jBigUXdRGkwr2F5tQAAAJgBn/h0Qr8AfvMw4FOq68AJpHsbib+YBLi7\n",
       "y9VNVkb4//un6bh54dSnwo69QSYbn+kGrJwOmuDSucaYtrZAmMrMmiAS6Hw7FcIdCIRdUhY6x38q\n",
       "hd8Rs6Ad/b8bBfrj6EMd36hpyOwUySCCxsuixkwx1FOToScZf2aaDZAhUTDZspgpuzRups2Wy1BA\n",
       "Cs67nQEhknTNmvZ0gQAAALwBn/pqQr8AfypTfZzkz8IU/UbQwekAJq8qW45nebcwFxBuVYLQ18jh\n",
       "lj0dPPv1cmFj1heXLtfs/PO/ju61UmD5fs0noKCNKlMOtLZPxHvx6LpcKs2EsQVcOAscrD0KxyMS\n",
       "A7UvIjg1CYcx4QLj06MT2njJKI9As3kgwqXmOVF2g6J4RGNzHt649ASTt0kQ+E7fLKcmv8PrMLh+\n",
       "aGZf0GDvDKpIYecxfg88DOHmdJpX3MbvnEMjUOIe5E6GgAAAAG9Bm/1JqEFsmUwUTCv//jhACW88\n",
       "87WgeeKZdjGvave1Oq1JJG+o6aADjZUjFh24oNCMxjc4QZ6hZloI0g/3K5fiYpBuEoqMPMu0hp9T\n",
       "9sF4lhy3PilkfEjd2Viv0vhtObu0Qx+jbbpxpdrtMXxELGcAAACtAZ4cakK/AH8VGIcggBWK0A3K\n",
       "f+eCv1DrypdX1X3LNanBqC9DD72PmV2e5rofh2P1mOW4c07X7d2/QxxaEgwEyhFcJPN7jCuiHOCC\n",
       "1c0NzoPV9FivW80S33A26Y/WzlEtyD/na5J0N6ukkVOdF1y0WD3qKzb6WdgA880d5Q7TGtcNpIqu\n",
       "0grfROIiE3hHuKSCfVH8iS1b3Bep86CYQ21JnDfdZd3Ssda78V/h/uEAAASObW9vdgAAAGxtdmhk\n",
       "AAAAAAAAAAAAAAAAAAAD6AAABdwAAQAAAQAAAAAAAAAAAAAAAAEAAAAAAAAAAAAAAAAAAAABAAAA\n",
       "AAAAAAAAAAAAAABAAAAAAAAAAAAAAAAAAAAAAAAAAAAAAAAAAAAAAAAAAgAAA7h0cmFrAAAAXHRr\n",
       "aGQAAAADAAAAAAAAAAAAAAABAAAAAAAABdwAAAAAAAAAAAAAAAAAAAAAAAEAAAAAAAAAAAAAAAAA\n",
       "AAABAAAAAAAAAAAAAAAAAABAAAAAAbAAAAEgAAAAAAAkZWR0cwAAABxlbHN0AAAAAAAAAAEAAAXc\n",
       "AAAEAAABAAAAAAMwbWRpYQAAACBtZGhkAAAAAAAAAAAAAAAAAAAoAAAAPABVxAAAAAAALWhkbHIA\n",
       "AAAAAAAAAHZpZGUAAAAAAAAAAAAAAABWaWRlb0hhbmRsZXIAAAAC221pbmYAAAAUdm1oZAAAAAEA\n",
       "AAAAAAAAAAAAACRkaW5mAAAAHGRyZWYAAAAAAAAAAQAAAAx1cmwgAAAAAQAAAptzdGJsAAAAs3N0\n",
       "c2QAAAAAAAAAAQAAAKNhdmMxAAAAAAAAAAEAAAAAAAAAAAAAAAAAAAAAAbABIABIAAAASAAAAAAA\n",
       "AAABAAAAAAAAAAAAAAAAAAAAAAAAAAAAAAAAAAAAAAAAAAAAGP//AAAAMWF2Y0MBZAAV/+EAGGdk\n",
       "ABWs2UGwloQAAAMABAAAAwCgPFi2WAEABmjr48siwAAAABx1dWlka2hA8l8kT8W6OaUbzwMj8wAA\n",
       "AAAAAAAYc3R0cwAAAAAAAAABAAAAHgAAAgAAAAAUc3RzcwAAAAAAAAABAAAAAQAAAPhjdHRzAAAA\n",
       "AAAAAB0AAAABAAAEAAAAAAEAAAgAAAAAAgAAAgAAAAABAAAKAAAAAAEAAAQAAAAAAQAAAAAAAAAB\n",
       "AAACAAAAAAEAAAoAAAAAAQAABAAAAAABAAAAAAAAAAEAAAIAAAAAAQAACgAAAAABAAAEAAAAAAEA\n",
       "AAAAAAAAAQAAAgAAAAABAAAKAAAAAAEAAAQAAAAAAQAAAAAAAAABAAACAAAAAAEAAAoAAAAAAQAA\n",
       "BAAAAAABAAAAAAAAAAEAAAIAAAAAAQAACgAAAAABAAAEAAAAAAEAAAAAAAAAAQAAAgAAAAABAAAG\n",
       "AAAAAAEAAAIAAAAAHHN0c2MAAAAAAAAAAQAAAAEAAAAeAAAAAQAAAIxzdHN6AAAAAAAAAAAAAAAe\n",
       "AAAVtQAAAoUAAADKAAAAogAAAM0AAAEKAAAAnQAAAJ4AAADgAAAAtQAAALkAAACnAAAAwAAAAK0A\n",
       "AACxAAAAqAAAAKoAAACOAAAAnwAAAKEAAACOAAAAkwAAAKsAAAC0AAAAcgAAAJkAAACcAAAAwAAA\n",
       "AHMAAACxAAAAFHN0Y28AAAAAAAAAAQAAACwAAABidWR0YQAAAFptZXRhAAAAAAAAACFoZGxyAAAA\n",
       "AAAAAABtZGlyYXBwbAAAAAAAAAAAAAAAAC1pbHN0AAAAJal0b28AAAAdZGF0YQAAAAEAAAAATGF2\n",
       "ZjU3LjUwLjEwMA==\n",
       "\">\n",
       "  Your browser does not support the video tag.\n",
       "</video>"
      ],
      "text/plain": [
       "<IPython.core.display.HTML object>"
      ]
     },
     "execution_count": 19,
     "metadata": {},
     "output_type": "execute_result"
    }
   ],
   "source": [
    "anim = animation.FuncAnimation(fig,animate,frames=rho_n, interval=50)\n",
    "HTML(anim.to_html5_video())"
   ]
  }
 ],
 "metadata": {
  "anaconda-cloud": {},
  "kernelspec": {
   "display_name": "Python [Root]",
   "language": "python",
   "name": "Python [Root]"
  },
  "language_info": {
   "codemirror_mode": {
    "name": "ipython",
    "version": 3
   },
   "file_extension": ".py",
   "mimetype": "text/x-python",
   "name": "python",
   "nbconvert_exporter": "python",
   "pygments_lexer": "ipython3",
   "version": "3.5.2"
  }
 },
 "nbformat": 4,
 "nbformat_minor": 0
}
