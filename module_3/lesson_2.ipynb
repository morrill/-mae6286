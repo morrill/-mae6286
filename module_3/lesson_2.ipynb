{
 "cells": [
  {
   "cell_type": "code",
   "execution_count": 1,
   "metadata": {
    "collapsed": true
   },
   "outputs": [],
   "source": [
    "%matplotlib inline\n",
    "import numpy\n",
    "from matplotlib import pyplot, rcParams\n",
    "rcParams['font.family'] = 'serif'\n",
    "rcParams['font.size'] = 16"
   ]
  },
  {
   "cell_type": "code",
   "execution_count": 40,
   "metadata": {
    "collapsed": false
   },
   "outputs": [],
   "source": [
    "# functions\n",
    "# initial condition function\n",
    "def rho_red_light(nx, rho_max, rho_in):\n",
    "    rho = rho_max*numpy.ones(nx)\n",
    "    rho[:int((nx-1)*3./4.)] = rho_in\n",
    "    return rho\n",
    "\n",
    "# flux function\n",
    "def computeF(u_max, rho_max, rho):\n",
    "    return u_max*rho*(1-rho/rho_max)\n",
    "\n",
    "# animationo function\n",
    "def animate(data):\n",
    "    x = numpy.linspace(0,4,nx)\n",
    "    y = data\n",
    "    line.set_data(x,y)\n",
    "    return line,\n",
    "\n",
    "# Lax-Friedrichs scheme\n",
    "def laxfriedrichs(rho, nt, dt, dx, rho_max, u_max):\n",
    "    \"\"\" Computes the solution with Lax-Friedrichs scheme\n",
    "    \n",
    "    Parameters\n",
    "    ----------\n",
    "    rho    : array of floats\n",
    "            Density at current time-step\n",
    "    nt     : int\n",
    "            Number of time steps\n",
    "    dt     : float\n",
    "            Time-step size\n",
    "    dx     : float\n",
    "            Mesh spacing\n",
    "    rho_max: float\n",
    "            Maximum allowed car density\n",
    "    u_max  : float\n",
    "            Speed limit\n",
    "    \n",
    "    Returns\n",
    "    -------\n",
    "    rho_n : array of floats\n",
    "            Density after nt time steps at every point x\n",
    "    \"\"\"\n",
    "    # initialize our results array with dimension nt by nx\n",
    "    rho_n = numpy.zeros((nt,len(rho)))\n",
    "    # copy initial rho array into each row of our new array\n",
    "    rho_n[:,:] = rho.copy()\n",
    "    '''\n",
    "    Now, for each timestep, we're going to calculate rho^n+1, \n",
    "    then set the value of rho equal to rho^n+1 so we can calculate \n",
    "    the next iteration.  For every timestep, the entire vector\n",
    "    rho^n is saved in a single row of our results array rho_n.\n",
    "    '''\n",
    "    for t in range(1,nt):\n",
    "        F = computeF(u_max, rho_max, rho)\n",
    "        rho_n[t,1:-1] = 0.5*(rho[2:]+rho[:-2]) - dt/(2*dx)*(F[2:]-F[:-2])\n",
    "        rho_n[t,0] = rho[0] # bc at x = 0\n",
    "        rho_n[t,-1] = rho[-1] # bc at x = 4\n",
    "        rho = rho_n[t].copy()\n",
    "    return rho_n"
   ]
  },
  {
   "cell_type": "code",
   "execution_count": 3,
   "metadata": {
    "collapsed": true
   },
   "outputs": [],
   "source": [
    "# Basic initial conditions\n",
    "# defining grid size, time steps, CFL condition, etc..\n",
    "nx = 81\n",
    "nt = 30\n",
    "dx = 4.0/(nx-1)\n",
    "\n",
    "rho_in = 5.\n",
    "rho_max = 10.\n",
    "\n",
    "u_max = 1.\n",
    "\n",
    "x = numpy.linspace(0,4,nx)\n",
    "\n",
    "rho = rho_red_light(nx, rho_max, rho_in)"
   ]
  },
  {
   "cell_type": "code",
   "execution_count": 4,
   "metadata": {
    "collapsed": false
   },
   "outputs": [
    {
     "data": {
      "image/png": "[encoded data removed]",
      "text/plain": [
       "<matplotlib.figure.Figure at 0x1884a5673c8>"
      ]
     },
     "metadata": {},
     "output_type": "display_data"
    }
   ],
   "source": [
    "pyplot.plot(x, rho, color='#003366', ls='-', lw=3)\n",
    "pyplot.ylabel('Traffic density')\n",
    "pyplot.xlabel('Distance')\n",
    "pyplot.ylim(-0.5,11.);"
   ]
  },
  {
   "cell_type": "code",
   "execution_count": 41,
   "metadata": {
    "collapsed": false
   },
   "outputs": [],
   "source": [
    "sigma = 1.0\n",
    "dt = sigma*dx/u_max\n",
    "\n",
    "rho = rho_red_light(nx, rho_max, rho_in)      #make sure that u is set to our expected initial conditions\n",
    "rho_n = laxfriedrichs(rho, nt, dt, dx, rho_max, u_max)"
   ]
  },
  {
   "cell_type": "code",
   "execution_count": 36,
   "metadata": {
    "collapsed": false
   },
   "outputs": [
    {
     "name": "stdout",
     "output_type": "stream",
     "text": [
      "1\n",
      "2\n"
     ]
    },
    {
     "ename": "ValueError",
     "evalue": "could not broadcast input array from shape (28,81) into shape (79)",
     "output_type": "error",
     "traceback": [
      "\u001b[1;31m\u001b[0m",
      "\u001b[1;31mValueError\u001b[0mTraceback (most recent call last)",
      "\u001b[1;32m<ipython-input-36-9a2ddb856ad9>\u001b[0m in \u001b[0;36m<module>\u001b[1;34m()\u001b[0m\n\u001b[0;32m      3\u001b[0m \u001b[1;33m\u001b[0m\u001b[0m\n\u001b[0;32m      4\u001b[0m \u001b[0mrho\u001b[0m \u001b[1;33m=\u001b[0m \u001b[0mrho_red_light\u001b[0m\u001b[1;33m(\u001b[0m\u001b[0mnx\u001b[0m\u001b[1;33m,\u001b[0m\u001b[0mrho_max\u001b[0m\u001b[1;33m,\u001b[0m\u001b[0mrho_in\u001b[0m\u001b[1;33m)\u001b[0m \u001b[1;31m# making sure rho is set to the initial condition\u001b[0m\u001b[1;33m\u001b[0m\u001b[0m\n\u001b[1;32m----> 5\u001b[1;33m \u001b[0mrho_n\u001b[0m \u001b[1;33m=\u001b[0m \u001b[0mlaxfriedrichs\u001b[0m\u001b[1;33m(\u001b[0m\u001b[0mrho\u001b[0m\u001b[1;33m,\u001b[0m\u001b[0mnt\u001b[0m\u001b[1;33m,\u001b[0m\u001b[0mdt\u001b[0m\u001b[1;33m,\u001b[0m\u001b[0mdx\u001b[0m\u001b[1;33m,\u001b[0m\u001b[0mrho_max\u001b[0m\u001b[1;33m,\u001b[0m\u001b[0mu_max\u001b[0m\u001b[1;33m)\u001b[0m\u001b[1;33m\u001b[0m\u001b[0m\n\u001b[0m",
      "\u001b[1;32m<ipython-input-33-eca4e9bbe27b>\u001b[0m in \u001b[0;36mlaxfriedrichs\u001b[1;34m(rho, nt, dt, dx, rho_max, u_max)\u001b[0m\n\u001b[0;32m     54\u001b[0m         \u001b[0mF\u001b[0m \u001b[1;33m=\u001b[0m \u001b[0mcomputeF\u001b[0m\u001b[1;33m(\u001b[0m\u001b[0mu_max\u001b[0m\u001b[1;33m,\u001b[0m \u001b[0mrho_max\u001b[0m\u001b[1;33m,\u001b[0m \u001b[0mrho\u001b[0m\u001b[1;33m)\u001b[0m\u001b[1;33m\u001b[0m\u001b[0m\n\u001b[0;32m     55\u001b[0m         \u001b[0mprint\u001b[0m\u001b[1;33m(\u001b[0m\u001b[0mt\u001b[0m\u001b[1;33m)\u001b[0m\u001b[1;33m\u001b[0m\u001b[0m\n\u001b[1;32m---> 56\u001b[1;33m         \u001b[0mrho_n\u001b[0m\u001b[1;33m[\u001b[0m\u001b[0mt\u001b[0m\u001b[1;33m,\u001b[0m\u001b[1;36m1\u001b[0m\u001b[1;33m:\u001b[0m\u001b[1;33m-\u001b[0m\u001b[1;36m1\u001b[0m\u001b[1;33m]\u001b[0m \u001b[1;33m=\u001b[0m \u001b[1;36m0.5\u001b[0m\u001b[1;33m*\u001b[0m\u001b[1;33m(\u001b[0m\u001b[0mrho\u001b[0m\u001b[1;33m[\u001b[0m\u001b[1;36m2\u001b[0m\u001b[1;33m:\u001b[0m\u001b[1;33m]\u001b[0m\u001b[1;33m+\u001b[0m\u001b[0mrho\u001b[0m\u001b[1;33m[\u001b[0m\u001b[1;33m:\u001b[0m\u001b[1;33m-\u001b[0m\u001b[1;36m2\u001b[0m\u001b[1;33m]\u001b[0m\u001b[1;33m)\u001b[0m \u001b[1;33m-\u001b[0m \u001b[0mdt\u001b[0m\u001b[1;33m/\u001b[0m\u001b[1;33m(\u001b[0m\u001b[1;36m2\u001b[0m\u001b[1;33m*\u001b[0m\u001b[0mdx\u001b[0m\u001b[1;33m)\u001b[0m\u001b[1;33m*\u001b[0m\u001b[1;33m(\u001b[0m\u001b[0mF\u001b[0m\u001b[1;33m[\u001b[0m\u001b[1;36m2\u001b[0m\u001b[1;33m:\u001b[0m\u001b[1;33m]\u001b[0m\u001b[1;33m-\u001b[0m\u001b[0mF\u001b[0m\u001b[1;33m[\u001b[0m\u001b[1;33m:\u001b[0m\u001b[1;33m-\u001b[0m\u001b[1;36m2\u001b[0m\u001b[1;33m]\u001b[0m\u001b[1;33m)\u001b[0m\u001b[1;33m\u001b[0m\u001b[0m\n\u001b[0m\u001b[0;32m     57\u001b[0m         \u001b[0mrho_n\u001b[0m\u001b[1;33m[\u001b[0m\u001b[0mt\u001b[0m\u001b[1;33m,\u001b[0m\u001b[1;36m0\u001b[0m\u001b[1;33m]\u001b[0m \u001b[1;33m=\u001b[0m \u001b[0mrho\u001b[0m\u001b[1;33m[\u001b[0m\u001b[1;36m0\u001b[0m\u001b[1;33m]\u001b[0m \u001b[1;31m# bc at x = 0\u001b[0m\u001b[1;33m\u001b[0m\u001b[0m\n\u001b[0;32m     58\u001b[0m         \u001b[0mrho_n\u001b[0m\u001b[1;33m[\u001b[0m\u001b[0mt\u001b[0m\u001b[1;33m,\u001b[0m\u001b[1;33m-\u001b[0m\u001b[1;36m1\u001b[0m\u001b[1;33m]\u001b[0m \u001b[1;33m=\u001b[0m \u001b[0mrho\u001b[0m\u001b[1;33m[\u001b[0m\u001b[1;33m-\u001b[0m\u001b[1;36m1\u001b[0m\u001b[1;33m]\u001b[0m \u001b[1;31m# bc at x = 4\u001b[0m\u001b[1;33m\u001b[0m\u001b[0m\n",
      "\u001b[1;31mValueError\u001b[0m: could not broadcast input array from shape (28,81) into shape (79)"
     ]
    }
   ],
   "source": [
    "sigma = 1.0\n",
    "dt = sigma*dx/u_max\n",
    "\n",
    "rho = rho_red_light(nx, rho_max, rho_in) # making sure rho is set to the initial condition\n",
    "rho_n = laxfriedrichs(rho, nt, dt, dx, rho_max, u_max)"
   ]
  }
 ],
 "metadata": {
  "kernelspec": {
   "display_name": "Python [Root]",
   "language": "python",
   "name": "Python [Root]"
  },
  "language_info": {
   "codemirror_mode": {
    "name": "ipython",
    "version": 3
   },
   "file_extension": ".py",
   "mimetype": "text/x-python",
   "name": "python",
   "nbconvert_exporter": "python",
   "pygments_lexer": "ipython3",
   "version": "3.5.2"
  }
 },
 "nbformat": 4,
 "nbformat_minor": 0
}
