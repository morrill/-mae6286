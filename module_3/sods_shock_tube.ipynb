{
 "cells": [
  {
   "cell_type": "code",
   "execution_count": 1,
   "metadata": {
    "collapsed": true
   },
   "outputs": [],
   "source": [
    "import numpy\n"
   ]
  },
  {
   "cell_type": "code",
   "execution_count": 57,
   "metadata": {
    "collapsed": true
   },
   "outputs": [],
   "source": [
    "# mesh paramters\n",
    "nx = 81\n",
    "dx = 0.25\n",
    "nt = 6\n",
    "dt = 0.002\n",
    "gamma = 1.4\n",
    "\n",
    "x = numpy.linspace(-10,10,nx)"
   ]
  },
  {
   "cell_type": "code",
   "execution_count": 106,
   "metadata": {
    "collapsed": false
   },
   "outputs": [],
   "source": [
    "# functions\n",
    "# initial condition\n",
    "def init_cond(nx):\n",
    "    \"\"\"\n",
    "    Creates initial conditions for shock tube problem\n",
    "    \n",
    "    returns u which holds all initial conditions for u1, u2 and u3\n",
    "    \"\"\"\n",
    "    # initialize rho\n",
    "    rho_init = numpy.zeros(nx)\n",
    "    rho_init[:int((nx-1)/2)] = 1. # left side density = 1 kg/m^3\n",
    "    rho_init[int((nx-1)/2):] = 0.125 # right side density = 0.125 kg/m&3\n",
    "    \n",
    "    # initialize u\n",
    "    u_init = numpy.zeros(nx)\n",
    "    \n",
    "    #initialize pressure\n",
    "    p_init = numpy.zeros(nx)\n",
    "    p_init[:int((nx-1)/2)] = 100e3 # left side pressure = 100k Pa\n",
    "    p_init[int((nx-1)/2):] = 10e3  # right side pressure = 10k Pa\n",
    "    \n",
    "    # initialize u\n",
    "    u = numpy.ndarray(shape=(3, nx))\n",
    "    u[0,:] = rho_init       # puts rho_init into each rho to clear junk\n",
    "    u[1,:] = rho_init*u_init# same for rho*u\n",
    "    u[2,:] = rho_init*(p_init/((gamma-1)*rho_init) + u_init**2/2)\n",
    "    return u\n",
    "\n",
    "# flux\n",
    "def computeF(u):\n",
    "    u1 = u[0]\n",
    "    u2 = u[1]\n",
    "    u3 = u[2]\n",
    "    return [u2,\n",
    "            u2**2/2 + (gamma-1)*(u3 - 1/2*u2**2/u1),\n",
    "            (u3 + (gamma - 1)*(u3 - 1/2*u2**2/u1))*u2/u1]\n",
    "\n",
    "# Richtmyer method\n",
    "def richtmyer(u, dx, dt, nt):\n",
    "    \n",
    "    # initialize our multidimensional results array with dimension 3 by nt by nx\n",
    "    u_n = numpy.ndarray(shape=(3, nt, nx))\n",
    "    for i in range(0,nt):\n",
    "        u_n[:,i,:] = u[:,:].copy() # replaces junk with initial condition\n",
    "    \n",
    "    # intermediate time variable array:\n",
    "    u_half = numpy.zeros(shape=(3,nx))\n",
    "    u_half = u_n[:,0,:].copy()\n",
    "    F_half = numpy.zeros(shape=(3,nx))\n",
    "    \n",
    "    for t in range(1,nt):\n",
    "        # first step\n",
    "        F_half[:,:] = computeF(u_n[:,t,:])\n",
    "        u_half[:,:-1] = 0.5*(u_n[:,t,1:] + u_n[:,t,:-1]) - dt/(2*dx)*(F_half[:,1:] - F_half[:,:-1])\n",
    "        # second step\n",
    "        F = computeF(u_half)\n",
    "        u_n[:,t,1:] = u[:,1:] - dt/dx*(F[1:] - F[:-1])\n",
    "        u = u_n[:,t].copy()\n",
    "    return u_n"
   ]
  },
  {
   "cell_type": "code",
   "execution_count": 107,
   "metadata": {
    "collapsed": false
   },
   "outputs": [
    {
     "ename": "TypeError",
     "evalue": "unsupported operand type(s) for -: 'list' and 'list'",
     "output_type": "error",
     "traceback": [
      "\u001b[1;31m\u001b[0m",
      "\u001b[1;31mTypeError\u001b[0mTraceback (most recent call last)",
      "\u001b[1;32m<ipython-input-107-8aa8d8c7d60d>\u001b[0m in \u001b[0;36m<module>\u001b[1;34m()\u001b[0m\n\u001b[0;32m      1\u001b[0m \u001b[1;31m# this block solves the problem\u001b[0m\u001b[1;33m\u001b[0m\u001b[1;33m\u001b[0m\u001b[0m\n\u001b[0;32m      2\u001b[0m \u001b[0mu\u001b[0m \u001b[1;33m=\u001b[0m \u001b[0minit_cond\u001b[0m\u001b[1;33m(\u001b[0m\u001b[0mnx\u001b[0m\u001b[1;33m)\u001b[0m\u001b[1;33m\u001b[0m\u001b[0m\n\u001b[1;32m----> 3\u001b[1;33m \u001b[0mu_n\u001b[0m \u001b[1;33m=\u001b[0m \u001b[0mrichtmyer\u001b[0m\u001b[1;33m(\u001b[0m\u001b[0mu\u001b[0m\u001b[1;33m,\u001b[0m\u001b[0mdx\u001b[0m\u001b[1;33m,\u001b[0m\u001b[0mdt\u001b[0m\u001b[1;33m,\u001b[0m\u001b[0mnt\u001b[0m\u001b[1;33m)\u001b[0m\u001b[1;33m\u001b[0m\u001b[0m\n\u001b[0m",
      "\u001b[1;32m<ipython-input-106-4934316bb95d>\u001b[0m in \u001b[0;36mrichtmyer\u001b[1;34m(u, dx, dt, nt)\u001b[0m\n\u001b[0;32m     55\u001b[0m         \u001b[1;31m# second step\u001b[0m\u001b[1;33m\u001b[0m\u001b[1;33m\u001b[0m\u001b[0m\n\u001b[0;32m     56\u001b[0m         \u001b[0mF\u001b[0m \u001b[1;33m=\u001b[0m \u001b[0mcomputeF\u001b[0m\u001b[1;33m(\u001b[0m\u001b[0mu_half\u001b[0m\u001b[1;33m)\u001b[0m\u001b[1;33m\u001b[0m\u001b[0m\n\u001b[1;32m---> 57\u001b[1;33m         \u001b[0mu_n\u001b[0m\u001b[1;33m[\u001b[0m\u001b[1;33m:\u001b[0m\u001b[1;33m,\u001b[0m\u001b[0mt\u001b[0m\u001b[1;33m,\u001b[0m\u001b[1;36m1\u001b[0m\u001b[1;33m:\u001b[0m\u001b[1;33m]\u001b[0m \u001b[1;33m=\u001b[0m \u001b[0mu\u001b[0m\u001b[1;33m[\u001b[0m\u001b[1;33m:\u001b[0m\u001b[1;33m,\u001b[0m\u001b[1;36m1\u001b[0m\u001b[1;33m:\u001b[0m\u001b[1;33m]\u001b[0m \u001b[1;33m-\u001b[0m \u001b[0mdt\u001b[0m\u001b[1;33m/\u001b[0m\u001b[0mdx\u001b[0m\u001b[1;33m*\u001b[0m\u001b[1;33m(\u001b[0m\u001b[0mF\u001b[0m\u001b[1;33m[\u001b[0m\u001b[1;36m1\u001b[0m\u001b[1;33m:\u001b[0m\u001b[1;33m]\u001b[0m \u001b[1;33m-\u001b[0m \u001b[0mF\u001b[0m\u001b[1;33m[\u001b[0m\u001b[1;33m:\u001b[0m\u001b[1;33m-\u001b[0m\u001b[1;36m1\u001b[0m\u001b[1;33m]\u001b[0m\u001b[1;33m)\u001b[0m\u001b[1;33m\u001b[0m\u001b[0m\n\u001b[0m\u001b[0;32m     58\u001b[0m         \u001b[0mu\u001b[0m \u001b[1;33m=\u001b[0m \u001b[0mu_n\u001b[0m\u001b[1;33m[\u001b[0m\u001b[1;33m:\u001b[0m\u001b[1;33m,\u001b[0m\u001b[0mt\u001b[0m\u001b[1;33m]\u001b[0m\u001b[1;33m.\u001b[0m\u001b[0mcopy\u001b[0m\u001b[1;33m(\u001b[0m\u001b[1;33m)\u001b[0m\u001b[1;33m\u001b[0m\u001b[0m\n\u001b[0;32m     59\u001b[0m     \u001b[1;32mreturn\u001b[0m \u001b[0mu_n\u001b[0m\u001b[1;33m\u001b[0m\u001b[0m\n",
      "\u001b[1;31mTypeError\u001b[0m: unsupported operand type(s) for -: 'list' and 'list'"
     ]
    }
   ],
   "source": [
    "# this block solves the problem\n",
    "u = init_cond(nx)\n",
    "u_n = richtmyer(u,dx,dt,nt)"
   ]
  },
  {
   "cell_type": "code",
   "execution_count": 55,
   "metadata": {
    "collapsed": false
   },
   "outputs": [],
   "source": [
    "# testing block\n"
   ]
  }
 ],
 "metadata": {
  "kernelspec": {
   "display_name": "Python [Root]",
   "language": "python",
   "name": "Python [Root]"
  },
  "language_info": {
   "codemirror_mode": {
    "name": "ipython",
    "version": 3
   },
   "file_extension": ".py",
   "mimetype": "text/x-python",
   "name": "python",
   "nbconvert_exporter": "python",
   "pygments_lexer": "ipython3",
   "version": "3.5.2"
  }
 },
 "nbformat": 4,
 "nbformat_minor": 0
}
