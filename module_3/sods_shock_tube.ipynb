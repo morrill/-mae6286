{
 "cells": [
  {
   "cell_type": "code",
   "execution_count": 58,
   "metadata": {
    "collapsed": true
   },
   "outputs": [],
   "source": [
    "%matplotlib inline\n",
    "import numpy\n",
    "from matplotlib import pyplot, rcParams\n",
    "rcParams['font.family'] = 'serif'\n",
    "rcParams['font.size'] = 16"
   ]
  },
  {
   "cell_type": "code",
   "execution_count": 3,
   "metadata": {
    "collapsed": true
   },
   "outputs": [],
   "source": [
    "# mesh paramters\n",
    "nx = 81\n",
    "dx = 0.25\n",
    "nt = 6\n",
    "dt = 0.002\n",
    "gamma = 1.4\n",
    "\n",
    "x = numpy.linspace(-10,10,nx)"
   ]
  },
  {
   "cell_type": "code",
   "execution_count": 38,
   "metadata": {
    "collapsed": false
   },
   "outputs": [],
   "source": [
    "# functions\n",
    "# initial condition\n",
    "def init_cond(nx):\n",
    "    \"\"\"\n",
    "    Creates initial conditions for shock tube problem\n",
    "    \n",
    "    returns u which holds all initial conditions for u1, u2 and u3\n",
    "    \"\"\"\n",
    "    # initialize rho\n",
    "    rho_init = numpy.zeros(nx)\n",
    "    rho_init[:int((nx-1)/2)] = 1. # left side density = 1 kg/m^3\n",
    "    rho_init[int((nx-1)/2):] = 0.125 # right side density = 0.125 kg/m^3\n",
    "    \n",
    "    # initialize u\n",
    "    u_init = numpy.zeros(nx)\n",
    "    \n",
    "    #initialize pressure\n",
    "    p_init = numpy.zeros(nx)\n",
    "    p_init[:int((nx-1)/2)] = 100e3 # left side pressure = 100 kPa\n",
    "    p_init[int((nx-1)/2):] = 10e3  # right side pressure = 10 kPa\n",
    "    \n",
    "    # initialize u\n",
    "    u = numpy.ndarray(shape=(3, nx))\n",
    "    u[0,:] = rho_init       # puts rho_init into each rho to clear junk\n",
    "    u[1,:] = rho_init*u_init# same for rho*u\n",
    "    u[2,:] = rho_init*(p_init/((gamma-1)*rho_init) + u_init**2/2)\n",
    "    return u\n",
    "\n",
    "# flux\n",
    "def computeF(u):\n",
    "    u1 = u[0]\n",
    "    u2 = u[1]\n",
    "    u3 = u[2]\n",
    "    return numpy.array([u2,\n",
    "                        u2**2/2 + (gamma-1)*(u3 - 1/2*u2**2/u1),\n",
    "                        (u3 + (gamma - 1)*(u3 - 1/2*u2**2/u1))*u2/u1])\n",
    "\n",
    "# Richtmyer method\n",
    "def richtmyer(u, dx, dt, nt):\n",
    "    \n",
    "    # initialize our multidimensional results array with dimension 3 by nt by nx\n",
    "    u_n = numpy.ndarray(shape=(3, nt, nx))\n",
    "    for i in range(0,nt):\n",
    "        u_n[:,i,:] = u[:,:].copy() # replaces junk with initial condition\n",
    "    \n",
    "    # intermediate time variable array:\n",
    "    u_half = numpy.zeros(shape=(3,nx))\n",
    "    u_half = u_n[:,0,:].copy()\n",
    "    F_half = numpy.zeros(shape=(3,nx))\n",
    "    \n",
    "    for t in range(1,nt):\n",
    "        # first step\n",
    "        F_half[:,:] = computeF(u_n[:,t,:])\n",
    "        u_half[:,:-1] = 0.5*(u_n[:,t,1:] + u_n[:,t,:-1]) - dt/(2*dx)*(F_half[:,1:] - F_half[:,:-1])\n",
    "        # second step\n",
    "        F = computeF(u_half)\n",
    "        u_n[:,t,1:] = u[:,1:] - dt/dx*(F[:,1:] - F[:,:-1])\n",
    "        u = u_n[:,t].copy()\n",
    "    return u_n"
   ]
  },
  {
   "cell_type": "code",
   "execution_count": 71,
   "metadata": {
    "collapsed": false
   },
   "outputs": [],
   "source": [
    "# this block solves the problem\n",
    "u = init_cond(nx)\n",
    "u_n = richtmyer(u,dx,dt,nt)\n",
    "\n",
    "time = 0.01\n",
    "time_ind = int(time/dt)\n",
    "\n",
    "velocity = numpy.zeros(nx)\n",
    "velocity = u_n[1,time_ind,:]/u_n[0,time_ind,:]\n",
    "\n",
    "pressure = numpy.zeros(nx)\n",
    "pressure = (gamma - 1)*(u_n[2,time_ind,:] - u_n[1,time_ind,:]**2/2)\n",
    "\n",
    "density = numpy.zeros(nx)\n",
    "density = u_n[0,time_ind,:]"
   ]
  },
  {
   "cell_type": "code",
   "execution_count": 97,
   "metadata": {
    "collapsed": false
   },
   "outputs": [
    {
     "data": {
      "image/png": "[encoded data removed]",
      "text/plain": [
       "<matplotlib.figure.Figure at 0x1ad5e56e8d0>"
      ]
     },
     "metadata": {},
     "output_type": "display_data"
    }
   ],
   "source": [
    "fig = pyplot.figure(figsize=(17,5));\n",
    "ax1 = fig.add_subplot(1,3,1)\n",
    "ax2 = fig.add_subplot(1,3,2)\n",
    "ax3 = fig.add_subplot(1,3,3)\n",
    "\n",
    "ax1.set_title('Velocity')\n",
    "ax1.set_xlim([-2,2])\n",
    "ax1.set_ylim([-100,200])\n",
    "ax1.plot(x,velocity)\n",
    "\n",
    "ax2.set_title('Pressure')\n",
    "ax2.set_xlim([-3,3])\n",
    "ax2.set_ylim([-180e4,220e3])\n",
    "ax2.plot(x,pressure)\n",
    "\n",
    "ax3.set_title('Density')\n",
    "ax3.set_xlim([-3,3])\n",
    "ax3.set_ylim([-20,20])\n",
    "ax3.plot(x,density);\n",
    "\n",
    "pyplot.tight_layout()"
   ]
  },
  {
   "cell_type": "code",
   "execution_count": 34,
   "metadata": {
    "collapsed": false
   },
   "outputs": [],
   "source": [
    "# testing block\n",
    "# initialize our multidimensional results array with dimension 3 by nt by nx\n",
    "u_n = numpy.ndarray(shape=(3, nt, nx))\n",
    "for i in range(0,nt):\n",
    "    u_n[:,i,:] = u[:,:].copy() # replaces junk with initial condition on all rows\n",
    "\n",
    "# intermediate time variable array:\n",
    "u_half = numpy.zeros(shape=(3,nx))\n",
    "u_half = u_n[:,0,:].copy()\n",
    "F_half = numpy.zeros(shape=(3,nx))\n",
    "F = numpy.zeros(shape=(3,nx))\n",
    "\n",
    "for t in range(1,nt):\n",
    "    # first step\n",
    "    F_half[:,:] = computeF(u_n[:,t,:])\n",
    "    u_half[:,:-1] = 0.5*(u_n[:,t,1:] + u_n[:,t,:-1]) - dt/(2*dx)*(F_half[:,1:] - F_half[:,:-1])\n",
    "    # second step\n",
    "    F = computeF(u_half)"
   ]
  },
  {
   "cell_type": "code",
   "execution_count": 67,
   "metadata": {
    "collapsed": false
   },
   "outputs": [
    {
     "data": {
      "text/plain": [
       "(81,)"
      ]
     },
     "execution_count": 67,
     "metadata": {},
     "output_type": "execute_result"
    }
   ],
   "source": [
    "numpy.shape(u_n[1,time_ind,:]/u_n[0,time_ind,:])\n"
   ]
  },
  {
   "cell_type": "code",
   "execution_count": 70,
   "metadata": {
    "collapsed": false
   },
   "outputs": [
    {
     "data": {
      "text/plain": [
       "array([    0. ,     0. ,     0. ,     0. ,     0. ,     0. ,     0. ,\n",
       "           0. ,     0. ,     0. ,     0. ,     0. ,     0. ,     0. ,\n",
       "           0. ,     0. ,     0. ,     0. ,     0. ,     0. ,     0. ,\n",
       "           0. ,     0. ,     0. ,     0. ,     0. ,     0. ,     0. ,\n",
       "           0. ,     0. ,     0. ,     0. ,     0. ,     0. ,     0. ,\n",
       "           0. ,     0. ,     0. ,     0. ,  1051.2,  2548.8,     0. ,\n",
       "           0. ,     0. ,     0. ,     0. ,     0. ,     0. ,     0. ,\n",
       "           0. ,     0. ,     0. ,     0. ,     0. ,     0. ,     0. ,\n",
       "           0. ,     0. ,     0. ,     0. ,     0. ,     0. ,     0. ,\n",
       "           0. ,     0. ,     0. ,     0. ,     0. ,     0. ,     0. ,\n",
       "           0. ,     0. ,     0. ,     0. ,     0. ,     0. ,     0. ,\n",
       "           0. ,     0. ,     0. ,     0. ])"
      ]
     },
     "execution_count": 70,
     "metadata": {},
     "output_type": "execute_result"
    }
   ],
   "source": [
    "u_n[1,time_ind,:]"
   ]
  },
  {
   "cell_type": "code",
   "execution_count": 53,
   "metadata": {
    "collapsed": false
   },
   "outputs": [
    {
     "data": {
      "text/plain": [
       "(array([50], dtype=int64),)"
      ]
     },
     "execution_count": 53,
     "metadata": {},
     "output_type": "execute_result"
    }
   ],
   "source": [
    "numpy.where(x==2.5)"
   ]
  }
 ],
 "metadata": {
  "kernelspec": {
   "display_name": "Python [Root]",
   "language": "python",
   "name": "Python [Root]"
  },
  "language_info": {
   "codemirror_mode": {
    "name": "ipython",
    "version": 3
   },
   "file_extension": ".py",
   "mimetype": "text/x-python",
   "name": "python",
   "nbconvert_exporter": "python",
   "pygments_lexer": "ipython3",
   "version": "3.5.2"
  }
 },
 "nbformat": 4,
 "nbformat_minor": 0
}
