{
 "cells": [
  {
   "cell_type": "code",
   "execution_count": 1,
   "metadata": {
    "collapsed": true
   },
   "outputs": [],
   "source": [
    "import numpy\n"
   ]
  },
  {
   "cell_type": "code",
   "execution_count": 8,
   "metadata": {
    "collapsed": true
   },
   "outputs": [],
   "source": [
    "# mesh paramters\n",
    "nx = 81\n",
    "dx = 0.25\n",
    "dt = 0.002\n",
    "gamma = 1.4\n",
    "\n",
    "x = numpy.linspace(-10,10,nx)\n",
    "# initial conditions\n"
   ]
  },
  {
   "cell_type": "code",
   "execution_count": 22,
   "metadata": {
    "collapsed": false
   },
   "outputs": [],
   "source": [
    "# functions\n",
    "# initial condition\n",
    "def init_cond(nx):\n",
    "    \"\"\"\n",
    "    Creates initial conditions for shock tube problem\n",
    "    \"\"\"\n",
    "    # initialize rho\n",
    "    rho_init = numpy.zeros(nx)\n",
    "    rho_init[:int((nx-1)/2)] = 1. # left side density = 1 kg/m^3\n",
    "    rho_init[int((nx-1)/2):] = 0.125 # right side density = 0.125 kg/m&3\n",
    "    \n",
    "    # initialize u\n",
    "    u_init = numpy.zeros(nx)\n",
    "    \n",
    "    #initialize pressure\n",
    "    p_init = numpy.zeros(nx)\n",
    "    p_init[:int((nx-1)/2)] = 100e3 # left side pressure = 100k Pa\n",
    "    p_init[int((nx-1)/2):] = 10e3  # right side pressure = 10k Pa\n",
    "    return rho_init, p_init, u_init\n",
    "\n",
    "# flux\n",
    "def computeF(u):\n",
    "    u1 = u[0]\n",
    "    u2 = u[1]\n",
    "    u3 = u[2]\n",
    "    return [u2,\n",
    "            u2**2/2 + (gamma-1)*(u3 - 1/2*u2**2/u1),\n",
    "            (u3 + (gamma - 1)*(u3 - 1/2*u2**2/u1))*u2/u1]\n",
    "\n",
    "# Richtmyer method\n",
    "def richtmyer():\n",
    "    \n",
    "    return"
   ]
  },
  {
   "cell_type": "code",
   "execution_count": 21,
   "metadata": {
    "collapsed": false
   },
   "outputs": [
    {
     "data": {
      "text/plain": [
       "array([-10.  ,  -9.75,  -9.5 ,  -9.25,  -9.  ,  -8.75,  -8.5 ,  -8.25,\n",
       "        -8.  ,  -7.75,  -7.5 ,  -7.25,  -7.  ,  -6.75,  -6.5 ,  -6.25,\n",
       "        -6.  ,  -5.75,  -5.5 ,  -5.25,  -5.  ,  -4.75,  -4.5 ,  -4.25,\n",
       "        -4.  ,  -3.75,  -3.5 ,  -3.25,  -3.  ,  -2.75,  -2.5 ,  -2.25,\n",
       "        -2.  ,  -1.75,  -1.5 ,  -1.25,  -1.  ,  -0.75,  -0.5 ,  -0.25])"
      ]
     },
     "execution_count": 21,
     "metadata": {},
     "output_type": "execute_result"
    }
   ],
   "source": [
    "x[:int((nx-1)/2)]"
   ]
  }
 ],
 "metadata": {
  "kernelspec": {
   "display_name": "Python [Root]",
   "language": "python",
   "name": "Python [Root]"
  },
  "language_info": {
   "codemirror_mode": {
    "name": "ipython",
    "version": 3
   },
   "file_extension": ".py",
   "mimetype": "text/x-python",
   "name": "python",
   "nbconvert_exporter": "python",
   "pygments_lexer": "ipython3",
   "version": "3.5.2"
  }
 },
 "nbformat": 4,
 "nbformat_minor": 0
}
