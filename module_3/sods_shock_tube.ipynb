{
 "cells": [
  {
   "cell_type": "code",
   "execution_count": 1,
   "metadata": {
    "collapsed": true
   },
   "outputs": [],
   "source": [
    "%matplotlib inline\n",
    "import numpy\n",
    "from matplotlib import pyplot, rcParams\n",
    "rcParams['font.family'] = 'serif'\n",
    "rcParams['font.size'] = 16"
   ]
  },
  {
   "cell_type": "code",
   "execution_count": 2,
   "metadata": {
    "collapsed": true
   },
   "outputs": [],
   "source": [
    "# mesh paramters\n",
    "nx = 81\n",
    "dx = 0.25\n",
    "dt = 0.0002 # this is supposed to be 0.0002!\n",
    "nt = int(0.01/dt)+1\n",
    "gamma = 1.4\n",
    "\n",
    "x = numpy.linspace(-10,10,nx)"
   ]
  },
  {
   "cell_type": "code",
   "execution_count": 3,
   "metadata": {
    "collapsed": false
   },
   "outputs": [],
   "source": [
    "# functions\n",
    "# initial condition\n",
    "def init_cond(nx):\n",
    "    \"\"\" Creates initial conditions for shock tube problem.\n",
    "    Parameters\n",
    "    ----------\n",
    "    nx     : array of floats\n",
    "             the number of spatial divisions\n",
    "             \n",
    "    Returns\n",
    "    -------\n",
    "    u      : array of floats\n",
    "             vector u for initial conditions.\n",
    "    \"\"\"\n",
    "    # initialize rho\n",
    "    rho_init = numpy.zeros(nx)\n",
    "    rho_init[:int((nx-1)/2)] = 1.    # left side density = 1 kg/m^3\n",
    "    rho_init[int((nx-1)/2):] = 0.125 # right side density = 0.125 kg/m^3\n",
    "    \n",
    "    # initialize u\n",
    "    u_init = numpy.zeros(nx) # all velocity is initially zero\n",
    "    \n",
    "    #initialize pressure\n",
    "    p_init = numpy.zeros(nx)\n",
    "    p_init[:int((nx-1)/2)] = 100e3 # left side pressure = 100 kPa\n",
    "    p_init[int((nx-1)/2):] = 10e3  # right side pressure = 10 kPa\n",
    "    \n",
    "    # initialize u\n",
    "    u = numpy.ndarray(shape=(3, nx))\n",
    "    u[0,:] = rho_init         # puts rho_init into each row to clear junk\n",
    "    u[1,:] = rho_init*u_init  # same for rho*u and rho*e_t:\n",
    "    u[2,:] = rho_init*(p_init/((gamma-1)*rho_init) + u_init**2/2)\n",
    "    return u\n",
    "\n",
    "# flux\n",
    "def computeF(u):\n",
    "     \"\"\" Calculates flux vector for the Sod's shock tube problem.\n",
    "    Parameters\n",
    "    ----------\n",
    "    u     : array of floats\n",
    "            vector for shock problem\n",
    "             \n",
    "    Returns\n",
    "    -------\n",
    "    f      : array of floats.\n",
    "             flux vector for shock problem\n",
    "    \"\"\"\n",
    "    u1 = u[0]\n",
    "    u2 = u[1]\n",
    "    u3 = u[2]\n",
    "    return numpy.array([u2,\n",
    "                        u2**2/u1 + (gamma-1)*(u3 - 0.5*u2**2/u1),\n",
    "                        (u3 + (gamma - 1)*(u3 - 0.5*u2**2/u1))*(u2/u1)])\n",
    "\n",
    "# Richtmyer method\n",
    "def richtmyer(u, dx, dt, nt):\n",
    "    \"\"\" Performs Richtmyer scheme for the shock tube problem.\n",
    "    Parameters\n",
    "    ----------\n",
    "    u     : array of floats\n",
    "            vector for shock problem\n",
    "    \n",
    "    dx    : float\n",
    "            spatial discritization \n",
    "            \n",
    "    dt    : float\n",
    "            temporal discritization\n",
    "            \n",
    "    nt    : int\n",
    "            number of time steps\n",
    "             \n",
    "    Returns\n",
    "    -------\n",
    "    u_n   : multidimensional array of floats.\n",
    "            contains solution to shock problem at each time step.\n",
    "            u_n[]\n",
    "    \"\"\"\n",
    "    # initialize our multidimensional results array with dimension 3 by nt by nx\n",
    "    u_n = numpy.ndarray(shape=(3, nt, nx))\n",
    "    for i in range(0,nt):\n",
    "        u_n[:,i,:] = u[:,:].copy() # replaces junk with initial condition\n",
    "    \n",
    "    # intermediate time variable array:\n",
    "    u_half = numpy.zeros(shape=(3,nx))\n",
    "    u_half = u_n[:,0,:].copy()\n",
    "    F_half = numpy.zeros(shape=(3,nx))\n",
    "    \n",
    "    for t in range(1,nt):\n",
    "        # first step\n",
    "        F_half[:,:] = computeF(u[:,:])\n",
    "        u_half[:,:-1] = 0.5*(u[:,1:] + u[:,:-1]) - dt/(2*dx)*(F_half[:,1:] - F_half[:,:-1])\n",
    "        # second step\n",
    "        F = computeF(u_half)\n",
    "        u_n[:,t,1:-1] = u[:,1:-1] - dt/dx*(F[:,1:-1] - F[:,:-2]) # should be len=79\n",
    "        u = u_n[:,t,:].copy()\n",
    "    return u_n"
   ]
  },
  {
   "cell_type": "code",
   "execution_count": 4,
   "metadata": {
    "collapsed": false
   },
   "outputs": [],
   "source": [
    "# this block solves the problem\n",
    "u = init_cond(nx)\n",
    "u_n = richtmyer(u,dx,dt,nt)\n",
    "\n",
    "time = 0.01 # time at which answers are asked for\n",
    "time_ind = int(time/dt)\n",
    "\n",
    "# velocity array at the above indicated time step\n",
    "velocity = numpy.zeros(nx)\n",
    "velocity = u_n[1,time_ind,:]/u_n[0,time_ind,:]\n",
    "\n",
    "# pressure array at the above indicated time step\n",
    "pressure = numpy.zeros(nx)\n",
    "pressure = (gamma - 1)*(u_n[2,time_ind,:] - 0.5*u_n[1,time_ind,:]**2/u_n[0,time_ind,:])\n",
    "\n",
    "# density array at the above indicated time step\n",
    "density = numpy.zeros(nx)\n",
    "density = u_n[0,time_ind,:]"
   ]
  },
  {
   "cell_type": "code",
   "execution_count": 26,
   "metadata": {
    "collapsed": false
   },
   "outputs": [
    {
     "data": {
      "image/png": "[encoded data removed]",
      "text/plain": [
       "<matplotlib.figure.Figure at 0x10a6c3ef0>"
      ]
     },
     "metadata": {},
     "output_type": "display_data"
    }
   ],
   "source": [
    "# plot the resulting velocity, pressure, and density distributions\n",
    "fig = pyplot.figure(figsize=(17,5));\n",
    "ax1 = fig.add_subplot(1,3,1)\n",
    "ax2 = fig.add_subplot(1,3,2)\n",
    "ax3 = fig.add_subplot(1,3,3)\n",
    "\n",
    "ax1.set_title('Velocity')\n",
    "ax1.set_xlim([-10,10])\n",
    "ax1.set_ylim([-1,450])\n",
    "ax1.plot(x,velocity)\n",
    "\n",
    "ax2.set_title('Pressure')\n",
    "ax2.set_xlim([-10,10])\n",
    "ax2.set_ylim([9e3,105e3])\n",
    "ax2.plot(x,pressure)\n",
    "\n",
    "ax3.set_title('Density')\n",
    "ax3.set_xlim([-10,10])\n",
    "ax3.set_ylim([0,1.1])\n",
    "ax3.plot(x,density);\n",
    "\n",
    "pyplot.tight_layout()"
   ]
  },
  {
   "cell_type": "code",
   "execution_count": 24,
   "metadata": {
    "collapsed": false
   },
   "outputs": [
    {
     "name": "stdout",
     "output_type": "stream",
     "text": [
      "The velocity at x = 2.5 [m] is: 292.61 [m/s]\n",
      "The pressure at x = 2.5 [m] is: 30250.89 [Pa]\n",
      "The density at x = 2.5 [m] is: 0.37 [kg/m^3]\n"
     ]
    }
   ],
   "source": [
    "# print out answers to questions:\n",
    "space = 2.5 # point at which answers are requested\n",
    "space_ind = int(numpy.where(x==2.5)[0])\n",
    "print('The velocity at x = %0.1f [m] is: %0.2f [m/s]' %(space, velocity[space_ind]))\n",
    "print('The pressure at x = %0.1f [m] is: %0.2f [Pa]' %(space, pressure[space_ind]))\n",
    "print('The density at x = %0.1f [m] is: %0.2f [kg/m^3]' %(space, density[space_ind]))"
   ]
  }
 ],
 "metadata": {
  "anaconda-cloud": {},
  "kernelspec": {
   "display_name": "Python [Root]",
   "language": "python",
   "name": "Python [Root]"
  },
  "language_info": {
   "codemirror_mode": {
    "name": "ipython",
    "version": 3
   },
   "file_extension": ".py",
   "mimetype": "text/x-python",
   "name": "python",
   "nbconvert_exporter": "python",
   "pygments_lexer": "ipython3",
   "version": "3.5.2"
  }
 },
 "nbformat": 4,
 "nbformat_minor": 0
}
