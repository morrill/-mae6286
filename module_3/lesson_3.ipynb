{
 "cells": [
  {
   "cell_type": "code",
   "execution_count": 1,
   "metadata": {
    "collapsed": true
   },
   "outputs": [],
   "source": [
    "import sympy\n",
    "sympy.init_printing()\n",
    "\n",
    "(u_max, u_star, rho_max, rho_star, A, B) = sympy.symbols('u_max u_star rho_max rho_star A B')"
   ]
  },
  {
   "cell_type": "code",
   "execution_count": 2,
   "metadata": {
    "collapsed": true
   },
   "outputs": [],
   "source": [
    "eq1 = sympy.Eq(0, u_max*rho_max*(1 - A*rho_max - B*rho_max**2))\n",
    "eq2 = sympy.Eq(0, u_max*(1 - 2*A*rho_star - 3*B*rho_star**2))\n",
    "eq3 = sympy.Eq(u_star, u_max*(1 - A*rho_star - B*rho_star**2))"
   ]
  },
  {
   "cell_type": "code",
   "execution_count": 3,
   "metadata": {
    "collapsed": false
   },
   "outputs": [
    {
     "data": {
      "image/png": "[encoded data removed]",
      "text/latex": [
       "$$0 = \\rho_{max} u_{max} \\left(- A \\rho_{max} - B \\rho_{max}^{2} + 1\\right)$$"
      ],
      "text/plain": [
       "              ⎛                2    ⎞\n",
       "0 = ρₘₐₓ⋅uₘₐₓ⋅⎝-A⋅ρₘₐₓ - B⋅ρₘₐₓ  + 1⎠"
      ]
     },
     "execution_count": 3,
     "metadata": {},
     "output_type": "execute_result"
    }
   ],
   "source": [
    "eq1"
   ]
  },
  {
   "cell_type": "code",
   "execution_count": 4,
   "metadata": {
    "collapsed": false
   },
   "outputs": [
    {
     "data": {
      "image/png": "[encoded data removed]",
      "text/latex": [
       "$$0 = u_{max} \\left(- 2 A \\rho_{star} - 3 B \\rho_{star}^{2} + 1\\right)$$"
      ],
      "text/plain": [
       "         ⎛                      2    ⎞\n",
       "0 = uₘₐₓ⋅⎝-2⋅A⋅ρₛₜₐᵣ - 3⋅B⋅ρₛₜₐᵣ  + 1⎠"
      ]
     },
     "execution_count": 4,
     "metadata": {},
     "output_type": "execute_result"
    }
   ],
   "source": [
    "eq2"
   ]
  },
  {
   "cell_type": "code",
   "execution_count": 5,
   "metadata": {
    "collapsed": false
   },
   "outputs": [
    {
     "data": {
      "image/png": "[encoded data removed]",
      "text/latex": [
       "$$u_{star} = u_{max} \\left(- A \\rho_{star} - B \\rho_{star}^{2} + 1\\right)$$"
      ],
      "text/plain": [
       "             ⎛                  2    ⎞\n",
       "uₛₜₐᵣ = uₘₐₓ⋅⎝-A⋅ρₛₜₐᵣ - B⋅ρₛₜₐᵣ  + 1⎠"
      ]
     },
     "execution_count": 5,
     "metadata": {},
     "output_type": "execute_result"
    }
   ],
   "source": [
    "eq3"
   ]
  },
  {
   "cell_type": "code",
   "execution_count": 6,
   "metadata": {
    "collapsed": true
   },
   "outputs": [],
   "source": [
    "# biskets, 38/box, 1.5 biskets/day\n",
    "# 150 mg max CBD"
   ]
  },
  {
   "cell_type": "code",
   "execution_count": 9,
   "metadata": {
    "collapsed": false
   },
   "outputs": [
    {
     "data": {
      "image/png": "[encoded data removed]",
      "text/latex": [
       "$$- 3 u_{star} = u_{max} \\left(- 2 A \\rho_{star} - 3 B \\rho_{star}^{2} + 1\\right) - 3 u_{max} \\left(- A \\rho_{star} - B \\rho_{star}^{2} + 1\\right)$$"
      ],
      "text/plain": [
       "                ⎛                      2    ⎞          ⎛                  2   \n",
       "-3⋅uₛₜₐᵣ = uₘₐₓ⋅⎝-2⋅A⋅ρₛₜₐᵣ - 3⋅B⋅ρₛₜₐᵣ  + 1⎠ - 3⋅uₘₐₓ⋅⎝-A⋅ρₛₜₐᵣ - B⋅ρₛₜₐᵣ  + \n",
       "\n",
       " ⎞\n",
       "1⎠"
      ]
     },
     "execution_count": 9,
     "metadata": {},
     "output_type": "execute_result"
    }
   ],
   "source": [
    "eq4 = sympy.Eq(eq2.lhs - 3*eq3.lhs, eq2.rhs - 3*eq3.rhs)\n",
    "eq4"
   ]
  },
  {
   "cell_type": "code",
   "execution_count": 10,
   "metadata": {
    "collapsed": false
   },
   "outputs": [
    {
     "data": {
      "image/png": "[encoded data removed]",
      "text/latex": [
       "$$3 u_{star} = - u_{max} \\left(A \\rho_{star} - 2\\right)$$"
      ],
      "text/plain": [
       "3⋅uₛₜₐᵣ = -uₘₐₓ⋅(A⋅ρₛₜₐᵣ - 2)"
      ]
     },
     "execution_count": 10,
     "metadata": {},
     "output_type": "execute_result"
    }
   ],
   "source": [
    "eq4.simplify()"
   ]
  },
  {
   "cell_type": "code",
   "execution_count": 11,
   "metadata": {
    "collapsed": false
   },
   "outputs": [
    {
     "data": {
      "image/png": "[encoded data removed]",
      "text/latex": [
       "$$- 3 u_{star} = u_{max} \\left(- 2 A \\rho_{star} - 3 B \\rho_{star}^{2} + 1\\right) - 3 u_{max} \\left(- A \\rho_{star} - B \\rho_{star}^{2} + 1\\right)$$"
      ],
      "text/plain": [
       "                ⎛                      2    ⎞          ⎛                  2   \n",
       "-3⋅uₛₜₐᵣ = uₘₐₓ⋅⎝-2⋅A⋅ρₛₜₐᵣ - 3⋅B⋅ρₛₜₐᵣ  + 1⎠ - 3⋅uₘₐₓ⋅⎝-A⋅ρₛₜₐᵣ - B⋅ρₛₜₐᵣ  + \n",
       "\n",
       " ⎞\n",
       "1⎠"
      ]
     },
     "execution_count": 11,
     "metadata": {},
     "output_type": "execute_result"
    }
   ],
   "source": [
    "eq4"
   ]
  },
  {
   "cell_type": "code",
   "execution_count": 12,
   "metadata": {
    "collapsed": false
   },
   "outputs": [
    {
     "data": {
      "image/png": "[encoded data removed]",
      "text/latex": [
       "$$- 3 u_{star} = A \\rho_{star} u_{max} - 2 u_{max}$$"
      ],
      "text/plain": [
       "-3⋅uₛₜₐᵣ = A⋅ρₛₜₐᵣ⋅uₘₐₓ - 2⋅uₘₐₓ"
      ]
     },
     "execution_count": 12,
     "metadata": {},
     "output_type": "execute_result"
    }
   ],
   "source": [
    "eq4.expand()"
   ]
  },
  {
   "cell_type": "code",
   "execution_count": 13,
   "metadata": {
    "collapsed": false
   },
   "outputs": [
    {
     "data": {
      "image/png": "[encoded data removed]",
      "text/latex": [
       "$$\\frac{1}{A u_{max}} \\left(2 u_{max} - 3 u_{star}\\right)$$"
      ],
      "text/plain": [
       "2⋅uₘₐₓ - 3⋅uₛₜₐᵣ\n",
       "────────────────\n",
       "     A⋅uₘₐₓ     "
      ]
     },
     "execution_count": 13,
     "metadata": {},
     "output_type": "execute_result"
    }
   ],
   "source": [
    "rho_sol = sympy.solve(eq4,rho_star)[0]\n",
    "rho_sol"
   ]
  },
  {
   "cell_type": "code",
   "execution_count": 15,
   "metadata": {
    "collapsed": false
   },
   "outputs": [
    {
     "data": {
      "image/png": "[encoded data removed]",
      "text/latex": [
       "$$\\frac{1}{\\rho_{max}^{2}} \\left(- A \\rho_{max} + 1\\right)$$"
      ],
      "text/plain": [
       "-A⋅ρₘₐₓ + 1\n",
       "───────────\n",
       "       2   \n",
       "   ρₘₐₓ    "
      ]
     },
     "execution_count": 15,
     "metadata": {},
     "output_type": "execute_result"
    }
   ],
   "source": [
    "B_sol = sympy.solve(eq1,B)[0]\n",
    "B_sol"
   ]
  },
  {
   "cell_type": "code",
   "execution_count": 16,
   "metadata": {
    "collapsed": false
   },
   "outputs": [
    {
     "data": {
      "image/png": "[encoded data removed]",
      "text/latex": [
       "$$0 = u_{max} \\left(1 - \\frac{1}{u_{max}} \\left(4 u_{max} - 6 u_{star}\\right) - \\frac{3 \\left(2 u_{max} - 3 u_{star}\\right)^{2}}{A^{2} \\rho_{max}^{2} u_{max}^{2}} \\left(- A \\rho_{max} + 1\\right)\\right)$$"
      ],
      "text/plain": [
       "         ⎛                                               2              ⎞\n",
       "         ⎜    2⋅(2⋅uₘₐₓ - 3⋅uₛₜₐᵣ)   3⋅(2⋅uₘₐₓ - 3⋅uₛₜₐᵣ) ⋅(-A⋅ρₘₐₓ + 1)⎟\n",
       "0 = uₘₐₓ⋅⎜1 - ──────────────────── - ───────────────────────────────────⎟\n",
       "         ⎜            uₘₐₓ                       2     2     2          ⎟\n",
       "         ⎝                                      A ⋅ρₘₐₓ ⋅uₘₐₓ           ⎠"
      ]
     },
     "execution_count": 16,
     "metadata": {},
     "output_type": "execute_result"
    }
   ],
   "source": [
    "quadA = eq2.subs([(rho_star, rho_sol), (B,B_sol)])\n",
    "quadA"
   ]
  },
  {
   "cell_type": "code",
   "execution_count": 17,
   "metadata": {
    "collapsed": false
   },
   "outputs": [
    {
     "data": {
      "image/png": "[encoded data removed]",
      "text/latex": [
       "$$- 3 u_{max} + 6 u_{star} + \\frac{3 \\left(2 u_{max} - 3 u_{star}\\right)^{2}}{A \\rho_{max} u_{max}} - \\frac{3 \\left(2 u_{max} - 3 u_{star}\\right)^{2}}{A^{2} \\rho_{max}^{2} u_{max}} = 0$$"
      ],
      "text/plain": [
       "                                        2                       2    \n",
       "                    3⋅(2⋅uₘₐₓ - 3⋅uₛₜₐᵣ)    3⋅(2⋅uₘₐₓ - 3⋅uₛₜₐᵣ)     \n",
       "-3⋅uₘₐₓ + 6⋅uₛₜₐᵣ + ───────────────────── - ───────────────────── = 0\n",
       "                         A⋅ρₘₐₓ⋅uₘₐₓ             2     2             \n",
       "                                                A ⋅ρₘₐₓ ⋅uₘₐₓ        "
      ]
     },
     "execution_count": 17,
     "metadata": {},
     "output_type": "execute_result"
    }
   ],
   "source": [
    "quadA.simplify()"
   ]
  },
  {
   "cell_type": "code",
   "execution_count": 18,
   "metadata": {
    "collapsed": false
   },
   "outputs": [
    {
     "data": {
      "image/png": "[encoded data removed]",
      "text/latex": [
       "$$\\frac{1}{2 \\rho_{max} u_{max} \\left(u_{max} - 2 u_{star}\\right)} \\left(\\sqrt{- u_{star} \\left(4 u_{max} - 9 u_{star}\\right)} \\left(- 2 u_{max} + 3 u_{star}\\right) + \\left(2 u_{max} - 3 u_{star}\\right)^{2}\\right)$$"
      ],
      "text/plain": [
       "  ___________________________                                         2\n",
       "╲╱ -uₛₜₐᵣ⋅(4⋅uₘₐₓ - 9⋅uₛₜₐᵣ) ⋅(-2⋅uₘₐₓ + 3⋅uₛₜₐᵣ) + (2⋅uₘₐₓ - 3⋅uₛₜₐᵣ) \n",
       "───────────────────────────────────────────────────────────────────────\n",
       "                      2⋅ρₘₐₓ⋅uₘₐₓ⋅(uₘₐₓ - 2⋅uₛₜₐᵣ)                     "
      ]
     },
     "execution_count": 18,
     "metadata": {},
     "output_type": "execute_result"
    }
   ],
   "source": [
    "A_sol = sympy.solve(quadA, A)\n",
    "A_sol[0]"
   ]
  },
  {
   "cell_type": "code",
   "execution_count": 19,
   "metadata": {
    "collapsed": false
   },
   "outputs": [
    {
     "data": {
      "image/png": "[encoded data removed]",
      "text/latex": [
       "$$\\frac{1}{2 \\rho_{max} u_{max} \\left(u_{max} - 2 u_{star}\\right)} \\left(2 u_{max} - 3 u_{star}\\right) \\left(2 u_{max} - 3 u_{star} + \\sqrt{- u_{star} \\left(4 u_{max} - 9 u_{star}\\right)}\\right)$$"
      ],
      "text/plain": [
       "                   ⎛                     ___________________________⎞\n",
       "(2⋅uₘₐₓ - 3⋅uₛₜₐᵣ)⋅⎝2⋅uₘₐₓ - 3⋅uₛₜₐᵣ + ╲╱ -uₛₜₐᵣ⋅(4⋅uₘₐₓ - 9⋅uₛₜₐᵣ) ⎠\n",
       "─────────────────────────────────────────────────────────────────────\n",
       "                     2⋅ρₘₐₓ⋅uₘₐₓ⋅(uₘₐₓ - 2⋅uₛₜₐᵣ)                    "
      ]
     },
     "execution_count": 19,
     "metadata": {},
     "output_type": "execute_result"
    }
   ],
   "source": [
    "A_sol[1]"
   ]
  },
  {
   "cell_type": "code",
   "execution_count": 22,
   "metadata": {
    "collapsed": false
   },
   "outputs": [
    {
     "data": {
      "image/png": "[encoded data removed]",
      "text/latex": [
       "$$-0.0171107219255619$$"
      ],
      "text/plain": [
       "-0.0171107219255619"
      ]
     },
     "execution_count": 22,
     "metadata": {},
     "output_type": "execute_result"
    }
   ],
   "source": [
    "# negative root\n",
    "A_sol[0].evalf(subs={u_star: 0.7, u_max: 1.0, rho_max: 10.0})"
   ]
  },
  {
   "cell_type": "code",
   "execution_count": 24,
   "metadata": {
    "collapsed": false
   },
   "outputs": [
    {
     "data": {
      "image/png": "[encoded data removed]",
      "text/latex": [
       "$$0.0146107219255619$$"
      ],
      "text/plain": [
       "0.0146107219255619"
      ]
     },
     "execution_count": 24,
     "metadata": {},
     "output_type": "execute_result"
    }
   ],
   "source": [
    "# positive root\n",
    "aval = A_sol[1].evalf(subs={u_star: 0.7, u_max: 1.0, rho_max: 10.0})\n",
    "aval"
   ]
  },
  {
   "cell_type": "code",
   "execution_count": 26,
   "metadata": {
    "collapsed": false
   },
   "outputs": [
    {
     "data": {
      "image/png": "[encoded data removed]",
      "text/latex": [
       "$$0.00853892780744381$$"
      ],
      "text/plain": [
       "0.00853892780744381"
      ]
     },
     "execution_count": 26,
     "metadata": {},
     "output_type": "execute_result"
    }
   ],
   "source": [
    "bval = B_sol.evalf(subs={rho_max:10.0, A:aval})\n",
    "bval"
   ]
  },
  {
   "cell_type": "code",
   "execution_count": 27,
   "metadata": {
    "collapsed": true
   },
   "outputs": [],
   "source": [
    "# turning off latax\n",
    "sympy.init_printing(use_latex=False)"
   ]
  },
  {
   "cell_type": "markdown",
   "metadata": {},
   "source": [
    "### Green light: take 2\n",
    "check on rho_max and u_max typing:"
   ]
  },
  {
   "cell_type": "code",
   "execution_count": 28,
   "metadata": {
    "collapsed": false
   },
   "outputs": [
    {
     "name": "stdout",
     "output_type": "stream",
     "text": [
      "<class 'sympy.core.symbol.Symbol'> <class 'sympy.core.symbol.Symbol'>\n"
     ]
    }
   ],
   "source": [
    "print(type(rho_max), type(u_max))"
   ]
  },
  {
   "cell_type": "code",
   "execution_count": 29,
   "metadata": {
    "collapsed": true
   },
   "outputs": [],
   "source": [
    "# re-define them as float to make numpy happy\n",
    "rho_max = 10.\n",
    "u_max = 1."
   ]
  },
  {
   "cell_type": "code",
   "execution_count": 43,
   "metadata": {
    "collapsed": false
   },
   "outputs": [],
   "source": [
    "# functions\n",
    "# compute flux\n",
    "def computeF(u_max, rho, aval, bval):\n",
    "    return u_max*rho*(1 - aval*rho - bval*rho**2)\n",
    "\n",
    "# initial condition\n",
    "def rho_green_light(nx, rho_light):\n",
    "    \n",
    "    rho_initial = numpy.arange(nx)*2./nx*rho_light # before stoplight\n",
    "    rho_initial[int((nx-1)/2):] = 0                # after stoplight\n",
    "    return rho_initial\n",
    "\n",
    "# forward time/backward space scheme\n",
    "def ftbs(rho,nt,dt,dx,rho_max,u_max):\n",
    "    # initialize our results array with dimensionos nt by nx\n",
    "    rho_n = numpy.zeros((nt,len(rho)))\n",
    "    \n",
    "    #copy initial u array into each row of our new array\n",
    "    rho_n[0,:] = rho.copy()\n",
    "    \n",
    "    for t in range(1,nt):\n",
    "        F = computeF(u_max,rho,aval,bval)\n",
    "        rho_n[t,1:] = rho[1:] - dt/dx*(F[1:]-F[:-1])\n",
    "        rho_n[t,0] = rho[0]\n",
    "        rho_n[t,-1] = rho[-1]\n",
    "        rho = rho_n[t].copy()\n",
    "    return rho_n"
   ]
  },
  {
   "cell_type": "code",
   "execution_count": 34,
   "metadata": {
    "collapsed": false
   },
   "outputs": [],
   "source": [
    "import numpy\n",
    "from matplotlib import pyplot, rcParams\n",
    "%matplotlib inline\n",
    "rcParams['font.family'] = 'serif'\n",
    "rcParams['font.size'] = 16"
   ]
  },
  {
   "cell_type": "code",
   "execution_count": 36,
   "metadata": {
    "collapsed": true
   },
   "outputs": [],
   "source": [
    "# initial condition paramters\n",
    "# grid size, time steps\n",
    "nx = 81\n",
    "nt = 30\n",
    "dx = 4.0/(nx-1)\n",
    "\n",
    "x = numpy.linspace(0,4,nx)\n",
    "\n",
    "rho_light = 5.5"
   ]
  },
  {
   "cell_type": "code",
   "execution_count": 37,
   "metadata": {
    "collapsed": true
   },
   "outputs": [],
   "source": [
    "rho_initial = rho_green_light(nx, rho_light)"
   ]
  },
  {
   "cell_type": "code",
   "execution_count": 39,
   "metadata": {
    "collapsed": false
   },
   "outputs": [
    {
     "data": {
      "image/png": "[encoded data removed]",
      "text/plain": [
       "<matplotlib.figure.Figure at 0x17367b77208>"
      ]
     },
     "metadata": {},
     "output_type": "display_data"
    }
   ],
   "source": [
    "pyplot.plot(x, rho_initial, color='#003366', ls='-', lw=3)\n",
    "pyplot.ylim(-0.5,11.);"
   ]
  },
  {
   "cell_type": "code",
   "execution_count": 44,
   "metadata": {
    "collapsed": false
   },
   "outputs": [],
   "source": [
    "sigma = 1.\n",
    "dt = sigma*dx/u_max\n",
    "\n",
    "rho_n = ftbs(rho_initial,nt,dt,dx,rho_max,u_max)"
   ]
  },
  {
   "cell_type": "code",
   "execution_count": 45,
   "metadata": {
    "collapsed": true
   },
   "outputs": [],
   "source": [
    "from matplotlib import animation\n",
    "from IPython.display import HTML"
   ]
  },
  {
   "cell_type": "code",
   "execution_count": 47,
   "metadata": {
    "collapsed": false
   },
   "outputs": [
    {
     "data": {
      "image/png": "[encoded data removed]",
      "text/plain": [
       "<matplotlib.figure.Figure at 0x17367b77860>"
      ]
     },
     "metadata": {},
     "output_type": "display_data"
    }
   ],
   "source": [
    "fig = pyplot.figure();\n",
    "ax = pyplot.axes(xlim=(0,4),ylim=(-1,8),xlabel='Distance',ylabel='Traffic density');\n",
    "line, = ax.plot([],[],color='#003366', lw=2);\n",
    "\n",
    "def animate(data):\n",
    "    x = numpy.linspace(0,4,nx)\n",
    "    y = data\n",
    "    line.set_data(x,y)\n",
    "    return line,\n",
    "\n",
    "anim = animation.FuncAnimation(fig, animate, frames=rho_n, interval=50)"
   ]
  },
  {
   "cell_type": "code",
   "execution_count": 49,
   "metadata": {
    "collapsed": false
   },
   "outputs": [
    {
     "data": {
      "text/html": [
       "<video width=\"432.0\" height=\"288.0\" controls autoplay loop>\n",
       "  <source type=\"video/mp4\" src=\"data:video/mp4;base64,AAAAHGZ0eXBNNFYgAAACAGlzb21pc28yYXZjMQAAAAhmcmVlAAA6PG1kYXQAAAKuBgX//6rcRem9\n",
       "5tlIt5Ys2CDZI+7veDI2NCAtIGNvcmUgMTQ4IHIyNzA1IDNmNWVkNTYgLSBILjI2NC9NUEVHLTQg\n",
       "QVZDIGNvZGVjIC0gQ29weWxlZnQgMjAwMy0yMDE2IC0gaHR0cDovL3d3dy52aWRlb2xhbi5vcmcv\n",
       "eDI2NC5odG1sIC0gb3B0aW9uczogY2FiYWM9MSByZWY9MyBkZWJsb2NrPTE6MDowIGFuYWx5c2U9\n",
       "MHgzOjB4MTEzIG1lPWhleCBzdWJtZT03IHBzeT0xIHBzeV9yZD0xLjAwOjAuMDAgbWl4ZWRfcmVm\n",
       "PTEgbWVfcmFuZ2U9MTYgY2hyb21hX21lPTEgdHJlbGxpcz0xIDh4OGRjdD0xIGNxbT0wIGRlYWR6\n",
       "b25lPTIxLDExIGZhc3RfcHNraXA9MSBjaHJvbWFfcXBfb2Zmc2V0PS0yIHRocmVhZHM9OSBsb29r\n",
       "YWhlYWRfdGhyZWFkcz0xIHNsaWNlZF90aHJlYWRzPTAgbnI9MCBkZWNpbWF0ZT0xIGludGVybGFj\n",
       "ZWQ9MCBibHVyYXlfY29tcGF0PTAgY29uc3RyYWluZWRfaW50cmE9MCBiZnJhbWVzPTMgYl9weXJh\n",
       "bWlkPTIgYl9hZGFwdD0xIGJfYmlhcz0wIGRpcmVjdD0xIHdlaWdodGI9MSBvcGVuX2dvcD0wIHdl\n",
       "aWdodHA9MiBrZXlpbnQ9MjUwIGtleWludF9taW49MjAgc2NlbmVjdXQ9NDAgaW50cmFfcmVmcmVz\n",
       "aD0wIHJjX2xvb2thaGVhZD00MCByYz1jcmYgbWJ0cmVlPTEgY3JmPTIzLjAgcWNvbXA9MC42MCBx\n",
       "cG1pbj0wIHFwbWF4PTY5IHFwc3RlcD00IGlwX3JhdGlvPTEuNDAgYXE9MToxLjAwAIAAABdbZYiE\n",
       "ADf//vbw/gU2O5jQlxHN6J0zH78VuLo0N73OAAADAAA33SONum9hL4gEvcA9go26ugmDQqjIxe/F\n",
       "/78+Wq1elnGww/vfI1mVy+rXORGAwO/1b+2LmQeaQGVFbjVEbo4hC2JdjMT7OObQZwBXuCEPU/+b\n",
       "O6/f8dzsQA9g8WDBksQvI6Lce3MS/0AMBv57kEWp+SsZdOIJCMkXcX6rKJmsJCyLW7c/VH1Ovsyo\n",
       "ral1ivsoirybDO6F5e74JD1IwiEiXty2+OL/G73sVWeallcbcePPPWvrjObk31CxZNzWdpUVYbhH\n",
       "VHum9NLVQ1B/8ce9c4Qy5nOLFN6Vt/5XVwY8ZgUeepTDyqpp54ft51/oC/hVZ0Zs1PzCQjunz9HX\n",
       "fR4ZdM3x9nL+AdKRhLJ24yPlEgPDNnX82/EuhlCmMrQuX2Mw37NXoS10TUJQT0yJ91fhC2pEjT/8\n",
       "QpEtzdj+CIR7Sp0MgUVoX/S0pomJjZ4VtLR74fyQ4e3NKQjYRbBQVLLsryoW0FkJ1qfdx9cH4uDi\n",
       "rd5pRW/SA8isFcbxbfmKMH1fQdSv22wtxf4VxmL9iBVhkw4CeG7TW//N67XE2v4D5zLUb3iUee00\n",
       "tL2sF91plougcv0v9taUVRYOtoNhIvJydxrZ03tBYQP3i2hK6n3Sd766lfk+AFYR29jNZiA2higW\n",
       "AWDPbKRIf06hMIYQAbcFehgbPY/vx19lAO+10pmbpeRpetG1fyUIoV5MATASwaXUsiTXRiQjPh1n\n",
       "Bdz/0prkL/KvIM5Od9rTwutpD4izUJZ51YG+40beSB+SwCeo4KVY9tylLPT/1RXOBmSSDiucmJkg\n",
       "h2l8A7v0PPK6ongEgfcj0px5CvOaK1FzzQAKaeUJ22TgG3x45prZO2lfguCHwqcmjD4/TjUOHRse\n",
       "vpl4RQRvpl62vKuykUzz+NLaKO4U/xo75oi49r7oQCoYrCn/zH5N3tAbhLXiXiEn386tcGJiSYvB\n",
       "5ToMk0tiZpMey6vpEzMo6m740H/8OC8YZb4QZ0j49jqo6m6tZysmabUMwwxdnZnQNoCzV1zcjAzu\n",
       "biQw/ouo+cYEBZD9djJtF8XUNzjbu/0RkK7A2u1Fr5CDJGiDW362wztAJnG2wA06hLNtayBPG75G\n",
       "qFB5odIurzSosT24O68En6K01qijYidYWWqoHba//pzFOmzu80BL/fS/oEG5JHXT+RuimYwUqwiw\n",
       "kVP2JQ/rLNLan7oW9Y47BgopaIrdEtm8MDnmt1GZAW6tWwi83RcwkNXjzKtFt4PkwpP4rjiB9JMS\n",
       "HaMr/p8YDA2RRdyffQtFoRnBSYo1wiToSBHe/8/K8emRCaKT1u5frRw7MBjzfF6EbRCxMf8i9KkV\n",
       "Qe/9KutOM3AqCYMBMZ0FYCk41Di935BvNsRxMyZ+fLDq4mP/Q9MOH8k9eNVXm2sklfn2T3EItRBp\n",
       "PzTh/rcuRu1tTcykKEy+XvE635cnO2TgncAHnUMHPviHssYaLq5+IF2vpDPIdeIfL7OCWCXmS9yl\n",
       "UG2j6b8jljGYKNxDrwuqY1B4cR02jHdUpfeoM0vi6SYpXCkMISZD3wlvxAV9pzFeKgUg2ckj1bSp\n",
       "N89FtfZ5NXpWsrKn9CasT4S8GyChpRiDsfvEPZQgbyJyZbWD10scMzDwDCPcC1ail4neiE/nLuza\n",
       "+HHlJsuZKJaydV69VmYMFQjz6nNY/L3h1jMw6VFPCbCN9dUFZa78dCdSC5w3Aeje9raFpIJog54N\n",
       "qQX6YdRSPmymQyWI6TY9RBPEsbNxrJQ5FqrFGYiStElP5DBqQli5Wk8oFrwkbAPovj8+Ces9gA2V\n",
       "qR9jwsk5EH8UEzTGlJW0xJ/o/+coA1swaZUnUGlpAQvk8Iv/D8Iq+ejbrBTCTZvlDrFggk7yJzYR\n",
       "at3ctqAOLAN38pKR//+dshDRzZwNWhD4hV5fDPJ3Cj1iTf9biHpN5UCHKAwX9w/a6z2nQiYFs//m\n",
       "xEC4fq5117Dr2ecUhXWLjM6Ia0BXFWhOCEL0UrD5cxsQaF4g92WklwjPm5jUIbOXKY8k+G30PFD3\n",
       "qF9ulgOB823n1uTJL9ZM2f7VhpU079cxdaNTQHz3/2V8kZOen0yNPn6BCnL4h/LdPmT24a3NA/dN\n",
       "Ww4u0bbV7gurjJL58cBn64kHpmPEoSnMZ1I1ggqfoRAKfcHeHSfrM9nHYQ1Gjj5kr0xVokIUH42y\n",
       "3qmntzgclgJUXcHXo37LZeYVTSwVBT5DEtnZVhcCRRyrd93mmz582hfaLmYYu9fPNSO7kJgzk6GR\n",
       "RQxt+nv38/ymHhYajNryFi4/WXf9H73nD++6OOXuGuw5yqOdFmW1xktaDner/m7vMOnYRCPAuXu9\n",
       "KlSM3lgRctR83SGsDHOuLGpAAFxm66J8RFbQxqCCuFzpDqe3x1ZTunPi0P2Ne704apvrIzHvhTk/\n",
       "BW0wAea/VwoA75LlsQjBJMAMD+HKD/q0kR9H7VvPtd/AGjqH5mBPH2fn5EuKjRYbzQg7koIxwqbp\n",
       "4ss7lULWAR3FbxQdHFBXSniqtp03OpNqi9d0LHDw3PABb2kMEgt0cRRmo0eCYINUSi0M7yjDchot\n",
       "+W9FwFqR63MP75XayF31MvVcPC/XNTzShS5oRdflghbluuv+IYZsYWzEXXZQ3XwHUXkEvtkYBpKx\n",
       "+OUoRzuGxgNM4+bgW9KTEOM5xCHckAjn07b05RS76ivH7DuJ74+cZMYLMFR9CEtZNA0X3b/VbhfV\n",
       "G5ltnJTu/NmL8DJAJZxqjQ4t0ljujCV8I3ZD/OTMBz5EhfURSj3YDoEzJjcgOVBZID6HLplzoGEH\n",
       "2cdPk5WQwM2STgoA873h+7yyjIAF5XRuHeyZqTrRYSYjqQvvoJkAEEmuuP+NOVo7p7WPu6PbtAZV\n",
       "+0lYJgmMO960eN3H5knvMdO9TnlK/7xpO9AQcJkxaD7UVxqglboyiJQIqZzudIorCN1C7ZCLGFG1\n",
       "Ls8pvTHfxY5YpVlrPXdh9jFN+whJ4L5/BHv/ZW8rKgZ0HEmyCygamhHXNlS17zQlWeKdX8WKxFMZ\n",
       "nD4rOPc6gWCAX1Twp85FI1+YzWokSo8UeUCRIJPt0iLrs+rCOXWk1psUf8UX/6BSByQBrCmLDij/\n",
       "QQZD2ip19tQY2FH3CYtrleVXkxzpxj14NXtm1cSBIwX/IdSticUba3YAJCvFmQCNockde8AgTDJi\n",
       "rhL9BwFE7TbZR8pke5stdSkklhGpkGxDYH3p5SiDYNAMB7iDmjj07wflpswdYlbkRUsy2wd1RLbS\n",
       "9LnfOrOAGLxwnrAP+X0t+laQ+mENXVPmlmaV8ISVf7kzCPkpGVX0bQSVt5PhHMunCThaUZf/ju/n\n",
       "jQwg7YLp4BgGiA3TWNBxK0LbxdrdH8G5NKgaFYfXG7gqyj179o6L7gBYllLTRXo6DYX5tsgDJqMJ\n",
       "Izrv9CuohB9gPhCcZ/nlZhqdLmI4CSDbCFE0B6Bzyh5Ti++4SJT42GBLm6JB4+bVMlKQ0ZJLAnjt\n",
       "j8lCLxiUWKs6dvbl18PT0i+viORo8rMsfWTGvatFrKqf8pDnY3BHWeq6fxeJABxD2SWTtqVtlU/v\n",
       "wgV78kwwzcSZhe0cbQDodhdWnFsjBa7gtrUADlDDU5nPpCrkJqB9bbcEoGHQGWRUudJA3AYHe7PR\n",
       "1PDFusFk1wa88d/E4Qgs2ONQ+E2Zlu7QQRxysZ9kjvv7JkQ5XAXF7C+FLUXz09g0QgQw37YHJno3\n",
       "skLaFA8La6PNCpeG/P7OYk8aLVch5i2EUxGmdM109SjR810eRxmaAnHanXampGxbbVhKXa4fSUix\n",
       "gWtuBC73VZetEoyug0HP1a+V8EqDS0SIab8ALE6sVT61rTqCTzvk/KYWN9VcuFtp21hYl3V+MbFL\n",
       "zKKXMDAz5lTyb+OZhlBr3Z+kla/9p9GYFTK6PxpLjkg+6GvrRSf1oEgN7bHOC9rkCf0wnVNO4JaC\n",
       "mtW5Zouue88LJXbgYuJKr4/yQ4+29w7CoD226PU4lxjT2x7InrYVSKGfNNKsIDzNT2XeDuFeGIKH\n",
       "Xy7BV81GIbu4zBzXmQTJjYsVLV4g4A/IpjFRD0li7CDqqQD0LMMv40uCv+Db/cr8Ee5zw4xhINdG\n",
       "7kSIA2OvCptL60qJy9LN907u/hub27/K5LxtoFCclgcHvrI5wktiOsYrX/YLVoJyJHWMeoQhNtTp\n",
       "JAIPoPGGk1UyL1Ly4oDFL0A181/8tDX3MfaSb+/zUOFS86jOC6adVHTDvqryQWocp63di4S8kPtB\n",
       "TvssYz4EV0whL6CzAAHrDBePJZGS0vvdKtLHH+piTGuwFTn1bOr3Cbo419zNQ7YHYmGAd3neNTOU\n",
       "CS/vlrOargVBF21oEMHfArs59pDf/A50oQSG/PVFzoC+WPK3AS1/0P3udf7rJCHlsOi5IJzA+yim\n",
       "HqgEpqWj0TDCH/2n4WyQj7VPo0Y3UyPz6piK6GqmTacbs03WPu8LCDo53ed/UaPbf2pqobwfL2gc\n",
       "6HUSAQZ35UtgSys0cam7+iZ+5MGt+YAQOW1BBNOojcG+6BoUdhvfHJUqAE4CBZ+/wxXSXkSVDpUl\n",
       "5Fq5Egg6VpqA4ng7HbB8pCF/jdl3Q2WMdD1vNlfRzgBb0il/HYf/Vf0rFHH8ezhn/JlQnmKtGW0H\n",
       "YhEoeaGe0HvFCKnSe7b9t/+04FjKGI5fsFbsNjohQ1Xszz8p09PcZpH5evUKx6nVizJ0RwNgZMAl\n",
       "2wrPnlkbbvdoCHwFnumDfT1muXwMW8rr8X8T4ADY2JDJCH/Yz+n8qRy9UfV1Ljidi/IonmabYKsG\n",
       "m+Us1CTF/joU/i8kVsm17ZHCcCSX7YTlXI9upzjbLSbURuJr7wIs5osRXkocTuIsCd/atV4YoebW\n",
       "1XxqhCS7HGsU0qsKp/s5MWGilsx5ZX3fn2L3rPfY0tcoKtGE5dU7LbYhiLEl4VuCHIRUgavbgW0V\n",
       "m5vgsPTnQ5pRNxH82MUhfVgpmN2wORQuepDfKpPIC3kJI3fKVDeiYRTP/CyPxQdQ66wvqFRgXg2G\n",
       "eiR/6nXnZxF9MmEM97LQmCbdXdlyOTTtII7V9uzd9I+Mn6HUAQu+1BXGnyVf4h0SodPo+WS221Rc\n",
       "EOCjGOPVAOrCOyxKqg+J7J1b3jjXeHqR/bWOCS9ZGY763wTcaZONfJyTO3bUyX3LxM0xiRjyuqJS\n",
       "qL16fV+n27jSJf24X+CfO57s2Op165z6b2NRmxo6wdb2Pf0x5OVTWcDcB2BwfQ401s7Wvv+jQWvW\n",
       "mK1nwwX7mGRM1Sq9bfSddaN/kZv8OrJlj2xYB+JsV0mRrJHffScMhkdRFlBKBDV0VXSDYr90pTt1\n",
       "/CMHCS4gudOH3+LLekxh/ZabFAnOea7sOAcJgU82H6/rUULa+/V7hfIE1XbDKkbU7eJVlO4B+5+D\n",
       "h+ntg939OP9IkurlH1xQ3EMeDp9v736nAh2aiDdyvV+MiFM1jIsLbP21Ti40yH7vEiXnmMDVB+43\n",
       "CmSjwRSKTST+ojhdUuzrFmdNeZobjm7tIbpZ8S3RdWF+VIc+1YdWs5wzYbYeTlaIuYgg0ZOsQUHe\n",
       "LiaNWdfSnGVFkVWR+mUtLzzkXo6c8OLeYbEYil4Goz3+3NlL82NUt1ivqsTw4yS5U2gs+ayeFRqP\n",
       "xmvk4yQb7v0OzLgtFK+KgVWJvdod+P0s9wXik3UwVX38BOvYBKuxm0DKMQAqrKG2vze7WXY7fF0U\n",
       "CU/1pW/apPH0kW9GIhHjesgYRnNzdqT0/C5R5IWlJf5PKFCfR/qcH+LPB1la4alhxQLsZj7to4Xh\n",
       "IiiAujD5MTJIoD+VCbNUoR6fZ8RpNaIgukjXm6fSJYTAXsm72TWBl688/OodIICzK07TkejiekJ5\n",
       "yoIfTCGJ1NrUzuQ44s9AjIyMPp13frXTJgo+VBEOVdFTplKl6RWiv9fGVUJtbLi2vUk5IDZ1puPX\n",
       "KuQRdGoVYPwXBRO/1U9jZD/UWIv5v7dA6U/gIpARBm+TIkirRbMrCdnHm10wANffnA9OdOzBAKBl\n",
       "XjOGXtD0GWq6yoFFWFXYA0l4n/YQDhs2eHr5kD1/uITEJkRZsQD/79ITKcL3JaOjaPYyIo7PVL7Q\n",
       "3ch01p697x/Yqz1nPSO97u3JbUhhe7RMBxZT8c2eAL1BFvJe1GOpiX+gEetNNsFy/MBK+5JYG/jT\n",
       "WROKrP6spqFuRosYsbp9UCkiW5PyphtL77W2IVt4qwjOwf63Zs7YJkVmQuTv61Ux0RYkT6nuqNt4\n",
       "vOOV37XMW+d2uvfPr+wab0rCKOf0rC9j7apNYWddcchz9cxXB+sMGTAk17V2hLydXZ69+B6Ui6Pf\n",
       "r7yqbT5hlxjM6eqOX0kV9yOPlYkBSg/Qlt+rZ+RO0UwvwN+/mAjczodws2Dgz5pnqgKnvHgdKpxD\n",
       "IoM4bW2rViZ0cWTB/9nz4/LCFPxXsXS9hv80chKcawJF05UINN17IoE22yY8Th+PIS/qNLkN6dQv\n",
       "QGrgqwM48P/MC9FRO54y4LptCcEz9sM/X8PyrucGNhgry2q3w/hUW4v9FFAwWjymUc3Ly9GNmt/e\n",
       "XGyQhKzg7cLB8Mub04TNjAE/V/muvpiu7a4cnitX9R6MJKh+LRV56LHejK/n1n3LVC5TMowKsDNS\n",
       "KV27H/HA4vl9Bz7xOS/pFd/8S0eY73i98Ycz+QALVc2CVqJsmpeLTPOlxiKlhJPXCAB7CMlBKTRf\n",
       "Rs55mLxJFc97607T2v3rQs1n867tE/ZuTnX22prb/9QVPV75aZxGqkJRDb99bcWqqoGCR6/6fVzL\n",
       "aX3immtVjGXotT+ZtS+JobcXaNCIzxcfyPE5Uf3rccGj/BjJZcXCkqT+mwN7UlslfnMnSrQ3yVyr\n",
       "04XL2IPILVLAO6gKfi0lBG1Afymu9ub0uAExW0vNzKsx1rL77wbMHyp67SHOvggtlMqNZqrfyJJu\n",
       "Y9p1UaGcpKD+m2cKkIy8RpWxOtAhqo2wIrWzHpd++gReWlr1huwvASx4ckRT9+V2AzzwpLEKvrG6\n",
       "wLvq49NPoMQcldapA/nk0Kr/hhRTDMtaqOwmZaX3GIEFtN6t8HkeEUcdWJysHxdS4pKN0oQAm7X/\n",
       "eOkQVIMbppmDcsY/hFdgVqDiwnUBFfPqN9ubcbVr+8mef/p8ycoHONl82qUnLg3k5ba/GowJK44X\n",
       "FTiTSbmAERkqdwQ0U4KbmjZgZaPRP+q7f9vloaXl0oOlP+poX+3y7IDYSuON6bCmIqgaMseyv/cs\n",
       "W9BL96R5LtW/TzC8X1+jyu4FdMAj+SiNGNDQ8uSSAqNTXFhfA2CZLSlMl7BbiZTs0z8zn+uwNq/A\n",
       "0K3IAQbzVm+vv//yXoGWa25qJXhxQpp+FUB5qv/e9iuXgdbthF+i9kNtkcPF2PZoOWnqDEbvfyJa\n",
       "u5jtEoRfw7u7PYLlj/oULrsot6io9YbSxy6RhjS4TvZUwFNwcgkebv1GqmB91XNOyvMkohGrhkEu\n",
       "sR+bCfoZCK5mRgIKli540RYyO/l+FIlwVudFu9JaWJwan5+R6Qf3PA6wRuTn2MMs64aKxi5bHMsf\n",
       "l8BmOdVqjNW2tD08Lbkqw4j+PbCOr2fg7HPktLpEnMKx12vPSoe67gHlLg2g8vBw3dgCcwY2uFmf\n",
       "vYoqMiW8lItT0ltdfKmFtotRJdIrxs/kaeJc7/p3l9pRK2+0Cm/jBMulF/d4KlQFhRfAWxvRitPO\n",
       "JoPnfI6pufk3fhCEm3wTVIvHsADHOPljllYx+o1L5J+/tFO36Isg9Va7UmYq23csknGZJCV3AMtX\n",
       "qTm3Qhlqfb4P+9TVDhuAoR6ZQ/E2fWYA6CDZwgcabljXWNrCDqtFPGtEwqFdLyPwJPxIWqwZMzbq\n",
       "AFOlFyualoGPrmuJ0+ToZ7J8gC813lJKV/Qm0fr4Sp/VZ36chcArmSFwm0SH4+7LqHHVBKIsG+EI\n",
       "y1FZc6bLk91NQO/UqgqgCFZaeLkHZrMDOZEz/cWQI7AIVusfY09TSqcQv8yvWJALAAACR0GaIWxD\n",
       "f/6nhCS9lcA1hYPK+0gybTRt0pZ60ob3imteOiBQOx/gb3F98oIHtLYNN4tTUBXM1bEljc5CUR+t\n",
       "k3FsMCeUqFXaayb429rX+UKwYJKbb32ewsNRzR71jQYfQCVP9L4JwUcHczCEsng8R0Lyfp4N7Ph9\n",
       "ivQN7rEZ79w5ucdVnw1+Rc5DLjScM4XJhLGwp7mTpQ/HYGLD8cWhA/bKoA2Rl9GUNyLzifHXIhZa\n",
       "p0PnMjZ9jsFgbpcKLn3AaB7EKo8eduKtiPP0RaC3xk5fPgIUSSxduqctENY0T/tfW7oIjlcgw0H+\n",
       "s6n/+ZWaAAPvagGI2PmXHUzCxHjATD0M1tI2wfrasl/3fS61UivxEOT9tuReX4ExvXO8XISP4R98\n",
       "q7NNTp+evav1B6oEejvQiSl2KSHd0NL6hZISeGnvfpzcngIaPgJ774h+m6xWdc5vgDmTt5F44q3j\n",
       "XvvhxGJ4M+cVnRbTyZYzvQT7z7Rz5igPiZHJ/6haPS4Y1zg4iE3bcRm+J8o7rhzwkMfaDoZeBdUr\n",
       "uylUtkOurw7MCcEuICd0c7gQ+1sWdZjJczg4nJKh8+vVJ3+KAywvWZy1+iUCRZa+eMpk5uuLo2cf\n",
       "knWbP6m2io/A/+2AZ8V/52XMIrR+AIgHiR1fRWmQXyBhTmaKzPf11URhw/twKtF1nj3xOOuIabDS\n",
       "+Cr5f5qFsbk/tYtS8yNOQZmO8/WDcAjCpnU9mA2j1/fvb2fZSY5oyLJVrcrsAq/rMqcgS8YIfbrK\n",
       "iXZKzrGT4GAAAAGaQZpCPCGTKYQ3//6nhAAsfMuwF5GhmVqrvdryQkAESOgh5VdjJEs0VW3BZiBL\n",
       "3GSh/DPJrvNNfdWSk9qNmVSUs9JJ3ag2p0jkrhcBwjs5uaX2BZV4KckqYyAypKBUsv6dbnyKPf/L\n",
       "ZTkG8EbJYqgLPcrUwBrmKvW2IODWx5NiEEDoZVcfUmyE541ZNmWjbXdOOLANUVt1nbFCLgMYAnwV\n",
       "qJsM8xcr7qVRVLGWtsqyGaqGcQYDhEZiWrIOehoP4gGvuwUlzxcgtmWaB87tcw5la97ATNPUB8u7\n",
       "T68YXsbbmznyLQyAQyfDJWMP9IzH4pe1iP76jmh0VixkSBtZr7lgN2G6mN50UaimMwpEkDG0ysGv\n",
       "gf6gnRr9cjQ9Z5dOS4Heju8ZGzB1CbHfdvGkhoGAPbcbTz6c4jp61UBZXvZeX7pDq72I1Ag5Eeix\n",
       "scHn1fKUHOaiLn6pE89iQxvLa1FQ95PajKhYla1Q4sETGd6sy2hSwhR6x2mctpYlGKVyT6L6U1ga\n",
       "AgpKzDOtB/zhtlLvoQgZcJm6O3+TpaUAAAG7QZpkSeEPJlMFPDf//qeEACte8KHe/+ACFRFvABFa\n",
       "gEzoSHJ5ik1pqJ748Vjlk7uX0iMXrBCF3/dgoAERaROX+qH15Xk0jpMzlyzNUa+klYlLfOpADekP\n",
       "7FZDDrsDO/uG9KKU77PmdjFmUy/2DK+g17Yu5rVepLIS6AZiuJvlHOxpho8BS4mIh1pq5dgwJMs3\n",
       "4r6vW9eO98ZiP2RLQGKtN1qZKxG3emBW7zZeTnLl0U1z4CvVvIrVyRAr9KPz4a/XYXGIu22xodsZ\n",
       "5ZSiL4oo+TQ/G6uqjVea888l4Issm51G6jWYosDEyoxBQa2jiszR/kG/LjcV9nfXcPWV+xSGjZ1F\n",
       "aeEKfXrgDzIVgfx1v4m9Ak+xT6mwq+FMEx3YWP8yAhrFONQZFXJr1Q6Kr1vpqB3aVq2WQzSHusWV\n",
       "AkFSyNr2tU3vj/Npk3vkzI7SUgu7+t7UHdrRfSwbHHCRS7m9CvSN5LxUz3FKWIwesmrkUzUnb+Sz\n",
       "U/96h1t5AUSLdJTMadb0ocacQnjBgyQFEoT2LIoYxFQAXagSZKbNs0wM/iem4kUCdEC3B8PyQMAO\n",
       "7lYxEo1BLbdTeDzy8VgAAACnAZ6DakK/ACKyQ057H5NHm7EZAxDhQAfIPxtg6podbmPBxNB8jPIX\n",
       "2XM5HhNKNs1LyVhArxguv/Ks7hiyq5YCeoiHxbbFxuCBkKyKGIAy4gXEAHIDphRmf7qdcDAqHRF2\n",
       "M2gOdl1ZfF1pb8snTLQJDDvd8589NfMG4V1W0iWJ4rrt3/EKcuDVKfdSr/XhoeR/q5qgb3wNLL9R\n",
       "rbIMmRW3OdRlpAfRtj8AAAFCQZqFSeEPJlMCG//+p4QAFhxi8LkAAhQ5rV7Dn++/063tsE7Tv+1P\n",
       "EucUsZziV2NbjLCZAI25C9sd7/ZNRQ+lWH3BQieSZJIyzxvm5qPHc7Ia/pg1E0aFYpv8vrwrZyoE\n",
       "woyqu3ODDiP4YD6W1pC85NIbyEXo76MusE1N+znkg9bfNKiPSPLLVRPHzW2JEWVgK4RykcCqENxH\n",
       "+JT0W+n4uMPZpxSpelscw4Vo6xSgH2S/RsfbIe1hfDnfsmnUvoi/3Exp0wnO0HFrUJftWk344mvF\n",
       "gnHTL96OiM3DRC8nnoCRcxRBck8Ha42IP6UFTPONhNeQehMd+8Kgur3CBYb1TFfbTDMZELVDHtfh\n",
       "mYjL/2KyakvTJpM7wLS12/dnZvn+SWAZyjIQuSYZXC2eUREXBP0zSlCsB84e6pvoUXUWG/zERwAA\n",
       "AaRBmqdJ4Q8mUwURPDf//qeEABYcZ3BSACw+L8kwJU+AZWSpRlQDlCvFC5WGtPhdjv+yu1DxSF6p\n",
       "j6k3lAa0Ed00OTKzrOgwdp1zA06q9SiekEE8fKfNvNF7A9dLvP5Rib1XJ6Xcs0DUhFiC/biCncMu\n",
       "2DdiiB2NwZVIpTxpRMFqT/42UNVNQmkD/lSWCU/8dgn6flLrbKXQUBaVXuQLnW0xJ4+FPJPUm/eb\n",
       "1RNINUYImmmVqHpdVYOuC3BUmUi+sDqznUDc5NN4BAGZPF7cd4hQt+tFS/SJft2TW5S9wFQgmI6s\n",
       "qR5IzyfwgwcP2d5uoO2T4+bG1lk0134wknSns2a6Tht8zZxxJjRneCCU4V/ObGEhaQP/keYbfisk\n",
       "TPLa09RKAkpVyzS7woZAqs8v/tXUeq9uoVB6MXpimI0wffKBahrfN/ztTA9xsmlutCCZoK7RnepJ\n",
       "CxqU9InDgbbN9/SuYyodaPxVMwppW/QzzjnpHm6nyFmO1oSvAinIyG/nc9jJCSpH4wfV2EQs1D5Y\n",
       "XI9U0Zf4/rWGV/QGGk8FtuD8kSWW5j0AAACXAZ7GakK/ACLBmmMnm01HAIkSm1ZNAfkdm91FCYSE\n",
       "8twz4DypJUEkwbSJyPj/IOnHqkHRQ2Ahi5iVndDH3i9KzX82TxCjnuF2PppEED/p1zni0K+gf1XL\n",
       "kLD9MbNQ2SYgMB3+v1jw+UY/Yf+gGqwsfrGHurxHduKSD7SwuOuEAATqycm2JnzO5+repb6ZNJDr\n",
       "6+8Ougx6wQAAARNBmshJ4Q8mUwIb//6nhAAWHKFZ4Geed/4FzTAB/Aob4UaXROwHx81WleYtswsh\n",
       "Ldiq+s/CmHVIlP3eEods7Esj329+NIDDfv4IAqss6P/E8NZz4DmA0fZzuclKGIUFD6mwkyoqe/+K\n",
       "aOjTGZPS6Cfrtrc7gjAjdjeBJGuaeAl0ybPmc0TGVwYB2grfrz1BmP6QDXMsPEdHqOnO7aztuUwk\n",
       "pt0CyiSz/WzvOY9EZ9VZR4fmjSqmjl4qDpItEkCsrG3p7VQJAdc7GkU8upkB0c6ygb6n3Yd6APYZ\n",
       "LKo914MrMizJL0x9qUGbpsMXXk46InpA6p3V9nvURDeb6uJ4Dve3BIWCcD9i4Zqww24jN9rvM6d/\n",
       "gAAAASdBmulJ4Q8mUwIb//6nhAAWPw+YXlTN9y2JzwAlln6hTtBsPt/8VyLodsjkHAJ/y8c+B8xJ\n",
       "voH+I9AsOMWizvQS1CFFI7t0tZsl5vU/beaQaUTXuotRf7JcPmZ1c+mrRKhvrpNmo6aHhyjoU+NW\n",
       "eYeM9OcF6ka/rQcbNQ1VFWsgUgJRXcWjnIN/bUTVjZQ+ymOtTEJMqfK07/+ANLV1PBo1GDFOOSpX\n",
       "lzFTbT+cwy5rEmiTLM6L0dfIl/zO8y6yFF/7Sg80mUaVeI5PT5D+QnqXfk3GfLLsBjJdb4cy3wG2\n",
       "BHquqI8xuRCoIwJomyLCube4eF16Es0HMynvmbUeIGASylfFX/bd6sFv8vFyU+mVHT5Sws2t9lm5\n",
       "7hJNgyxIWvh831lXCjTAAAABPUGbCknhDyZTAhv//qeEABY+ZUVAkbyVP4AF0Pj1XKl6gItfJfem\n",
       "O4YdRcIIO1hq8rD/6g2oH9ZAoYb4uMMUymlYvJ2/QoFa4yrhQk/WojVpKYTvINyLv5vi28wkbT8s\n",
       "qbHGajOjFckpNSFkw/o4Pi8zzE6F2+dBayFGGJk5bYkftn+vIoxQlaZB99L+3cCRO9q5J+i7tSMG\n",
       "vXdzwRpOnEcnAmZXo9zmVYxwUkLUKbD2eQ8NmB8WyIITyp/a3leufMFzDBP9PgKUMOyee4RWVRJ+\n",
       "s++7qau0lF80E+6Dd4MXgkiNkSlaZkyu9zSoJm5A0bBp3ydsn2meaJjX+Q5At0bMZWKVom4v0VDb\n",
       "rRO2JWNoooAv0M6NEqMZZ5Rkkk2hC16Y1pB1q5mu/Naehu6LOEjtvFxT20LvXDwOoROBAAABPkGb\n",
       "K0nhDyZTAhv//qeEABWVVO8sLEQAtyg1cZZtXuBpKH7ciWmlcuWvGgl99jOctJsnNyqZmi78q63h\n",
       "v/XOuxDG7ZqZE9nJSDTPY8Vj/yC0Kjj1DqDf9I0MlxXGKkGMmiK4SJujMji7mz79bSmClue8wjWY\n",
       "baiharfpwLdFvx6l5tCK/60hhHN0MgYUC/PrkjKNhgzY4i7l4I1eKbKvI6BL/RjeUzQHzQfuWzgR\n",
       "0xuFkP1b1xYyBizYGZnv0+3TZeXIc7bOAF1+PRgWF9Zr7nXHqydJtNdxL0mjfjTouts/EhBV2mDi\n",
       "VfvI1nSKO/ehICXMEZif1q4jqen7O0hsgQwJJF9/SOWcq+pPMFLbMabgAFXh6qG9bqBRPKe5z91U\n",
       "fZ9pQUB+VRqZloRR27UdLSsP4GBTOK+iU3GfvvSwDAAAAVlBm0xJ4Q8mUwId//6plgAK4qko6UzB\n",
       "ABtVouXA6eGMPd161mtR8wVe32uxadXO2RXQTBmDPS6lwnU4vzJTcu8N5LRSr2i1GtosObuMA1zK\n",
       "xFlekmZCdQzvaEJLl21B/gSYUzxkZ/1vUYQkrXDtZ6trJj4dAqs1VUhCykS4VvDBvKLllWn/xhSM\n",
       "Quxb2LIQFbPQEyH43ZGtCekIY1ipxO2uaLRj2Sg870LmdocX4Xv39pin1Vw0380BByFA/0f2UT+N\n",
       "ogb4SnwjslqyfQNGORF1e3HP8vbPXkHzL06P31GzAgQJ9aUZ0SJj1cZk0gXVo6CEJDvH7quv1z5p\n",
       "H3UjHxRJLB59zjaDLkOnooTsilGMQ+nQe1vIr1VZrMbG1S7ieJ3+zfGC2EZmoYSPEyxsjfkSfTPf\n",
       "ODI8RstpJIDg3xmkHSQ/GmbSBY9FMsOsTmoFzbGfZdNXBhoPV2wAAAGMQZtuSeEPJlMFETw3//6n\n",
       "hAAVpaSQIepiQAkJifo5AtI9m1hNTSG0/SeRJFLr7TuTxUk35ph728cR/E2WlF5U0Y+Jk9P8z0He\n",
       "NEtrwvd37g0ZNrEaB3/4HG1xZvxuW+n8mkLGK6PEgFckbjGNGNI2yOXJ5JTRirKk2XOkAjhakJd5\n",
       "8KcZ17nWEjHSVQH8yhIAzmFhCTo68pEhiLsQW5DQbexzP5XVuKJ2kZ4gHpGwDJxaOqWanaicBP4W\n",
       "GBW95lp9nzAjf9yAy/ZbWoTV4FXJVnZC1xEkVC9+Z6JkHyB9gxO4vPbpcaVzCv8nNbNCjHwg8Mch\n",
       "mRzXVhP+9CvMz3MiJ9NiBVwvQytFTOFQuzggxf/y45WqWN6OtMdm62c4L4/hAAwpYOdfY8XGaNiF\n",
       "IRKr19d1cDrfEGtcvZ/76tncMiXlr+yfsoTsvTbkPDYBuUGmEUQCQ8wjZ+eVMqV3TbiRSwUipMh+\n",
       "JV18iURt5WyRDusF9j+gjORw1I85uvEx1ihCWI13tVuBFgNpGlm5AAAAnAGfjWpCvwARSANITaP2\n",
       "0rAmBYEd+IMLDwCGZoE244MhJ5hUsDwqZ3EWJjNZqugyt/VJEnAoNg1QfHEMw4c2Jp+nWcgrfI6E\n",
       "rk5ncwQ7QrHpBWDCjam5/rlwiKcQANqqIRqu5ml+15MePLGKf2kQheHbb6S8lpxfMswI60yCJmQd\n",
       "rX7VGPSFlSryzFjcjPOMKLJ4F66xtwyRlShdmQAAAWpBm5BJ4Q8mUwU8N//+p4QAFaXu+lgcqAA2\n",
       "meJeKv+2B7d/YeRtQJaucGh55lOq4R/wH5yN6wWy0ccaejqHv5KfiHwFXkeyBC4MYI4yV2F0gfle\n",
       "yczChS4wfurXV6llnZdLJxD/3ZTrURCmg4EmDzlPk5+PCQ3rIb1b5ocy9RNYlIuv851MZ0QfUwnO\n",
       "DTxr5CuEU+izblbDGE7AUStYKYqFRyX+XgkL/Is7F5woYastsZl/KK4i5sAxk/5Zi3LhbYIZ+z5C\n",
       "V8L/QUkscABRmhaBNhKI8oSgX676k9pC5bvNeosvBCQIwhBVSKkf/IKinwo9fYcbM05O18uHQmt2\n",
       "7F7tjhLAF3nUSH5cMN3XEVbWeLFrl8GGuWZeDy/eXlCYHU5ATIWGLMA0pSAM8uyJZiWQB7ux9R1Q\n",
       "lz1ifJb+cfY9qPMwvRn6vGkWV4uS1/DCrVAMxkJmvHa0NH2IM12AVkFVbIuWtWVmRJKsjQAAAJwB\n",
       "n69qQr8AEUhPjjcJlgAt0MkFOMPYxRgrYhQEKJjjnFjUTSQe4ve+doky7/ec7VhhdJKuRRXPdGm7\n",
       "wOLJS5f/MIEPiiLMjiblJ3MOzSn0uLKmiX7ryEjxIMBaaZGjBgmTROBBGYYC1OJfF+gUITs8wqgH\n",
       "Nd+8ZW31AnwL3/4wRuDTDweQeo3MegHiwqaW+Rz1zCY14Ip+PcanJJgAAAEeQZuxSeEPJlMCG//+\n",
       "p4QAFY/7yxEEALZkWPlercmmQDAoWSj1ojCkjWyNfuM1Fbg3/4n5yIvL3HtY9Zf9yBKrW5ySm+9W\n",
       "+8VKmk+icXtSYukPIK8xNRwSlJAfrNRkaWWbnjT+X5X1Hw04zsgA6puiO0FPV78n6RxcjkHTf/F9\n",
       "A3aT7eeU50MUShKwGB1w5syl4z4F5d5UzVJFuGkz5JfKe/v6X2/k56WXbVKfNNQrDcPJX23w91nS\n",
       "Dw5JS5VK17UoeURDK9qyNWNyUbhJDoDmXvL9th4pCgsUBO5gY+JlQALvz6fUD8K+6hT+dbcmlWLp\n",
       "Y8/RmEeW9ac16bgx4uoNhnQZUg26qsLouFYvTPP31lrl9/v3uwBC8Z+m2CYv0wAAAQ9Bm9JJ4Q8m\n",
       "UwIb//6nhAAVkOsk/wADjiY5/daRXEmuuGqh2UXp3AjTlnoebWAA95ByHAdpR5sgxujPGGCm7XO8\n",
       "t7T3cdCli52LV2IO5f/HHkjsuwTGnabHMvr/loMjnaOX29WKefcNuk2vGeqEQT4hKzDcrN8mShCP\n",
       "ziDBy4JIaV+cGkjhz0QacU/4+tKP63/ILHJUVrMfEpMR3UymaY9QZlEwloExP+hTN0K2b6dgZhNM\n",
       "EhI2HGHQ3F6hR5K4aJJYxydO9M65G0DFzKcPZFJcaEldcNLjWqikLLiNRVcqPn4O/o5FGpHHzDr9\n",
       "mvHdLy8z6f3lc2XilqJAHN3ao+o0vpVrJFzVG8jDpoVlKfd/AAABT0Gb9EnhDyZTBRE8N//+p4QA\n",
       "Fa398DUIlXcl3VngaqtNzrmElbJElkZNiv1KY9L3C7PxsW1fFqkzN4SgFMC9Uhdd5ZzcCnh9IKO6\n",
       "q6his6ZTw+wlZMS5ImDqWnuf3CuEv9nRYAeqvNHcMKf64Ocli0shBYYa55dTtj/KdBLpRpFhDi0Q\n",
       "wtyEVI+clnODASc9aG+ow6O1EEMVFXLLZtr8QZbG1dbNW9NSXEhfHSq7oLin9vhyKEzW8ih3KQpH\n",
       "LTQFGB6HgH1ZbGJ9WGuSM/Del9G8/3Wisi9PAWLkK3nGqG1M8idFwU9FKcPKd+8w5du1nnGfyCYN\n",
       "zPjlsJJYKsc4tj37cBgCScgj+CRuFJ0reBlFiKyllMcYFP6DqbkAZrXVbF+L4/jr89z053uLVIIy\n",
       "fxPX9wwGtmabmR0gpzi0a3/JyomGZ9K3aXXAc9le08ViAAAAjgGeE2pCvwARW0Lp+JUXxGUEPAAT\n",
       "rQsIewOlvRkkgdvtVEMSmYXG0eQS/v+S9ZomuegSfu+mko+2UwolFvyErbkYv+5OhNSntUYsGnpL\n",
       "eadUjnQ4UEMcgeYBGOMQKqAYAS7lgKHxY9mdLhJ2yQ8pa4u0kS6xYlVl5N/auiCGbnDM+Z3P1b+H\n",
       "RkxNp3mQ54AAAAEcQZoWSeEPJlMFPDf//qeEABWuZdjcn/tvEPzAA/aXJwkAo6kZTPmZCrzk1EQ4\n",
       "Mr07IIbo3r+8glSGHH/9Q2q4k5BFOCGCt19ZPDQLBUy31gLBEYP/hPB6ZkjlCiK0SowRtAnpQHKU\n",
       "16O8glrqkhcut+wPMfqBfw2waajdHowHMmyfF/UxqOATZf+MnabDqGubdZM2f1qtdlOJz3C81+Hm\n",
       "GZk9w8r1Tk9s2MFHVfTXRvipXIPVhwDCQhZ9dtgCHz9d8BiYwYogWnnsgslgLMcCzQV3xbluKX1Y\n",
       "e19yrRMJurzVj3VcMhhhyprOFri2SgUulHbRK+HQUnaoPk2ShV14xnsTRMNHVJXVdUkrj+ShjR+4\n",
       "Bt3fLyU5rTmXomkAAACRAZ41akK/ABElkk20g0zIZ8NeRg0ijHhBWrjdCmDg8fmsPp0LeMYVN1So\n",
       "MVqg1sB5ejVIYJ5zaS4bpsDpOciFVZMqrMMMRpGToQctPNAY3m+rtW44pzBB3w8F24cKncKQTG23\n",
       "m8GM61zJ0AJBC8/dxFQK3OK0/VY979OkvySULfK5nwIB+zC23XsP3EPDulHj8QAAANlBmjdJ4Q8m\n",
       "UwIb//6nhAAVrmXYF3cx2yACdjHzHCiafEdsCANo0Y+h/5fAbkf19Nwhw4QzC3I3rV+0f0/ASqFu\n",
       "qhaFgAZxknKETMPaL4pmWNt7eTv0zDVROFkcbL6IROFFMvyUMEYrAtiJ0JxeZskQSGgI13+7Dn4s\n",
       "p9VhEodsoYypbwX7W5LvmlylQ4GF/pJ+GOMg9WP6ohGnBsfz1UstggmIsaWJQSq5XD23rpWyql24\n",
       "7QaNaQTIhrBTiCdhYSJ81tRYv7wWabssnsp9j+o1Be5D3tPG+OiBAAABC0GaWEnhDyZTAhv//qeE\n",
       "ABUNZy1djYVIATTWs0B0gNF0gv4IayOT+TkU0hcVxInz9eyplUevHdinSVfaXuQ7IRBG6PRp+PtZ\n",
       "iTnsFXRDB3vdYEkHrwkZ/PXsKyN3supUmQ0v3/QqV5/N+vgCQlYTALYmo+Fbt21CSe27qVXNlN4N\n",
       "/Gam5nO4hCWb6YSgw5JA5GVSzuuTi/h+cF86jL6oGntr6k/EYyGKi7DSvq6QF93lz2tpXVuXRiQ1\n",
       "GrpYMrb6n3WnQp72ulcB6QYhi9jG+QNZPXggDiR8pZviYy2CIiR/fPsgSiR5Yb30NpPhZfOq3hfV\n",
       "H7WdJKIgVMglqhUMR0Rh/g4BSIHVqyyMWQAAAPxBmnlJ4Q8mUwIb//6nhAAVCUmeXyXmQAmeP9Uj\n",
       "iaghO+2IbtqhlLyjkPTxlVM9EbqbmBw8knbljzFfAlmwdoryO+FhwAiyeEfHvqc0dexmYEQWmKhK\n",
       "n5q2uO2uKybweuyZZjYUEyyw5TUaakNdbWAFXwNBn1Zablkf5mnlq6eLYcoa9uffWU+Empkppf1M\n",
       "/qCLG4ArNeq1QYzDNttRJlJhXKtmsGuBVgFH+JblMzHVqBirdpQyapdHoou7BsdvuBLQhEhVjlq9\n",
       "uRbLcUo1LOIfyf4hR/JMDk3E6DG+WkQ6mM8LMlO5J6830OAbf7L+TeSnrT3SCnk7aT9WecAAAAEQ\n",
       "QZqbSeEPJlMFETwz//6eEABRu7lNe8gBuoZZu0s1h4mE9Lrl8z1JSEkpDQszHjxAdmSbGrmhb9Ew\n",
       "JCvHZaEHtX5Josrtt6TJPnDir910nYaG7xKG4ZOuMxS/+G/R6QiirpSA5MEJ87VGB/1C2t4AE8hA\n",
       "B3NkaqrcxPcDR3X31tx/brYRdmikpydWWTY+Ho+iagUgIG4JzT0ddKi+0QhnBB2xf4VylvLZ4+ad\n",
       "R0QAIdzOKhO8PdjAPyx7wjOnTKxr4+dq4CcZbSu3SZ7B0wYbp0SfejwmWVzwL8g2WDav7QMD4PFv\n",
       "hqfdNPuyYBbaL2AxwuY4Q7TDN0u3jFeyIX+utHImIJ5HxiHdHzbkRXgNYjEAAACVAZ66akK/ACFK\n",
       "pF6B04YAcYJgZNgXLE0EL3uIjsNBSUjI4FFcCgQNK9uBxIwSHK0FLD6Y5f2bPO5bWUYemtXVhvwc\n",
       "93Do1dH7R36GCEyND7+HDTRVT/qjwjMwcPjBL5pL+j+Os0W7WhpRGVsuFmlOo4ft0JF+E5SQI6Jm\n",
       "pqmTyVRiu76gmduCLD9aCflsENLt1h+PCzQAAADLQZq8SeEPJlMCGf/+nhAAUdk7DySH4RIAYASu\n",
       "tsQwzbzAL775tlZnIBs4Nfps960QD//SRHdG6O7Cew3NL/DL6q3mMJo78zYDKaOjGV8gGW3DMDDb\n",
       "C/ICROxpE1VCn1t6p/ZL865abzaKsyLsQdMOdF5QcHEglnwFFpPj6svdJMS9yvyPKoj/0EtY/AyK\n",
       "B8sQxs31iKACQT4ENeRytZTTikMds9dtTHZU7mi3/HHSOz8cM3S7eMV7NbG0yXZ3jZnBwXfM1fkA\n",
       "9HNmWI0AAACsQZrdSeEPJlMCFf/+OEABP/hrTZRSHAASrPlStTCYbr56gcWazLS+oI4pswBTnFSm\n",
       "nFxstp8VR0q/EV7r3UhjKfYz/ArJPj4DEQxQ+0/8Hcb7bjSStZS+4q41I6gPOQT777hoyyR0e9hM\n",
       "3vMleIZN2oakpX4wYjFM0rbjSJ0F9ZPoht3/4T0pRXzuIbDI6NDnSgWcTatpZGByGQXdQleFDcmF\n",
       "6l/jxXj4ZB4rpQAABEZtb292AAAAbG12aGQAAAAAAAAAAAAAAAAAAAPoAAAF3AABAAABAAAAAAAA\n",
       "AAAAAAAAAQAAAAAAAAAAAAAAAAAAAAEAAAAAAAAAAAAAAAAAAEAAAAAAAAAAAAAAAAAAAAAAAAAA\n",
       "AAAAAAAAAAAAAAACAAADcHRyYWsAAABcdGtoZAAAAAMAAAAAAAAAAAAAAAEAAAAAAAAF3AAAAAAA\n",
       "AAAAAAAAAAAAAAAAAQAAAAAAAAAAAAAAAAAAAAEAAAAAAAAAAAAAAAAAAEAAAAABsAAAASAAAAAA\n",
       "ACRlZHRzAAAAHGVsc3QAAAAAAAAAAQAABdwAAAQAAAEAAAAAAuhtZGlhAAAAIG1kaGQAAAAAAAAA\n",
       "AAAAAAAAACgAAAA8AFXEAAAAAAAtaGRscgAAAAAAAAAAdmlkZQAAAAAAAAAAAAAAAFZpZGVvSGFu\n",
       "ZGxlcgAAAAKTbWluZgAAABR2bWhkAAAAAQAAAAAAAAAAAAAAJGRpbmYAAAAcZHJlZgAAAAAAAAAB\n",
       "AAAADHVybCAAAAABAAACU3N0YmwAAACzc3RzZAAAAAAAAAABAAAAo2F2YzEAAAAAAAAAAQAAAAAA\n",
       "AAAAAAAAAAAAAAABsAEgAEgAAABIAAAAAAAAAAEAAAAAAAAAAAAAAAAAAAAAAAAAAAAAAAAAAAAA\n",
       "AAAAAAAY//8AAAAxYXZjQwFkABX/4QAYZ2QAFazZQbCWhAAAAwAEAAADAKA8WLZYAQAGaOvjyyLA\n",
       "AAAAHHV1aWRraEDyXyRPxbo5pRvPAyPzAAAAAAAAABhzdHRzAAAAAAAAAAEAAAAeAAACAAAAABRz\n",
       "dHNzAAAAAAAAAAEAAAABAAAAsGN0dHMAAAAAAAAAFAAAAAMAAAQAAAAAAQAABgAAAAABAAACAAAA\n",
       "AAEAAAQAAAAAAQAABgAAAAABAAACAAAAAAUAAAQAAAAAAQAABgAAAAABAAACAAAAAAEAAAYAAAAA\n",
       "AQAAAgAAAAACAAAEAAAAAAEAAAYAAAAAAQAAAgAAAAABAAAGAAAAAAEAAAIAAAAAAwAABAAAAAAB\n",
       "AAAGAAAAAAEAAAIAAAAAAgAABAAAAAAcc3RzYwAAAAAAAAABAAAAAQAAAB4AAAABAAAAjHN0c3oA\n",
       "AAAAAAAAAAAAAB4AABoRAAACSwAAAZ4AAAG/AAAAqwAAAUYAAAGoAAAAmwAAARcAAAErAAABQQAA\n",
       "AUIAAAFdAAABkAAAAKAAAAFuAAAAoAAAASIAAAETAAABUwAAAJIAAAEgAAAAlQAAAN0AAAEPAAAB\n",
       "AAAAARQAAACZAAAAzwAAALAAAAAUc3RjbwAAAAAAAAABAAAALAAAAGJ1ZHRhAAAAWm1ldGEAAAAA\n",
       "AAAAIWhkbHIAAAAAAAAAAG1kaXJhcHBsAAAAAAAAAAAAAAAALWlsc3QAAAAlqXRvbwAAAB1kYXRh\n",
       "AAAAAQAAAABMYXZmNTcuNTAuMTAw\n",
       "\">\n",
       "  Your browser does not support the video tag.\n",
       "</video>"
      ],
      "text/plain": [
       "<IPython.core.display.HTML object>"
      ]
     },
     "execution_count": 49,
     "metadata": {},
     "output_type": "execute_result"
    }
   ],
   "source": [
    "HTML(anim.to_html5_video())"
   ]
  },
  {
   "cell_type": "markdown",
   "metadata": {},
   "source": [
    "### Dig Deeper:\n",
    "Try to implement the green-light problem using a 2nd order shceme from lesson 2."
   ]
  },
  {
   "cell_type": "code",
   "execution_count": 74,
   "metadata": {
    "collapsed": true
   },
   "outputs": [],
   "source": [
    "# second order functions:\n",
    "# Jacobian function needed to be altered for new flux function\n",
    "def Jacobian(u_max, rho, aval, bval):\n",
    "    return u_max*(1-2*aval*rho-3*bval*rho**2)\n",
    "\n",
    "# Lax-Wendroff function\n",
    "# had to alter input for flux function computeF\n",
    "def laxwendroff(rho, nt, dt, dx, rho_max, u_max):\n",
    "    \"\"\" Computes the solution with Lax-Wendroff scheme\n",
    "    \n",
    "    Parameters\n",
    "    ----------\n",
    "    rho    : array of floats\n",
    "            Density at current time-step\n",
    "    nt     : int\n",
    "            Number of time steps\n",
    "    dt     : float\n",
    "            Time-step size\n",
    "    dx     : float\n",
    "            Mesh spacing\n",
    "    rho_max: float\n",
    "            Maximum allowed car density\n",
    "    u_max  : float\n",
    "            Speed limit\n",
    "    \n",
    "    Returns\n",
    "    -------\n",
    "    rho_n : array of floats\n",
    "            Density after nt time steps at every point x\n",
    "    \"\"\"\n",
    "    # initialize results array with dimensions nt by nx\n",
    "    rho_n = numpy.zeros((nt,len(rho)))\n",
    "    # copy initial rho array into each row of new array\n",
    "    rho_n[:,:] = rho.copy()\n",
    "    \n",
    "    for t in range(1,nt):\n",
    "        F = computeF(u_max, rho, aval, bval)\n",
    "        J = Jacobian(u_max, rho, aval, bval)\n",
    "        \n",
    "        rho_n[t,1:-1] = rho[1:-1] - dt/(2*dx)*(F[2:]-F[:-2]) \\\n",
    "                            + dt**2/(4*dx**2) * ( (J[2:]+J[1:-1])*(F[2:]-F[1:-1]) \\\n",
    "                            - (J[1:-1]+J[:-2])*(F[1:-1]-F[:-2]) )\n",
    "            \n",
    "        rho_n[t,0] = rho[0]\n",
    "        rho_n[t,-1] = rho[-1]\n",
    "        rho = rho_n[t].copy()\n",
    "    return rho_n\n",
    "\n",
    "# MacCormack scheme\n",
    "# # had to alter input for flux function computeF\n",
    "def maccormack(rho, nt, dt, dx, u_max, rho_max):\n",
    "    \"\"\" Computes the solution with MacCormack scheme\n",
    "    \n",
    "    Parameters\n",
    "    ----------\n",
    "    rho    : array of floats\n",
    "            Density at current time-step\n",
    "    nt     : int\n",
    "            Number of time steps\n",
    "    dt     : float\n",
    "            Time-step size\n",
    "    dx     : float\n",
    "            Mesh spacing\n",
    "    rho_max: float\n",
    "            Maximum allowed car density\n",
    "    u_max  : float\n",
    "            Speed limit\n",
    "    \n",
    "    Returns\n",
    "    -------\n",
    "    rho_n : array of floats\n",
    "            Density after nt time steps at every point x\n",
    "    \"\"\"\n",
    "    rho_n = numpy.zeros((nt,len(rho)))\n",
    "    rho_star = numpy.empty_like(rho)\n",
    "    rho_n[:,:] = rho.copy()\n",
    "    rho_star = rho.copy()\n",
    "    \n",
    "    for t in range(1,nt):\n",
    "        F = computeF(u_max, rho, aval, bval)\n",
    "        rho_star[:-1] = rho[:-1] - dt/dx*(F[1:]-F[:-1])\n",
    "        Fstar = computeF(u_max, rho_star, aval, bval)\n",
    "        rho_n[t,1:] = 0.5*(rho[1:]+rho_star[1:] - dt/dx*(Fstar[1:] - Fstar[:-1]))\n",
    "        rho = rho_n[t].copy()\n",
    "    return rho_n"
   ]
  },
  {
   "cell_type": "markdown",
   "metadata": {},
   "source": [
    "### Lax-Wendroff scheme:"
   ]
  },
  {
   "cell_type": "code",
   "execution_count": 85,
   "metadata": {
    "collapsed": false
   },
   "outputs": [],
   "source": [
    "sigma = 0.5\n",
    "dt = sigma*dx/u_max\n",
    "\n",
    "rho_n_lax_wen = laxwendroff(rho_initial,nt,dt,dx,rho_max,u_max)"
   ]
  },
  {
   "cell_type": "code",
   "execution_count": 86,
   "metadata": {
    "collapsed": false
   },
   "outputs": [
    {
     "data": {
      "text/html": [
       "<video width=\"432.0\" height=\"288.0\" controls autoplay loop>\n",
       "  <source type=\"video/mp4\" src=\"data:video/mp4;base64,AAAAHGZ0eXBNNFYgAAACAGlzb21pc28yYXZjMQAAAAhmcmVlAABCO21kYXQAAAKuBgX//6rcRem9\n",
       "5tlIt5Ys2CDZI+7veDI2NCAtIGNvcmUgMTQ4IHIyNzA1IDNmNWVkNTYgLSBILjI2NC9NUEVHLTQg\n",
       "QVZDIGNvZGVjIC0gQ29weWxlZnQgMjAwMy0yMDE2IC0gaHR0cDovL3d3dy52aWRlb2xhbi5vcmcv\n",
       "eDI2NC5odG1sIC0gb3B0aW9uczogY2FiYWM9MSByZWY9MyBkZWJsb2NrPTE6MDowIGFuYWx5c2U9\n",
       "MHgzOjB4MTEzIG1lPWhleCBzdWJtZT03IHBzeT0xIHBzeV9yZD0xLjAwOjAuMDAgbWl4ZWRfcmVm\n",
       "PTEgbWVfcmFuZ2U9MTYgY2hyb21hX21lPTEgdHJlbGxpcz0xIDh4OGRjdD0xIGNxbT0wIGRlYWR6\n",
       "b25lPTIxLDExIGZhc3RfcHNraXA9MSBjaHJvbWFfcXBfb2Zmc2V0PS0yIHRocmVhZHM9OSBsb29r\n",
       "YWhlYWRfdGhyZWFkcz0xIHNsaWNlZF90aHJlYWRzPTAgbnI9MCBkZWNpbWF0ZT0xIGludGVybGFj\n",
       "ZWQ9MCBibHVyYXlfY29tcGF0PTAgY29uc3RyYWluZWRfaW50cmE9MCBiZnJhbWVzPTMgYl9weXJh\n",
       "bWlkPTIgYl9hZGFwdD0xIGJfYmlhcz0wIGRpcmVjdD0xIHdlaWdodGI9MSBvcGVuX2dvcD0wIHdl\n",
       "aWdodHA9MiBrZXlpbnQ9MjUwIGtleWludF9taW49MjAgc2NlbmVjdXQ9NDAgaW50cmFfcmVmcmVz\n",
       "aD0wIHJjX2xvb2thaGVhZD00MCByYz1jcmYgbWJ0cmVlPTEgY3JmPTIzLjAgcWNvbXA9MC42MCBx\n",
       "cG1pbj0wIHFwbWF4PTY5IHFwc3RlcD00IGlwX3JhdGlvPTEuNDAgYXE9MToxLjAwAIAAABfYZYiE\n",
       "AD///vdonwKbWkN6gOSVxSXbT4H/q2dwfI/pAwAAAwAArq0zPS5RX0WYArcwgdb5SjuW8xPWOo6J\n",
       "/C+lpIivxaRavMRj0DRXmAzzG3ok4ZXnQFGLwinv2jfsr5k//h1/lDyaXyXOqArZnMH6TmIN2m3m\n",
       "Sh3OqXmbbN5KJ9mwSSbveVYMpmfmj/FZtiNeIjXR5F9p81Rpag6R7JmUVwoh+yRGcYc8DUSieZdE\n",
       "v1LsVfgM8LqJZvcToGlr7M0R5CFdruELhD/jdKr+7NPflh1B1xfGG9Z5UgfH7oodWk4xeF8+W37o\n",
       "I4S4Yt8yfoixOJ7TsH/4PZtQtFSrznwjwbI4s6yZ0Pi5O3N0ZCJV/K0ZhXdqxR8jl+5weftko1JL\n",
       "GVULu6vJ2LJJIdzskVMwCsrMqtupXHVL2XMBcskdbd7IKbNQlBPS/D+MgCsQ9eq7+9M3XDbD05tX\n",
       "IVavqEoL86svKH1JYNCTDC4tiNaKk2s6UX2LcEDUKa0A1AVbKOuVeDr2Gn2GUQurV8inAQXGBCy9\n",
       "ocNa5OjDo8nh7cLrE1aYvfSsjIg3BMyVjNa2LhocP+VJFGWXk5RaKkAEPf6740EXcaOp4tekv6Hm\n",
       "R0QavV/7fdaYGh5Hj04e2tKKonwT0OwkXk5O82T/0kct3D3hr18WPJzpHzmRil7gONhS1NiiIDaG\n",
       "KqZuPHAPfbjurD7OP2UAWs4k7nmabQXl1kOJs6zuNjCRuG9mUQCn+PtXTXWGcICWCol3EJNdGI4V\n",
       "p2mb7nKZMDvPNLi8gzGr32tPC62kPiLgGi6pBK2vTRt5P2BFcMAgfoCMHeARwiwqQUlt8ZWScQUl\n",
       "0UvDEWZth6q3rcIpHaupB1uE7E57Uk6vul84ipAAMLB62jChgBt8eOadbXDu/7DYxrfd+OUBwK0V\n",
       "LbdC2sEgSFaHXw+LJPYLspFM8/iKqWjuFQPLUareEUaR6EBaMKjUs7p2Td7Qc4SOQl4hKoXLJCi/\n",
       "Y04RjRH6ehmlsTNJj2kzVTW75HU3fIS//agbwgu+LdTkUIeZVHU3VvXEisa1IXlPFaMGYCeQQsIl\n",
       "mptnspUiKiaIfBdE7kBZD9djJtF8Xho/jbu/0RkK7A2u1GIeFMwnKGtv1thnaUNtXcPLqFAruPay\n",
       "/3Y8shikORreaHSLqggX72SvJ9z3XyoIybMDTGL1wtiUMM3f/0PelkxeGsld1z2YQAKH0BhhYCPv\n",
       "Q7rcOd83ukDqyzWF089Y4c+QdEqtAHc9aCQPVdphhg+dhFCe0U3KSvkeiyOFETwe2WbXov6KAm93\n",
       "86j59V6AympFsEFqvMvQh4K9rVH7aEl6GBGt9aGyBFmAiY4XnH6lg+ElSDvWIa5srTiIOzAY83xe\n",
       "hGaayNszXawb4rhkZ1lhiVa4FQTBgJeZBWAl+4GbpQwdg++NEMn2GEezhET9RDumHDRetPJt0GXd\n",
       "Nh/cur5z4V4BHcbTtrvFLp+U+uXg5OIfVZ8a1bn6BDXK46jS2Mnk0vZ25QCN95taP0WjUP+/H3/L\n",
       "ql7KR3/M4JQB1je4FYD2p3y6+5w2AxWPQuaq0t2ba1glqyBL1RDOij+ZQK19xoWhjVwMM8pcg19G\n",
       "Y4Q1q4S7yZ7zzMWTrg7lXp8XDFwET6zkVBPw9VOOMe2zLBllaB25BRNrzkz0mWpCHn7/uhtyvBhk\n",
       "YLeadu1Tm7/iXoV/yWwoU5FZXAMH28VmgpAKUx9ipvNKXgjOHl8MadggdSSVNlH4J/OKj1NVk429\n",
       "sJGJBglnYyHHsp97Q1JgDWAlvy0baLpRmjjqDO/j+B+Ix0PGfZ4WO9P5DEO1wLkbx+McevKGPsoM\n",
       "2uj+YqoznrFKlhrgB7pfNgVSK4Jwp4Vgz0JcisXardMaoySLW6+ShC+Twi/8BnrGR6NusFMJNlF+\n",
       "4Qu2Lo9zQFbMs4p5F34r+EQgH81Po9laAHzb+29GXv/rnfD1INyyPjfBACOsw5hhaOdooNL6FP2+\n",
       "QL1OHHgKxiPeddQAYW+FtNILQzaJgFszPzYbCBIevLOj2sjeNiLAmj54ALLYTRrea47i2GjOVEq/\n",
       "IY0MoqoJxbDGef1CeYoP51r9W6g7ZNATuHyLL2k/g7D9cFxU079cRdxCBlOM/47hQBgLbH5Yha+W\n",
       "ztff6YE8NtalnBsgSPUhqQrc1FGqR7lxVCl97NrMpomalZjWJA4xKh94bG6FICFRGko4oz/gX3fk\n",
       "WUgNJvAIIp9StJDy0DMT2dKJtJ8V5uGu9E3s7/7jGWRzo+QgZIF3TyBrX1XKdM3wRrPH8Ga/i3Vv\n",
       "xOqDiunVpqew31gQYSHsk0Doi7KWhnuLOiWavL9gtNVV38CA53jWVhlHPVqluhX52z4HpTs5pg8d\n",
       "iZcu2DHfjePScsACVIVAV5g+DlFHmkFgmbBDEITYU/aieBR2c21E5X0t2MNLx7OyveffTnQIaoXi\n",
       "N3jHxCYzAgnBRHhQrvspPEo8+Jwns5SCfR4BciJ+I4Q+8PW483sDwMleP/Acn4tV6NG1jTGfQHGu\n",
       "QUt25bTydZyCoByz2/QrzE3igzheFX9hvNCUxUpm/v5jpt7sxrZXSHfILnjiwtNf/OIyhaAaXMID\n",
       "3ROW/ofnrj2XC7si7Cy4e3Ymk4FYU5DawXcHzUIiJQO0jPuGqHMasHob4IXEBkuPg35oHjyk+XWW\n",
       "OtnlMEIwSSmAo5/3IHptu2A2EfQR78lMfHUrdeGzpL9tcelewoehE8wWqcuVKzCWYd8nmMfCN6Sr\n",
       "p5YP+kTUXibsdh3E98fOMmMFzxUSxJ8DqjwxlF/h1WOwN6L5zco7DqvnqYcIpTwC9woISWSCMJXg\n",
       "UBJd3zMBz8eLdm+r/YZKmQgsuTtxCz6xtBEhaMWPkULBnsnTVZAcwxvDCsIT4XJ8t7PCeIzDaG5I\n",
       "G3ZSvC1RLLB7ki+a4n1+fzvO4DYOz2gpWjhKyZ5iWzU2XityFx+QGUlho38AXnKa0x04zjspzk7r\n",
       "o8qfX19fheCNwn2KYs9FlnDqwNBpnRxo7lo/cYuwhbhQP4mjoJsz50xIt7nRBx4lXxfDtxMgALqi\n",
       "oQjfjff6BWGuSee73QYV94jDF1h3M28LqEkoGX924VthB7G2JVAsM+iViHkSibWPHzNC3tQTweQT\n",
       "Kll2ENgNTq8ktUNr8hDINqd5M4rquubxeexX8f746ZRu83aFDkFMAy3t2KruL/24ODMobW44avv4\n",
       "DHmJcW+uP9CegD4sUJzitvnUWMxzsC66gavbNrGWDGk/892QyVyP01Z3RjcTyoSdQHJCX05ECYZM\n",
       "VcLFi8u2QSF2UfKawuwKGE5ApYRqZCYJ4qOCgfwF00k95xAg5kHQ1ox06skx1JW5EVO0crT3Wmds\n",
       "ubZECIe35LjQOMRz/l9MEuUX3hW5V1T5xBZKiy0skIKZmEegJd6voWhdjG/LJ1O1xeH655TGL5+k\n",
       "FNI4VrwBoBFFuqD9ha9dF6P7+tXZVg3DVb4iRxavP/NB4sLHfLckgBdRwAXZ/AEPIw4ztffaWpBO\n",
       "aQ9NQM9gvoIKMQyyCz9u6vDfYvZBS0yF19/kVkdvErkDZ1BrYPcctgLTeV3hxBjyOrqxFzq4F3F3\n",
       "ykN58mkzqhabh96fQVoZYsS/zY4ad+syMXsJ9/EbNGUvObGTwrUDmHQaG4e2iE6kHMLpOUglvHPX\n",
       "emKvsKT9mld8myypUIkdeFmNE7Q187A6AwPd9z6rfyE2zAdNWgyYiznv1r6zo3fB/L6SBzXj+8Zq\n",
       "lWhufubv7S3DbPMa2OPkJZROfwy5BtqqLTz1qwJK87XnjwgXYkFmxxqHwnZkePaCCOOVjVhyGl/Z\n",
       "MiHK4C4vbJSGTted/sF0ROPDZmByaUT2JC2hQPDd3/0+q4uF1q/KhBl6WO8hgNQ/Mv94N0ocqZSe\n",
       "M1888ZMoR9//GroajsBmHOqnAzxPRL4B/HhMDQxFfjHw88y3BO1TaqVl+Nh8jTzCKLXI2dXL6bfS\n",
       "L1craMd0XFvmFP5yIcXaij9Vcd9ShaaX2ofqijyhlXNPR5UW0HZSiVQKPTzb4Ov63CiAbs8fAIM1\n",
       "3//3k1XWwqKjb1k6/R8eQUDN03cF2ePADpBfew8r89FYRxA357pUrBseszr6tAX5TcJBw0fq2j7l\n",
       "NK8UIGHImwOkhav/tWxRN1F0cBXiq00vdUTuU/Orv63zf1Ptq7sD1hxEqHMtwgP7f3ZzF0OS7cG8\n",
       "O+wmTlpWrSaSxdhB0K2zw1kMv40uDF+Mo84b9D/zTOFjCQa6N9kWQA7R90qUR/JUMGw2591BC/hu\n",
       "b28RemlUScH+jKoDYd5D2L5rb2Gc2PpSLIwJndHTbEFhMk8456x3Gbi10iAl4kHI5gibxAygL4KP\n",
       "VCVCQZyjb9uyj8yVs5nz6tWQOrpceIBCNocUaV8JWXW/CkHAFZqKCnOGCbI3uN/dcyE9GzG5JtI8\n",
       "zvAGnerc4bZg13mHRZXCgv1+dMg8G7sVviDZ2wHBFZUHmcCFvYonHfspQlGf8hyqlS5qDnuqXuRF\n",
       "3lqdPdcrwhUbrvEehC0pzlIzktnctglstAU+Te/u9EQ8lDfA4LxDj6LDvXQoQzZxdJmfrvy5mqaj\n",
       "R6Q/jem8VH+F8bQgFHRktft0rKTRt16Bwrwz4gh+V1t/3UFyI6Pbfs4kaHl550QM0dFfh1yeN8ko\n",
       "q9k83yOGE1GFA5kRgpvdmW5ndddiHKfN2K/QRcF3zJiz8GU4D3kT3ybQAqPGJJ91YiKzN+7X6lrF\n",
       "6jHaWR+8k8qtzZdEyPPVMvr5I/f9RlI6BGjkQFZiOXfJVn+f+/w22xJbmNIh+cSf4LiFGxeTUv5L\n",
       "up8IQwcRGd86RWXhbqajXpscBAeLk5fMikCM+NygpkFWiSk4Ux82zszDezInBJj1H47dYC0DCDZX\n",
       "a42gieTeoENhxts/ytLdCzkL1rAXAlv5am/vWjxzRJ0mK95i6z395/wC14Z972hc+OCupw33KRP0\n",
       "JwnwUJpzUGb5PlyO8neVSiBGoxnt98BT5qCfgrVr8fnEMwfSiorpjmUKlJouBdNhAmpM36u18Ave\n",
       "VdPM/XUZHKXWvQkSKtDLv2g9AtuG5mFLZjyyu/PIqnvWe+xpa4n9NoSURzsttiGJeHGkdI6zPqZT\n",
       "28T6Gg53rHAQHrp46saPFCHbj2+bq9f6UVOUpyhd1HAh4uIZwA+ihqjfg5GUE1k/aPcctwFQVljS\n",
       "Dh5gL5+d2K7QgfGpg/NUYQDJHXupyZ5XAIFDdeWUV6Bby7l85X2jUDchdntEgZuSYkh5MA3cPvyc\n",
       "7y8kwHh1WBNTR9Bj4aqMEsHvATKedgIAJdL42ZQYSP0ZsFahlNy5IKHGCCX4TUToWWisRomaMLp8\n",
       "z/LIzjv6Pow2oBk2iRKQ3Mq5oIk2b07lQDGxToHvxBBSHCQYE3sjJGu8SKf8x0XoHS20wIKVZGWN\n",
       "kSJB4syaaU1nPPiV7eEY0k19OP0/XxK2PhwtchX4v1wM5WM3dOmE1L21XSmbElrPhsVEGtRUzKdA\n",
       "QFLJ6RSYGKGz6Q28aLXbekKmBQA+3/p/G8x+3zp7F6tg2eSUSWRwKdHxNZiO6MplJVtjzIXbQZ6j\n",
       "foq8GBhxG7YgXt1f8HD9dwH+Y2Xq2EznW2f/5C06Bf42mQlS4H4Jc6iDdyvV+MgI4XZA4wnwLrra\n",
       "40yH7vEiXnmnWrNlxuFMQbjikUmkn9RHDmrm2xZLwcQzNcp6dSVulnn0ul1YX5UZz7Vh1a6voyOz\n",
       "ycrRFzEEGjJ1hCy9kcTRqzr6U4yosoc6P0ylpeeciHRDFaBys9zIuTbp4BmnOdZzY9Wd97sQ+WHn\n",
       "etDbtzT1hI3HzMd081rPhKIHQFJLrWGYJkfJwp0kkaX3885Xm5gPru5zVl3mJ8kyAaNmsoXrpKXW\n",
       "D8s9Lj17i+IapajVPZ+CubzNcEGcCkLQ9L47+k33vaJ68hcqtSpGOpyUQzq0KESmE3R/izwdZIL0\n",
       "XliBLe1LaQH2SSowFANyT7ag4WWw0x4oEL0f/pVBHC81oiEOQUTck9NY/EGRqNqb8uZb3iTCfPSv\n",
       "AWbqBSgz2FCi0JC2jhG1PmsbPHuYsEy1aIEZEuN5k20zeAswAvSZLbkMhIslay96RWiv3PPVUJtb\n",
       "NDR4R4yAN/2m49cq4QzTahVg/BcFEt/VT2NkP+nQmtKht0DpT+AikBArN1MiSKtFsyuHfD6C/WuV\n",
       "0+ulK5FUW5uWgvX7soDIVS8skM7PNK4iM08gW+t7CTDryOcjXnecFH1rOUuME2NZWeSTIiZwX+5L\n",
       "WnlhRM4E7IPncfK8eqWFB1fe6ctpe31kg3cEnt0ZOUg+M632jFcvUs3/OjjKCElpFpf24DoBVPsI\n",
       "Ll+YB/T6SwN/GmsAPEAIIKP6BaD2703h6vGafVALzs+wuEX1CWYkGQ2DWsdxOoIOqE35lynFerKa\n",
       "vYmXOxzTq7X6SbI39XVda2xXUmYTZmFglnVbEP3nG2wo0bzdXd4eG4Kn4dVoqAvHvsK/N5D3xkm/\n",
       "fDxoK0bz0npSLo8mzf5DF5y5y8l2qDsLHgwedoMOUDNKdSexa8JCOX+Q/LCwxh1HMBG5nOjU0c7T\n",
       "CtmiG0cdfuzi6We5D8wvW2a1NDiyYP/s+h/20Qp+RKOm6uCkQgGM+Zd2AUoEG6RG0aXtnv25Rsjm\n",
       "ryEv7CbpDenUL0Bq4KsDQMn/qhTKe1k5VHN4+8pegMJEg9iA3gZwhFQDZ2eRzkozWhshhrFSYLfb\n",
       "yY4WbIvl7MqkhI8hCedZwduFg9mqAu31ebcQD6Rw6xqVNgKwfb1XBnDSTJq/wKKGgEbdyMuu7w/N\n",
       "aoXKZlGDY82axSu3Y/4zuKwzgpfkMZPqZvt/t7xuZsCM98Ycz+Tr0UVO4nYFsmo74JYplxiKlhJP\n",
       "XBAY8KGI2ATQ4PD6Fbjt4EXy85YhWfjfD8tVhziWaRfs3Jzr7b/SnPtcVPDGUH00tLGZ10/pdM4K\n",
       "A92KZF4v7STtVP6xFNJktweyolA3zNNLEjbi7RoRGeLj+p5JRMVj0SeOuT6iz96wpKk/pwrkIiKt\n",
       "3xFQ6Wht5vnRgfrNpLe5Ba0IZXVin4tJQRtQZ9krvbm9LgBMIL0qGIrMda4J94NmD5U9dqiAEY89\n",
       "wAJBJ/pFJntko11Vn64TcryFSYtXCEVdgRE8myJ/At7qvMfJcFmhT1BUJSlW7x/SQV/hyCMQfcby\n",
       "K3D/MshuHd6NBIAs44kvlCD6ngPb/2FPgh/2r445/tPkVpvz5LGVpaqvPols5XcDW6cyWYlAwMQg\n",
       "i94f6pd6zoOFm8I4FFezdNMwPuNe4/pirrLGBokewoldAdb1iPS+LuStv/18xp4K+PAF3Ta79Vrg\n",
       "TD6QJNZoaCp1vuZGgC1+XOdaZx/m+6JO3i5yTm1/p/Bq4zQ7HHblyNyie/5/vYYrqDOjN1OextLk\n",
       "jUq+1RZ7OYpjLdWG/hXLUa5871cZDtREq9D3wVx5qTi1pVdZek+IR5MgfNMRN3PsjycI2LAFZkU2\n",
       "UZDVYPBv3k+JlS7JVgstmuptYhQFyUXn5iBV6xjnk2QXSehhuR1dLFiktzyLLoZT2jcGRw8XY9mg\n",
       "5V7wMRu9/IlYUq2++DF9na3DXRi+9bMq3bZRb1FR6w2ljWejDGlwneypgJhGYc6y7T+E90D6eI3g\n",
       "l9XhvXpcQTEusR+bCfoaPRonpQKGAC86XpcLGXfeuijNKGwpZDtKqzn7LfDTPSD7SZVM936qHUHV\n",
       "YbhJ+bl62OZY/L4DMc6rVWattaHp4W3JWABH8e2EdXs/B2O0vL6jbyDA9rAPMI35Bbp30Y0vPisH\n",
       "Dd2AJzBja4WhW9wmpK0LyUi1PSW118tz3plpH0JFeNn8jTxCjG9RZRhLMKV2f8qSre8Cxf3eCpUG\n",
       "10XwFsb0YrT3YxRGUTMKbn5N334/c6hhJiLx7AAxzoiY5ZWMfqNUhJYqS29Zv2m4+dV0qCrP7kiX\n",
       "DYmTdMpJfgJvgMQ4p1tKMfx+pxQiZyG6IyP+h+QncdMiunCBfGzduWNdY2sIOj2Xctv/aqGmEPTg\n",
       "dLZ6tWkRRIyuXX2WfXEzhMoxOxn7yeb9Ydq1HY4Z4MhoKMNURw9ylbIh+wImN2enfCF204suXgjL\n",
       "qHXFBWXjY97BJQLbygkfe8c8qLwiugycyFZaeLkHirMV2ZEz/cWQJAwIXmYDZQiIzbcLE34vWX2Q\n",
       "GUEAAAPUQZokbEO//qmWEwDPQBCOuF9yk/WiQaCFNO36+1ntP7z34YBC9pP4+b79S18KCVzAg1Of\n",
       "IKm7+biyq+MzNZfzbV5hjYU3yQQK15R1Og1CtDlfFJyGxOvJESn6Eec07eEw8Tahw7AKhNloy/dS\n",
       "Z23WY7as8B1LA7zR51r8Fxb+V0hgwQskcoGKtWz9yur9wbEtJF57pstgyf4FtlAGKfE38+6tg5tw\n",
       "ApXsg9WC+YyoPjvCl41qMvTsCMteeOudyg1PxIQVWjPlgp1pLhPzewIR/T2UPNM98hCoMCqUba7c\n",
       "ypggxDiaXa+UGzTJBTojSsn/1O1dsjvHtrRAyWMfCNPXTBM3a/WGgrSaRojt3qQIud/Y/0JoCJ4W\n",
       "941DLod41wqGCONP1o78vG/4kw/YpyXovYmvLWway2ehsnlNKPvs2aLxI++vvdSYLkH+IjmBNYRM\n",
       "lb35wECgxHzffJOzc/KSTZk9Fukc+1yzpP8flvvy1Ua+G96k7epT15VsRTyvWAYRvNrjVJ4Ym1/C\n",
       "8WPk0LR+ZPSxJm9HjbTd7W+JNyJBO56II9Qn5IJUA4wAkKRQWLkakn88shzkCxiQv8cCh9A1900D\n",
       "vaPuzszFzELpVE8Axb1keEqLNR/6DGm2H0o81h7tQBuxDRcEviaQpkM3VsapNuMH8MW67ZWOlRu0\n",
       "S+BlOkfFxuuo6CL5BLNq33iLZX/8IL7twpatNgFj5o7pUA7g7IBPUZYBH2iuBHuz0j7VCkyndzTo\n",
       "ZuQ3H93mszrnwZFg2mv/Qg8ALvskNltLyOtSyZRPX50FjjG0G84VNOQWBFVXwP6+iR738X983269\n",
       "U2CHBSPT9Gjr2R1Nuf9B95jMDjv0VpfZuLHAGlbbJIt+Mo75ZMIqFKnWdefIzYBIae04ADVz51jG\n",
       "nKkzhKAxWFtrYDFI3BmD+3pRCIAViCAHIZ5qJRM8p2Rq1dLBjA4JbUIYdnl4ChXzDN2GHNwJpxoH\n",
       "7jSnjB7w2fJRxkEGJywXokZUH2MWn01yzEPuJUFCnf+9rUgk8KPvwJDFEfq7ziEZKourS4JHkUL1\n",
       "JUw+ncs7bhZVfkaYqDu1ZcYyPvvVBkUOTQbBinvqSXBOmEU/mc5HDaORV1YBeQ8VCLAEz60Eg7ai\n",
       "KkFSMi659Xxj2Bhh+T7OxMtE0I94Z6xZb9sx8WmBkCeJc0DVfCAFDyjlwAUOETtT3S75fJRbv/m5\n",
       "WJLbfftV4+Icxr8kyNghuoXqqL6rE6DG9Qmknss5LfgEVpDYGT5P/VPzPLxdPRg+yNbNadH68N8z\n",
       "4h+H2ug04AvI5pPlVSVUmfAAAAFpQZ5CeIZ/AhXjFGWAPHAq5AIEEbwtCd6pYOHocQnAgAa5rKWK\n",
       "LXdrzPiisMSsFqz6WHapVCZLlk74hR13I8a7c0rIVBW97eSMIi4i7lx5eVc/9SGWDcrQNdmhmzFG\n",
       "C9DUm7D0RUqPqukB9JRbtuB8asbc7FHgMJK1zZA+tDP1VywnNeqll+86elE6AFAzu+3xMVFAwxnZ\n",
       "ja29e648Fofqb6pizre/mOagkGmAMnl1gkYOhqw5SNSrOL9zUXSxgTWO13pYYV/N9h05jN33ixjn\n",
       "PxR41f3i7WWMGmY8gZKsjCqhynsQET5QR7v7E/xyUTv4uLycstXn6DxobmRndZ8FB1NHCUa7w/3f\n",
       "cvRxdTLeDv7BdkiSGSe6ESQcA+Bb5oK0Pv3pdLDGNa0xXWf9mQa0d5hdd0UNTJgKKKGw7ULHEsAl\n",
       "USmsLL/1YdnzmZnddioPpC+PdNfs9EnQ1tuVeWYbFdBB51yJb3xiwQAAAQgBnmF0Qr8DmaG+YRIU\n",
       "tRIhIH6hZzEblAAiDppF3tLM2+AeOsDbEY9s1/m0aF9XKxr5zYAjf8WemfrxDHn+O9i2BF9OGSp/\n",
       "cjhux6QF4MtqeQIXZhswib3JW/SeQ0SjTyyRS8WiaI7Ra3MjebmbBnwlOFIKEgDCLRcu0Risyc+D\n",
       "V6OX5gfNWTffPqT2eEREUm676ffqnUp8jY+TqHhUJSyy2r/RNxNXIaBwPpjSgbJVzyoSpsxzij6P\n",
       "b/sJNj3oILi+hgHvVmU/5EzN22+2nxpn+wMRvh0X3QMnXEXnGrggWGrD9wh2EUd6ttiQG2SQDgc+\n",
       "6yyHtnvBBZX+C2UY+sy05tA2yY/Mu+AAAADyAZ5jakK/AOeyrtbXJQtYxAS/GgtacWyT4AEHovYJ\n",
       "6Dilb2p44+sdVlzj7MdibxTyp2TT2neuS/qmiBwn1ovkO/MBv9bdkYcvvKMbBtD/MXC2+3SXdNdE\n",
       "t24qBAjif5T1W4Qg2VlK9xvse6RYsrCyJebaD3JxvawLjWeNXFq8AXIkEMXiXDJCBl/S9hPN164g\n",
       "qWBimVrCmAnPsIEtM+g2/oghDaOjnY1i0hlBNDYqXVH6fVXwIivr/3G78O8s+AG9uaTA30Ml/jkH\n",
       "8Cy11qP8T4aeR3eOawK2htprbL3q3gK11Fa6ceUu8WPp7SNJ/2STw8EAAALBQZpoSahBaJlMCHf/\n",
       "/qmWALDuPAwO1+gAlUf1X/6K30AUTbTeOtV71SbRgJ41psYYcJye0c4pOpHPI9z/YJRsYYA2hbQt\n",
       "CK0eWOaZ/USPuI+JlOoOMidAZCnbhbnvvtzCptq/I7pXfsnwHRbQwcvsFFRcjbHjt/pb4lBmaiC4\n",
       "jse9Vbd2T0N/nc+05xiQCy+0SqpA51twKIVz9pg8iNAlyt6GE2OX9hpdlg9YHERzqirHmQ53mZdC\n",
       "SNnIRI1rRiMiCbWt0IJ7hUKbz+AZoEBbdxuJXRqPUp1sVZVTLJc2yag2n5AWYK+j2kx+GChZS5jO\n",
       "zJal6zzs7XOd57vPCyg9d0+9fprqgAGAOYcuZ8uwZd8MSpz6I9Y02b1MPBeoC/u9cH2dHbGNwBKM\n",
       "jgZLFXNz18VVO68e/W6uj90XEP/8DSH0xfKmm0ir7GLz79EXXg1rA4jZYxZd9YmH31gmYMzfwbKs\n",
       "DRdG9E/bDVum8EHV0VQ7s0YlZeCjQc/mvO4cv3xdFB3jYZSYDVukblf5sweEepkroFBXIUF6pZha\n",
       "xM7FrtMhVOzf0W5xnU9LEcRY/5XmWsFfbv3aKPsIpowH92msw56BAWNJwTkZFKIGy+w5B35qcpO1\n",
       "yhCSdOqAwejlaug4GcMW2QzHVRboAIjihf74fGf/Cxv3YWxuVWbBYdRiRI9Bu2OMrDRaefjbeYcX\n",
       "hNwj341mRuP/F9Qrd8/fy/f/UGDwTQEZqnR3TNg+P1vCuaSKbiTxmKdR9EsZzRV505YwH+Vy/3OW\n",
       "IGvBjvLziCRU4hrXZlrwSYhLcx15LCF7J7W7voK46GrzUtvrx26lHtRKw08UZDN5A9ZpW0ZNZqJo\n",
       "kApBbEkIZlWSe0ppFId4vwOxtR6Q1o8UWNSLBS+JeZUoeAl436G3lFi3apPsmP8WrcAdwtgNiu/2\n",
       "UKm8JgV6LNbdAAABDEGehkURLDP/AJaIS3HZsE1QtFJ/lHcFPKzah9p0S7DavmKQq6kozQHnSAE0\n",
       "r+eJvRB4UMsT95H3wJpcalpbUuFq0gMjRbQIYGmHa7MfYfxcEkIz435HYYYC0LG2arbS0e3DN8GZ\n",
       "fCk0aLJcFuoF5yvS/DQo1W2ZrRzRzgLO3AgmqT12vsIOsA8tONrScnoT4uqIKsdLMGLzIfHuj7Oi\n",
       "22Ifpm9sqZ3Lg61wZbMMWLZa0Insi1yg9iZedQcRSDUuP70vUAMD2BMRx/QvzO+YGTYK7ER72wu0\n",
       "ugCuaaxUz95Sq74AWXRzS/ON+cMSmmHhsbObNmRpYHOYGiBU/jM7BeoFzRMC5QJEcGSqbv8AAADf\n",
       "AZ6ldEK/ARXpBjq2m0kUbFP+w44RhldRhaX6/Up+e7626ADZcUdvVqilHrXxs4q/j6zflRlmk4lP\n",
       "VeP2ts/l7+4FnmunXP9TRpMurvo+a5Qy2mTAKTplggNHBnUOy4QaGqcwK2hJ/JkLF5w8Wi21yWUg\n",
       "PGQTlj/zwFuItvJDsVrmFL/7zzvqvTOsLfUnEXzuJZU9yyxFhEawFcZvHXLPj7hWVtp1iwLwDee2\n",
       "O5fcuvIyhyb6A5TYp8C6CZOowr1dtFIk36/OB/fVbj8tDN5l+908LxP7EMYt9H7UnHeiyQAAAMQB\n",
       "nqdqQr8BFekCHCFHl9kB1CtvwQzYHl3ZGEuMrWhSs+kyo/kgAEPkW04C+MV7PM3Mp7iYr8OD0Bij\n",
       "xeD259eHUQCQG6eenNh7MKrXREqmZpReEDEfqqp9snB2j5+sT5bzwrW813artJz3Snr8Nmm8XTob\n",
       "Rx1XTMPSXN3HDNFJsTmxplWFrxuitdXXjPPTPiPAHWPYRhbJBFk/HkJ7cXc0d4bcJo9zhR3q22JA\n",
       "bZJAOAUQel7NSBujFTq55wEe5fF4sEwwAAAB1EGaqkmoQWyZTBRMO//+qZYAsYI2QzO9AA2ULi+g\n",
       "GSm0T8oHI/V7Hy+fNY3hKiCDHiOWVOuiSTp5LEJvxMkqEe5qGfFiwjILKwSe4fhTVA5FNQWUMlN7\n",
       "WKxLGW9ZNHO/YtzO9F9AJFAEK8+mDYk+BIjBB6SYej0uiQmeH2tz/SlpusL67NuRt6lUs+K58/oE\n",
       "fd8g5OuKNjQFk80GyQl0x8vonx4iIo0Vkuzx9vLlQkkwbhRDaJCif3jT9jZ+UiMhzpHbJBgHJDS5\n",
       "S8fKWpiBH8BgBeneTltXRjHjpYbNdalABV+dDhAmtqb/pHD3RzIlEiFZnoRuSM3vdleuoF3R6gGd\n",
       "FcuOuTR61oI4uM+KGZnU4nADyFbMQmwHV3lc6WEOw90uSkzlDuFrE8K/yEmarabWlGfhGk+1HnAV\n",
       "AGQKJBPo6p8yV2UmqbteQM29WHJVFOcgoJpitJpz2y+8Jif2+EGUUT2oQ+JzKfQfi96JkvCVjBO5\n",
       "rozcd8JbnNsZI8JSPze7ee1+zJMXL+r4xtH/ejhfKD8s+9wSFywAAuncxH2OXFugZCILUOudmUmQ\n",
       "4q3/+QE3hl9NI0kxb8A1pcDHR2044kMb2aShPHHuRKJ5LRwjVXVDJgAAANABnslqQr8BFkuIKCwO\n",
       "m7/gshVQwHACWVUzPqlmW1uAt6O8DnWxY+8UdNQ3AY98L9zfRHmz7kAJNe9mXxGBuvOIHTfTGsun\n",
       "aLBGbPhcTpb8pcaYKi5FwQrvDM4iMuwp6KkRphszeGbyeCWWZqUkqh73KaEN8ZRtyHFJY60NU5o3\n",
       "bt4vUY60Sk3WY3EtwRHnzMMIStgA/3n19E5IrJmuzkAnqDOO7+JcQhGEI0/1KRL/pD5RFN/3WupU\n",
       "SNHH6nIWVopGolu8R6nUO40Fg4C7p0SRAAACPEGazUnhClJlMCHf/qmWA/IwSAFsIMqTkt3PcQwb\n",
       "Yp9kPMZJKgRE45MYLqPcus53wVzD/p3HUYNGUWaLZGnZNJGN52E4fRuA6j+8A54SJdR8pXg15Pzw\n",
       "59WoTOwnxmzHSXmJ+E6yxkU93nkFTThVmiSu0d8V3MhGP8b7zzXPatU8wxmGD0myxH8VXZsBjUg1\n",
       "5UPCQsI7xL57XoxU1TSUuwnZJfYinAUVz94HPtwFIXEZZjaICtxgECb2B1LSP9QZsHd1+wR5gt6u\n",
       "wwctrORgxPpbid3sO5+SySNnAD5y7upQHsbP/vnpldP5UUjm/00I+FwC1GDoNy6KKQHoCV2b0/5q\n",
       "mcqy7L5851ZgPuCj3PtmXYHJKsK8yzx1MVFOfE8wchv1V7PGEkyfa9PRkAT6LvRT91Wl52wnt/bH\n",
       "4Rxenk4KBuem/gCB7M3r1by8GUOMmTgVASidz7UJhbhmvkolUOyrZvM/kPweFf512INApCrxBwiN\n",
       "2v35w/O0V5rtMWUUCDjBJx1dkAZRQzzjD8IDoBi4GDhLVhDNLDnPXv77twfaT9BxduI4xUgCSj6J\n",
       "zee3PLYgf5gMWPLl+jiN4PNlpIqOrcO0zE+0Yx3aFc9gvAyW4pCQZ/3q9rMuj653WaMudysTJ2m3\n",
       "n1AiUREHIScA5ojBOXi3a0qTt7Z+dIGrrjhqQQNzJsmwxZWhNEpmrzpe0hMkKrY9Htt6T+2GeUrZ\n",
       "wJl28/aUtyT6UK6DWM+eLlGR0wcIxmMqFMWxssEzAAAA4kGe60U0TC//AbKMm4/oCHvzWABDeKQ8\n",
       "/UAxYNg8O/Kxt/mkPfSzDotXRmZ3Gdsdj46AXsM6geOC/HnejcfZX0ANLd8d+hJwzDlXiZ5kxX3E\n",
       "CfPLY7N6k+E3F5agaMDH4kAfsMIIV5miXF6XTLXpQT4jJGtH/GLftF3rReUoZFSPSfPH2+UDQnIT\n",
       "m8DO1JaLhOEl5i4vem+UvJ4KY4BNFn+mIlT1jLexhg2mQVXkadkl4XWeAjcVg1ltk+1hbqX8Ff6Q\n",
       "+URWlv9BKscR5km3DOOL5C1MnqNxJK75lXTvTGNW/IAAAADXAZ8MakK/AkqBYAJ0k9oscfopcF6W\n",
       "PFZjn4co44FSYn20H/oP9kyAANWR1b3m0oeDp2mxJzjVSuMXLM+BPoHRQL+mOxWTiQmo0V9cWZY3\n",
       "ufzDqJvaQNaAYrCP5re/KNqodn5vCNYHfdmoqOdasXs/ggsQpsHFSkw+2k7uikq6xdYWEGo7p+bC\n",
       "t1OC49YJFBxq7NV/TltrT/i42uBrjVinSlQJgUhiG4o/qJDKi0bJNPMTNNNxr0Ddd1p7WMrPu/Np\n",
       "4OWYwly0iTfr84H99VuPvzoZDyUTCEUAAAJGQZsQSahBaJlMCG///qeEB7wc+kADi1pmfdnY78Kz\n",
       "vZ1+/Y46fYeTjV43IwA0CX/tgHhzd7TfdIUjlMmtm61iBixZAbIrgYOua096aX3YL3p7Hm3cejQu\n",
       "FbnJwlGG2a5lP0qdPy8dpb717RiZV29hUOX4kXjPV3dZZQ1+MQ+gqwUZ/qGBxF0W0zEGcle/9A3E\n",
       "Bx719fDx+WRMj5kmfM+fN1CHcfD1WYnB1ExF55nIop6vPjEEhaDIcB/ocrgmzsBKKC8VDQH/Z1CJ\n",
       "Vvj2c7BU1+g2hgoEAu9v7yJCoUfZBe2O+ZrBwhV47qjvFRIWk/SZaTUOYXYQ3C585C9VsyHkBjLN\n",
       "vPdwW8Q4IlQOx2NFLa2SwgA4fnyZrg4v9qo2T/I38hBC9yl3OyoR++irl1fOSjg01vLo/AxxXcr/\n",
       "TKGtL4908i42tTUm7mLQdAWrJky2/LFnf/fZOpFeuiKAwr1yytWTI7WttUFNzdfxsbYkwN7vzoqd\n",
       "pY07vL91+hq5EVHHqzSnO9EdUo6QzDEc7flif98hzaANJHjX1drCMAyYJ0UWXLx9jtGNFa602Ymu\n",
       "T8Vx6BDeHGcS9cT5yAIOyiaAhxbJHxH0+wn9DfP0UI5Hb+nwpKv9M/aU0bhA39SoRJ5wKmd1dP9S\n",
       "7ZdM/jZCEPZUVBUGMOe3Jq1oxWfgbkR5NFL9sXUoXWJEcFI6OFmOw6wjh+UsXpqjp4GiJTTdA+0Z\n",
       "kqm5YKs6f5bKJBKawAzV07YQt1tppPrJ7Kd0WU0n4gV2DhJgyqH5AAAA7kGfLkURLC//AMrbMfbt\n",
       "Tz64RoWfDGhjmhurS9NRUlCCAAJvgWjj2IPST9MGsf9ggnpgJ9F7KXr49pl4Q4PrOxNq8dXrpD1Z\n",
       "ZIjONjkfKUZbTIRdzaS7tbalzEmXY1hr5/sLQIu86Unas9DfikAUC5wQuV4TNQaitnLUrUCSSSfU\n",
       "6IZo5lGgIDRvglPr9U2ec5RE79pdRb1xC2Bj61dY6MuFi/gi57RXtBna+T/3yJmkhlpzMuaRinRU\n",
       "yijshLRzgCgYW3qPSARFi98+VQKTXno+bk1kj1NTyx83go8f7h9fIWpk9Rr3HJTjgQ2OCEkAAADJ\n",
       "AZ9PakK/AROzyb/BtPwgA/h9Y7KgOPPjDO56PfNEC8AAWgf3LwwNoxncHc8bVmV8NhzYG1Z66cbB\n",
       "Mbv/vQQoIcko92OjgRsD2BdEIIwDcURZz0dHSR5UuZ+LqLmV/1ZrxSAbtAvArSiAAAAFrH5psbbq\n",
       "qb2joHYTOCvFCeAq1JAzuuRfODAG4fWB7tVkiMf1Qx+WIBHlCCxwAjot9F/AgDTrwJBkpE62egRC\n",
       "W13LwMIlskRKoq+ZaRJv1+cD++q3H5wv2k+AVFYYAAABfUGbUUmoQWyZTAh3//6plgPybrYATV6X\n",
       "9wu8OPeaDKTVwrNlpzWWswmkhf+6RZEpqnfF/G7ltigyckyAzcu4r3FJphV71SfYY9797mWvYJ4/\n",
       "9dsj7dRL0crhaPXADmU/Ezki30TOY5XWs/jpg9Wk+k6Zfoyi9SbQHRbQ10zXnXErt++NF90DtpkZ\n",
       "hVknxiHfTvCef2M27iCwNzt8x25Rz4ndyUtueziLQbFN0FED5a2ahUexROF+VPRxfsoswMUHog2t\n",
       "8YVorYlNkTP9fLhOw9ENn1NHiHJL0a9n03m8O8l79uzwbjoKOIQeb3Xqk0bzbKFegQo3O2PH1T75\n",
       "9t66sz6NzjHS6JArig0vaevft42qjazqTCBggkt7AKIss4HkBExQ/tmkM72RGHWmf+cEK9ldIIlf\n",
       "iOdCk7hQkocGk2QnU3gW5zOHxxNyPYubxRl9SrnKR8vSRH15NYHi8La0MB/7g4Rf/r7lSZDd+5ax\n",
       "2O2TV3uL3ooHBk8smo4RNwAAAhVBm3RJ4QpSZTAh3/6plgP1egoALpNCA2+/SxunDtyRmfwj5bom\n",
       "b5ALrEiLlDnr9th5tRNl7uPoEeWJd1A8muahwyZtGf5SW+S3i815saOUqpwtx1yWhrbXfGInmhHm\n",
       "ZvUslHIcTYZNKMwFRtb2fff+tIn6K5j34Q3Dax27T+VlxWO5/bujhKg0MunHHYPn4Jrclu0H4+fg\n",
       "xP59ozcs/Axn7JUY12tjdDQmdZlepai6GzY6zHR1gbx3ojCu4Wz4DI2gIX9Esn427hmrGchxvCHa\n",
       "pgeGUs/S/sDiVyfJeLJPph9xa5hfW7smXk34O2E2/UC3delkVyBsJdbK7ZIoy5Zd+AkhCUj6r/dE\n",
       "w1xgHWWm7+GZKUlmbQ7nvxjRIApRO5hceshwxL/ZoK7bevKdKMIXG4NZ0gvjprOJHeUyt76IxxqY\n",
       "FG0FctYP3ty80g+vEY4+lV0pyDLKxLT/jI92iOtfkfjJzkdKXR7lMd7b3U9e5Oc85uDMK9gMJP0W\n",
       "WE4tobCRhDvedKdVLnBM0oqO0jm9yHSH959gOWtnBuqwDv7p0PiCfeZmeLoG8fGJCWwE1tO3aWGh\n",
       "y2FdAqUR9UftKvOeWO4OT8B92OiV6Ca/d6DKJmTYOZvOdS43DmVZg6qRBNb01O82aPHJ/icdwS3i\n",
       "i0nEYnTA2Mg/7p58VaTh/mEtU0sVfGiz5LUGxZnwI97upnXIbV8QUQAAAPlBn5JFNEwv/wGvuQV3\n",
       "9b9iw2kQAAIbN5WJJd9fb/SgfQtUNJ8c2HWf68/jQc4fYx5VswEgBe7ewR2DlBaVpg+xCl6JHvqF\n",
       "YJOMGa+Z5MfLWP7fBrlHF7eTzNLewmHHn8nA5jNhh6gqhDz6HGtxoAp+1kar3qJc5nvAa0soYov5\n",
       "ws2Pyqgkn/3/sCYEHLOKWz58toq5a01FYa/gfptP8XTQykMlz9ninNgFUhleVw8anSFBBOshsV/s\n",
       "SJ1S25MqeWHC6eXNMehaKl7nWvKb4yAnXsF94yatuzV/pD5RFaW/0Eq2BJrzFZRrYsm8Klu80OcU\n",
       "mAH0ah0OUMAAAADOAZ+zakK/AkaCZLEAJqYFEY0MCoN7tO21Yn0N8fuLx7GucSYw3cf/qY2N00AB\n",
       "6Qn8Z2VUJJXMSrVJGXxPSCQAEYAaotarX8KcbIKQrzc2t/qu81abhf+/pr65W/dpM+KLPzFbMT7l\n",
       "XtZH2wpc7SN1wHwxiLeYh2Qi6T3s31qPk4aFdnWMVtGi6MUBk4Bv/vPt7A8AI4SBMeEiFBlnsmoG\n",
       "kBpxoB7fXCoJNxMZ9YE0ijzTuWP0NhncyMLhRm6/yFlaKRqkqif1S+e5J2yDjeEAAAHZQZu2SahB\n",
       "aJlMFPDf/qeEB7xoKJAC2dlxFcnoZEJn7XYvyKM0LQnN+YJXDv1yxQE+UW1uBy5PGwV2lHOfJxiM\n",
       "kxaEmDqeOKIbOtQE2h7xEUZ7ib7TbdgiW2jxbEGUq7H9COpTVpIOIjqw3Ufpt/b9JeVFnDIqTOr6\n",
       "dBPzIeQZIDcBX3+d0GNt+5nvCJVNNsdwdcRhB3CprHsJruFe6jKlYIVtXFPei1UkNdy4GopSnM6g\n",
       "UFSdF4ewzAmq2t1L0oiKmZkjRWYlM1XY+V6H+8iT/iwRBwIMwbxKgCNIJH57UfhPTfELjI67Bqt3\n",
       "mrYw0BqCbQ6HrFKwUzio0KtioVp3Tae+FMjtiS/tS5ch9kpRRXlJDV84ZZ/6zq171TtPDArIgUrI\n",
       "GX/B5GCd57iwZON79qHESzb8+F1UY2gbtDJImcMrSXr7p16aGAr3Md7IEl82UZRH+SduABXimT3c\n",
       "3pumCyLA6CT9rWa3JXbwJnzrVbUrI74j4w7LffGCzzJqLGabd0/Sbp1jlO3kLr22tkll3EW17deN\n",
       "bOYiiJWr96aOMIwoPiFfZ8Is3qcrvN6F0hnfAxX75xSCkEOWbK0YmLXCrd9fs8dWUJv0KgOpWvlt\n",
       "q7OedaDXcF0/I0MAAADRAZ/VakK/AR8NA7K0464191wH/BgwQ+TLQo/smS/9fLiDMOzRMn2FC+MK\n",
       "EFO/IgA/aUNTABna4yqxIi4zZjfKtsDN880Km605Lpo3dwQHR6j8Pz+Hb93IFDPWQM3ib/dx0MMb\n",
       "+Rz5kcIpOfMuAAAfah6P7BAARoqGgDk11pM33Jr94/tsYNAKVcRz+av5bL7j+i82liXyUQ9pKUi8\n",
       "LGbewCRPQI9rGVT3If21zgfST3gCkS/6Q+UmCo9l9LQHXysI//vFGuiQmqjQKhoeyuZIGVAAAAGf\n",
       "QZvYSeEKUmUwUsN//qeEB7ipTgBNJQ0lXD50G3WNXagwaJvkYNUStjqvuOsT8nWIdWctE9SbuSts\n",
       "AqiOT3wWP81TwQHRIZtyus1DHNp8wEk2TOZOYp1TAkhrKlZx05NoGtEXlDVPVEavtgQcDpI7duSt\n",
       "8OpK2eaEWrVgbJhyX9UVgmHaH9i4h7WLh4KcQFdpY3V/6v5iwQvL608tpLuKXXFIewrt/wnBVV/w\n",
       "BDSEpZOMsKEl8r0NJCYOkqSgx5riRuiFNfYLOdiHP8SFYL0gxM7Xd8mMoNVLSmsDb2cxZL6uhvhv\n",
       "99hTiO4aY3g2lY691+rLSch/O1M5dq7XCn2DRWXnLHxdIz03P+328WPM8sQ/9d3I7NAJXSqnXsgD\n",
       "JJglcoNCH5qt9xzA+9x5XbZN/WnHWOPjCWmNEStyV2cDc3NK3aBh/4aY8t3RezCSAISCJNzm9MWn\n",
       "V20a0wi+gIb8F7V8o4PB+QlK6SilcPct/GZJ3wESvhLPJmqzLeEI2nHDfPqQRnR9U/pVGxter6pu\n",
       "bRm2sytQ2UpDCQfacmEqYQAAALYBn/dqQr8BG1kwFznJDJwhAQ+N/pBeeUbjwNXu1gnsBcCXI5tR\n",
       "Uu3LyrYVKSvo0MYf9qrzACb3JQ/Iju+nJZV/K11NNfzZjEdyAGdnCfa3I95xHKqQFW6z66jx+MXM\n",
       "rUPbELwPzLFKS0+WftYBBShgyRrEjYB+SmurubRDDi9kOQlbnh+TTyeFRwJd/IhN6HLj83BtsIus\n",
       "dHmncsfobDO5kYb7hT07VSC4o10SE1UaBKivUrtccQAAAc5Bm/pJ4Q6JlMFEw3/+p4QHvBExgAHY\n",
       "tpOKV3nVVWYkyca86E/uy0v9HvcCGyxbMMb0uoB3nrR/lEJF72Fel9jfP1+FabVEBhnYiuz+5N9z\n",
       "h3L9KDlHctiUfZgNsX03YTnukhfk6NwdmG8fC9At3seiybbzat6y+Q2t6bb//SF86/eEzW1pn+Xc\n",
       "QRP0Xu3YEDD8mrDhTY6DUDEI+SArPyQ5F+05VjpsaPQWfpGak4IE+k0SB/xj173RpneQouWR9qm4\n",
       "oaZl2HKz8MsJL+sQxBK75FNV338snmfaRGKx+eqW6cTiG3HBRThFm58hZmDaOsp1pfIpACHLkyor\n",
       "g5046FMffskzaCundwko3oxWnCzno5HXtiLDxS3LOax8HujznULsQG+3LcS/4bUYxHsj5lU1NNUh\n",
       "ZuQuhQslJ72iKJ9nxFu9zWAO1IlUUjaKwQIVg/1BUjsI8vk2fP94L6qb6xkVeYaFD7hCXa8xa8XB\n",
       "4yUDDtBLpC+gdHJL/6gEV4CiXE/RKrHpY6mCm+EdKmhStutLtj2a9xBjznqROA+NjTZ6ded8fs4r\n",
       "HUOq0bm0PXeBu28u5shqkfh/NWdvMB7U0LSRJ/fNPgf6Qub14vj8IxIAAADBAZ4ZakK/ARtZDlnW\n",
       "K6jIoYOGnynWu9DicRuFHVrf7LYJ8c0QGOzS5KKkX1BOzcgevJTACSs3aRRwnJarO+B9vXoE8xZC\n",
       "kc/i91+dhx8JVulRSIPCCUG93/z4UMRO8fdHVCxlAi2szAWGkBKqmE31slcaxq4funODOcpeHwAz\n",
       "9+INz5Swuj9YE48LyUNHqLdj2Y+SQlvTrSbBgbzRfVu1A9cwo807lj9DYZ3MjDfqK1JCv/vFGuiQ\n",
       "mqjQJius9adp6QAAAVZBmhxJ4Q8mUwU8M//+nhAbiqWoAEO5bLjPxDfsdZX5XSJ9nFCDP0tFX9h8\n",
       "owUsr6l/2adgmziVlZaK8POfWh9Ohaif7WbrsmdhMIplTIyK4BRBP5ELXZQ7U0R3kHrq6Z3r2adm\n",
       "5CaaN28klXjdjMYRW6ugFFuZArplUlDL+T30Z6PXYTN8RGZnXXfWRoMDE1IyvaE3Ma5pMnBXmrMG\n",
       "CjSNgEYAzhem8WSf5Crx+SZZTF45dBQXQTHbV8hqroe9QASTjF41cXiADk0MbIIFKYqa73O6aAE3\n",
       "ll0fZ4ORXik2P8Lub4PLlI+QzKl3YWIBDbKRVYmDoshwD/BoC5MS4eeLNAV7q4QLHpK8nwwKnla3\n",
       "AmZCH6KP/dBSqPCy0ddfXEz66+HZOBxSExvCMoJxEaNTWCHFYdprH86VOdJzWxtMgzZsPllv+uMU\n",
       "WxP0SAQDzct5Hxj6EnIAAADMAZ47akK/AjxVppEAAE3/kOulu36qnMdhNX0XrzXBay+gLMhz8AWS\n",
       "B096bJIWEiZD1YOqoCMdnQ/g5u+JyXWhaHF/xMUxEAEzRUfelZhLkGhCrok2CciLhLeRle/xZbFX\n",
       "MLSOdh8Ki3KuOA8Hc7tg3kbt+AbvMIrh+S02748zuGPPzjKS66dm2VV2up17G+a7t+oyHUwGS/1W\n",
       "T4ZLyX+PFvHBJaGPgg3MZF+sUeadyx+hsM7mRhvLja+Dc0ivkLVYTVRoIMKzhFH8gMGBAAAA60Ga\n",
       "PUnhDyZTAhX//jhAbaJ2//ACZonom4EAFvk8NGoxcGxzdjo7MNgsteJgMF3fWZBvVky/Hm4w2huB\n",
       "gy5a0qIFB+tQljEwp9TiFJd21mJa2HbFy8LdGd7wm/ukTe30YLQx6uGgg6WBjQrx8DfvV5VNDMnE\n",
       "bnUsBemraJgfzwV6sbQm3wUhO6/yqm81AtP4nBGO9X8L64y63GrNWOgDxCma/KjWytbGlblVkYoQ\n",
       "Oi9PANBcjGr0rKEbj5uITwuMupfB92/HB7uSkkwWPCdHmncsfobDO5kYWrdxvx0guKNdEhNVGgZW\n",
       "uTdK6vcAAAR+bW9vdgAAAGxtdmhkAAAAAAAAAAAAAAAAAAAD6AAABdwAAQAAAQAAAAAAAAAAAAAA\n",
       "AAEAAAAAAAAAAAAAAAAAAAABAAAAAAAAAAAAAAAAAABAAAAAAAAAAAAAAAAAAAAAAAAAAAAAAAAA\n",
       "AAAAAAAAAgAAA6h0cmFrAAAAXHRraGQAAAADAAAAAAAAAAAAAAABAAAAAAAABdwAAAAAAAAAAAAA\n",
       "AAAAAAAAAAEAAAAAAAAAAAAAAAAAAAABAAAAAAAAAAAAAAAAAABAAAAAAbAAAAEgAAAAAAAkZWR0\n",
       "cwAAABxlbHN0AAAAAAAAAAEAAAXcAAAEAAABAAAAAAMgbWRpYQAAACBtZGhkAAAAAAAAAAAAAAAA\n",
       "AAAoAAAAPABVxAAAAAAALWhkbHIAAAAAAAAAAHZpZGUAAAAAAAAAAAAAAABWaWRlb0hhbmRsZXIA\n",
       "AAACy21pbmYAAAAUdm1oZAAAAAEAAAAAAAAAAAAAACRkaW5mAAAAHGRyZWYAAAAAAAAAAQAAAAx1\n",
       "cmwgAAAAAQAAAotzdGJsAAAAs3N0c2QAAAAAAAAAAQAAAKNhdmMxAAAAAAAAAAEAAAAAAAAAAAAA\n",
       "AAAAAAAAAbABIABIAAAASAAAAAAAAAABAAAAAAAAAAAAAAAAAAAAAAAAAAAAAAAAAAAAAAAAAAAA\n",
       "GP//AAAAMWF2Y0MBZAAV/+EAGGdkABWs2UGwloQAAAMABAAAAwCgPFi2WAEABmjr48siwAAAABx1\n",
       "dWlka2hA8l8kT8W6OaUbzwMj8wAAAAAAAAAYc3R0cwAAAAAAAAABAAAAHgAAAgAAAAAUc3RzcwAA\n",
       "AAAAAAABAAAAAQAAAOhjdHRzAAAAAAAAABsAAAABAAAEAAAAAAEAAAoAAAAAAQAABAAAAAABAAAA\n",
       "AAAAAAEAAAIAAAAAAQAACgAAAAABAAAEAAAAAAEAAAAAAAAAAQAAAgAAAAABAAAGAAAAAAEAAAIA\n",
       "AAAAAQAACAAAAAACAAACAAAAAAEAAAgAAAAAAgAAAgAAAAABAAAEAAAAAAEAAAgAAAAAAgAAAgAA\n",
       "AAABAAAGAAAAAAEAAAIAAAAAAQAABgAAAAABAAACAAAAAAEAAAYAAAAAAQAAAgAAAAABAAAGAAAA\n",
       "AAEAAAIAAAAAAQAABAAAAAAcc3RzYwAAAAAAAAABAAAAAQAAAB4AAAABAAAAjHN0c3oAAAAAAAAA\n",
       "AAAAAB4AABqOAAAD2AAAAW0AAAEMAAAA9gAAAsUAAAEQAAAA4wAAAMgAAAHYAAAA1AAAAkAAAADm\n",
       "AAAA2wAAAkoAAADyAAAAzQAAAYEAAAIZAAAA/QAAANIAAAHdAAAA1QAAAaMAAAC6AAAB0gAAAMUA\n",
       "AAFaAAAA0AAAAO8AAAAUc3RjbwAAAAAAAAABAAAALAAAAGJ1ZHRhAAAAWm1ldGEAAAAAAAAAIWhk\n",
       "bHIAAAAAAAAAAG1kaXJhcHBsAAAAAAAAAAAAAAAALWlsc3QAAAAlqXRvbwAAAB1kYXRhAAAAAQAA\n",
       "AABMYXZmNTcuNTAuMTAw\n",
       "\">\n",
       "  Your browser does not support the video tag.\n",
       "</video>"
      ],
      "text/plain": [
       "<IPython.core.display.HTML object>"
      ]
     },
     "execution_count": 86,
     "metadata": {},
     "output_type": "execute_result"
    }
   ],
   "source": [
    "anim = animation.FuncAnimation(fig, animate, frames=rho_n_lax_wen, interval=50)\n",
    "HTML(anim.to_html5_video())"
   ]
  },
  {
   "cell_type": "markdown",
   "metadata": {},
   "source": [
    "Didn't work out too well"
   ]
  },
  {
   "cell_type": "markdown",
   "metadata": {},
   "source": [
    "### MacCormack scheme:"
   ]
  },
  {
   "cell_type": "code",
   "execution_count": 87,
   "metadata": {
    "collapsed": false
   },
   "outputs": [
    {
     "name": "stderr",
     "output_type": "stream",
     "text": [
      "G:\\Program Files (x86)\\Anaconda\\lib\\site-packages\\ipykernel\\__main__.py:4: RuntimeWarning: overflow encountered in square\n"
     ]
    }
   ],
   "source": [
    "sigma = 0.5\n",
    "dt = sigma*dx/u_max\n",
    "\n",
    "rho_n_mac = maccormack(rho_initial,nt,dt,dx,rho_max,u_max)"
   ]
  },
  {
   "cell_type": "code",
   "execution_count": 88,
   "metadata": {
    "collapsed": false
   },
   "outputs": [
    {
     "data": {
      "text/html": [
       "<video width=\"432.0\" height=\"288.0\" controls autoplay loop>\n",
       "  <source type=\"video/mp4\" src=\"data:video/mp4;base64,AAAAHGZ0eXBNNFYgAAACAGlzb21pc28yYXZjMQAAAAhmcmVlAAA4HW1kYXQAAAKuBgX//6rcRem9\n",
       "5tlIt5Ys2CDZI+7veDI2NCAtIGNvcmUgMTQ4IHIyNzA1IDNmNWVkNTYgLSBILjI2NC9NUEVHLTQg\n",
       "QVZDIGNvZGVjIC0gQ29weWxlZnQgMjAwMy0yMDE2IC0gaHR0cDovL3d3dy52aWRlb2xhbi5vcmcv\n",
       "eDI2NC5odG1sIC0gb3B0aW9uczogY2FiYWM9MSByZWY9MyBkZWJsb2NrPTE6MDowIGFuYWx5c2U9\n",
       "MHgzOjB4MTEzIG1lPWhleCBzdWJtZT03IHBzeT0xIHBzeV9yZD0xLjAwOjAuMDAgbWl4ZWRfcmVm\n",
       "PTEgbWVfcmFuZ2U9MTYgY2hyb21hX21lPTEgdHJlbGxpcz0xIDh4OGRjdD0xIGNxbT0wIGRlYWR6\n",
       "b25lPTIxLDExIGZhc3RfcHNraXA9MSBjaHJvbWFfcXBfb2Zmc2V0PS0yIHRocmVhZHM9OSBsb29r\n",
       "YWhlYWRfdGhyZWFkcz0xIHNsaWNlZF90aHJlYWRzPTAgbnI9MCBkZWNpbWF0ZT0xIGludGVybGFj\n",
       "ZWQ9MCBibHVyYXlfY29tcGF0PTAgY29uc3RyYWluZWRfaW50cmE9MCBiZnJhbWVzPTMgYl9weXJh\n",
       "bWlkPTIgYl9hZGFwdD0xIGJfYmlhcz0wIGRpcmVjdD0xIHdlaWdodGI9MSBvcGVuX2dvcD0wIHdl\n",
       "aWdodHA9MiBrZXlpbnQ9MjUwIGtleWludF9taW49MjAgc2NlbmVjdXQ9NDAgaW50cmFfcmVmcmVz\n",
       "aD0wIHJjX2xvb2thaGVhZD00MCByYz1jcmYgbWJ0cmVlPTEgY3JmPTIzLjAgcWNvbXA9MC42MCBx\n",
       "cG1pbj0wIHFwbWF4PTY5IHFwc3RlcD00IGlwX3JhdGlvPTEuNDAgYXE9MToxLjAwAIAAABZlZYiE\n",
       "ADf//vbw/gU2O5jQlxHN6J0zH78VuLo0N73OAAADAAA33SONum9hL4gEvcA9go26ugmDQqjIxe/F\n",
       "/78+Wq1elnGww/vfI1mVy+rXORGAwO/1b+2LmQeaQGVFbjVEbo4hC2JdjMT7OObQZwBXuCEr/+kA\n",
       "2Smf91PFYHh2Y7DRg9LQq2JBng8yqtT0m/d0grxW8FntZOGcZh3Zo5V+OWE9ktH3rNl40zN7DTo0\n",
       "73JTRjGbN3XtJ0rrLbDG+s8YgLW3wqVt55S7OmQ2yHzz+z8sKpGI7D+O8JYj46uDJ4P5c+dqZfiS\n",
       "0oM4FJZYUfvtBdyCGcNJv/QSTnkNHKSZqVqxdmF2+EHL3jdvF0PUX2GBf9AjcHebcpAX8S/+3Vyu\n",
       "Mo483JLgTBpGRjEUWggIfv6aroqBGn/4eGql66JgvprsJzcrEuVV9p5ljregE+U/snxYoHTP7F5V\n",
       "H78+82tK0eBOBnImgzz2dTcslNrjGGVT9tF/Nc7HnfqfekYITkYg+xE37NhOVv6TfJw2DNa6N22C\n",
       "1En+I2Pftc8OGWqIqwWLEOAug8Jg0LHOtsy0gS7FnQd1HjF6G31JdKjmKEBxvO8em7FW7L87Yjf7\n",
       "a0oezletNgMfL5Sd2VgbN1a1HD3i2cDLSIRmPOmgwfVnEWKybG7n+DKbaT9HkePsgigFkeMeoIN/\n",
       "Ck9JCk0wcohzGIMQeTOHTWJD+BHK8pr2b2XSLBinwShMJAtNxZ7fNFVan3GGmVtlzz07hRinCaOh\n",
       "PERPy/tw5mEW0Ad8yWc1vsQ8cGGqp4B00pQIRkNj0ZBHag/yK/uijV+PVdwhLeIPAAANpEkHO20C\n",
       "XFX15aHSV4sVCoCuoeyHDUYl1GxKzKE6cyQtiRPyd/g9YbsEBMETzrM98NRMZkS+pSkMlrGG89IU\n",
       "nvV3aXs/+U99006mUUiXyVHk8VJopDXMt25PQ0nT7sNMtncQSh9OQL6xnzg/91MSGRNzeNzXbnWX\n",
       "SmqGXGzSEDLeLxyZP+6ZnQNmsg8RgTXXX3ZpG1BmfBYl8Zvt7+B5Ly8LRet00+HhpXVGVT1es8uv\n",
       "5CDVHBm7/47DnqMcFKLouQLyr6x5EhpbPSG6X1ZzPdNDMGB0E7GAn6HzYbtrNHnSEE6YxeuFsShh\n",
       "5X/z/zwlGN7A8OXliWANainJa4/IVm+gmzwT7Buzv2tr8GwQHEiRJiVIpBqOHWM6+h+KCwwwfFJ+\n",
       "6SJcllyvkeEFyAtjwe2WbXov6JxmsmUbG3WAF2hVsTqq7SrzL0IeCvB33S4fB6z4jp5qygJcQAmP\n",
       "PQqALqx/X7XtEztV2Ky+mleSEUY24fymRkVa5brtYN8VwyHUFIxKtcCoJgwE7w5oGyE0PEdnaOpk\n",
       "oCAc9QPtMQWzZVnjhgtqzngWgPA9NI6qXX1AQ+lgdf7XjRhvAKIYlgIglcsljWpl+eCpb1n9TTZt\n",
       "XwPI27aAY8df7Eihtwr1/L7OCWCXnuls7LY2s7yUlY4471oFsoS3kIOJeETLaIfgCjsZ/F49lgB6\n",
       "cCJuegmk/lq8ZP65LvpwQRcJK0FIWkDBXhULoDpZX6MG+yGJ6zgkVvXEqG+YUMxac1pcMtR9j5jb\n",
       "0t5mv1Rmq5x68l6rf8v6ifgQwNufGCHDptGFngC/Au+YBQp0DE/wAC+V0rGhGDe0fCq+bryBi3oW\n",
       "UC+bCNIIuaM7K7M+7lclSJpDRP5N4nxu3NrKwY9ZuKxvLd57g89rHen8hiHq7ge3j8Y2aTZ6x78J\n",
       "W7v6jW4RqSjUE/gEoSi/ubtVuDhTwrBnoS4PXdqt0xqjUPFp5qwVGP+EX/gU0CWgFaBvr+0hX4RK\n",
       "e4AjfNe0zDPX0qHOYiqO5SxdkTmcHkML/4uxTmN4IPNjchErnsZQMo3LGW33r9QG12Goji0kpVvV\n",
       "a73JwTOi1eZzhO+cDTI2GcHb7oUegV8qBd2DVy0u4AwJCqTMPNZYHmdH9E1SM4CTPKx8zYjQfLoX\n",
       "X/m7gnzTsL192lp8LS+PhYcIJDEAC4wkVSIfy2SIzNgzET9q78aN2B4pqHBhRhp8Kf4bw8G64kHp\n",
       "mJ9xI8QJ2hIu8hen0bmF3ESFKMWtGWYhfHeTa5Iyq2ag56cyIBlr910alyqO9dHQPHzfcekRg1WU\n",
       "4lHTqvMxBWkHvMqPhj/7KGu7dvOD6tIv4kLKR9W7Npek8FuvhwvY0h1hZH/StE/Kq8HFVg7Ykm0e\n",
       "bJbG1PhWyBwkhHVD8WxLhTaYfoUGqtCNfkdsBRvq5dpYYQYMMi8RXdv5DIzq06JgLYLC4eJiXyJg\n",
       "S0T+OiSdYFb1mXAOgHGg+VHG71MVFHR2SngDmGLQ1WLXuq969ACbjjxhdZuMJJZfc4A2FJuu38wz\n",
       "Ku+pi65vvs3X8MJrSWyXB8vAna8xwJKywfCELSySyREycMYyc8xrhuD26KBpvdSTguyvOBGhikge\n",
       "isGd+QHdbbI6HZBAHmcMWezypFkHf3tFJv8D8j8u83lkLMr2R9RbYFtDqP1RZiS4221c/ypuZqoA\n",
       "bR+8sDpX+RCkS1k+oNgWLj8esbTY9lVc4FPHPCM3CCv3Ot6hFoah57CeUS/notNlObDYdxPfHzjJ\n",
       "jBhVyjPkXKf2CrFUDLr0cvhSesvjRR5KV87SiXtWiXGbfH9JFtGEkNjFyIrZGOL0vzq7Ubfb3dL9\n",
       "giCbaLSkWFnNMe1ZgRtr8Yy6HPB78WH525Jd2Aphke9LhyoOjxJBc8CKLw0NTH5b8nACRnt7jKaN\n",
       "sSTwlA68xqfgXxASdTKQYFKD1m13+5PelW+AzDNXjAYZ0dzQsSw20EGbIjRJu+6ONh5InX/QyvGX\n",
       "+7xwnk1xx3REB37WQC4h4LL6mrQbbRTAidHf/MHVHTN0JVoMoFvHQKsfP23DoViBxAWrrcx2i6O/\n",
       "vUoD/DFVh4aU8wbIVcRX7Ffx/vjplFRbV0rCOXWk1psUf8I3/0xeBzHjlIrEb8j/QQZD2idp+CM7\n",
       "c0qcZVPMliEtcpw4QUVSc8hV4cEgKXn/576Y6TijbW68oQgB4nH7xJ5VX8yAuBDGx6EbmLzLA7Tb\n",
       "ZR8pf4snCDfEklhGpjxzwzW0WtfAXSKsED7iDm5Wf4An5RIbHUlbkRRNRpWnutM7Zc2yH/fDvyXG\n",
       "gcYjn/L6bcuUX3hW5V1T5tdGuuLdMc1y3IBK9mRXaF5gKUjnf/px/nbI9n8w0yy22kgbvy7nlK8C\n",
       "xB6nPZ60z50MgzrA4MYIfWDs9qvLGL+QBB0zP9/EvQUPbVc/PTRwYPDaNR3ULBa0wMwxmqv/kCOh\n",
       "qkTqs75e7EXL5CVfFIkDodc7NmTjarnMPfzj+VIhQiNYAemFHCH11i3e2lBdgGgNwArgErN4aXDD\n",
       "AYD6gQxXIPLJBhfUcFSxZSkOrXnApoz81psMul2mQkMnyRkHL6RIcR2qiMw5m/Xc1GT8rNxl89ut\n",
       "tt+CfmV7HHyEsonI8CTwebOKE8MW6wUg2hrzx4QSYENMp9oNIPRPpUPMZehS4owzLYJlBVzopCTs\n",
       "R5GD1t18BeOSomcEsZSRvHYMp6H3qn1sE7FXaL5p9xX+56KsfYaCj9BXwW52y7Q28HklR95v5MQi\n",
       "fALdR+2kXu2AEp/HmYML1s/rkIdAR63gv3t/J2Jn8Zmw7LA1Lk370YvOS0JN/O81cV+20XwIbVgh\n",
       "JlFDJtI4+YXmrIh5vNCQxiMHPNcCj0wBy1G/McAj3rBHOl0qf1IedB8jLbaVxAFRZB/nzTbdNdQt\n",
       "L7Wj/Ok2XSsY0YdU+D1om7E0wXh45XjQuXU0r4Ue62VcnYhzsZ6Dy5OmC3/FQS/6X8sbAVB5vsrE\n",
       "bTthbreZdsQ28zBtpFs5m0+VDxCRj8IzkW17S4MXGVlqg8D+2+irAJdOwFd2zG/aI68Km0vrSoFP\n",
       "wtsNvZWPSo/ynuwdoyf6bu3tGcWn24tSUHDMWHuCe7PsmDZjScwvkHVG9yjh3Vtm/inAqNzowYYv\n",
       "m4EXN8zfAAcpEzeRisDhhO9eHbG7/mF4Y6NLZbpccHOkTCXTyMjzHLpf0Lp8iENvzUKqcaaUiyce\n",
       "VLVEft4rP5mjAW/eALJAISob9ZQtd+p5HEH8ZqiHeEOqX5ZW0tQcbBxA422j+3H92Uh/4y4Yl069\n",
       "InqLmHZtC6zlTRO6jkBx4LWoE4rfCckgWMW5zzu7SpytiasYZfmddX/ynTzGepyyy6mjUokGgzPT\n",
       "1935fIRA9seZcBbvoX0YYuH5FxUCYdnPQYotZv3btB0Yt/5sddI0xYc8aWX1zdedUmkaCp1zh47s\n",
       "AE5W6ibSsdURUOJtMZaRi5Z+hqgWjRHjm3H52+v5dOvU5+FixBkO/d/NMtnJnuzCoj8xORjCTcCj\n",
       "bIuXu3fL4KvoGD6QJ7+4jb0A8BCNLNr1oq0TDBHqp6SAtzre8FI7IWWaRwps2glsb7SXloEKRuuH\n",
       "rYBH8ZENhKRdIyxTc1s00bsD3+XrNcb6vLK6f6i3k650Ob4MFOptfUjc+WUsDQjSk0fklmg8oSSP\n",
       "KoITRYPaEg6Okue4OoJ5JBrhHDf+U31MwFMAUWNaApp/jyZ9HIiMxQR4g68uqmoCOOVBxwwHPz5f\n",
       "m9vkqgUoKj2yLuIPDNHGa5CIDlz7qgKb504OwoLsz1lPbxPoQPQTiCtQPImPFyb3rr2DbfKlMqao\n",
       "8a60PNLRrIehDnZKwwWW/DmelHIaIm//ztWtiYqjIHrhywQDRzEp4G7Pivzi/nEKYVkldwJemGpA\n",
       "Gvz96naO/fNts/64XN3T1tifor/QHLyy8WcGLJp96nLRxpBSO77Coq/EC8Gf33AP2pWzNgI1UoDl\n",
       "eR6pyhCqH67MfTACqGeieu81Jxs+8JPKeKeg+uDX9BXGSdtbitjn38YvdA+yKKpt+AWmBk9WNmup\n",
       "dVa4GB78QAdR6pt6hdBUxPe9Yv+aOVtZy4+oAPR9zGAEGSFzZqsmmlCUAYL+jOeMXR66iPlsfdaU\n",
       "fE/FuIhEimnGM5+0MMhTdQqDlSLofQIbRpFm1zjY8+cB9qO5yM8sd7hQg+Hm9oSRSwJ2rmQzt1zZ\n",
       "Hl41+v2FxlkUmZDdXXSMMIVzMDakDSBHDZ+Zpz4YX3EXa59Pj49x/zFr+kxgBanKT0wK4E12hY+7\n",
       "G1pjhOeXRWhHion50rcu5Bi/07dWfZm03ZA4wnwQpumqpE9w9m801S79mGy43Cl+EAxSKTST+ojf\n",
       "AC3NsWS8HEMyFLcrtIbpZ1lDpdWF+VDfdaodW0+pNf0W6dHG6u5cbJ1hCQtkcTRqzr6U4yosmf/P\n",
       "0ylpeeciGwQFaBys9zIuTbpkfmnOdZzY9Vr/o7rvlhfWnwCchZlwETJ5mO6ea1nwk8XiNQ28erZm\n",
       "D7opIFJJGfd/PPbgUYD67uc1Zd5ifJMgLsprKF66Sl1g+0lODyvccHrMGrvM81nid2oZuNhz4LZt\n",
       "9WNIKEfWIH0TyFyq1KkYynJGidKHeB7wj0B+LPB1kfd9eWIEt7UtpArOEi3P5xyoCesroNETTUfa\n",
       "eaFwBBSpB+a0RCWJgj8p/qP4q+93+4OFh7f3aGL72pfAL234FsPvCFHum0aOEbU+axs8TRiwTLVo\n",
       "gRkTI3mTbTN3ujWSGFAkVsMhIslfKYio9t+f/ZAvk2tmho9GwAYh03nTnsKuCM02oVYPwXBRHS2w\n",
       "tmxyQvryqs7+3QOlP4CKQEFTDkyJIq0WzK4dhvoL9a5XT66Urk5LMSe0F6/dlAY+qXlkhnZ5pXEX\n",
       "ePkC31vYSbCANmzw9fMhFK7ZylxfobLKzySZETMi/3Ja08sKJpQxpxOu2RD9bTAfLc9tQ3tNUla2\n",
       "hzMCXWA1yRZhQvR4T5Zd/4AR7hePtrMSZzCkPnGGwrb+RNOXveSWBv401jTdVn9WU1C3I0mJrv+f\n",
       "VApJEqatpz14sm8dwGUeMYAzsH+t2OOyPkVmQwM+6se9IcEt0dTmdo+s6tpdDK6SuQS3oMZK6oie\n",
       "n0uxtCQ1o9guhWgvKLrrkLwEpBePfYUU68z4zDUioRBtRaRfjGgvLctzBcaE0+YZYP0JPvbPjcWi\n",
       "1IY52UNvRjVj57zA9lY6iXEwGLhqC5n78jQM0Z1AdkhU948DpVOIZFEhh6246sTOjiyYP/s+kn4U\n",
       "Qp+K9i6XpboFkDGfMwmbXTlQwQNvS/e4+s8orATV5CX9guqDcXqF6A1cFWBnZh/4Ufn8mtS3XLeP\n",
       "vKXoDCRImHh+VdyElmBf40btzMhn5yQw1f5pvP95McLNkYrBs1b7y42R4JWcHbhYPaEKtt9Xm3EA\n",
       "+kxusalTYCsHuqxwZw0kydn7WpnvLSZcjLsOGuAGqFymZRg1QT/Rdzk3eZAg0vBwUvyGMn1M3T/x\n",
       "BQWZrqM98Ycz+l8QUVO4nYFsmqLdLYplxiKlhJPXbggk6GI2ATQ3Iz6Fbjt4EXy+jYhWfjfD8tVh\n",
       "1eWaRfs3Jzr7b/j55qL1PD+QH00tLGZ4EnpdM4KA92KZGhf7STtXRyZ9NJktoYzz8tr/mCMB8Oxd\n",
       "o0IjPFx/VsEubr3tJPoVlyzdlxcKSpP6bLXhUw0eORVgdccmb50YL8oqq8QFmzQxl1Yp+LSUEbUG\n",
       "/ZK725vS4ATHC9LBiKzHWv5/eDZg+VPXapAA8a6XCCQSem1YJebyZVZ+uE3LI1necKkIy8RpWxOt\n",
       "MX6o2wIrWzHpd++2dgCqpVu8f0kFf4cgjEH3G8itw/zLIbh3ejQSALONh0RL/+p4D2/9imhT/9HA\n",
       "FOf7T6sab8+SxlaWqr06JbOV3A1unclmJQMDEIIvgl+qXes6DhZvEOMRXs3TTMD8DXuP6Yq6yxga\n",
       "IosKJXQHW9CrB4Glzpc//EwF9ghAsiRqFf+i530ploByazQ0FTrfcyM/Oag5c60zj/OV0SdvFzkn\n",
       "I7/T+DVxmh2SW3LkblFF/y8vYxXCiA2Ey4iW6XJGpV9qiz2cxPmW6sN/CuWpBz8NetbG/Nhl6Hvg\n",
       "rjzUnFrSq6y/J8QjyZA+aYibufZHk4RsWAKyhpsoyGpz+r9Va+pM712Aeg8n8YHVMf7HNMT8xAq9\n",
       "YxzybILtgjmiWiczrRZLc8iy6GSHIIoJh5uDchCeWhDDEbvfyJWFKtvvgxfZ2tw2E4vvWzKt22UW\n",
       "9RUesNpY1nowxpcJ3sqYCYRmVAsu0/hLhA+niN4Jeu8b0niUD1V/X04U6xL11R0qtyMgJdCw5AHY\n",
       "Gts8j/kobC9UWub35CtO8NM9IPuoGDvjbGlDwdVhuEn5uXrY5lj8vgMxzqtVZq21oenhbclYAEfx\n",
       "7YR1ez8HY7S8vqNvIMD2sA8wjfkFunfRjS8+KwcN3YAnMGNrhaFb3CakrQvJSLU9JbXXzBPemWiu\n",
       "M0zejz12niFNh6iyjCWYUrs/5UlW94Fi/u8FSoNrovgLY3oxWnuxiiMomYU3Pybvvx+51DCTEXj2\n",
       "ABjnRXRyysY/UapCSxUlt6zftNx86rVXFWgwtNX5EmTdMpJfgJvgMQ4p1tKMfx+pxQiZyG6IyP+h\n",
       "+Qnex4iunCBfGzduWNdY2sIOj2Xc+cLZ1s/GvTgdLbdWsEV/Nun+3z6ZJnKWgkNua4nUnIDy3PyE\n",
       "06l2UkpAKC4j57lK2RD9gRMbs9O+ELtpxZcvBGXUOuKCsvGx72CSgW3lBI+9455UXhFdBk5kKy08\n",
       "XIPFWYrsyJn+4sgR7ASs6UtsThRWe109072WG5xBAAAFmEGaImxDf/6nhCWDf1ACMrd7DokrZpqm\n",
       "LePhJmRY2WtrOGhTB6jfdhCIRYRxP4X+9lrovlcGrJ/tObDFVtCvC8pCctY39y9BSjj5ZiZwlUPO\n",
       "WNbuvJExCs1dOT/YAG6e74BL9tfim2upzsKFkPFjnjOUkZe+DzrdYFsMfwQ4RpITbVydiaa1n6PC\n",
       "2m7GSGhmb2YJTV79oXaSd/0hxrohy7NU3toy6TTFFFSaNM7AlhRLSheth9QyNJsAGm54OHQwdxkf\n",
       "8J6ttG24OrRdJsZzzWNm3rOSw/LHXOJuvHoP8eWaWMQOp1ZUHnEgjR+2aYHlvTb9NVrsgWFh6/9Z\n",
       "bqPcncQnGBsh4AeaO7IJhbSP+LltwfFw1iSwOqxpl4aeNbpG3YxrSK6uPxzcnfnaj/80ubfAaxu0\n",
       "wz3NeJ0wptoDoB1ObEHb7k8uxfPCgL4owFv9tOAOVXDNlik35MHdqmhzMxDChC3kLH607ImcKI1R\n",
       "UQplFqf19UsrH0pLu61c1Jk7jAcIWYFbtn36ChNCT1BcCLYOEGWy4wm4qai80MSMRuL7OWh2OIe5\n",
       "VlizCvoaEGjFXBLpvU47Gs9bPP7UvZuTKrF0ChQvh6sXM1Rc6fzHFYIk6u5C6PMvlLKD4UtgvL80\n",
       "xku0n290QzZ7n3M/GEsOV8PVaJF2peSirfXHe1e1VFrCW4jz0o9oRdR2mnbjWmBXbJzBCGi46j24\n",
       "c21piGPkhWyP8pSXISuShni72s0oB60ya89nOyld1IeYhv5hUvYvhOXXtkiNzRRIDrQvAFrhbDTI\n",
       "QntXF+J7Z/1NVa0tHbQcjY/fjjnAcQzmj55mg7FaAoVVZT4M66hIhrgKhGBXyhyd9gdED3zWQAgu\n",
       "eKQW1Prb5Mf2/8V7PT1UOkJpUAa6lWd4WgDNNrkmMAykR5PMLbPBFMsdtbbJFCaTC/+4qbWmEWe2\n",
       "XCEZhYZ9xv7gXdajde+J0+xIDXA8YCkBYvQ+BjDGszXo8ovMEeKQW2Ca4m6U4EVu9ml5WmOJ3TDF\n",
       "PKjwIo5YZ0qJhDXAFOWXVPRBfiDRHjVocbaxK88ukPiSWU73rLnjYHWfoHqOX930PP+j8qIhiCuP\n",
       "kYwJc3fseq2FYOlWt7+9EQ3nJf20E67Xp1TybAeSDTqnEJf+eNfPVwECMzf7yStSOblfaIbM1Qf9\n",
       "x1uLAzXsoISAa0U2YpuRzwMMogcdq/rLcpqePDL+7oijim22MfsJ2arG4FMKulRHGFGoN8MS+LCk\n",
       "BeA9KnaL7veMwD9NHqcEVeYeQwnZOs/UxmwTFl3TnRyWl6v5xE3KwbrxpVpmK+oar6d6drCvb/UR\n",
       "LkNsI410WqeULPpHUAMdHmEvDMnrCKqAvkIyVeZ1jJOXUj/AL8gqq/J6z8U1MCbauGuQgaR6H+N3\n",
       "KHDAb6EFqRYvNxsS1Jdox0O4kcEKGa1JgUYMzo97wg691htNQfiydd5SbIl/+lLuqXsaTqu9iom6\n",
       "1ILKrwfOtxmT4PImMF0yKTBKx/IKd3FsF8CuPACFV49R/qGsBojWnFosoJOMDYv/pKRIw9tzHNml\n",
       "mrT/kGv5vHnfgIA3QATuV1dN0K+hgLVffVEiHzgftNgrA7CPKXn8GB6h+jNky2FxSGcnnO/3q9UC\n",
       "n9u6SdjY3z7PkAYn20PjAJ1qgjL/bWZNFQvvYKYaljTciHKvP8muVy9fyyDOAo9DHWgMvYbw9YLm\n",
       "eyjICgaydBJxB8AtvLmIQq1LfvBXvK2JQCRXCT7t8cTA/AQRYs1/ss/q0/9W+7h5BgExf3HyoAs8\n",
       "4nJYZPoAOWWn5vXLFAc5UpMgnfoXJupZb4dtsPwOB9sDITjoOR6jW8oAvWdBUS4MX1baNuGf2GDb\n",
       "GIATu4PmxZ+YVkSVL38nQNdf+iTxho/Y4JLd2UKJUbu3c9QRze7A1YAAAAHiAZ5BeQr/A35E01jd\n",
       "4ATV22AeC0w8aZdlELZslyWalWz7TQYoRQZqjiVaCIb7ZCg3XDQ2WsogGrLBkrNzVXV5fiSBcoKJ\n",
       "x9nl87jMI3mkUbBy6cT+mSIqYcbfnKyuY9GIOCTDiVzuKrVL3MpLOb8DwG83QwTID5VItkoe/Afn\n",
       "0YOYiGipfEODoYrKrK7iGUEfjv9Mf0VESMf7RgGCW/yCd5+HzQAmrNt1c/ivnN652dhBHrEF+9hW\n",
       "BJRn7eqSEXm5YF287BQ9zqSGxTK+KYVwSy1mRdFCDcfF1Uc9Bs991LHPLs6JTtJYqgJbibzQEPi1\n",
       "/RQ02HkRqjCypkgaefC/Iug/vKJyu2Cxlgb6t6Z0JKp8oOc9zS9wCVhi8Qj2en9t5DP3TVP+BIy4\n",
       "c2Jv5qjeMtjbup55Vqn5bTAP5JLP8/KXTC0t9Th2ZT9MyEdE2NPorx2uD2WyPdwtNuSZm1606KDL\n",
       "SsBslgLO6sEoUjtDMIIlDPZegQb6ldk6KzCccA+oEQrJJ2pcVCg6uerx4EtPQ6SiX0gs/kkFxwcK\n",
       "XCCPBCEglrM0jpdrE5qU5bXDURlPaa23GY08+o02sw67TrcwFZ8Tlj+pEcbu1qnhIIDof0nZ+XeF\n",
       "QSQTlfNyzkc+syZxg8cAAARVQZpDPCGTKYQ3//6nhCUPCH+AL/Xzcfa791ROWBqumIiNLcbsCZkQ\n",
       "H7YB9pTRxLWKzHYS5YDOugvLdgfRnt/Y1vv9/5vs3bVwVHlv9JCDOhk0MfaGE+bJT17wDSkNxywQ\n",
       "trK2i4AhGPGyvEe/khWze/XPJbDny7e1l18AJJ3WHSMPx72kdsuHRKm82X8CmtKSybfSA51m3pGI\n",
       "hhQUPPTFV9oVAUDJ5nfUeKE922o4Y6Bfzu1Fk9oZsAljo3qIUhWqnx3BZYSJvLbCbQaQwUFuoEXd\n",
       "w7qaw/mL2V0ylEJjddYR9Xa6Yst+WgaLmPfgw2TyvC3rkWRe42WkFEkWsLpFytZfss75bN+KfCcy\n",
       "M8ik2+BDq2/SnpGLiYSo4DFLAR2ORyjZkDDOHSEMCzy3ilc3yTQC2qlKF7tj4Yb82zqqhekeaWJq\n",
       "etqG0tSzWHshruXPHdnA/0OpjrANTcwm9ZDbc3TH81F8xC6+K+0IjcfbXTPfRKlpaDVhm1mnR2jw\n",
       "zrER6wtZ65tXhdSQKSIveq1dqQ4BrCifibzwFOe9cna0UM3JOBcEkoGbgrj8vq4rcQAi43qKlpHb\n",
       "RwNBnpwbyyjQVK5+4vogaarwDKBr9Sv2aDPcf65Xf8cap0JO04p1W5REcMDop+tBwO04NJg009A+\n",
       "qxxZJojWqMj076ynOdEONzD3AsuDCoVTlVvrbfrVSVzr4qm6DFiwcSFhoEcC4iw3KcIHyp1n1NyZ\n",
       "VD97d5190r70uzPnVcW/qvQWc42Rq4l3o6+LxOqCG1LHtMAbKUTu+eIkeUWqjlzQD88uX3IvSpu3\n",
       "kNEVCGs9N3R9055pFcTcN6/R+zHi2N75XLEBZLaaYa4Llvaj6QOLG3+JxYHv6LZkgYGqYFEEytAs\n",
       "yhVcippD5law0jxHZhQEOfxIsi8cyTC/ewKFdap1HYjjLeSCJQRoUYJGGIRtAA7qQvhuZyv7UBA1\n",
       "PLQcYILM8z0CbzNhfdKRJ1IVKOBCIHb9xZDtcgAcgOwjhq8mw7abNSeTCT8aZv/S//sCaeZwF77U\n",
       "CLKg4fYy8kJD7zEH6JxxrHwu99hzHAglG7OitLHQ2lbGspsIQ3AcFjWor/Ai9rGBtbp8EMOpiaJe\n",
       "5JG9dlzNc1VaWxLZkcv6xRe9to7mLFui7TQ5LZAJcJusa9PZheMtwUf8Nd8MuNM4Tb8d///5Hm+R\n",
       "bE3Bzj8ixfgxbqK+1v8TME4I+u9oHJFSvtkCiMZWCXL95E4nGHgaQj6ZdeByeUatxwoUTmDeEI6q\n",
       "RootamzPzVaE9leD4OfAD/5oJddx0tkXFlFlRjXSzwkXUwctxcwQUVRZevStFMyBXcUYmKCdnDge\n",
       "oXh6RwsCCLEf38rYNeZaOMQvIKtyh+bUcr9lCtqxs+tIuvlamh7E0ktTpOsydeb+kl+8Fzhuc+1c\n",
       "J674IXqrbzC7tQBe+i4bQ7M1zAJ6zhAsRNklO1t+b9TbQM9I4CM2fFMsl4AAAAHiQZpkSeEPJlMC\n",
       "Hf/+qZYS7iTAES9w/6wg7v5sSN/Ex0mKYBYxK4VbaSYFQZlQfve3H0h0T7geYPycgBuUcxaUzbMF\n",
       "AP/9D+tMbcbm4p9LNzmYgfiAsJHeOLhlO5h4DbR2NDXgl6y/qCkGPqEiBXrscpu2otNd2/CxWFxL\n",
       "DQkzMf7cAPv+42LwPjKR4IfXfp7Tvcw1saO8xhKVocR9KtuPd+9K5SaCEq/vYShfeBYOpV+5z83x\n",
       "LWjoyC2ryVRKk7g+mDhP09w6WQcCzocDljTq/Tti8PUUMNWl00Er74hgMWEs21elHSIADKGHmDDV\n",
       "MqA5daHRhBilTn5Q0PhRWmlfznGKZUR/cSfysKP8iqfC9wLMoF9/paY+XnkfFqS05EYPmdLG85pn\n",
       "eaJCq0HTv4lW0fMsfw6Wc5++JOcM6jx51ydh1JfMZOeczkn13KJ0x8iLSAMCgEMShSxQiZWLCFsB\n",
       "xcHiLt9cJ92xs/DwZd5Ie5FKhERuk56aQWrcWuPUZnBRB/laWfKfH0oyDH70I4FZnFIskyps8Os/\n",
       "Te/D69VV33+u/HE1d8MI948jgH42yCD+XlWiadG8nu7bsa3eNpBsp8nCcDijccU2f2WgqLM384d0\n",
       "c3lpxisPM5hZ3NiPEnkaRpUAAAGmQZqFSeEPJlMCHf/+qZYPvGegAS+tbJ2JfZ7sCOaOz/wOufsJ\n",
       "855WQPvzw9jjAORuZ6yQDvHiC8J99t5EFZJSqZYtXsiE/ehlXn6ayUfRXoa4o8ECTX0o+XrYAK25\n",
       "cl+kugkmdVPKhhcycCgPSylo/m9WlwvBtuy+ihsZ3fN73UdOokGMi5BNgmIGUOds4Xyw4jeryLQI\n",
       "mnq9J2VKVi3EfbQBD8TV9769PXsZb/c7fthj0qO1Do/xU6BqwAq8DaaGYb2vW57m0963Iw3zg7nS\n",
       "xlmB7BqWo3+rhejSox3uf7VBn9gMru+OhXqLm0ORy5nmNekAHuLgw9WeEzvqF9LQyoK7nscobW11\n",
       "OTNfBHpS4HBJFX2S79Gvx3aI5GXdw1VRWTWE74O0FHhwjcTWZf1jgIbhm+tDdc+G2QJXv2sFTER5\n",
       "SuDrRUUfozg5BQvN8KFfjUVMh0P7GQROcepEE3I/+s5sBh+Y1iFJvNPqS4EZbeIv6t2NDQ3170BA\n",
       "q1uzKZbH/s86WyYJsaALcQwo6Gn5clD9+42FQPNWErOPqO1vTb4UqMHKDukAAAGYQZqpSeEPJlMC\n",
       "G//+p4QlVOZIQCEege7wZ2EgMct+Mq/2xnCgR3n8xAuBxwkkkcFhUaj//r/k2rQ/BEtOQcO49bwc\n",
       "nC+F3w1vwC8SDB5mWl1DPkKuTsmsOYcyiCfHQEz0L4EgxNTKkL+b/GUQEEVZ4JZToSMW0RkejZZ9\n",
       "uZbqwrz1XUOvTbhYgZMI0I3qMdZGBD8TLJhjOzxeXPSzRqambtwUPC1zddJ4Bs33xoLKLPE6B/8f\n",
       "1ln4d3tXD31wb/Kv1S6u1r6Ry2oYH4KsRXdyUJjlx2yGSGFcJjOaO9PyQNi+fSa0jLfjVe3HbYaU\n",
       "lxpTYNkCPdETKM6lm6kbi7hugi8oF4z5beBynm1bzufc4W58pgK0gAAVQn2/ApnnPMejPqIIuT5c\n",
       "EbVo0TS3Z0AUukzN87X1n7UiKeHarcO3TVjw7CJkl5Iv2pxhdrzAbEY2wuoo0JkV4qGzuJ9FHsV9\n",
       "skdW36JACI5UsoI3a/hJdcFchGMIjHKR3lfc3Sv8kTRafK2MAns2BIPBgjMgF9h+QcjguokanIQl\n",
       "AAAA4UGex0URPDP/AhXhDORNrEOhNrOyFMsXszh3gqVi1OJApYiQr+YDL8ArNn1YMw4J3+x3AATr\n",
       "SHZgDatgNf7UI4BHVbfGORu62MabdYFJU60zbvrUP1e6/PrDiFrLJkCmg7yJokmzHUg7xnHWkMml\n",
       "gdI9ZAu07e+pYwzVEEqUTp28LuglUSdLBDeTmB6+rSfc93akX5ysBQS9QBtKDOD8kI8JPQ567s1s\n",
       "bTILvsPqBVjVLNbOqd+iQCAjZWgFdzGU5ibFqEdDgdeokGBbpLhgAA9fqEp+F7JB5BdY+M2wCGJk\n",
       "oQAAALgBnuZ0Qr8DmZsaUmA1gDhwptC6cvWRx/s6GK7BfOyGNFYfEFjcbxUACdvOEIPxa2UXjpoD\n",
       "noN+rgxztoM26ZsHU9jr6NzCR6mS6Aaj7q3RN1CmJ9bvuXDKQhSdqEVt4Qmfu93LYous88yNsegS\n",
       "jW0HQkvNZvvugN5r3Cc2Kp+atXjQgtgKtolK2/GxqDYfXxBh9xr9cP36A1SbclRriYrdlO1jGbOy\n",
       "LfAEmWlcLaKSS6/z0RJyf0A0AAAAUAGe6GpCvwEO13MGQmFWUPYi8Ir4lzamR9VAqltzCAEZrdAB\n",
       "OrJybYmfM7n6t0FL4K0IGR1p5wW6WCuUMgNs28iHDs5ywrc0l0pFgdUT3fWgAAADjkGa60moQWiZ\n",
       "TBTw3/6nhBSZzcAIU9A9we0FxbMxor1qupiV/sIMig/XQwqA1cfRU7m/VF/Fs2vXHX+cLuaEpu+T\n",
       "3Zjm0LJczoIXMZBTYA8DNAMTZWDPRgkYiB514uqbLJWBQ6dUqfzYDodF7+Mu3gg0hTsc5HsHDuDY\n",
       "jsMsW6KyruBYO6yBWY+qE5uMBq6i17rSdagm6bXku0/XB/vaW2JmTCfioIEZCCAi8eqNVaJ1QOeW\n",
       "1qDls3ojDWWoffJZA+0+BALj3R9n9A7LOtT0NAMsHeYHD22w9tepoNmIwPnN9/b6j04j+p+ehLLL\n",
       "pYdJzBjIATfphyUYl/Yr1ZK+q82yR6zcPUWJLpjcA9lSFy2/tfzQjbH7sk6AiJiKNfHySWfvq5/U\n",
       "OQU+/TSKag+5lYeJpuiiBNysCPgLYl0NI55LVHr1KEpUh8xxo/nEIubZlx8R82dF6KJisRXO+qcW\n",
       "lIEa9UikRh5RtXqU9Bj61yecslseYVvp0N/uL9NOx0LQxPmn9SSyo6DlGgxfdcEtPGn/HkEfWXpH\n",
       "AahnQJmpb/DN/xeIKunEIKfmAD0F/pAfytx27oDka4oibyKPA/qY0okFfAZ7J5TYUAa7iUsj0yyL\n",
       "9IRXL4q3Zt4maaab8tvsDN6NEQJh/fCfeadstJXWDyXuPdhChWzyhKOmJnrlcpgkp/poM+eooOBx\n",
       "YBQRcbYYvRaDzm5dmQ6UBx9QJORf6ILU55MDIhthE2yo/9XKcaU3ySUG7ARmBUIU5TzrsXP3BB0R\n",
       "9xUuW9CLtzFe0TI29ZiL91n4rgqkVs7Lo2ghemwbdjlydDMbO/UjDH+xHvt/5Yr/PJgdms4dp1RH\n",
       "UVLlpuOyV+oLibF4CDwN1oV9X3lVyIPfFZgjf9r88tJSWTAgHPV5tn+hAD0/9CTL2CTqqo8pTdnF\n",
       "aXmnhEKzSShKGRgE+sEXsTPPLc6zYL5sqSUJTdMZzBIvWaRUtfxWcq2y6TmLV+xIoagAK53ESwwm\n",
       "dpbUfol18ccOWNKuf5teU6LRenlKjJDpL6rZrbxewV1rw0nldO3dqANFkVzTHy1nLKBcujfjFlRW\n",
       "/NvOaZzKdqae+l4Fsl/j96Q0E0W5NnsfMWub7VMamJZMTcXUcmhdrAacMTYwsCPa+9q+hbZ+jbiR\n",
       "9ZEyKiTYwPQ2f1tRI+JpfP8XR7scYlw3SePfoCXn2fdUjkz2kXTJE11svk/0wV8AAABkAZ8KakK/\n",
       "Axa8eezp+TkzxAnb4+7DM/b/rmV6rb2xQbgqZRfhRB4W4eAWxYuZkf5M68Fs1qc2AE0snJtiZ8zu\n",
       "fq33wIA6brga+8r1aYN8LYkR3ZgGIbeGnLCtrUYdPnpPoxpLKAAAAXpBmwxJ4QpSZTAhv/6nhBTX\n",
       "qLJABzZlC1ckuHD7LWXag6ugeaBoHIB4uIBU6Q1Dm4WYGygsfpj9luSX/E+t/vHkGCGQ/Gh2sKBh\n",
       "aYds/UtOers3BrjoXDAw1KrR8o/ZRr4tYp0mFrB6XdsPxQLqstgSv22i8KoSlTHVXL5MapoNaBQN\n",
       "iVjOSt9bdc25g5UoLVtDXOTiH4GhmOdR3Hi2A0TN93kAeSb1+QFhM3hRObj+7gPnMHsPvKpXRHex\n",
       "kEt2kZUVJq4M1IeycOduB+be8M1EPlclXUfr1VKAJzqTDEa0DbaxfuyunRFh/P9RlfzBXBVYRgeV\n",
       "2zFCbJJYkQKpj48I6knwz8v0DW7nQ4/wzBonSd9XAAEsZCCmxD0thoJftXQ4cYpW29o/A/qzWHsM\n",
       "c2Fj2VmIcyDKEyBqHBvs3PcVW6mU14qcAIKTjnNqA1KNXzhg8cmn0ot1BKDSMeQmRA14ZZOsVQAe\n",
       "/BmclCXP/IJz+DYowP5qY98ahbQAAAGDQZstSeEOiZTAhv/+p4QU6XyG9CQAc2ZCuCy+sVgJo2Vn\n",
       "VAQlH3wzwJ23RvaSnEzPu3aZVTvg54+I3jPbPD1RqZbU+0u0Myvs6JqBqOtHfqMLRA81LN+njby3\n",
       "w9crW2ZRlU8RNbW8cfpef+jwz0LP4g7bWzpfgnOUiWdNgiyAUUNWqIMMyzRsySLfOPSwvJujZp8t\n",
       "2e0NZ4q8AAAL2ZpkrfiU9rLANxHvUy823ur9jHkCyJCFqrR5NfQlfiWCwCl+e1Y/eqiufrksTCEA\n",
       "ZPztlv4WbZ6ahjVF2/NYqAP+GAY0D64bEwuWYM91FHx/av79SUZkHcLfk8ZFzg/h2L4mzeCk07Kv\n",
       "s0llnEkIUaXa++GLrbsZ9xNKBypPdA2cuNkvxdsGOchNIiz4gJZ9JpbuLwbauFatPKNoC7Ir6+Rt\n",
       "FtlBy2pp5n8MSNC9oV8jQAxDnuoIVMFwT+KNxPZki8kPa6ATmg5Uq0IEKMD3LypC4du2EvTGBKzC\n",
       "3+IeQlHFTI1LRSkhAAAA9EGbTknhDyZTAhv//qeEFNcpQ7W9AAaLPdMKqFCbzdaNZMiYwi+fylEE\n",
       "ugBFW4kS6MwK4RP5AG9+BOmZDJA7bc0GzSh0PKDUfx04Q3jgey5lP6zUQO7RFeKrNoXbQpWD45Pw\n",
       "otLiQby0HONEIBnHnbVu7SHXLcXxsVYg+HP6FhPBa1Kk211GySW8L4eynYQ1sPls1B7Fwe+HJL3r\n",
       "58CLZf1vMCSvVWbljynVhqZd0cBadf15OjEb9/No0hAQVUKxkjCzFRstE1D8ERUnTrEL23GidyYR\n",
       "QDU/foeujzatde8Bmb5D2WW9vtBfD+d8fN/GKtRUAccAAACFQZtvSeEPJlMCG//+p4QSLajSzEMo\n",
       "T63pXCtCAUEgaDUG8y5qhv5ptP2oujIySIdxSVTNFt68OFghSXV78YxyTTmFAgQt1VHU4vJV4miZ\n",
       "JDVgkxbiLCGOkl+E4eE24bV81iSiQ41GowfGFguUKKkaRp2V6uH5CxdjrCmHtA5pjLs46ZwHnQAA\n",
       "AEVBm5BJ4Q8mUwId//6plgAACcE9Ta3+IMoWLIkT7gfEAAV1LUOJ3D4+KG/G5vaLKZNiyxGPXzv6\n",
       "SewVfpf0QXJpfyy1vRgAAABHQZuySeEPJlMFETw7//6plgAACc/azTR3KPyNs5kbvFvAon3BAEYu\n",
       "xAKOu2zFGyvT9PaKcP1Bma5FyNb8hII8BFj90KDWPaAAAAA0AZ/RakK/AAAPiA2Gtx50WnaAATqy\n",
       "cm2JnzO5+ree+T664Lb3S4bZY8+X/IZkSqTA/DfQQQAAAD9Bm9RJ4Q8mUwU8N//+p4QAABLum9qW\n",
       "naji7ZExLUARvI1GtxU7Fc5uF94Y83Emtw6cxYOVyEgjwEWP0Glhq0MAAAAxAZ/zakK/AAAPLxyJ\n",
       "urNaXAgBOrJybYmfM7n6t9zGidh3Qq3RcNssefL/kMxHIG2lkAAAAEJBm/ZJ4Q8mUwU8N//+p4QA\n",
       "ABJR6wguFna3Y9wb9wPxiAIhBaTvSWYq69hIx5Uxl30ymvFRYOVyEf76WuP8scabeOkAAAAxAZ4V\n",
       "akK/AAAO1xyJ+tH/ciABOrJybYmfM7n6t9zGfjnbrkbouG2WPPl/yGYjkDbSyAAAAD9BmhdJ4Q8m\n",
       "UwIb//6nhAAAElHfLGu+lxOYP3A/GIAiEFpO9JZirr2EjHlXc2it55/CRYOVyEf76WuP0HZhq0MA\n",
       "AABBQZo5SeEPJlMFETw3//6nhAAAEm6b1+qwE2uAi2ZyJj4YAcJEqh/0/PwE3reVPKAO5ILq/b2+\n",
       "GXn5qbv7BGAL17kAAAA1AZ5YakK/AAAO2BEoVgRK/sRXACdWTk2xM+Z3P1b7j7+gx1u3Olw2yx58\n",
       "v+QzQgfxhcqc94AAAAA8QZpaSeEPJlMCG//+p4QAABHR2gG2+P3GWf3A/GIAWx7FQtReYBDSnKu5\n",
       "tEDhNeB+dp1kqL+5+0doeMR1AAAAQ0Gae0nhDyZTAhn//p4QAABFQ9V15EQ3Qs9mIIAVSP8cM3S7\n",
       "eMV7Ihf660lBnhkGKPrCAvl+PdizYWNR1x9vYIfgGYAAAABBQZqdSeEPJlMFETwr//44QAABDvgb\n",
       "w12jg3hNsTJ4ATSycm2JnzO5+rfxrb4Fq+0Ueadyx+hsM7mRhpNFNBivHu0AAAAuAZ68akK/AAAO\n",
       "gA2GuIV7VmpVk9Gt6CAEhrFHmncsfobDO5kYb2CXjh8z7d+qwQAABF5tb292AAAAbG12aGQAAAAA\n",
       "AAAAAAAAAAAAAAPoAAAF3AABAAABAAAAAAAAAAAAAAAAAQAAAAAAAAAAAAAAAAAAAAEAAAAAAAAA\n",
       "AAAAAAAAAEAAAAAAAAAAAAAAAAAAAAAAAAAAAAAAAAAAAAAAAAACAAADiHRyYWsAAABcdGtoZAAA\n",
       "AAMAAAAAAAAAAAAAAAEAAAAAAAAF3AAAAAAAAAAAAAAAAAAAAAAAAQAAAAAAAAAAAAAAAAAAAAEA\n",
       "AAAAAAAAAAAAAAAAAEAAAAABsAAAASAAAAAAACRlZHRzAAAAHGVsc3QAAAAAAAAAAQAABdwAAAQA\n",
       "AAEAAAAAAwBtZGlhAAAAIG1kaGQAAAAAAAAAAAAAAAAAACgAAAA8AFXEAAAAAAAtaGRscgAAAAAA\n",
       "AAAAdmlkZQAAAAAAAAAAAAAAAFZpZGVvSGFuZGxlcgAAAAKrbWluZgAAABR2bWhkAAAAAQAAAAAA\n",
       "AAAAAAAAJGRpbmYAAAAcZHJlZgAAAAAAAAABAAAADHVybCAAAAABAAACa3N0YmwAAACzc3RzZAAA\n",
       "AAAAAAABAAAAo2F2YzEAAAAAAAAAAQAAAAAAAAAAAAAAAAAAAAABsAEgAEgAAABIAAAAAAAAAAEA\n",
       "AAAAAAAAAAAAAAAAAAAAAAAAAAAAAAAAAAAAAAAAAAAY//8AAAAxYXZjQwFkABX/4QAYZ2QAFazZ\n",
       "QbCWhAAAAwAEAAADAKA8WLZYAQAGaOvjyyLAAAAAHHV1aWRraEDyXyRPxbo5pRvPAyPzAAAAAAAA\n",
       "ABhzdHRzAAAAAAAAAAEAAAAeAAACAAAAABRzdHNzAAAAAAAAAAEAAAABAAAAyGN0dHMAAAAAAAAA\n",
       "FwAAAAEAAAQAAAAAAQAABgAAAAABAAACAAAAAAMAAAQAAAAAAQAACgAAAAABAAAEAAAAAAEAAAAA\n",
       "AAAAAQAAAgAAAAABAAAGAAAAAAEAAAIAAAAABQAABAAAAAABAAAGAAAAAAEAAAIAAAAAAQAABgAA\n",
       "AAABAAACAAAAAAEAAAYAAAAAAQAAAgAAAAABAAAEAAAAAAEAAAYAAAAAAQAAAgAAAAACAAAEAAAA\n",
       "AAEAAAYAAAAAAQAAAgAAAAAcc3RzYwAAAAAAAAABAAAAAQAAAB4AAAABAAAAjHN0c3oAAAAAAAAA\n",
       "AAAAAB4AABkbAAAFnAAAAeYAAARZAAAB5gAAAaoAAAGcAAAA5QAAALwAAABUAAADkgAAAGgAAAF+\n",
       "AAABhwAAAPgAAACJAAAASQAAAEsAAAA4AAAAQwAAADUAAABGAAAANQAAAEMAAABFAAAAOQAAAEAA\n",
       "AABHAAAARQAAADIAAAAUc3RjbwAAAAAAAAABAAAALAAAAGJ1ZHRhAAAAWm1ldGEAAAAAAAAAIWhk\n",
       "bHIAAAAAAAAAAG1kaXJhcHBsAAAAAAAAAAAAAAAALWlsc3QAAAAlqXRvbwAAAB1kYXRhAAAAAQAA\n",
       "AABMYXZmNTcuNTAuMTAw\n",
       "\">\n",
       "  Your browser does not support the video tag.\n",
       "</video>"
      ],
      "text/plain": [
       "<IPython.core.display.HTML object>"
      ]
     },
     "execution_count": 88,
     "metadata": {},
     "output_type": "execute_result"
    }
   ],
   "source": [
    "anim = animation.FuncAnimation(fig, animate, frames=rho_n_mac, interval=50)\n",
    "HTML(anim.to_html5_video())"
   ]
  },
  {
   "cell_type": "markdown",
   "metadata": {},
   "source": [
    "Worked out even less."
   ]
  }
 ],
 "metadata": {
  "anaconda-cloud": {},
  "kernelspec": {
   "display_name": "Python [Root]",
   "language": "python",
   "name": "Python [Root]"
  },
  "language_info": {
   "codemirror_mode": {
    "name": "ipython",
    "version": 3
   },
   "file_extension": ".py",
   "mimetype": "text/x-python",
   "name": "python",
   "nbconvert_exporter": "python",
   "pygments_lexer": "ipython3",
   "version": "3.5.2"
  }
 },
 "nbformat": 4,
 "nbformat_minor": 0
}
