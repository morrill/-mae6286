{
 "cells": [
  {
   "cell_type": "code",
   "execution_count": 1,
   "metadata": {
    "collapsed": true
   },
   "outputs": [],
   "source": [
    "import sympy\n",
    "sympy.init_printing()\n",
    "\n",
    "(u_max, u_star, rho_max, rho_star, A, B) = sympy.symbols('u_max u_star rho_max rho_star A B')"
   ]
  },
  {
   "cell_type": "code",
   "execution_count": 2,
   "metadata": {
    "collapsed": true
   },
   "outputs": [],
   "source": [
    "eq1 = sympy.Eq(0, u_max*rho_max*(1 - A*rho_max - B*rho_max**2))\n",
    "eq2 = sympy.Eq(0, u_max*(1 - 2*A*rho_star - 3*B*rho_star**2))\n",
    "eq3 = sympy.Eq(u_star, u_max*(1 - A*rho_star - B*rho_star**2))"
   ]
  },
  {
   "cell_type": "code",
   "execution_count": 3,
   "metadata": {
    "collapsed": false
   },
   "outputs": [
    {
     "data": {
      "image/png": "[encoded data removed]",
      "text/latex": [
       "$$0 = \\rho_{max} u_{max} \\left(- A \\rho_{max} - B \\rho_{max}^{2} + 1\\right)$$"
      ],
      "text/plain": [
       "              ⎛                2    ⎞\n",
       "0 = ρₘₐₓ⋅uₘₐₓ⋅⎝-A⋅ρₘₐₓ - B⋅ρₘₐₓ  + 1⎠"
      ]
     },
     "execution_count": 3,
     "metadata": {},
     "output_type": "execute_result"
    }
   ],
   "source": [
    "eq1"
   ]
  },
  {
   "cell_type": "code",
   "execution_count": 4,
   "metadata": {
    "collapsed": false
   },
   "outputs": [
    {
     "data": {
      "image/png": "[encoded data removed]",
      "text/latex": [
       "$$0 = u_{max} \\left(- 2 A \\rho_{star} - 3 B \\rho_{star}^{2} + 1\\right)$$"
      ],
      "text/plain": [
       "         ⎛                      2    ⎞\n",
       "0 = uₘₐₓ⋅⎝-2⋅A⋅ρₛₜₐᵣ - 3⋅B⋅ρₛₜₐᵣ  + 1⎠"
      ]
     },
     "execution_count": 4,
     "metadata": {},
     "output_type": "execute_result"
    }
   ],
   "source": [
    "eq2"
   ]
  },
  {
   "cell_type": "code",
   "execution_count": 5,
   "metadata": {
    "collapsed": false
   },
   "outputs": [
    {
     "data": {
      "image/png": "[encoded data removed]",
      "text/latex": [
       "$$u_{star} = u_{max} \\left(- A \\rho_{star} - B \\rho_{star}^{2} + 1\\right)$$"
      ],
      "text/plain": [
       "             ⎛                  2    ⎞\n",
       "uₛₜₐᵣ = uₘₐₓ⋅⎝-A⋅ρₛₜₐᵣ - B⋅ρₛₜₐᵣ  + 1⎠"
      ]
     },
     "execution_count": 5,
     "metadata": {},
     "output_type": "execute_result"
    }
   ],
   "source": [
    "eq3"
   ]
  },
  {
   "cell_type": "code",
   "execution_count": 6,
   "metadata": {
    "collapsed": true
   },
   "outputs": [],
   "source": [
    "# biskets, 38/box, 1.5 biskets/day\n",
    "# 150 mg max CBD"
   ]
  },
  {
   "cell_type": "code",
   "execution_count": 9,
   "metadata": {
    "collapsed": false
   },
   "outputs": [
    {
     "data": {
      "image/png": "[encoded data removed]",
      "text/latex": [
       "$$- 3 u_{star} = u_{max} \\left(- 2 A \\rho_{star} - 3 B \\rho_{star}^{2} + 1\\right) - 3 u_{max} \\left(- A \\rho_{star} - B \\rho_{star}^{2} + 1\\right)$$"
      ],
      "text/plain": [
       "                ⎛                      2    ⎞          ⎛                  2   \n",
       "-3⋅uₛₜₐᵣ = uₘₐₓ⋅⎝-2⋅A⋅ρₛₜₐᵣ - 3⋅B⋅ρₛₜₐᵣ  + 1⎠ - 3⋅uₘₐₓ⋅⎝-A⋅ρₛₜₐᵣ - B⋅ρₛₜₐᵣ  + \n",
       "\n",
       " ⎞\n",
       "1⎠"
      ]
     },
     "execution_count": 9,
     "metadata": {},
     "output_type": "execute_result"
    }
   ],
   "source": [
    "eq4 = sympy.Eq(eq2.lhs - 3*eq3.lhs, eq2.rhs - 3*eq3.rhs)\n",
    "eq4"
   ]
  },
  {
   "cell_type": "code",
   "execution_count": 10,
   "metadata": {
    "collapsed": false
   },
   "outputs": [
    {
     "data": {
      "image/png": "[encoded data removed]",
      "text/latex": [
       "$$3 u_{star} = - u_{max} \\left(A \\rho_{star} - 2\\right)$$"
      ],
      "text/plain": [
       "3⋅uₛₜₐᵣ = -uₘₐₓ⋅(A⋅ρₛₜₐᵣ - 2)"
      ]
     },
     "execution_count": 10,
     "metadata": {},
     "output_type": "execute_result"
    }
   ],
   "source": [
    "eq4.simplify()"
   ]
  },
  {
   "cell_type": "code",
   "execution_count": 11,
   "metadata": {
    "collapsed": false
   },
   "outputs": [
    {
     "data": {
      "image/png": "[encoded data removed]",
      "text/latex": [
       "$$- 3 u_{star} = u_{max} \\left(- 2 A \\rho_{star} - 3 B \\rho_{star}^{2} + 1\\right) - 3 u_{max} \\left(- A \\rho_{star} - B \\rho_{star}^{2} + 1\\right)$$"
      ],
      "text/plain": [
       "                ⎛                      2    ⎞          ⎛                  2   \n",
       "-3⋅uₛₜₐᵣ = uₘₐₓ⋅⎝-2⋅A⋅ρₛₜₐᵣ - 3⋅B⋅ρₛₜₐᵣ  + 1⎠ - 3⋅uₘₐₓ⋅⎝-A⋅ρₛₜₐᵣ - B⋅ρₛₜₐᵣ  + \n",
       "\n",
       " ⎞\n",
       "1⎠"
      ]
     },
     "execution_count": 11,
     "metadata": {},
     "output_type": "execute_result"
    }
   ],
   "source": [
    "eq4"
   ]
  },
  {
   "cell_type": "code",
   "execution_count": 12,
   "metadata": {
    "collapsed": false
   },
   "outputs": [
    {
     "data": {
      "image/png": "[encoded data removed]",
      "text/latex": [
       "$$- 3 u_{star} = A \\rho_{star} u_{max} - 2 u_{max}$$"
      ],
      "text/plain": [
       "-3⋅uₛₜₐᵣ = A⋅ρₛₜₐᵣ⋅uₘₐₓ - 2⋅uₘₐₓ"
      ]
     },
     "execution_count": 12,
     "metadata": {},
     "output_type": "execute_result"
    }
   ],
   "source": [
    "eq4.expand()"
   ]
  },
  {
   "cell_type": "code",
   "execution_count": 13,
   "metadata": {
    "collapsed": false
   },
   "outputs": [
    {
     "data": {
      "image/png": "[encoded data removed]",
      "text/latex": [
       "$$\\frac{1}{A u_{max}} \\left(2 u_{max} - 3 u_{star}\\right)$$"
      ],
      "text/plain": [
       "2⋅uₘₐₓ - 3⋅uₛₜₐᵣ\n",
       "────────────────\n",
       "     A⋅uₘₐₓ     "
      ]
     },
     "execution_count": 13,
     "metadata": {},
     "output_type": "execute_result"
    }
   ],
   "source": [
    "rho_sol = sympy.solve(eq4,rho_star)[0]\n",
    "rho_sol"
   ]
  },
  {
   "cell_type": "code",
   "execution_count": 15,
   "metadata": {
    "collapsed": false
   },
   "outputs": [
    {
     "data": {
      "image/png": "[encoded data removed]",
      "text/latex": [
       "$$\\frac{1}{\\rho_{max}^{2}} \\left(- A \\rho_{max} + 1\\right)$$"
      ],
      "text/plain": [
       "-A⋅ρₘₐₓ + 1\n",
       "───────────\n",
       "       2   \n",
       "   ρₘₐₓ    "
      ]
     },
     "execution_count": 15,
     "metadata": {},
     "output_type": "execute_result"
    }
   ],
   "source": [
    "B_sol = sympy.solve(eq1,B)[0]\n",
    "B_sol"
   ]
  },
  {
   "cell_type": "code",
   "execution_count": 16,
   "metadata": {
    "collapsed": false
   },
   "outputs": [
    {
     "data": {
      "image/png": "[encoded data removed]",
      "text/latex": [
       "$$0 = u_{max} \\left(1 - \\frac{1}{u_{max}} \\left(4 u_{max} - 6 u_{star}\\right) - \\frac{3 \\left(2 u_{max} - 3 u_{star}\\right)^{2}}{A^{2} \\rho_{max}^{2} u_{max}^{2}} \\left(- A \\rho_{max} + 1\\right)\\right)$$"
      ],
      "text/plain": [
       "         ⎛                                               2              ⎞\n",
       "         ⎜    2⋅(2⋅uₘₐₓ - 3⋅uₛₜₐᵣ)   3⋅(2⋅uₘₐₓ - 3⋅uₛₜₐᵣ) ⋅(-A⋅ρₘₐₓ + 1)⎟\n",
       "0 = uₘₐₓ⋅⎜1 - ──────────────────── - ───────────────────────────────────⎟\n",
       "         ⎜            uₘₐₓ                       2     2     2          ⎟\n",
       "         ⎝                                      A ⋅ρₘₐₓ ⋅uₘₐₓ           ⎠"
      ]
     },
     "execution_count": 16,
     "metadata": {},
     "output_type": "execute_result"
    }
   ],
   "source": [
    "quadA = eq2.subs([(rho_star, rho_sol), (B,B_sol)])\n",
    "quadA"
   ]
  },
  {
   "cell_type": "code",
   "execution_count": 17,
   "metadata": {
    "collapsed": false
   },
   "outputs": [
    {
     "data": {
      "image/png": "[encoded data removed]",
      "text/latex": [
       "$$- 3 u_{max} + 6 u_{star} + \\frac{3 \\left(2 u_{max} - 3 u_{star}\\right)^{2}}{A \\rho_{max} u_{max}} - \\frac{3 \\left(2 u_{max} - 3 u_{star}\\right)^{2}}{A^{2} \\rho_{max}^{2} u_{max}} = 0$$"
      ],
      "text/plain": [
       "                                        2                       2    \n",
       "                    3⋅(2⋅uₘₐₓ - 3⋅uₛₜₐᵣ)    3⋅(2⋅uₘₐₓ - 3⋅uₛₜₐᵣ)     \n",
       "-3⋅uₘₐₓ + 6⋅uₛₜₐᵣ + ───────────────────── - ───────────────────── = 0\n",
       "                         A⋅ρₘₐₓ⋅uₘₐₓ             2     2             \n",
       "                                                A ⋅ρₘₐₓ ⋅uₘₐₓ        "
      ]
     },
     "execution_count": 17,
     "metadata": {},
     "output_type": "execute_result"
    }
   ],
   "source": [
    "quadA.simplify()"
   ]
  },
  {
   "cell_type": "code",
   "execution_count": 18,
   "metadata": {
    "collapsed": false
   },
   "outputs": [
    {
     "data": {
      "image/png": "[encoded data removed]",
      "text/latex": [
       "$$\\frac{1}{2 \\rho_{max} u_{max} \\left(u_{max} - 2 u_{star}\\right)} \\left(\\sqrt{- u_{star} \\left(4 u_{max} - 9 u_{star}\\right)} \\left(- 2 u_{max} + 3 u_{star}\\right) + \\left(2 u_{max} - 3 u_{star}\\right)^{2}\\right)$$"
      ],
      "text/plain": [
       "  ___________________________                                         2\n",
       "╲╱ -uₛₜₐᵣ⋅(4⋅uₘₐₓ - 9⋅uₛₜₐᵣ) ⋅(-2⋅uₘₐₓ + 3⋅uₛₜₐᵣ) + (2⋅uₘₐₓ - 3⋅uₛₜₐᵣ) \n",
       "───────────────────────────────────────────────────────────────────────\n",
       "                      2⋅ρₘₐₓ⋅uₘₐₓ⋅(uₘₐₓ - 2⋅uₛₜₐᵣ)                     "
      ]
     },
     "execution_count": 18,
     "metadata": {},
     "output_type": "execute_result"
    }
   ],
   "source": [
    "A_sol = sympy.solve(quadA, A)\n",
    "A_sol[0]"
   ]
  },
  {
   "cell_type": "code",
   "execution_count": 19,
   "metadata": {
    "collapsed": false
   },
   "outputs": [
    {
     "data": {
      "image/png": "[encoded data removed]",
      "text/latex": [
       "$$\\frac{1}{2 \\rho_{max} u_{max} \\left(u_{max} - 2 u_{star}\\right)} \\left(2 u_{max} - 3 u_{star}\\right) \\left(2 u_{max} - 3 u_{star} + \\sqrt{- u_{star} \\left(4 u_{max} - 9 u_{star}\\right)}\\right)$$"
      ],
      "text/plain": [
       "                   ⎛                     ___________________________⎞\n",
       "(2⋅uₘₐₓ - 3⋅uₛₜₐᵣ)⋅⎝2⋅uₘₐₓ - 3⋅uₛₜₐᵣ + ╲╱ -uₛₜₐᵣ⋅(4⋅uₘₐₓ - 9⋅uₛₜₐᵣ) ⎠\n",
       "─────────────────────────────────────────────────────────────────────\n",
       "                     2⋅ρₘₐₓ⋅uₘₐₓ⋅(uₘₐₓ - 2⋅uₛₜₐᵣ)                    "
      ]
     },
     "execution_count": 19,
     "metadata": {},
     "output_type": "execute_result"
    }
   ],
   "source": [
    "A_sol[1]"
   ]
  },
  {
   "cell_type": "code",
   "execution_count": 22,
   "metadata": {
    "collapsed": false
   },
   "outputs": [
    {
     "data": {
      "image/png": "[encoded data removed]",
      "text/latex": [
       "$$-0.0171107219255619$$"
      ],
      "text/plain": [
       "-0.0171107219255619"
      ]
     },
     "execution_count": 22,
     "metadata": {},
     "output_type": "execute_result"
    }
   ],
   "source": [
    "# negative root\n",
    "A_sol[0].evalf(subs={u_star: 0.7, u_max: 1.0, rho_max: 10.0})"
   ]
  },
  {
   "cell_type": "code",
   "execution_count": 24,
   "metadata": {
    "collapsed": false
   },
   "outputs": [
    {
     "data": {
      "image/png": "[encoded data removed]",
      "text/latex": [
       "$$0.0146107219255619$$"
      ],
      "text/plain": [
       "0.0146107219255619"
      ]
     },
     "execution_count": 24,
     "metadata": {},
     "output_type": "execute_result"
    }
   ],
   "source": [
    "# positive root\n",
    "aval = A_sol[1].evalf(subs={u_star: 0.7, u_max: 1.0, rho_max: 10.0})\n",
    "aval"
   ]
  },
  {
   "cell_type": "code",
   "execution_count": 26,
   "metadata": {
    "collapsed": false
   },
   "outputs": [
    {
     "data": {
      "image/png": "[encoded data removed]",
      "text/latex": [
       "$$0.00853892780744381$$"
      ],
      "text/plain": [
       "0.00853892780744381"
      ]
     },
     "execution_count": 26,
     "metadata": {},
     "output_type": "execute_result"
    }
   ],
   "source": [
    "bval = B_sol.evalf(subs={rho_max:10.0, A:aval})\n",
    "bval"
   ]
  },
  {
   "cell_type": "code",
   "execution_count": 27,
   "metadata": {
    "collapsed": true
   },
   "outputs": [],
   "source": [
    "# turning off latax\n",
    "sympy.init_printing(use_latex=False)"
   ]
  },
  {
   "cell_type": "markdown",
   "metadata": {},
   "source": [
    "### Green light: take 2\n",
    "check on rho_max and u_max typing:"
   ]
  },
  {
   "cell_type": "code",
   "execution_count": 28,
   "metadata": {
    "collapsed": false
   },
   "outputs": [
    {
     "name": "stdout",
     "output_type": "stream",
     "text": [
      "<class 'sympy.core.symbol.Symbol'> <class 'sympy.core.symbol.Symbol'>\n"
     ]
    }
   ],
   "source": [
    "print(type(rho_max), type(u_max))"
   ]
  },
  {
   "cell_type": "code",
   "execution_count": 29,
   "metadata": {
    "collapsed": true
   },
   "outputs": [],
   "source": [
    "# re-define them as float to make numpy happy\n",
    "rho_max = 10.\n",
    "u_max = 1."
   ]
  },
  {
   "cell_type": "code",
   "execution_count": 43,
   "metadata": {
    "collapsed": false
   },
   "outputs": [],
   "source": [
    "# functions\n",
    "# compute flux\n",
    "def computeF(u_max, rho, aval, bval):\n",
    "    return u_max*rho*(1 - aval*rho - bval*rho**2)\n",
    "\n",
    "# initial condition\n",
    "def rho_green_light(nx, rho_light):\n",
    "    \n",
    "    rho_initial = numpy.arange(nx)*2./nx*rho_light # before stoplight\n",
    "    rho_initial[int((nx-1)/2):] = 0                # after stoplight\n",
    "    return rho_initial\n",
    "\n",
    "# forward time/backward space scheme\n",
    "def ftbs(rho,nt,dt,dx,rho_max,u_max):\n",
    "    # initialize our results array with dimensionos nt by nx\n",
    "    rho_n = numpy.zeros((nt,len(rho)))\n",
    "    \n",
    "    #copy initial u array into each row of our new array\n",
    "    rho_n[0,:] = rho.copy()\n",
    "    \n",
    "    for t in range(1,nt):\n",
    "        F = computeF(u_max,rho,aval,bval)\n",
    "        rho_n[t,1:] = rho[1:] - dt/dx*(F[1:]-F[:-1])\n",
    "        rho_n[t,0] = rho[0]\n",
    "        rho_n[t,-1] = rho[-1]\n",
    "        rho = rho_n[t].copy()\n",
    "    return rho_n"
   ]
  },
  {
   "cell_type": "code",
   "execution_count": 34,
   "metadata": {
    "collapsed": false
   },
   "outputs": [],
   "source": [
    "import numpy\n",
    "from matplotlib import pyplot, rcParams\n",
    "%matplotlib inline\n",
    "rcParams['font.family'] = 'serif'\n",
    "rcParams['font.size'] = 16"
   ]
  },
  {
   "cell_type": "code",
   "execution_count": 36,
   "metadata": {
    "collapsed": true
   },
   "outputs": [],
   "source": [
    "# initial condition paramters\n",
    "# grid size, time steps\n",
    "nx = 81\n",
    "nt = 30\n",
    "dx = 4.0/(nx-1)\n",
    "\n",
    "x = numpy.linspace(0,4,nx)\n",
    "\n",
    "rho_light = 5.5"
   ]
  },
  {
   "cell_type": "code",
   "execution_count": 37,
   "metadata": {
    "collapsed": true
   },
   "outputs": [],
   "source": [
    "rho_initial = rho_green_light(nx, rho_light)"
   ]
  },
  {
   "cell_type": "code",
   "execution_count": 39,
   "metadata": {
    "collapsed": false
   },
   "outputs": [
    {
     "data": {
      "image/png": "[encoded data removed]",
      "text/plain": [
       "<matplotlib.figure.Figure at 0x17367b77208>"
      ]
     },
     "metadata": {},
     "output_type": "display_data"
    }
   ],
   "source": [
    "pyplot.plot(x, rho_initial, color='#003366', ls='-', lw=3)\n",
    "pyplot.ylim(-0.5,11.);"
   ]
  },
  {
   "cell_type": "code",
   "execution_count": 44,
   "metadata": {
    "collapsed": false
   },
   "outputs": [],
   "source": [
    "sigma = 1.\n",
    "dt = sigma*dx/u_max\n",
    "\n",
    "rho_n = ftbs(rho_initial,nt,dt,dx,rho_max,u_max)"
   ]
  },
  {
   "cell_type": "code",
   "execution_count": 45,
   "metadata": {
    "collapsed": true
   },
   "outputs": [],
   "source": [
    "from matplotlib import animation\n",
    "from IPython.display import HTML"
   ]
  },
  {
   "cell_type": "code",
   "execution_count": 47,
   "metadata": {
    "collapsed": false
   },
   "outputs": [
    {
     "data": {
      "image/png": "[encoded data removed]",
      "text/plain": [
       "<matplotlib.figure.Figure at 0x17367b77860>"
      ]
     },
     "metadata": {},
     "output_type": "display_data"
    }
   ],
   "source": [
    "fig = pyplot.figure();\n",
    "ax = pyplot.axes(xlim=(0,4),ylim=(-1,8),xlabel='Distance',ylabel='Traffic density');\n",
    "line, = ax.plot([],[],color='#003366', lw=2);\n",
    "\n",
    "def animate(data):\n",
    "    x = numpy.linspace(0,4,nx)\n",
    "    y = data\n",
    "    line.set_data(x,y)\n",
    "    return line,\n",
    "\n",
    "anim = animation.FuncAnimation(fig, animate, frames=rho_n, interval=50)"
   ]
  },
  {
   "cell_type": "code",
   "execution_count": 49,
   "metadata": {
    "collapsed": false
   },
   "outputs": [
    {
     "data": {
      "text/html": [
       "<video width=\"432.0\" height=\"288.0\" controls autoplay loop>\n",
       "  <source type=\"video/mp4\" src=\"data:video/mp4;base64,AAAAHGZ0eXBNNFYgAAACAGlzb21pc28yYXZjMQAAAAhmcmVlAAA6PG1kYXQAAAKuBgX//6rcRem9\n",
       "5tlIt5Ys2CDZI+7veDI2NCAtIGNvcmUgMTQ4IHIyNzA1IDNmNWVkNTYgLSBILjI2NC9NUEVHLTQg\n",
       "QVZDIGNvZGVjIC0gQ29weWxlZnQgMjAwMy0yMDE2IC0gaHR0cDovL3d3dy52aWRlb2xhbi5vcmcv\n",
       "eDI2NC5odG1sIC0gb3B0aW9uczogY2FiYWM9MSByZWY9MyBkZWJsb2NrPTE6MDowIGFuYWx5c2U9\n",
       "MHgzOjB4MTEzIG1lPWhleCBzdWJtZT03IHBzeT0xIHBzeV9yZD0xLjAwOjAuMDAgbWl4ZWRfcmVm\n",
       "PTEgbWVfcmFuZ2U9MTYgY2hyb21hX21lPTEgdHJlbGxpcz0xIDh4OGRjdD0xIGNxbT0wIGRlYWR6\n",
       "b25lPTIxLDExIGZhc3RfcHNraXA9MSBjaHJvbWFfcXBfb2Zmc2V0PS0yIHRocmVhZHM9OSBsb29r\n",
       "YWhlYWRfdGhyZWFkcz0xIHNsaWNlZF90aHJlYWRzPTAgbnI9MCBkZWNpbWF0ZT0xIGludGVybGFj\n",
       "ZWQ9MCBibHVyYXlfY29tcGF0PTAgY29uc3RyYWluZWRfaW50cmE9MCBiZnJhbWVzPTMgYl9weXJh\n",
       "bWlkPTIgYl9hZGFwdD0xIGJfYmlhcz0wIGRpcmVjdD0xIHdlaWdodGI9MSBvcGVuX2dvcD0wIHdl\n",
       "aWdodHA9MiBrZXlpbnQ9MjUwIGtleWludF9taW49MjAgc2NlbmVjdXQ9NDAgaW50cmFfcmVmcmVz\n",
       "aD0wIHJjX2xvb2thaGVhZD00MCByYz1jcmYgbWJ0cmVlPTEgY3JmPTIzLjAgcWNvbXA9MC42MCBx\n",
       "cG1pbj0wIHFwbWF4PTY5IHFwc3RlcD00IGlwX3JhdGlvPTEuNDAgYXE9MToxLjAwAIAAABdbZYiE\n",
       "ADf//vbw/gU2O5jQlxHN6J0zH78VuLo0N73OAAADAAA33SONum9hL4gEvcA9go26ugmDQqjIxe/F\n",
       "/78+Wq1elnGww/vfI1mVy+rXORGAwO/1b+2LmQeaQGVFbjVEbo4hC2JdjMT7OObQZwBXuCEPU/+b\n",
       "O6/f8dzsQA9g8WDBksQvI6Lce3MS/0AMBv57kEWp+SsZdOIJCMkXcX6rKJmsJCyLW7c/VH1Ovsyo\n",
       "ral1ivsoirybDO6F5e74JD1IwiEiXty2+OL/G73sVWeallcbcePPPWvrjObk31CxZNzWdpUVYbhH\n",
       "VHum9NLVQ1B/8ce9c4Qy5nOLFN6Vt/5XVwY8ZgUeepTDyqpp54ft51/oC/hVZ0Zs1PzCQjunz9HX\n",
       "fR4ZdM3x9nL+AdKRhLJ24yPlEgPDNnX82/EuhlCmMrQuX2Mw37NXoS10TUJQT0yJ91fhC2pEjT/8\n",
       "QpEtzdj+CIR7Sp0MgUVoX/S0pomJjZ4VtLR74fyQ4e3NKQjYRbBQVLLsryoW0FkJ1qfdx9cH4uDi\n",
       "rd5pRW/SA8isFcbxbfmKMH1fQdSv22wtxf4VxmL9iBVhkw4CeG7TW//N67XE2v4D5zLUb3iUee00\n",
       "tL2sF91plougcv0v9taUVRYOtoNhIvJydxrZ03tBYQP3i2hK6n3Sd766lfk+AFYR29jNZiA2higW\n",
       "AWDPbKRIf06hMIYQAbcFehgbPY/vx19lAO+10pmbpeRpetG1fyUIoV5MATASwaXUsiTXRiQjPh1n\n",
       "Bdz/0prkL/KvIM5Od9rTwutpD4izUJZ51YG+40beSB+SwCeo4KVY9tylLPT/1RXOBmSSDiucmJkg\n",
       "h2l8A7v0PPK6ongEgfcj0px5CvOaK1FzzQAKaeUJ22TgG3x45prZO2lfguCHwqcmjD4/TjUOHRse\n",
       "vpl4RQRvpl62vKuykUzz+NLaKO4U/xo75oi49r7oQCoYrCn/zH5N3tAbhLXiXiEn386tcGJiSYvB\n",
       "5ToMk0tiZpMey6vpEzMo6m740H/8OC8YZb4QZ0j49jqo6m6tZysmabUMwwxdnZnQNoCzV1zcjAzu\n",
       "biQw/ouo+cYEBZD9djJtF8XUNzjbu/0RkK7A2u1Fr5CDJGiDW362wztAJnG2wA06hLNtayBPG75G\n",
       "qFB5odIurzSosT24O68En6K01qijYidYWWqoHba//pzFOmzu80BL/fS/oEG5JHXT+RuimYwUqwiw\n",
       "kVP2JQ/rLNLan7oW9Y47BgopaIrdEtm8MDnmt1GZAW6tWwi83RcwkNXjzKtFt4PkwpP4rjiB9JMS\n",
       "HaMr/p8YDA2RRdyffQtFoRnBSYo1wiToSBHe/8/K8emRCaKT1u5frRw7MBjzfF6EbRCxMf8i9KkV\n",
       "Qe/9KutOM3AqCYMBMZ0FYCk41Di935BvNsRxMyZ+fLDq4mP/Q9MOH8k9eNVXm2sklfn2T3EItRBp\n",
       "PzTh/rcuRu1tTcykKEy+XvE635cnO2TgncAHnUMHPviHssYaLq5+IF2vpDPIdeIfL7OCWCXmS9yl\n",
       "UG2j6b8jljGYKNxDrwuqY1B4cR02jHdUpfeoM0vi6SYpXCkMISZD3wlvxAV9pzFeKgUg2ckj1bSp\n",
       "N89FtfZ5NXpWsrKn9CasT4S8GyChpRiDsfvEPZQgbyJyZbWD10scMzDwDCPcC1ail4neiE/nLuza\n",
       "+HHlJsuZKJaydV69VmYMFQjz6nNY/L3h1jMw6VFPCbCN9dUFZa78dCdSC5w3Aeje9raFpIJog54N\n",
       "qQX6YdRSPmymQyWI6TY9RBPEsbNxrJQ5FqrFGYiStElP5DBqQli5Wk8oFrwkbAPovj8+Ces9gA2V\n",
       "qR9jwsk5EH8UEzTGlJW0xJ/o/+coA1swaZUnUGlpAQvk8Iv/D8Iq+ejbrBTCTZvlDrFggk7yJzYR\n",
       "at3ctqAOLAN38pKR//+dshDRzZwNWhD4hV5fDPJ3Cj1iTf9biHpN5UCHKAwX9w/a6z2nQiYFs//m\n",
       "xEC4fq5117Dr2ecUhXWLjM6Ia0BXFWhOCEL0UrD5cxsQaF4g92WklwjPm5jUIbOXKY8k+G30PFD3\n",
       "qF9ulgOB823n1uTJL9ZM2f7VhpU079cxdaNTQHz3/2V8kZOen0yNPn6BCnL4h/LdPmT24a3NA/dN\n",
       "Ww4u0bbV7gurjJL58cBn64kHpmPEoSnMZ1I1ggqfoRAKfcHeHSfrM9nHYQ1Gjj5kr0xVokIUH42y\n",
       "3qmntzgclgJUXcHXo37LZeYVTSwVBT5DEtnZVhcCRRyrd93mmz582hfaLmYYu9fPNSO7kJgzk6GR\n",
       "RQxt+nv38/ymHhYajNryFi4/WXf9H73nD++6OOXuGuw5yqOdFmW1xktaDner/m7vMOnYRCPAuXu9\n",
       "KlSM3lgRctR83SGsDHOuLGpAAFxm66J8RFbQxqCCuFzpDqe3x1ZTunPi0P2Ne704apvrIzHvhTk/\n",
       "BW0wAea/VwoA75LlsQjBJMAMD+HKD/q0kR9H7VvPtd/AGjqH5mBPH2fn5EuKjRYbzQg7koIxwqbp\n",
       "4ss7lULWAR3FbxQdHFBXSniqtp03OpNqi9d0LHDw3PABb2kMEgt0cRRmo0eCYINUSi0M7yjDchot\n",
       "+W9FwFqR63MP75XayF31MvVcPC/XNTzShS5oRdflghbluuv+IYZsYWzEXXZQ3XwHUXkEvtkYBpKx\n",
       "+OUoRzuGxgNM4+bgW9KTEOM5xCHckAjn07b05RS76ivH7DuJ74+cZMYLMFR9CEtZNA0X3b/VbhfV\n",
       "G5ltnJTu/NmL8DJAJZxqjQ4t0ljujCV8I3ZD/OTMBz5EhfURSj3YDoEzJjcgOVBZID6HLplzoGEH\n",
       "2cdPk5WQwM2STgoA873h+7yyjIAF5XRuHeyZqTrRYSYjqQvvoJkAEEmuuP+NOVo7p7WPu6PbtAZV\n",
       "+0lYJgmMO960eN3H5knvMdO9TnlK/7xpO9AQcJkxaD7UVxqglboyiJQIqZzudIorCN1C7ZCLGFG1\n",
       "Ls8pvTHfxY5YpVlrPXdh9jFN+whJ4L5/BHv/ZW8rKgZ0HEmyCygamhHXNlS17zQlWeKdX8WKxFMZ\n",
       "nD4rOPc6gWCAX1Twp85FI1+YzWokSo8UeUCRIJPt0iLrs+rCOXWk1psUf8UX/6BSByQBrCmLDij/\n",
       "QQZD2ip19tQY2FH3CYtrleVXkxzpxj14NXtm1cSBIwX/IdSticUba3YAJCvFmQCNockde8AgTDJi\n",
       "rhL9BwFE7TbZR8pke5stdSkklhGpkGxDYH3p5SiDYNAMB7iDmjj07wflpswdYlbkRUsy2wd1RLbS\n",
       "9LnfOrOAGLxwnrAP+X0t+laQ+mENXVPmlmaV8ISVf7kzCPkpGVX0bQSVt5PhHMunCThaUZf/ju/n\n",
       "jQwg7YLp4BgGiA3TWNBxK0LbxdrdH8G5NKgaFYfXG7gqyj179o6L7gBYllLTRXo6DYX5tsgDJqMJ\n",
       "Izrv9CuohB9gPhCcZ/nlZhqdLmI4CSDbCFE0B6Bzyh5Ti++4SJT42GBLm6JB4+bVMlKQ0ZJLAnjt\n",
       "j8lCLxiUWKs6dvbl18PT0i+viORo8rMsfWTGvatFrKqf8pDnY3BHWeq6fxeJABxD2SWTtqVtlU/v\n",
       "wgV78kwwzcSZhe0cbQDodhdWnFsjBa7gtrUADlDDU5nPpCrkJqB9bbcEoGHQGWRUudJA3AYHe7PR\n",
       "1PDFusFk1wa88d/E4Qgs2ONQ+E2Zlu7QQRxysZ9kjvv7JkQ5XAXF7C+FLUXz09g0QgQw37YHJno3\n",
       "skLaFA8La6PNCpeG/P7OYk8aLVch5i2EUxGmdM109SjR810eRxmaAnHanXampGxbbVhKXa4fSUix\n",
       "gWtuBC73VZetEoyug0HP1a+V8EqDS0SIab8ALE6sVT61rTqCTzvk/KYWN9VcuFtp21hYl3V+MbFL\n",
       "zKKXMDAz5lTyb+OZhlBr3Z+kla/9p9GYFTK6PxpLjkg+6GvrRSf1oEgN7bHOC9rkCf0wnVNO4JaC\n",
       "mtW5Zouue88LJXbgYuJKr4/yQ4+29w7CoD226PU4lxjT2x7InrYVSKGfNNKsIDzNT2XeDuFeGIKH\n",
       "Xy7BV81GIbu4zBzXmQTJjYsVLV4g4A/IpjFRD0li7CDqqQD0LMMv40uCv+Db/cr8Ee5zw4xhINdG\n",
       "7kSIA2OvCptL60qJy9LN907u/hub27/K5LxtoFCclgcHvrI5wktiOsYrX/YLVoJyJHWMeoQhNtTp\n",
       "JAIPoPGGk1UyL1Ly4oDFL0A181/8tDX3MfaSb+/zUOFS86jOC6adVHTDvqryQWocp63di4S8kPtB\n",
       "TvssYz4EV0whL6CzAAHrDBePJZGS0vvdKtLHH+piTGuwFTn1bOr3Cbo419zNQ7YHYmGAd3neNTOU\n",
       "CS/vlrOargVBF21oEMHfArs59pDf/A50oQSG/PVFzoC+WPK3AS1/0P3udf7rJCHlsOi5IJzA+yim\n",
       "HqgEpqWj0TDCH/2n4WyQj7VPo0Y3UyPz6piK6GqmTacbs03WPu8LCDo53ed/UaPbf2pqobwfL2gc\n",
       "6HUSAQZ35UtgSys0cam7+iZ+5MGt+YAQOW1BBNOojcG+6BoUdhvfHJUqAE4CBZ+/wxXSXkSVDpUl\n",
       "5Fq5Egg6VpqA4ng7HbB8pCF/jdl3Q2WMdD1vNlfRzgBb0il/HYf/Vf0rFHH8ezhn/JlQnmKtGW0H\n",
       "YhEoeaGe0HvFCKnSe7b9t/+04FjKGI5fsFbsNjohQ1Xszz8p09PcZpH5evUKx6nVizJ0RwNgZMAl\n",
       "2wrPnlkbbvdoCHwFnumDfT1muXwMW8rr8X8T4ADY2JDJCH/Yz+n8qRy9UfV1Ljidi/IonmabYKsG\n",
       "m+Us1CTF/joU/i8kVsm17ZHCcCSX7YTlXI9upzjbLSbURuJr7wIs5osRXkocTuIsCd/atV4YoebW\n",
       "1XxqhCS7HGsU0qsKp/s5MWGilsx5ZX3fn2L3rPfY0tcoKtGE5dU7LbYhiLEl4VuCHIRUgavbgW0V\n",
       "m5vgsPTnQ5pRNxH82MUhfVgpmN2wORQuepDfKpPIC3kJI3fKVDeiYRTP/CyPxQdQ66wvqFRgXg2G\n",
       "eiR/6nXnZxF9MmEM97LQmCbdXdlyOTTtII7V9uzd9I+Mn6HUAQu+1BXGnyVf4h0SodPo+WS221Rc\n",
       "EOCjGOPVAOrCOyxKqg+J7J1b3jjXeHqR/bWOCS9ZGY763wTcaZONfJyTO3bUyX3LxM0xiRjyuqJS\n",
       "qL16fV+n27jSJf24X+CfO57s2Op165z6b2NRmxo6wdb2Pf0x5OVTWcDcB2BwfQ401s7Wvv+jQWvW\n",
       "mK1nwwX7mGRM1Sq9bfSddaN/kZv8OrJlj2xYB+JsV0mRrJHffScMhkdRFlBKBDV0VXSDYr90pTt1\n",
       "/CMHCS4gudOH3+LLekxh/ZabFAnOea7sOAcJgU82H6/rUULa+/V7hfIE1XbDKkbU7eJVlO4B+5+D\n",
       "h+ntg939OP9IkurlH1xQ3EMeDp9v736nAh2aiDdyvV+MiFM1jIsLbP21Ti40yH7vEiXnmMDVB+43\n",
       "CmSjwRSKTST+ojhdUuzrFmdNeZobjm7tIbpZ8S3RdWF+VIc+1YdWs5wzYbYeTlaIuYgg0ZOsQUHe\n",
       "LiaNWdfSnGVFkVWR+mUtLzzkXo6c8OLeYbEYil4Goz3+3NlL82NUt1ivqsTw4yS5U2gs+ayeFRqP\n",
       "xmvk4yQb7v0OzLgtFK+KgVWJvdod+P0s9wXik3UwVX38BOvYBKuxm0DKMQAqrKG2vze7WXY7fF0U\n",
       "CU/1pW/apPH0kW9GIhHjesgYRnNzdqT0/C5R5IWlJf5PKFCfR/qcH+LPB1la4alhxQLsZj7to4Xh\n",
       "IiiAujD5MTJIoD+VCbNUoR6fZ8RpNaIgukjXm6fSJYTAXsm72TWBl688/OodIICzK07TkejiekJ5\n",
       "yoIfTCGJ1NrUzuQ44s9AjIyMPp13frXTJgo+VBEOVdFTplKl6RWiv9fGVUJtbLi2vUk5IDZ1puPX\n",
       "KuQRdGoVYPwXBRO/1U9jZD/UWIv5v7dA6U/gIpARBm+TIkirRbMrCdnHm10wANffnA9OdOzBAKBl\n",
       "XjOGXtD0GWq6yoFFWFXYA0l4n/YQDhs2eHr5kD1/uITEJkRZsQD/79ITKcL3JaOjaPYyIo7PVL7Q\n",
       "3ch01p697x/Yqz1nPSO97u3JbUhhe7RMBxZT8c2eAL1BFvJe1GOpiX+gEetNNsFy/MBK+5JYG/jT\n",
       "WROKrP6spqFuRosYsbp9UCkiW5PyphtL77W2IVt4qwjOwf63Zs7YJkVmQuTv61Ux0RYkT6nuqNt4\n",
       "vOOV37XMW+d2uvfPr+wab0rCKOf0rC9j7apNYWddcchz9cxXB+sMGTAk17V2hLydXZ69+B6Ui6Pf\n",
       "r7yqbT5hlxjM6eqOX0kV9yOPlYkBSg/Qlt+rZ+RO0UwvwN+/mAjczodws2Dgz5pnqgKnvHgdKpxD\n",
       "IoM4bW2rViZ0cWTB/9nz4/LCFPxXsXS9hv80chKcawJF05UINN17IoE22yY8Th+PIS/qNLkN6dQv\n",
       "QGrgqwM48P/MC9FRO54y4LptCcEz9sM/X8PyrucGNhgry2q3w/hUW4v9FFAwWjymUc3Ly9GNmt/e\n",
       "XGyQhKzg7cLB8Mub04TNjAE/V/muvpiu7a4cnitX9R6MJKh+LRV56LHejK/n1n3LVC5TMowKsDNS\n",
       "KV27H/HA4vl9Bz7xOS/pFd/8S0eY73i98Ycz+QALVc2CVqJsmpeLTPOlxiKlhJPXCAB7CMlBKTRf\n",
       "Rs55mLxJFc97607T2v3rQs1n867tE/ZuTnX22prb/9QVPV75aZxGqkJRDb99bcWqqoGCR6/6fVzL\n",
       "aX3immtVjGXotT+ZtS+JobcXaNCIzxcfyPE5Uf3rccGj/BjJZcXCkqT+mwN7UlslfnMnSrQ3yVyr\n",
       "04XL2IPILVLAO6gKfi0lBG1Afymu9ub0uAExW0vNzKsx1rL77wbMHyp67SHOvggtlMqNZqrfyJJu\n",
       "Y9p1UaGcpKD+m2cKkIy8RpWxOtAhqo2wIrWzHpd++gReWlr1huwvASx4ckRT9+V2AzzwpLEKvrG6\n",
       "wLvq49NPoMQcldapA/nk0Kr/hhRTDMtaqOwmZaX3GIEFtN6t8HkeEUcdWJysHxdS4pKN0oQAm7X/\n",
       "eOkQVIMbppmDcsY/hFdgVqDiwnUBFfPqN9ubcbVr+8mef/p8ycoHONl82qUnLg3k5ba/GowJK44X\n",
       "FTiTSbmAERkqdwQ0U4KbmjZgZaPRP+q7f9vloaXl0oOlP+poX+3y7IDYSuON6bCmIqgaMseyv/cs\n",
       "W9BL96R5LtW/TzC8X1+jyu4FdMAj+SiNGNDQ8uSSAqNTXFhfA2CZLSlMl7BbiZTs0z8zn+uwNq/A\n",
       "0K3IAQbzVm+vv//yXoGWa25qJXhxQpp+FUB5qv/e9iuXgdbthF+i9kNtkcPF2PZoOWnqDEbvfyJa\n",
       "u5jtEoRfw7u7PYLlj/oULrsot6io9YbSxy6RhjS4TvZUwFNwcgkebv1GqmB91XNOyvMkohGrhkEu\n",
       "sR+bCfoZCK5mRgIKli540RYyO/l+FIlwVudFu9JaWJwan5+R6Qf3PA6wRuTn2MMs64aKxi5bHMsf\n",
       "l8BmOdVqjNW2tD08Lbkqw4j+PbCOr2fg7HPktLpEnMKx12vPSoe67gHlLg2g8vBw3dgCcwY2uFmf\n",
       "vYoqMiW8lItT0ltdfKmFtotRJdIrxs/kaeJc7/p3l9pRK2+0Cm/jBMulF/d4KlQFhRfAWxvRitPO\n",
       "JoPnfI6pufk3fhCEm3wTVIvHsADHOPljllYx+o1L5J+/tFO36Isg9Va7UmYq23csknGZJCV3AMtX\n",
       "qTm3Qhlqfb4P+9TVDhuAoR6ZQ/E2fWYA6CDZwgcabljXWNrCDqtFPGtEwqFdLyPwJPxIWqwZMzbq\n",
       "AFOlFyualoGPrmuJ0+ToZ7J8gC813lJKV/Qm0fr4Sp/VZ36chcArmSFwm0SH4+7LqHHVBKIsG+EI\n",
       "y1FZc6bLk91NQO/UqgqgCFZaeLkHZrMDOZEz/cWQI7AIVusfY09TSqcQv8yvWJALAAACR0GaIWxD\n",
       "f/6nhCS9lcA1hYPK+0gybTRt0pZ60ob3imteOiBQOx/gb3F98oIHtLYNN4tTUBXM1bEljc5CUR+t\n",
       "k3FsMCeUqFXaayb429rX+UKwYJKbb32ewsNRzR71jQYfQCVP9L4JwUcHczCEsng8R0Lyfp4N7Ph9\n",
       "ivQN7rEZ79w5ucdVnw1+Rc5DLjScM4XJhLGwp7mTpQ/HYGLD8cWhA/bKoA2Rl9GUNyLzifHXIhZa\n",
       "p0PnMjZ9jsFgbpcKLn3AaB7EKo8eduKtiPP0RaC3xk5fPgIUSSxduqctENY0T/tfW7oIjlcgw0H+\n",
       "s6n/+ZWaAAPvagGI2PmXHUzCxHjATD0M1tI2wfrasl/3fS61UivxEOT9tuReX4ExvXO8XISP4R98\n",
       "q7NNTp+evav1B6oEejvQiSl2KSHd0NL6hZISeGnvfpzcngIaPgJ774h+m6xWdc5vgDmTt5F44q3j\n",
       "XvvhxGJ4M+cVnRbTyZYzvQT7z7Rz5igPiZHJ/6haPS4Y1zg4iE3bcRm+J8o7rhzwkMfaDoZeBdUr\n",
       "uylUtkOurw7MCcEuICd0c7gQ+1sWdZjJczg4nJKh8+vVJ3+KAywvWZy1+iUCRZa+eMpk5uuLo2cf\n",
       "knWbP6m2io/A/+2AZ8V/52XMIrR+AIgHiR1fRWmQXyBhTmaKzPf11URhw/twKtF1nj3xOOuIabDS\n",
       "+Cr5f5qFsbk/tYtS8yNOQZmO8/WDcAjCpnU9mA2j1/fvb2fZSY5oyLJVrcrsAq/rMqcgS8YIfbrK\n",
       "iXZKzrGT4GAAAAGaQZpCPCGTKYQ3//6nhAAsfMuwF5GhmVqrvdryQkAESOgh5VdjJEs0VW3BZiBL\n",
       "3GSh/DPJrvNNfdWSk9qNmVSUs9JJ3ag2p0jkrhcBwjs5uaX2BZV4KckqYyAypKBUsv6dbnyKPf/L\n",
       "ZTkG8EbJYqgLPcrUwBrmKvW2IODWx5NiEEDoZVcfUmyE541ZNmWjbXdOOLANUVt1nbFCLgMYAnwV\n",
       "qJsM8xcr7qVRVLGWtsqyGaqGcQYDhEZiWrIOehoP4gGvuwUlzxcgtmWaB87tcw5la97ATNPUB8u7\n",
       "T68YXsbbmznyLQyAQyfDJWMP9IzH4pe1iP76jmh0VixkSBtZr7lgN2G6mN50UaimMwpEkDG0ysGv\n",
       "gf6gnRr9cjQ9Z5dOS4Heju8ZGzB1CbHfdvGkhoGAPbcbTz6c4jp61UBZXvZeX7pDq72I1Ag5Eeix\n",
       "scHn1fKUHOaiLn6pE89iQxvLa1FQ95PajKhYla1Q4sETGd6sy2hSwhR6x2mctpYlGKVyT6L6U1ga\n",
       "AgpKzDOtB/zhtlLvoQgZcJm6O3+TpaUAAAG7QZpkSeEPJlMFPDf//qeEACte8KHe/+ACFRFvABFa\n",
       "gEzoSHJ5ik1pqJ748Vjlk7uX0iMXrBCF3/dgoAERaROX+qH15Xk0jpMzlyzNUa+klYlLfOpADekP\n",
       "7FZDDrsDO/uG9KKU77PmdjFmUy/2DK+g17Yu5rVepLIS6AZiuJvlHOxpho8BS4mIh1pq5dgwJMs3\n",
       "4r6vW9eO98ZiP2RLQGKtN1qZKxG3emBW7zZeTnLl0U1z4CvVvIrVyRAr9KPz4a/XYXGIu22xodsZ\n",
       "5ZSiL4oo+TQ/G6uqjVea888l4Issm51G6jWYosDEyoxBQa2jiszR/kG/LjcV9nfXcPWV+xSGjZ1F\n",
       "aeEKfXrgDzIVgfx1v4m9Ak+xT6mwq+FMEx3YWP8yAhrFONQZFXJr1Q6Kr1vpqB3aVq2WQzSHusWV\n",
       "AkFSyNr2tU3vj/Npk3vkzI7SUgu7+t7UHdrRfSwbHHCRS7m9CvSN5LxUz3FKWIwesmrkUzUnb+Sz\n",
       "U/96h1t5AUSLdJTMadb0ocacQnjBgyQFEoT2LIoYxFQAXagSZKbNs0wM/iem4kUCdEC3B8PyQMAO\n",
       "7lYxEo1BLbdTeDzy8VgAAACnAZ6DakK/ACKyQ057H5NHm7EZAxDhQAfIPxtg6podbmPBxNB8jPIX\n",
       "2XM5HhNKNs1LyVhArxguv/Ks7hiyq5YCeoiHxbbFxuCBkKyKGIAy4gXEAHIDphRmf7qdcDAqHRF2\n",
       "M2gOdl1ZfF1pb8snTLQJDDvd8589NfMG4V1W0iWJ4rrt3/EKcuDVKfdSr/XhoeR/q5qgb3wNLL9R\n",
       "rbIMmRW3OdRlpAfRtj8AAAFCQZqFSeEPJlMCG//+p4QAFhxi8LkAAhQ5rV7Dn++/063tsE7Tv+1P\n",
       "EucUsZziV2NbjLCZAI25C9sd7/ZNRQ+lWH3BQieSZJIyzxvm5qPHc7Ia/pg1E0aFYpv8vrwrZyoE\n",
       "woyqu3ODDiP4YD6W1pC85NIbyEXo76MusE1N+znkg9bfNKiPSPLLVRPHzW2JEWVgK4RykcCqENxH\n",
       "+JT0W+n4uMPZpxSpelscw4Vo6xSgH2S/RsfbIe1hfDnfsmnUvoi/3Exp0wnO0HFrUJftWk344mvF\n",
       "gnHTL96OiM3DRC8nnoCRcxRBck8Ha42IP6UFTPONhNeQehMd+8Kgur3CBYb1TFfbTDMZELVDHtfh\n",
       "mYjL/2KyakvTJpM7wLS12/dnZvn+SWAZyjIQuSYZXC2eUREXBP0zSlCsB84e6pvoUXUWG/zERwAA\n",
       "AaRBmqdJ4Q8mUwURPDf//qeEABYcZ3BSACw+L8kwJU+AZWSpRlQDlCvFC5WGtPhdjv+yu1DxSF6p\n",
       "j6k3lAa0Ed00OTKzrOgwdp1zA06q9SiekEE8fKfNvNF7A9dLvP5Rib1XJ6Xcs0DUhFiC/biCncMu\n",
       "2DdiiB2NwZVIpTxpRMFqT/42UNVNQmkD/lSWCU/8dgn6flLrbKXQUBaVXuQLnW0xJ4+FPJPUm/eb\n",
       "1RNINUYImmmVqHpdVYOuC3BUmUi+sDqznUDc5NN4BAGZPF7cd4hQt+tFS/SJft2TW5S9wFQgmI6s\n",
       "qR5IzyfwgwcP2d5uoO2T4+bG1lk0134wknSns2a6Tht8zZxxJjRneCCU4V/ObGEhaQP/keYbfisk\n",
       "TPLa09RKAkpVyzS7woZAqs8v/tXUeq9uoVB6MXpimI0wffKBahrfN/ztTA9xsmlutCCZoK7RnepJ\n",
       "CxqU9InDgbbN9/SuYyodaPxVMwppW/QzzjnpHm6nyFmO1oSvAinIyG/nc9jJCSpH4wfV2EQs1D5Y\n",
       "XI9U0Zf4/rWGV/QGGk8FtuD8kSWW5j0AAACXAZ7GakK/ACLBmmMnm01HAIkSm1ZNAfkdm91FCYSE\n",
       "8twz4DypJUEkwbSJyPj/IOnHqkHRQ2Ahi5iVndDH3i9KzX82TxCjnuF2PppEED/p1zni0K+gf1XL\n",
       "kLD9MbNQ2SYgMB3+v1jw+UY/Yf+gGqwsfrGHurxHduKSD7SwuOuEAATqycm2JnzO5+repb6ZNJDr\n",
       "6+8Ougx6wQAAARNBmshJ4Q8mUwIb//6nhAAWHKFZ4Geed/4FzTAB/Aob4UaXROwHx81WleYtswsh\n",
       "Ldiq+s/CmHVIlP3eEods7Esj329+NIDDfv4IAqss6P/E8NZz4DmA0fZzuclKGIUFD6mwkyoqe/+K\n",
       "aOjTGZPS6Cfrtrc7gjAjdjeBJGuaeAl0ybPmc0TGVwYB2grfrz1BmP6QDXMsPEdHqOnO7aztuUwk\n",
       "pt0CyiSz/WzvOY9EZ9VZR4fmjSqmjl4qDpItEkCsrG3p7VQJAdc7GkU8upkB0c6ygb6n3Yd6APYZ\n",
       "LKo914MrMizJL0x9qUGbpsMXXk46InpA6p3V9nvURDeb6uJ4Dve3BIWCcD9i4Zqww24jN9rvM6d/\n",
       "gAAAASdBmulJ4Q8mUwIb//6nhAAWPw+YXlTN9y2JzwAlln6hTtBsPt/8VyLodsjkHAJ/y8c+B8xJ\n",
       "voH+I9AsOMWizvQS1CFFI7t0tZsl5vU/beaQaUTXuotRf7JcPmZ1c+mrRKhvrpNmo6aHhyjoU+NW\n",
       "eYeM9OcF6ka/rQcbNQ1VFWsgUgJRXcWjnIN/bUTVjZQ+ymOtTEJMqfK07/+ANLV1PBo1GDFOOSpX\n",
       "lzFTbT+cwy5rEmiTLM6L0dfIl/zO8y6yFF/7Sg80mUaVeI5PT5D+QnqXfk3GfLLsBjJdb4cy3wG2\n",
       "BHquqI8xuRCoIwJomyLCube4eF16Es0HMynvmbUeIGASylfFX/bd6sFv8vFyU+mVHT5Sws2t9lm5\n",
       "7hJNgyxIWvh831lXCjTAAAABPUGbCknhDyZTAhv//qeEABY+ZUVAkbyVP4AF0Pj1XKl6gItfJfem\n",
       "O4YdRcIIO1hq8rD/6g2oH9ZAoYb4uMMUymlYvJ2/QoFa4yrhQk/WojVpKYTvINyLv5vi28wkbT8s\n",
       "qbHGajOjFckpNSFkw/o4Pi8zzE6F2+dBayFGGJk5bYkftn+vIoxQlaZB99L+3cCRO9q5J+i7tSMG\n",
       "vXdzwRpOnEcnAmZXo9zmVYxwUkLUKbD2eQ8NmB8WyIITyp/a3leufMFzDBP9PgKUMOyee4RWVRJ+\n",
       "s++7qau0lF80E+6Dd4MXgkiNkSlaZkyu9zSoJm5A0bBp3ydsn2meaJjX+Q5At0bMZWKVom4v0VDb\n",
       "rRO2JWNoooAv0M6NEqMZZ5Rkkk2hC16Y1pB1q5mu/Naehu6LOEjtvFxT20LvXDwOoROBAAABPkGb\n",
       "K0nhDyZTAhv//qeEABWVVO8sLEQAtyg1cZZtXuBpKH7ciWmlcuWvGgl99jOctJsnNyqZmi78q63h\n",
       "v/XOuxDG7ZqZE9nJSDTPY8Vj/yC0Kjj1DqDf9I0MlxXGKkGMmiK4SJujMji7mz79bSmClue8wjWY\n",
       "baiharfpwLdFvx6l5tCK/60hhHN0MgYUC/PrkjKNhgzY4i7l4I1eKbKvI6BL/RjeUzQHzQfuWzgR\n",
       "0xuFkP1b1xYyBizYGZnv0+3TZeXIc7bOAF1+PRgWF9Zr7nXHqydJtNdxL0mjfjTouts/EhBV2mDi\n",
       "VfvI1nSKO/ehICXMEZif1q4jqen7O0hsgQwJJF9/SOWcq+pPMFLbMabgAFXh6qG9bqBRPKe5z91U\n",
       "fZ9pQUB+VRqZloRR27UdLSsP4GBTOK+iU3GfvvSwDAAAAVlBm0xJ4Q8mUwId//6plgAK4qko6UzB\n",
       "ABtVouXA6eGMPd161mtR8wVe32uxadXO2RXQTBmDPS6lwnU4vzJTcu8N5LRSr2i1GtosObuMA1zK\n",
       "xFlekmZCdQzvaEJLl21B/gSYUzxkZ/1vUYQkrXDtZ6trJj4dAqs1VUhCykS4VvDBvKLllWn/xhSM\n",
       "Quxb2LIQFbPQEyH43ZGtCekIY1ipxO2uaLRj2Sg870LmdocX4Xv39pin1Vw0380BByFA/0f2UT+N\n",
       "ogb4SnwjslqyfQNGORF1e3HP8vbPXkHzL06P31GzAgQJ9aUZ0SJj1cZk0gXVo6CEJDvH7quv1z5p\n",
       "H3UjHxRJLB59zjaDLkOnooTsilGMQ+nQe1vIr1VZrMbG1S7ieJ3+zfGC2EZmoYSPEyxsjfkSfTPf\n",
       "ODI8RstpJIDg3xmkHSQ/GmbSBY9FMsOsTmoFzbGfZdNXBhoPV2wAAAGMQZtuSeEPJlMFETw3//6n\n",
       "hAAVpaSQIepiQAkJifo5AtI9m1hNTSG0/SeRJFLr7TuTxUk35ph728cR/E2WlF5U0Y+Jk9P8z0He\n",
       "NEtrwvd37g0ZNrEaB3/4HG1xZvxuW+n8mkLGK6PEgFckbjGNGNI2yOXJ5JTRirKk2XOkAjhakJd5\n",
       "8KcZ17nWEjHSVQH8yhIAzmFhCTo68pEhiLsQW5DQbexzP5XVuKJ2kZ4gHpGwDJxaOqWanaicBP4W\n",
       "GBW95lp9nzAjf9yAy/ZbWoTV4FXJVnZC1xEkVC9+Z6JkHyB9gxO4vPbpcaVzCv8nNbNCjHwg8Mch\n",
       "mRzXVhP+9CvMz3MiJ9NiBVwvQytFTOFQuzggxf/y45WqWN6OtMdm62c4L4/hAAwpYOdfY8XGaNiF\n",
       "IRKr19d1cDrfEGtcvZ/76tncMiXlr+yfsoTsvTbkPDYBuUGmEUQCQ8wjZ+eVMqV3TbiRSwUipMh+\n",
       "JV18iURt5WyRDusF9j+gjORw1I85uvEx1ihCWI13tVuBFgNpGlm5AAAAnAGfjWpCvwARSANITaP2\n",
       "0rAmBYEd+IMLDwCGZoE244MhJ5hUsDwqZ3EWJjNZqugyt/VJEnAoNg1QfHEMw4c2Jp+nWcgrfI6E\n",
       "rk5ncwQ7QrHpBWDCjam5/rlwiKcQANqqIRqu5ml+15MePLGKf2kQheHbb6S8lpxfMswI60yCJmQd\n",
       "rX7VGPSFlSryzFjcjPOMKLJ4F66xtwyRlShdmQAAAWpBm5BJ4Q8mUwU8N//+p4QAFaXu+lgcqAA2\n",
       "meJeKv+2B7d/YeRtQJaucGh55lOq4R/wH5yN6wWy0ccaejqHv5KfiHwFXkeyBC4MYI4yV2F0gfle\n",
       "yczChS4wfurXV6llnZdLJxD/3ZTrURCmg4EmDzlPk5+PCQ3rIb1b5ocy9RNYlIuv851MZ0QfUwnO\n",
       "DTxr5CuEU+izblbDGE7AUStYKYqFRyX+XgkL/Is7F5woYastsZl/KK4i5sAxk/5Zi3LhbYIZ+z5C\n",
       "V8L/QUkscABRmhaBNhKI8oSgX676k9pC5bvNeosvBCQIwhBVSKkf/IKinwo9fYcbM05O18uHQmt2\n",
       "7F7tjhLAF3nUSH5cMN3XEVbWeLFrl8GGuWZeDy/eXlCYHU5ATIWGLMA0pSAM8uyJZiWQB7ux9R1Q\n",
       "lz1ifJb+cfY9qPMwvRn6vGkWV4uS1/DCrVAMxkJmvHa0NH2IM12AVkFVbIuWtWVmRJKsjQAAAJwB\n",
       "n69qQr8AEUhPjjcJlgAt0MkFOMPYxRgrYhQEKJjjnFjUTSQe4ve+doky7/ec7VhhdJKuRRXPdGm7\n",
       "wOLJS5f/MIEPiiLMjiblJ3MOzSn0uLKmiX7ryEjxIMBaaZGjBgmTROBBGYYC1OJfF+gUITs8wqgH\n",
       "Nd+8ZW31AnwL3/4wRuDTDweQeo3MegHiwqaW+Rz1zCY14Ip+PcanJJgAAAEeQZuxSeEPJlMCG//+\n",
       "p4QAFY/7yxEEALZkWPlercmmQDAoWSj1ojCkjWyNfuM1Fbg3/4n5yIvL3HtY9Zf9yBKrW5ySm+9W\n",
       "+8VKmk+icXtSYukPIK8xNRwSlJAfrNRkaWWbnjT+X5X1Hw04zsgA6puiO0FPV78n6RxcjkHTf/F9\n",
       "A3aT7eeU50MUShKwGB1w5syl4z4F5d5UzVJFuGkz5JfKe/v6X2/k56WXbVKfNNQrDcPJX23w91nS\n",
       "Dw5JS5VK17UoeURDK9qyNWNyUbhJDoDmXvL9th4pCgsUBO5gY+JlQALvz6fUD8K+6hT+dbcmlWLp\n",
       "Y8/RmEeW9ac16bgx4uoNhnQZUg26qsLouFYvTPP31lrl9/v3uwBC8Z+m2CYv0wAAAQ9Bm9JJ4Q8m\n",
       "UwIb//6nhAAVkOsk/wADjiY5/daRXEmuuGqh2UXp3AjTlnoebWAA95ByHAdpR5sgxujPGGCm7XO8\n",
       "t7T3cdCli52LV2IO5f/HHkjsuwTGnabHMvr/loMjnaOX29WKefcNuk2vGeqEQT4hKzDcrN8mShCP\n",
       "ziDBy4JIaV+cGkjhz0QacU/4+tKP63/ILHJUVrMfEpMR3UymaY9QZlEwloExP+hTN0K2b6dgZhNM\n",
       "EhI2HGHQ3F6hR5K4aJJYxydO9M65G0DFzKcPZFJcaEldcNLjWqikLLiNRVcqPn4O/o5FGpHHzDr9\n",
       "mvHdLy8z6f3lc2XilqJAHN3ao+o0vpVrJFzVG8jDpoVlKfd/AAABT0Gb9EnhDyZTBRE8N//+p4QA\n",
       "Fa398DUIlXcl3VngaqtNzrmElbJElkZNiv1KY9L3C7PxsW1fFqkzN4SgFMC9Uhdd5ZzcCnh9IKO6\n",
       "q6his6ZTw+wlZMS5ImDqWnuf3CuEv9nRYAeqvNHcMKf64Ocli0shBYYa55dTtj/KdBLpRpFhDi0Q\n",
       "wtyEVI+clnODASc9aG+ow6O1EEMVFXLLZtr8QZbG1dbNW9NSXEhfHSq7oLin9vhyKEzW8ih3KQpH\n",
       "LTQFGB6HgH1ZbGJ9WGuSM/Del9G8/3Wisi9PAWLkK3nGqG1M8idFwU9FKcPKd+8w5du1nnGfyCYN\n",
       "zPjlsJJYKsc4tj37cBgCScgj+CRuFJ0reBlFiKyllMcYFP6DqbkAZrXVbF+L4/jr89z053uLVIIy\n",
       "fxPX9wwGtmabmR0gpzi0a3/JyomGZ9K3aXXAc9le08ViAAAAjgGeE2pCvwARW0Lp+JUXxGUEPAAT\n",
       "rQsIewOlvRkkgdvtVEMSmYXG0eQS/v+S9ZomuegSfu+mko+2UwolFvyErbkYv+5OhNSntUYsGnpL\n",
       "eadUjnQ4UEMcgeYBGOMQKqAYAS7lgKHxY9mdLhJ2yQ8pa4u0kS6xYlVl5N/auiCGbnDM+Z3P1b+H\n",
       "RkxNp3mQ54AAAAEcQZoWSeEPJlMFPDf//qeEABWuZdjcn/tvEPzAA/aXJwkAo6kZTPmZCrzk1EQ4\n",
       "Mr07IIbo3r+8glSGHH/9Q2q4k5BFOCGCt19ZPDQLBUy31gLBEYP/hPB6ZkjlCiK0SowRtAnpQHKU\n",
       "16O8glrqkhcut+wPMfqBfw2waajdHowHMmyfF/UxqOATZf+MnabDqGubdZM2f1qtdlOJz3C81+Hm\n",
       "GZk9w8r1Tk9s2MFHVfTXRvipXIPVhwDCQhZ9dtgCHz9d8BiYwYogWnnsgslgLMcCzQV3xbluKX1Y\n",
       "e19yrRMJurzVj3VcMhhhyprOFri2SgUulHbRK+HQUnaoPk2ShV14xnsTRMNHVJXVdUkrj+ShjR+4\n",
       "Bt3fLyU5rTmXomkAAACRAZ41akK/ABElkk20g0zIZ8NeRg0ijHhBWrjdCmDg8fmsPp0LeMYVN1So\n",
       "MVqg1sB5ejVIYJ5zaS4bpsDpOciFVZMqrMMMRpGToQctPNAY3m+rtW44pzBB3w8F24cKncKQTG23\n",
       "m8GM61zJ0AJBC8/dxFQK3OK0/VY979OkvySULfK5nwIB+zC23XsP3EPDulHj8QAAANlBmjdJ4Q8m\n",
       "UwIb//6nhAAVrmXYF3cx2yACdjHzHCiafEdsCANo0Y+h/5fAbkf19Nwhw4QzC3I3rV+0f0/ASqFu\n",
       "qhaFgAZxknKETMPaL4pmWNt7eTv0zDVROFkcbL6IROFFMvyUMEYrAtiJ0JxeZskQSGgI13+7Dn4s\n",
       "p9VhEodsoYypbwX7W5LvmlylQ4GF/pJ+GOMg9WP6ohGnBsfz1UstggmIsaWJQSq5XD23rpWyql24\n",
       "7QaNaQTIhrBTiCdhYSJ81tRYv7wWabssnsp9j+o1Be5D3tPG+OiBAAABC0GaWEnhDyZTAhv//qeE\n",
       "ABUNZy1djYVIATTWs0B0gNF0gv4IayOT+TkU0hcVxInz9eyplUevHdinSVfaXuQ7IRBG6PRp+PtZ\n",
       "iTnsFXRDB3vdYEkHrwkZ/PXsKyN3supUmQ0v3/QqV5/N+vgCQlYTALYmo+Fbt21CSe27qVXNlN4N\n",
       "/Gam5nO4hCWb6YSgw5JA5GVSzuuTi/h+cF86jL6oGntr6k/EYyGKi7DSvq6QF93lz2tpXVuXRiQ1\n",
       "GrpYMrb6n3WnQp72ulcB6QYhi9jG+QNZPXggDiR8pZviYy2CIiR/fPsgSiR5Yb30NpPhZfOq3hfV\n",
       "H7WdJKIgVMglqhUMR0Rh/g4BSIHVqyyMWQAAAPxBmnlJ4Q8mUwIb//6nhAAVCUmeXyXmQAmeP9Uj\n",
       "iaghO+2IbtqhlLyjkPTxlVM9EbqbmBw8knbljzFfAlmwdoryO+FhwAiyeEfHvqc0dexmYEQWmKhK\n",
       "n5q2uO2uKybweuyZZjYUEyyw5TUaakNdbWAFXwNBn1Zablkf5mnlq6eLYcoa9uffWU+Empkppf1M\n",
       "/qCLG4ArNeq1QYzDNttRJlJhXKtmsGuBVgFH+JblMzHVqBirdpQyapdHoou7BsdvuBLQhEhVjlq9\n",
       "uRbLcUo1LOIfyf4hR/JMDk3E6DG+WkQ6mM8LMlO5J6830OAbf7L+TeSnrT3SCnk7aT9WecAAAAEQ\n",
       "QZqbSeEPJlMFETwz//6eEABRu7lNe8gBuoZZu0s1h4mE9Lrl8z1JSEkpDQszHjxAdmSbGrmhb9Ew\n",
       "JCvHZaEHtX5Josrtt6TJPnDir910nYaG7xKG4ZOuMxS/+G/R6QiirpSA5MEJ87VGB/1C2t4AE8hA\n",
       "B3NkaqrcxPcDR3X31tx/brYRdmikpydWWTY+Ho+iagUgIG4JzT0ddKi+0QhnBB2xf4VylvLZ4+ad\n",
       "R0QAIdzOKhO8PdjAPyx7wjOnTKxr4+dq4CcZbSu3SZ7B0wYbp0SfejwmWVzwL8g2WDav7QMD4PFv\n",
       "hqfdNPuyYBbaL2AxwuY4Q7TDN0u3jFeyIX+utHImIJ5HxiHdHzbkRXgNYjEAAACVAZ66akK/ACFK\n",
       "pF6B04YAcYJgZNgXLE0EL3uIjsNBSUjI4FFcCgQNK9uBxIwSHK0FLD6Y5f2bPO5bWUYemtXVhvwc\n",
       "93Do1dH7R36GCEyND7+HDTRVT/qjwjMwcPjBL5pL+j+Os0W7WhpRGVsuFmlOo4ft0JF+E5SQI6Jm\n",
       "pqmTyVRiu76gmduCLD9aCflsENLt1h+PCzQAAADLQZq8SeEPJlMCGf/+nhAAUdk7DySH4RIAYASu\n",
       "tsQwzbzAL775tlZnIBs4Nfps960QD//SRHdG6O7Cew3NL/DL6q3mMJo78zYDKaOjGV8gGW3DMDDb\n",
       "C/ICROxpE1VCn1t6p/ZL865abzaKsyLsQdMOdF5QcHEglnwFFpPj6svdJMS9yvyPKoj/0EtY/AyK\n",
       "B8sQxs31iKACQT4ENeRytZTTikMds9dtTHZU7mi3/HHSOz8cM3S7eMV7NbG0yXZ3jZnBwXfM1fkA\n",
       "9HNmWI0AAACsQZrdSeEPJlMCFf/+OEABP/hrTZRSHAASrPlStTCYbr56gcWazLS+oI4pswBTnFSm\n",
       "nFxstp8VR0q/EV7r3UhjKfYz/ArJPj4DEQxQ+0/8Hcb7bjSStZS+4q41I6gPOQT777hoyyR0e9hM\n",
       "3vMleIZN2oakpX4wYjFM0rbjSJ0F9ZPoht3/4T0pRXzuIbDI6NDnSgWcTatpZGByGQXdQleFDcmF\n",
       "6l/jxXj4ZB4rpQAABEZtb292AAAAbG12aGQAAAAAAAAAAAAAAAAAAAPoAAAF3AABAAABAAAAAAAA\n",
       "AAAAAAAAAQAAAAAAAAAAAAAAAAAAAAEAAAAAAAAAAAAAAAAAAEAAAAAAAAAAAAAAAAAAAAAAAAAA\n",
       "AAAAAAAAAAAAAAACAAADcHRyYWsAAABcdGtoZAAAAAMAAAAAAAAAAAAAAAEAAAAAAAAF3AAAAAAA\n",
       "AAAAAAAAAAAAAAAAAQAAAAAAAAAAAAAAAAAAAAEAAAAAAAAAAAAAAAAAAEAAAAABsAAAASAAAAAA\n",
       "ACRlZHRzAAAAHGVsc3QAAAAAAAAAAQAABdwAAAQAAAEAAAAAAuhtZGlhAAAAIG1kaGQAAAAAAAAA\n",
       "AAAAAAAAACgAAAA8AFXEAAAAAAAtaGRscgAAAAAAAAAAdmlkZQAAAAAAAAAAAAAAAFZpZGVvSGFu\n",
       "ZGxlcgAAAAKTbWluZgAAABR2bWhkAAAAAQAAAAAAAAAAAAAAJGRpbmYAAAAcZHJlZgAAAAAAAAAB\n",
       "AAAADHVybCAAAAABAAACU3N0YmwAAACzc3RzZAAAAAAAAAABAAAAo2F2YzEAAAAAAAAAAQAAAAAA\n",
       "AAAAAAAAAAAAAAABsAEgAEgAAABIAAAAAAAAAAEAAAAAAAAAAAAAAAAAAAAAAAAAAAAAAAAAAAAA\n",
       "AAAAAAAY//8AAAAxYXZjQwFkABX/4QAYZ2QAFazZQbCWhAAAAwAEAAADAKA8WLZYAQAGaOvjyyLA\n",
       "AAAAHHV1aWRraEDyXyRPxbo5pRvPAyPzAAAAAAAAABhzdHRzAAAAAAAAAAEAAAAeAAACAAAAABRz\n",
       "dHNzAAAAAAAAAAEAAAABAAAAsGN0dHMAAAAAAAAAFAAAAAMAAAQAAAAAAQAABgAAAAABAAACAAAA\n",
       "AAEAAAQAAAAAAQAABgAAAAABAAACAAAAAAUAAAQAAAAAAQAABgAAAAABAAACAAAAAAEAAAYAAAAA\n",
       "AQAAAgAAAAACAAAEAAAAAAEAAAYAAAAAAQAAAgAAAAABAAAGAAAAAAEAAAIAAAAAAwAABAAAAAAB\n",
       "AAAGAAAAAAEAAAIAAAAAAgAABAAAAAAcc3RzYwAAAAAAAAABAAAAAQAAAB4AAAABAAAAjHN0c3oA\n",
       "AAAAAAAAAAAAAB4AABoRAAACSwAAAZ4AAAG/AAAAqwAAAUYAAAGoAAAAmwAAARcAAAErAAABQQAA\n",
       "AUIAAAFdAAABkAAAAKAAAAFuAAAAoAAAASIAAAETAAABUwAAAJIAAAEgAAAAlQAAAN0AAAEPAAAB\n",
       "AAAAARQAAACZAAAAzwAAALAAAAAUc3RjbwAAAAAAAAABAAAALAAAAGJ1ZHRhAAAAWm1ldGEAAAAA\n",
       "AAAAIWhkbHIAAAAAAAAAAG1kaXJhcHBsAAAAAAAAAAAAAAAALWlsc3QAAAAlqXRvbwAAAB1kYXRh\n",
       "AAAAAQAAAABMYXZmNTcuNTAuMTAw\n",
       "\">\n",
       "  Your browser does not support the video tag.\n",
       "</video>"
      ],
      "text/plain": [
       "<IPython.core.display.HTML object>"
      ]
     },
     "execution_count": 49,
     "metadata": {},
     "output_type": "execute_result"
    }
   ],
   "source": [
    "HTML(anim.to_html5_video())"
   ]
  },
  {
   "cell_type": "markdown",
   "metadata": {},
   "source": [
    "### Dig Deeper:\n",
    "Try to implement the green-light problem using a 2nd order shceme from lesson 2."
   ]
  },
  {
   "cell_type": "code",
   "execution_count": 69,
   "metadata": {
    "collapsed": true
   },
   "outputs": [],
   "source": [
    "# second order functions:\n",
    "# Jacobian function\n",
    "def Jacobian(u_max, rho_max, rho):\n",
    "    return u_max*(1-2*rho/rho_max)\n",
    "\n",
    "# Lax-Wendroff function\n",
    "# had to alter input for flux function computeF\n",
    "def laxwendroff(rho, nt, dt, dx, rho_max, u_max):\n",
    "    \"\"\" Computes the solution with Lax-Wendroff scheme\n",
    "    \n",
    "    Parameters\n",
    "    ----------\n",
    "    rho    : array of floats\n",
    "            Density at current time-step\n",
    "    nt     : int\n",
    "            Number of time steps\n",
    "    dt     : float\n",
    "            Time-step size\n",
    "    dx     : float\n",
    "            Mesh spacing\n",
    "    rho_max: float\n",
    "            Maximum allowed car density\n",
    "    u_max  : float\n",
    "            Speed limit\n",
    "    \n",
    "    Returns\n",
    "    -------\n",
    "    rho_n : array of floats\n",
    "            Density after nt time steps at every point x\n",
    "    \"\"\"\n",
    "    # initialize results array with dimensions nt by nx\n",
    "    rho_n = numpy.zeros((nt,len(rho)))\n",
    "    # copy initial rho array into each row of new array\n",
    "    rho_n[:,:] = rho.copy()\n",
    "    \n",
    "    for t in range(1,nt):\n",
    "        F = computeF(u_max, rho, aval, bval)\n",
    "        J = Jacobian(u_max, rho_max, rho)\n",
    "        \n",
    "        rho_n[t,1:-1] = rho[1:-1] - dt/(2*dx)*(F[2:]-F[:-2]) \\\n",
    "                            + dt**2/(4*dx**2) * ( (J[2:]+J[1:-1])*(F[2:]-F[1:-1]) \\\n",
    "                            - (J[1:-1]+J[:-2])*(F[1:-1]-F[:-2]) )\n",
    "            \n",
    "        rho_n[t,0] = rho[0]\n",
    "        rho_n[t,-1] = rho[-1]\n",
    "        rho = rho_n[t].copy()\n",
    "    return rho_n\n",
    "# MacCormack scheme\n",
    "# # had to alter input for flux function computeF\n",
    "def maccormack(rho, nt, dt, dx, u_max, rho_max):\n",
    "    \"\"\" Computes the solution with MacCormack scheme\n",
    "    \n",
    "    Parameters\n",
    "    ----------\n",
    "    rho    : array of floats\n",
    "            Density at current time-step\n",
    "    nt     : int\n",
    "            Number of time steps\n",
    "    dt     : float\n",
    "            Time-step size\n",
    "    dx     : float\n",
    "            Mesh spacing\n",
    "    rho_max: float\n",
    "            Maximum allowed car density\n",
    "    u_max  : float\n",
    "            Speed limit\n",
    "    \n",
    "    Returns\n",
    "    -------\n",
    "    rho_n : array of floats\n",
    "            Density after nt time steps at every point x\n",
    "    \"\"\"\n",
    "    rho_n = numpy.zeros((nt,len(rho)))\n",
    "    rho_star = numpy.empty_like(rho)\n",
    "    rho_n[:,:] = rho.copy()\n",
    "    rho_star = rho.copy()\n",
    "    \n",
    "    for t in range(1,nt):\n",
    "        F = computeF(u_max, rho, aval, bval)\n",
    "        rho_star[:-1] = rho[:-1] - dt/dx*(F[1:]-F[:-1])\n",
    "        Fstar = computeF(u_max, rho_star, aval, bval)\n",
    "        rho_n[t,1:] = 0.5*(rho[1:]+rho_star[1:] - dt/dx*(Fstar[1:] - Fstar[:-1]))\n",
    "        rho = rho_n[t].copy()\n",
    "    return rho_n"
   ]
  },
  {
   "cell_type": "markdown",
   "metadata": {},
   "source": [
    "### Lax-Wendroff scheme:"
   ]
  },
  {
   "cell_type": "code",
   "execution_count": 60,
   "metadata": {
    "collapsed": false
   },
   "outputs": [],
   "source": [
    "rho_n_lax_wen = laxwendroff(rho_initial,nt,dt,dx,rho_max,u_max)"
   ]
  },
  {
   "cell_type": "code",
   "execution_count": 62,
   "metadata": {
    "collapsed": false
   },
   "outputs": [
    {
     "data": {
      "image/png": "[encoded data removed]",
      "text/plain": [
       "<matplotlib.figure.Figure at 0x17369914be0>"
      ]
     },
     "metadata": {},
     "output_type": "display_data"
    }
   ],
   "source": [
    "fig = pyplot.figure();\n",
    "ax = pyplot.axes(xlim=(0,4),ylim=(-1,8),xlabel='Distance',ylabel='Traffic density');\n",
    "line, = ax.plot([],[],color='#003366', lw=2);\n",
    "\n",
    "def animate(data):\n",
    "    x = numpy.linspace(0,4,nx)\n",
    "    y = data\n",
    "    line.set_data(x,y)\n",
    "    return line,\n",
    "\n",
    "anim = animation.FuncAnimation(fig, animate, frames=rho_n_lax_wen, interval=50)"
   ]
  },
  {
   "cell_type": "code",
   "execution_count": 63,
   "metadata": {
    "collapsed": false
   },
   "outputs": [
    {
     "data": {
      "text/html": [
       "<video width=\"432.0\" height=\"288.0\" controls autoplay loop>\n",
       "  <source type=\"video/mp4\" src=\"data:video/mp4;base64,AAAAHGZ0eXBNNFYgAAACAGlzb21pc28yYXZjMQAAAAhmcmVlAABGV21kYXQAAAKuBgX//6rcRem9\n",
       "5tlIt5Ys2CDZI+7veDI2NCAtIGNvcmUgMTQ4IHIyNzA1IDNmNWVkNTYgLSBILjI2NC9NUEVHLTQg\n",
       "QVZDIGNvZGVjIC0gQ29weWxlZnQgMjAwMy0yMDE2IC0gaHR0cDovL3d3dy52aWRlb2xhbi5vcmcv\n",
       "eDI2NC5odG1sIC0gb3B0aW9uczogY2FiYWM9MSByZWY9MyBkZWJsb2NrPTE6MDowIGFuYWx5c2U9\n",
       "MHgzOjB4MTEzIG1lPWhleCBzdWJtZT03IHBzeT0xIHBzeV9yZD0xLjAwOjAuMDAgbWl4ZWRfcmVm\n",
       "PTEgbWVfcmFuZ2U9MTYgY2hyb21hX21lPTEgdHJlbGxpcz0xIDh4OGRjdD0xIGNxbT0wIGRlYWR6\n",
       "b25lPTIxLDExIGZhc3RfcHNraXA9MSBjaHJvbWFfcXBfb2Zmc2V0PS0yIHRocmVhZHM9OSBsb29r\n",
       "YWhlYWRfdGhyZWFkcz0xIHNsaWNlZF90aHJlYWRzPTAgbnI9MCBkZWNpbWF0ZT0xIGludGVybGFj\n",
       "ZWQ9MCBibHVyYXlfY29tcGF0PTAgY29uc3RyYWluZWRfaW50cmE9MCBiZnJhbWVzPTMgYl9weXJh\n",
       "bWlkPTIgYl9hZGFwdD0xIGJfYmlhcz0wIGRpcmVjdD0xIHdlaWdodGI9MSBvcGVuX2dvcD0wIHdl\n",
       "aWdodHA9MiBrZXlpbnQ9MjUwIGtleWludF9taW49MjAgc2NlbmVjdXQ9NDAgaW50cmFfcmVmcmVz\n",
       "aD0wIHJjX2xvb2thaGVhZD00MCByYz1jcmYgbWJ0cmVlPTEgY3JmPTIzLjAgcWNvbXA9MC42MCBx\n",
       "cG1pbj0wIHFwbWF4PTY5IHFwc3RlcD00IGlwX3JhdGlvPTEuNDAgYXE9MToxLjAwAIAAABdMZYiE\n",
       "ADf//vbw/gU2O5jQlxHN6J0zH78VuLo0N73OAAADAAA33SONum9hL4gEvcA9go26ugmDQqjIxe/F\n",
       "/78+Wq1elnGww/vfI1mVy+rXORGAwO/1b+2LmQeaQGVFbjVEbo4hC2JdjMT7OObQZwBXuCEPU/+b\n",
       "O6/f8dzsQA9g8WDBksQvI6Lce3MS/0AMBv57kEWp+SsZdSpdiG2RRXNASvUKCgyxvfy0jdda+zKi\n",
       "tqXWK+yiKbJsM7oXl7vf+/UjCISJe3Lb44v8bvexVZ5qWVxtx4889a+uM5uTfULFk3NZ2lRVhuEd\n",
       "Ue6b00tVDUH/xx71zhDLmc4sU3pW3/ldXBjxmBR56lMPKqmnnh+3nX+gL+FVnRmzU/MJCO6fP0dd\n",
       "9Hhl0zfH2cv4B0pGEsnbjI+USA8M2dfzb8S6GUKYytC5fYzDfs1ehLXRNQlBPTIn3V+ELakSNP/x\n",
       "CkS3N2P4IhHtKnQyBRWhf9LSmiYmNnhW0tHvh/JDh7c0pCNhFsFBUsuysduUrYkuI4DcMDqike5V\n",
       "eraZ4cQwSZFqBHzSTz7wzxLf7WoYTG7Z4FPFGWrf+9Fj7hu02PEv8woIC4vgQNN2nYG2R0SZ0dfO\n",
       "1rk0VcFuoge8PbWlFUWDrXTYSLycnca2dNnQWED94tzSup90u16/Mi3L3ArCO3p/pwENoYoFgFg9\n",
       "2ykSH9O1MzYEADH1eCQnw9iAvMushw77XReZul5Gl6zfV/JQu1hYRZlAjBpdSyJNdGI4Vj2gqnnK\n",
       "ZMDvPNLi8gzk532tPC62kPiLNQlnnVgb7jRt5IH8kJeta1CdhJrtnCSAEpVFc4GVknEFJdFLqCHW\n",
       "bYeqt63Crh2rqQdbhOqB28GcFwX6LTmgARah32+6Kz6oV45p0tcO78mEXnzfnboYXyH0/bpJMV4T\n",
       "LwigjfTL1mWAgvQ4uXSgit0dwp/jR3zPwijSPQgFQxUalndOybvaA3CRyEvEJPv5VnV8TEkxeDyn\n",
       "HoZpbEzSY9k7FU1u+R1N3xoP/4cF31BcT/re8QWnxD6rP78ylgqo0MpRhkaQUwNoCzU1kP+UhFlN\n",
       "ogUvoZU06Fo+B+uxk2i+LqG5xt3f6IyFdgbXajN8hI1fsupt+tsM7QCZw/5triftFPckJYILcVE6\n",
       "5kgRVfVd1D88t9qZoC4kIRe2Br/WXTWFowsOff/y5idHpCpKR5hGkpeJYgURt0W5vnZXgbJaEWEi\n",
       "p+xKH9ZY8cFeCsiLZqG8kpqRFbols3Z8c81uozIC3VqfUXm6LmEhq8eZVotbl8mFJ/FccQPpHGw1\n",
       "WIWa5t87WsM5WH8kvQ52OYKTFGuESdCQI73Ln5Xj0yITRSet1L9aOHZgMeb4vQjaHOJj/kXpUiqD\n",
       "4BoARiVa4FQTBgJjzgrAUp1tm6UMHYPv/9gudK2QgCq+UyCNNvCELZ141VebaySV+fZPcQi1EGlt\n",
       "NOH+uBZG0OX1DPM2Fy0f7quMCxOdsnPsLyen0BJ3LL7yu5ohmndu06oGDNm60IfL7OCWCXmZ9ylU\n",
       "IBsc7TA7R3huGyeFzLPX/VwDtEYOSNZLz+AG4GVbMaQAVMUWaCbdX0fVwvFq5LvpwQRcJK1JiE+W\n",
       "FykMxxOfKNk2QUNKMQdj94h7KEDeROTLaweuljhmYeAYR7gWssUvE70Qn85eHBTLRCv+S2FCnKJA\n",
       "TvI/XX87KXap5hp49wq4BNmqN35pYNqY6kkkhNEeYmP5RfoKz5ZcaEZhmo62Sr01x7Ta0eTjXOpb\n",
       "iztdPjbiRHbKQG5/9TVoq1oGZeVokp/IYNRgmosqV0YWvCRsA9O2a8nFvw7Y1UDG6GqCu+JUGqzC\n",
       "KcCyk+3MnyFkU2QC6+Q/ajKnd1XoLx/wi/8NxE5aAVoG+v7SBe29YShEQeSurVLTWEjrQXWAbw5v\n",
       "nd7/5kMj3Hoen+CbBS04n4GKIClm44cn8X7bPpvMcANUR1cLC9QjTpLgL/bbrzyKZe/xRwhPWHNs\n",
       "G8xunloPqq1BTLWpe7Ru95sR56qk0QvQ4B4YhEpDcyGPzO1GzsBpL/0U/WTHVRc/QNyD17p0EyYv\n",
       "2mt2v2rLSpp365i60Z7RbLDIeb4dOLJIWKct02EN6MzwQG2Zmmyo9UMBmqSpCZvKNtq9wXVshuVx\n",
       "+Zd2uJB6ZjMRP5fMdoSLvIXo9NW/OLPDpP1mesb/S+NHe+DLVPvNzUD38bZb1TT255GtGMqrU8aM\n",
       "4k6BMGqynnvBEg9/ZopSh3khRyrfN3uK39jSXsi4PEdQ483rOmgilhyS1v6N6gEMv8DHjcjiB2Go\n",
       "za8hfOKLiz6WC8P6lgeLpANkkQyPRAJ6fU7JeU1qud7DWCKXmHTrSO3YQ6ITG4vMTrLR4yu4I2Cv\n",
       "VG3XBcmaiPoesfmfR3wnOONhgA4VlL7z9/DA4syeCiX9yMG+N+M5rH2Y0rsadfBq3VFzezoXAbJ7\n",
       "DJngaxBoDaP/EUbVPlaeb78MF7Tiv+L+zXKLIXjcGCAZoVuq5TJjzE1yiUWFCf8QFVsAjra7m22P\n",
       "pOlyniquWnD76qa/yWjbdCu1oow2G9ytcml63+P4DO/IDuttvJdb6GgqnmYdnlSb/yZqmU3jwPyP\n",
       "y7zq1huwg/cyFtgmNcEdRjeFygrCzp/zOM3iJlPa3mFifaek1RI6n4XkvXq+o9E4QAdibzCM1IcI\n",
       "ULQdg4znEIdyQCOfTtV9TowW+NE8GzkX0Xg1V63NBG3LEnwOqPDGUaul7FenP9Ajq00ULD+jBhwi\n",
       "jSPX3CghJY9X8qSZHPb3oF8PGh+siwwP8ICCmB0rDb2SSoLJOaCXG0YsfIGbnHzmAv+aceILpYAe\n",
       "t7w/dzoDRFh5XRuHewbOKtapCO9VFN2wF/wUUKHmWakSYqCfqNXC4Md1yaaRGE4sGsw7brR43cfn\n",
       "DwkR071Odm2N4oHGa+M0KgW+n9uIs81bPo9OZXWT/0zA5jjSLADZZYsasaqscEnVf/wb/Fjli7+e\n",
       "hnUvwzFN+yrM1jM6NOOr34HPkFWJ1oE4i9M3AR1nlLFJpSnBlQPpAVZaQb2CHQrEDiUDBsNLV0em\n",
       "sWqhfx5jOddNYNpMqxCtPYr+P98dMoiv/AtscgpgGW9uxVZWP+EFMdNUC+EjUF9B5YElFvkb/YF5\n",
       "LuM/vRy1diEtcpw4fTRbaV7ZtXEgSj//z3ZXEnFG2t1/MLRZnIBG0OQ7PnmMxUhlPISkQcBXu022\n",
       "UfKZZkrEYUpJJYRqY9wqjbfeeUog2C4fEe4g9GQYF2rEmy98uItbzMLo6Vp7rTO2XNsh//9wAxeO\n",
       "E9YB/y+la+D5f2yCeVSZpLzDGVgSr/cmYR6BOyq+kcloQi2BJzLpwj9MZoUUKJYqbYZcdsF08Av5\n",
       "RBOYdZ3QlZvmcK1uj+DKLcl1EG7wz+SqVqnTfij9JRh8lvoivDU6DYREYZGH0VGCom1P94EG71nC\n",
       "jQhOb/0yaHFfZ2NZTFr3m1CMyhaUFsyXprnkmXlnZfy/N0Qiri/iA44hpTZYrYzOpwqA54c/DmTD\n",
       "KWNT+DN1lWjkaNBrqP1kxr2rRaHtX/KQ52NwR1nquQ/XXnRePPDb7Kh++lBLHbhjxWRc5U3EmYXt\n",
       "HG0AaHYXVpxbIwU1yXo80y5Qw1OaT6Qq5CagfW23BIBh0BlkVLnSQNwGB2OS8ItPPWrAqrKkbkbP\n",
       "WXtSWbHGofCa3XloO6K9d8GsaxdL+yZEOVwFxevfpa1F88PYOdai3Te2ByaDx7JC2hQPCzi1M7yX\n",
       "hvz+zGJfGi1XIeYtPDYDpnTNtJ9pJTi3YfJO66f0UYogm5z0pzkvbeRcVJimzfOSuxpUN/k/1+2z\n",
       "CnyrP8aw2IP2wPa1NJBKgVO4VpHoAZsPOBDwqwMw31I28zR5PtPSy7nED+aAbqsZ9dnXMy9JT3Ax\n",
       "LjKnYwnfEJ9tWX2ZbhR+Jc2DRQW40g0P5ZMvc0Xzn/zImAaEIyhz61PAoskjRX2Wdxs4a+lduBS4\n",
       "TUn3+udne3xW+VAe23R6nEuMW8huCMGWu3pYz5plPjiov2P/059Q0ci4Q6+XYKvmoxBus95vo9Ti\n",
       "pMbFipavEHGy5FMYqIeksXYQctHAehZhl/GlwV/vHf7lfLChSurAJdOwFnOGpAGx14VNpfWlRmXw\n",
       "VJTTu7+G5vbxEqyrG2gUJyWH8Gl3l6ElsR1jFa/6lNtmcZI6xj1CKIR0PhXHeurdKV39Z0epe85x\n",
       "7AxP13btG81pZqea3viej9J5l8sTgGF+uqjphzr20FqHLxC2AHV962W4uWYkJgb9uEHrWVlDlCvZ\n",
       "C8pmjrlZG8YrusmXS3r5dnb16BIgeriPoj1S6xHEPdkrAttaeUqTpkLfkmgF4u8mzJQE0IO1D+Z7\n",
       "bojWFse6HAWiWgQgtKWa72yRpNwNlv4+qV9DkMY3wqovxcfuYgnEcaS2UPOLuDcDRUD/7+3+czuS\n",
       "HcrZZuf0btlFn6dF5KVoLQxFeon1LuXGez0+fh6NHbWxjk0MuRvmIOarXPZyv/AO5+YJCW4YXv0T\n",
       "P3R3L8rkaBxiIdw5bprWYOfC3tpAnCux9hvswidUQfCTAb/DWz6cc5/BAfohb7nt3QEkoQiUu4Wz\n",
       "NzInWxJZfGD489EKiKRLZHoAEsB6X7uz/7G/l0WaP44NJLViN1wkbNGW0HYhEnlgcCf67TwYQ2uY\n",
       "gdt/+5KYPeNL9/8Fbz+Xog9Hrs03b4mQLiQmi8vZQFX7o6kaBIsWJwL4hvcrmyJXPEVMbcYfrizC\n",
       "vJRg5LMpEmM8ZVIf/ifREBBXP/53QhH5m0U3g08DZvesiDjUBVdmzg48Ncm7JZ01G2+cfKXJ7rI/\n",
       "1dRBTTFRWFTPy8gtZiKVTDGgfu0gVBkLqjScYaXzrKwHPyj6o4R1dMzP06FNtjUl8TyxSa0qsKqA\n",
       "MVMWLwlsx5Zabon2nXrPfY0tcgViMJ1I52W2xDEVGg+TyunJ5z+xGd5x2XB5vjQPTnQ5pRKxIN3r\n",
       "V9n5XqmlSwORTOimvfKp4YDw3KXkHKViWiUxJP/CyovQdQ7i8vqGpAbcAo9EkACjPqqYSWrB/XJP\n",
       "0uEz26CD9nO5II7WR6Dlt0R0n6HUAQu+O77MjzGLEX9nwxKVvLbbTaouCHBRjHHqgHB0HZYlN7e5\n",
       "dk6t7xxrvCiEWlrHBJesjMd9b55uMonGvk5GLftqY5Ax4maYxIx5WXBJS+69Pq/aav63Ev7cL/BP\n",
       "Hc92bHU7LoX61fLXrLWKBVj3vf0x5OTgO5AEB2BwfQ401s8mvv+jQWvWmK1nx+dtIHwDv9ASfgkt\n",
       "daN/jtLwdHhRtyYsBDB2K6TI1kjvvdPGQyOoLnB907Oc/5X6SeJn2yzzfwjBwNvoWx+Ffc+ZrbJL\n",
       "uCptqp/Wz+61UF61cCjgh+v61FC2slI7r2qBNV2aypG1O3iVZTt23F13v3Ogq2pQU4/0iS6uUfXF\n",
       "DgUR4On2/vfqcSHZqIN3K9X4xIcDWMiwts/flk+ZInuHs3mmqdu8gIkzErsWURP60iu4TKtoG92d\n",
       "YszprzM173qdpDdLPSW6Lqwvyo/n2rDq2AuGe04ot06ON1dy42TrEJe3i4mjVnX0pxlRZFVUfplL\n",
       "S885F6MeyK0DlZ7mRcodvCfOsmBtHNjU+tYr6rE8OMkkVBoLPmsm9Yaj8Zr5OMkG/CtDsy4LRSvi\n",
       "clVib3aHfj9Ln3df2bdnIqv0sxeBHe1UJtAyjEAKqyhtL83u1l2QxmQFAlP9aVv2qTx9T4R0V+h4\n",
       "3rIGEZznbak9PwuUeSFpSYeTyhQn0f+nB/izwdZWuKpYcUC7GY+7YPF4SIogLow+TEySKA/lQmzV\n",
       "KB+nq9EKTWiIQQJ15un0iWEwF7Ju+E1gZevPPyMHSCAsytOoBHo4npCeeqCH0whidTa3M7kOOLPQ\n",
       "IyLTD6dd3610iYKPnQRDlXRU6ZSpekVor/XxlVCbWy4tsBpOSA2dabj1yrkEXRqFWD8FwUTf9VPY\n",
       "2Q/7CiL+b+3QOlP4CKQEQZvkyJIq0WzKwoXx5tdMADX35wPTPTswQCgZV4zhl7Q9BlqusqBRVhV2\n",
       "ANJeJ/2CA4bNnh6+ZANf7iExCZIWbEA/+/SEw/C9yWjo2j2LSKOz1S+0N3IZNaeve8f2Hc8M+/yf\n",
       "JFOOG2R9PdomA4sp+ObPAF6gi3kvajHUxL/QCPWmm2C5fmAlfcksDfxprIjFVn9WU1C3I0WMWN0+\n",
       "qBSQLcn5Uw2l99rbRVAE3URnYP9bs0e8HyKzIXJ39aqY6IsSJ9T3bG28XnHK79/mLfO7XXvn1/YN\n",
       "N6VnwHP6Vhex9tUmsLOuuOQ5+uYrg/WGDJgia9q7Ql5Ors1e/A9KRdHv195VNp8wy2xmdPVHL6SK\n",
       "+5DHysSApQfoS2+1s/InaKYX4HPfzARuZ0O4WbLDGuaZ6oCp7x4HSqcQyKDeG1tq1YmdHFkwf/Z8\n",
       "+PywhT8V7F0vYD/NHISnGvSRdOVCDTdeyKBNxMmPE4fjyEv6jS5DenUL0Bq4KsDOPD/zAvRUTueM\n",
       "CC6bQnBM/bDPl/D8q7nBjYYK8nqt8P4VFuL/RRQMFo8plHNy8vtjZrf3lxsjPOs4O3CwfDDm9OEz\n",
       "YwBP1f5Lr6Yru2uHJwrV/UejCSmfi0Veeix3ozEMtzrIAn7wz8yCuHp6Lucm7zIO2CCmil+wu+xO\n",
       "7xX/EtHmO94vfGHM/h8C1XNglaibJqXi0zzpcYipYST1wgAewjJQSleX0bOeZi8SRXPe+tO09r96\n",
       "0LNZ/Ou7RP2bk519t262//UFT1e+WmcRqpCUO2/fW3FqqqBgkev+n1cy2l94pprVIxl6LVADEj+1\n",
       "Y13if23c1DhIhe+pW5UzUk+hRoAX2XFwpKk/pr7kFJbJX5zJ0q0N8lcq9OFy9iDyC1SuDuoCn4tJ\n",
       "QRtQGcprvbm9LgBMRtLzcyrMday++8GzB8qeu0hzr4G3ZTKjWaq38hj9kxU0uGhnKSiCJtnCpCMv\n",
       "EaVsTrQIaqNsCK1sx6Xfvn7Tlpa9YbsLwEseHJEU/fldgM88KSxCr6xusC76uPTR6DEHJXWqQP8x\n",
       "NCq/4YUUwzLWqjsJmWl9xiBBnTerfB5HhFHHVicrB8XUuKSjdKEAJu1/3jpEFSDG6aZg3LGP4RXY\n",
       "Fag4sJ1ARXz6jfbm3G1a/uh03/5LMnKBzjZfNqlJy4N5OW2vxqMCSuOFxU4k0m5gBEZKncENFOCm\n",
       "5o2YGWj0T/qu3/b5aGl5dKDpT/qaF/t8uyA2EtjjemwpiKoGjLHsr/3LFvQS/ekeS7Vv08wvF9fo\n",
       "8rvJXTAI/kojRjQ0PLkkgKjU1xYXybgmS0pTJewW4kU7NM/QjffwG1fgaFbkAIN5qzfX3//5L0DL\n",
       "Nbc1Erw4oWG+dhw81X/vexXLwOt2wi/ReyG2yOHi7Hs0HLT1BiN3v5EtXcx2iUIv4d3dnsFyx/0K\n",
       "F12UW9RUesNpY5dIwxpcJ3sqYCm4OQSPN36jVTA+6rmnZWr8JvSrhkEusR+bCfoZCK5mRgIAHdUu\n",
       "6ZnPN/L8KTDgrc6Ld6S0sTp1Pz8j0g/ueB1gjzaReSujlwk/PIlA6IXzMoDMc6rVGattaHp4W3JV\n",
       "hxH8e2EdXs/B2OrJaXSJOYVjrteelQ913APKXBtB5eDhu7AE5gxtcLM/exRUZEt5KRanpLa6+VML\n",
       "bRcEBWTt6PPXaeJc7/p3l9pRK2+0Cm/jBMulF/d4KlQFhRfAWxvRitPOJoPnfI6pufk3fhCEm3wT\n",
       "VIvHsADHOXljllYx+o1L5J+/tFO36Isg9Va7UmYq23csknGZJCV3AMtXqTm3Qhlqfb4P+9TVDhuA\n",
       "oR6ZQ/E2fWYA6CDZwgcabljXWNrCDqtFPGtEwqFdLyPwJPxIWqwZMzbqAFOlFyuaJoGPrmuJ0+To\n",
       "Z7J8gC813lJKV/Qm0fr4Sp/VZ36chcArmSFwm0SH4+7LqHHVBKIsG+EIy1FZc6bLk91NQO/Uqgqg\n",
       "CFZaeLkHZrMDOZEz/cWQI7AIXuvrKzvrrPa6e8Hv+KubAAACx0GaIWxDf/6nhCS9lcA1hYPK+0gy\n",
       "bTRt0pZ60ob3imxr0F5EGiwh2XsBdPQh8n/u8NNTLCV0nY5f5/ITqAXNAS8Xxbf6bP18UYDPCQyl\n",
       "0gnqQu71TTkkeyc82kDXW+sRzfbp2BFqDCJ5DyKJguIiteMK+z1FcbX7N/wcAcKVwcqUl3KUP68L\n",
       "sO6NWvvjRmk9w/pX0UpV1+61Z8AvEMYi7m9q20pJsa2BaBn2aX/stUWTgcNeiYGS+FkH1sVNiStU\n",
       "SE6HHH24WidFYHbpPKrmPh1Mv/Kh1UNfbokASHZq3MtcpgfUauIJNYIYP8BDqV6s0IGuzfO7neeM\n",
       "BZLzGxe8e49MZOR0yjHrEieBPKRVIZmDjSaNFic/bJy/q7oDVLJr9nBXFo1c1twQBYX4D4J1I87n\n",
       "pFIqa6JcOnwnx1wUaaoFfly1J+BKRLMTIZ+6hzMVin6FQx4gmQ/whDrI3fV8Tefi3Eklm/3U+BS3\n",
       "LPNZCCtgpvcUnHAQ65Vx6xhhnXOJeu7fmrpZdd1TPBbKVYH2c4BYGCyn+KZvtzjJk+dC6g2a+Ybm\n",
       "Y+x9we8cpijaQZg2OlyuegvDwQcFG+UPfhiOliZihD7AJRwn1jmKp/TbS39HnFkYXGliKk6inj+G\n",
       "TM1zF4er2ErSoVUfDkbpKSYn/7H3nqE7lCxwTIbSNvODRrAZBpZbuZ5/CCNu8ADHNPxh1W24ilCo\n",
       "vOVHybylKabwdksVObsGu4Yfdo8uN9kGx1KeQ1UT39IrtG5lyc3nGj16H2W2BKQY7plwafpEcuhA\n",
       "as5aXiJeQgsg3v4i8LtBWXvE2JjKvb2r8Sp63ruyrnvU3WZblJW43If43DvLwQ4glvr2l4NH4neR\n",
       "Sja4yLbnbpGfm6J3plwr4m4y0cJUvlSISQLaVCPP5b0AvDj06udUiT4lLrx9pk7LsaKsJodfZ+Je\n",
       "tt1bVGyXtAAAAZZBmkI8IZMphDf//qeEAKw4gFW0ABxvQaly22Pv9CmQV0huqr/RzpGN7TSJ1cNQ\n",
       "ARCLk6ZzZhfcWx1wOFR09W6EZWLLzFcsy20jbg1idAVNmWkEP36WqueYl2Ht0zNPgkBEL9qqgABF\n",
       "NSXbv3+RK57mq3JPO7GKtbQzggvMbafUehhcAtzUNMagGbRRavRnUX18u9Mb2Yv48WgAWBwL9B7v\n",
       "bL0FQABhDNf5b3Jb6OlR6VWeGv2ToYsxsu9j7ObourvAr9xgHMPgyoxp0wVOJEKs/zJz97zVI8fy\n",
       "O6bManV7qekRBCQyqVCQ/nB9ehZi/voGx1aApfqlO9xUy1sibYgYoDPOv7aHuZerZbkFL0AMYFid\n",
       "efua0BmxZd4CEABMKeUPqpEHaj+VtUbbuGXbcQOBDjqwg50USKIg1giVH4OQyeZwr7F8XaHmnlVl\n",
       "8T1a95E/uLUDZkOp+sATfbcL12M4JRivgj9cQ4EtsKRrmx5RsV4yc5oYWRiyThHN01ELY0RZe1VC\n",
       "vrWUclI8Y/O/fn+oBNQl0IxJAAAB/UGaZEnhDyZTBTw3//6nhACsWUXsJWtl6RYAYiWwAAS1CBsL\n",
       "wo4j9Vv8+fWNDSGikkc5aSc9+GIe42/Op8Rgt6O5l77Qi/F+pq2lolmnkmZB3eUW6NS7dyUsbzep\n",
       "w/xB29HlEaeHkM1Nz/olJsJCwqqful4OXXOtfUlVBHv64uA56JKTL6RT3B/TeLRbcij3bciKQYWd\n",
       "yAP42ERu01nKU2WyXLjGMXNpyr9/xoe+biegButIHqEv7Q03nV1DbelMtM//KvlY/xNHLF6HH+12\n",
       "Efhh0w5eov+mXRCgQqKE/gdlhI5Gjt3Gt45qCe2E1ja4bqhx6uLUCIpFkusmnEDFuaJzYOLzqweB\n",
       "P3RZGIK09/BI7f5EpjzmugkIEJb4qIPSEqV52mDnGUOjlZV/LklZNHAQSaRvZqyDnWDrm273ttMZ\n",
       "bcgNcpKpG6bj/FrKJUJtSAF6mDV8d50aUh292LZ0nmlXnv0m5fSmERKlaktOyIHq0Z72lGXHCTY+\n",
       "Jbttz2tMvuOAFB2+bkzIBtHxuEqFecJSQ5PHT1Gqal/7/48cp7re7GVUoKEO/1S95z/pd2EfIxv7\n",
       "7QVr6GZ/N0rOS2YdD15ixeSXzeQx8LtU0GQtEf4uXBcRCVK66DBf674kCo0BVOkwuPyx+B6mxDzu\n",
       "u8nan4/ZbXpIyER7iZMvTHjAAAAArwGeg2pCvwCK2kxMNahkyuirtz7Hb6epYEmeKvYDiNpgAhyA\n",
       "KMYhePKyRFGTbx7Lr2qlLSV19mtwRUlViZgefQYu8trg+6spae5ezRbvZQho42NY0eGbrpcrfLgD\n",
       "aHqrShOS4//Ki77yaucRB2EYNjCvoAO2LN1wJvB1pa/uigBeuMm4y9CMIB2mLBEWtdjMHCwPqk9i\n",
       "jrJ1urzpBoTNJ2XXrluqEjBpJpog8XnceTEAAAFNQZqFSeEPJlMCG//+p4QBXPonNSxJDnW3/sTV\n",
       "YAeYOIn0AI6aepC+VW0PnajmRiWgNh0AHIrAEm34Le0f5s1fV3tGcrnit/Cj+aXzOD3rS+zcMceK\n",
       "pC22w0OjEbe/9H9X/7VDTGST5yuq3hSOEXT0NIfT3/qYJKynLcfPx0/lMG70QT/oWpwhI+Q2tWG8\n",
       "m0N1KD3o1YZF+8NrqwPFENWmA77oGP7jbiyb1aI/NaUtN1ajBAM4s4u8MmITgGQtUcGHm9aRpdX+\n",
       "9AcfrkPbr6bY9DktbOfvrKAjkdym9Dz2rAozPU+KkUDuUJT0foCjEjFWm9IIAAg53RMntxj0D+CQ\n",
       "l9/5N83v5n/Jj3MuPka8BVYfJQ158oCvBDQC79jRaiirIV0J1qfsyBYlkSiMnzYXOreiOKtu4Zps\n",
       "ourmr9Yx0HX9OhQ6hJWlfH1WuCp5AAABeEGapknhDyZTAhv//qeEAVrF2rYSZQ6Y+KJACTopsXsu\n",
       "7i5xp/3SG1cTMMIg1BuUGaTxS7fPL3RZLNHxd8/xX7PqEHFfHIw0z6Ngu6inq27MM5emnkX6H8P8\n",
       "KRvTlLPrKmCcI8yeoTeh9nfgyYmv6irtj6c2toOvpQe6osHPpvTqLyCr7peOqc0tDZ/khCjYfTdT\n",
       "Ykl7Al4h9cHYcRLccSwyoKupoT7DN12sFANnZxVn23CauqZu+8IV8WlLdaGIAFQgeOCFPZo0hvGP\n",
       "Jl7novo485R56ugkq9hJswQnLLMb21MAtMG4hrKqszatu9BmKiBtvN+c4HDFprGNU7j588O86Jum\n",
       "jz+TVOFdWWVxsn60pvvmzylmhXZ78YyGZDQifTTF4azi2VHrwWsaLJh8OP0pdMN86NVaRoX1fBGn\n",
       "A9o16NsnVG7PrSCXNrOyd8VJUqKVN+caZT1EQn6+u0rRG293envpe1VGgyolrSTU2+HK9RRLaO6m\n",
       "PGEAAAIgQZrISeEPJlMFETw3//6nhAFc+hqwQA0cwdY358cZPF378cne6O0tCJGOfctbODNIzpYe\n",
       "fhnXEu3/4p5KotocnVy57jSDufDFCNL8W1HnV8wJLCV2q0bEMLXd1EWiW1oKhSzBW3ol6Z9XCEcn\n",
       "dO0SIVC8CKmckgu84WSP/7gAVIDB5vrr+nka0jOBZteiGSRQpl69gQajPuNcXi7Fq+w/p0IT2lzc\n",
       "JTo+B6OgKXgM3Pt0E2bmR3/nkExXJh0z6+QbyFF7yyWGfmacB5hN7x/nk1tIA7ei+0tR2oSQdMkg\n",
       "LLwQ520n9AOaQGeeFZmHMaaYH3TR9wzLuE8C7Z3bT1uWhyiuMSoyi7S9v7cqcTd/QnGRj7st0ta+\n",
       "Za3t7eff3faLAWhEkJXdquG0/Okdvj/vK4TCzfaTY1fGDs80ORgcEtutaYcc30Jbc3E+bM8Vc44K\n",
       "oW5xmlZ7leZ9hrZKgXigQBdKpjLLDOwxNeLmM/Ac1lojB6R6xGEy55Jk4e/kog+FKQoAOk7oJDh7\n",
       "K/yiRR6mZjUfwdmhDnvh1nBryV+xopj9ohQvDSHR+yTVfRi2KarR7Kk6wG1cBS/CQy5V4LOJ6Yur\n",
       "rytp6QxgvNEyy1BL5pfYiovkHFcy1EFaWmthMAnoZ8ZNx5mg1GAk5y31TlELnZ8duMD1oZ59GR3b\n",
       "NF8Fx5PpE4aK1VmrS3/cWcIuSUAmloSoeqm5yeizKMGewxs9YQAAAL4BnudqQr8BErYjI6DtVeIR\n",
       "VTrzPUG0wt/dADriZia6WPamaY1wx5StiiAE2PYKabhfag3mXVrhMqTiVExgjcRZpTnGUOqn/2Ri\n",
       "cgSJHWNaQ/mxmnFq8Pm0O7a2GahtAMhJY1/nwgoWgKTWeTk5NE1F3Gf2HOsAk/5JfL5VKgWjsUns\n",
       "vCkp2k5WTISJIB9ZmZ2PoSWNEIhKU1sqsgXAow3sR1lPDfQJAlEFvBk4ZtELGtwFq01H0StYHkm4\n",
       "fX3cAAABc0Ga6UnhDyZTAhv//qeEAVrF37YU0Afzzl6QAhSjvI87cDlMzvFYN4mGe3tzpYYBTJDp\n",
       "Dv5lCMCDeY95eODwOWx9j/iSzLn9s71EfRGM3/uNcW5RrRZUz1MXkeRIa5Mp6e3k3/qVuC29R8ZG\n",
       "fgXAtqrMB87iAMdo9mlrybKn5Vz+edHPBvvSKK9IhgYgai4mh7O9wJRqbEYbQiNKJHbmACyRC3xN\n",
       "Qj8eIdz+3o02srjB3Whvi7WAsf+O0KkRuei3YWMBnaDlExEJ+XwgC24tGpfFTwcjH23IBkB32ObC\n",
       "IOQJuyM+7ZUm1Wf0mkHK1AZxqPbI79cekQoWpV26v/G4WqgvN+3ICVyjo81h8RvtYlDd6sFA7Kl1\n",
       "vIAWeGXBFd2akyn8xIlfhRhPPlKvwD6yPNtNwrJTfJnd/bawN0ro2q33xDOoq3vbK0XLGYXtzUIu\n",
       "PN0Le92JJ2UFPkwY+35rEuKVxrIujeN718yr9by2yhAHMbEnAAABqEGbCknhDyZTAh3//qmWALBu\n",
       "zecU9nlVH7Xlo92oOgAdoui3v/bV1D1lu94v07+N51tbpZWXqFIpxbPbj0Mz3yCbFhUcIgf424y9\n",
       "yXSA22uy9uwXdoeNSlxQuaV9sbSBwGgaIcA0Sog0N+yZ/MdTqhK6TayAubO5+huM1JCMAMeu+zt9\n",
       "2PZdsfGCo6B9m3ux3W89lXzPkJhWCAMiJJbBXaVSua1KPW0g1B7SY/HO0dLQnhUueYubQRhCUvHX\n",
       "dH5sntgwyjpnpmQkHc2IJEWFjQAlMwXoJMOmORujLu1XpD6jHSbQ0Z6Dpa/8aPsnVm2EPyp/ZtAa\n",
       "QDYuKGm15ERpg2mchFa7FrHw3UuRutEOWz6yVsXoLUH/WW63QpHSyn4J3WCwDf+VCODO0SCbO/1k\n",
       "GEXgRkXTsxL67LDm5jqggMoYVBpPvBOEUPWNa2Ty9mkyLnkUHglR02ZFVna7nPpQJhqPG1LltZWs\n",
       "aPh86Ktt9puUtKVSyBdXBNyRJjHiinU7rZxKQc7Tf59FTySQ8v1Wse77T9Y4w0qGlcDGOt1pA7DL\n",
       "GQNFBssLoOEAAAHKQZssSeEPJlMFETw3//6nhAFaxcwp0t5IATMgd0qyqFRwsUv1EhzhbUiaRB+1\n",
       "5tbSO6NapjP+1TsDHPLpsrOKxwlRz4Ej9K21mCYu6SxFzLlwS9NZwGd2lEfqu4XZiBrWDsMfOkW/\n",
       "92uHH8liq1NJZTJUM+KpIkTu7+Q+wlaHHp1VjHY+LPGkSYNhJOgwd1f2Y2ZW4ynl0D61gglQackJ\n",
       "ag/1h1XI5cqhG5LhZ4xplHV4mLL95+B3VcK0BCWnJ15msNJQXdPyER23ko4LUJickaXimdrhAPnP\n",
       "V+sr1R2Wh07MvYTsgiboY0DaOBFh/2JtBO1azbmsb6fNfk1/zaquQ96Ydt34H/JZfdSYvpPDjXcc\n",
       "Spt8DvCG9iFnrtvtg4xy4gbRRzxVWhYoAgcO9xvWlulxyPUYky6D2mP3wRc3lCCOiPuztZczz9hY\n",
       "bwqXSInQfn+3wpQAAJs2KeYVmE+EKyB530EBZ9MZ+lMbW41uCZU6W1/Pzh5HesLBWh88co2neAYr\n",
       "Oh5W7rpQbgNC/D3B82dyZhwrbxAZ8d2YBCN//8Ac2efxm39wGR36NnQBFz0U00qs41qSeBTBhN+/\n",
       "9BhOhmI7XgWQxQP2hbwAAAC3AZ9LakK/ARKzz8C1zieWYrXvyaBf9Pmy6MkrIja1qvFC/nuPwoAJ\n",
       "2w0CfiBdW46h/EUnclmnlse97QG42MzbGbkm0Ims2+Bx33j0A8/7ygIAdlzhQNAJgkSGZWOUYBNV\n",
       "4dnaI+09CcGFpAtUF/534HgADUAV6B+9qYSrTFJ1ahMADbwcvurXjohGzKj+r4WD37CMySoUpe3j\n",
       "U9mpb66Oy32c4J9ee2byQSxeE6Z0Kyue1Y7r6myAAAACBEGbTknhDyZTBTw3//6nhAFczMUzrw4A\n",
       "TVqt8rOPUvryEtjjLtt1hyGP08d3hN62XLHEmhLMLXuh70yFC3ROtssk50gPlTkjFCzBl7uRrjoF\n",
       "JEqORdbV2lIWEud0hPldQbqu/CPG1ADWLOU8RRrZhkZL/Z1yvMAk5lE/b+vawjBqXCBpgOAX7yWM\n",
       "/5rfUwz4IUh9IoMbJqqcgBUpgGYBVuBxpbtU1uil3Sab1acYHjuDz13T8ZZhFDrrhZzVMUG0m7C9\n",
       "qRiJGOkqhHlzdfjZPgLlPiGJp0HcT4LI7DCrUXB3hhWOzFVcP5nsAsxx0CxXIgVRp5NL8aPl2OK6\n",
       "AXp6eWXNAtYad0LvYXeIgM3InsFxu6snWPFETGgaKbOjAeQmxswnml/uu9LaiNU8e72guScJ5vGe\n",
       "o2Ra7kB/Xap2HsbRizOqM0iZjy1w30/uYpPUKX1ZTijETI96b0IPOWcyToGUNnwLiTu8/5ylT1Oi\n",
       "yMpnDyKkxUCmBWMc4grXZJL9MgoMNJubUAVYQRVPM726PxALLX9xCTRg3cg7z/vPiTa8d65EE0WH\n",
       "1dKw2PdBohqeH+GSto/+gFqL2IYP3UcxDXKh7HxOCzbe4e/2/SePKx2mqAhQlR9kKz4kE3o9t/R6\n",
       "jZaMYwvRtCUuMEmu6syKWc1ri8RjTZqLirkkW7zaWmMx3mTugQAAANwBn21qQr8BFjf5h27RWAEy\n",
       "G49DuM3wGNdNE+01U+/iNSnnUUpTKjYHvGLRr4SC0f20R4C9XnyJ2UKWfWUDTNTfchUfT+PQjsgy\n",
       "ertSllt+Iq9FUwINUvVdqm5WVpqFHnN8thkYrnBjjzbdQ6U/28iEk2RCrB+d3Z1FHxtU49hSAhwb\n",
       "tOrvLKlZDF/Jmx+ZNnMxwVlZQ4K3kQ8j7h00Zix0fgepxgrcIS5Ai/aNeEsgdCjjYUAceGG4n8b9\n",
       "qF2K67JabYJ1Z2yi1+rEyEkp22T2jrRqR2NVarcyGerRAAABd0Gbb0nhDyZTAhv//qeEAVrE3AIo\n",
       "8gnwUAH9GENizl4GI397afdP4PdHyg7uuE8jBdkwjn7avaUyCHbTl9RfjrhQiOSJBmtN9MMKZrLH\n",
       "9I3nIfHWydn0kjcUsUXhXPxVLRE+fuJwM6ICNuIhdLSlE76Pf3n7YZaBJvmBDQh56YL1K8iXLp30\n",
       "J1JL7ml6W1CLPv5kls/YYE/1+h0K3kgPIRssBn3lmWd2hAgHpKPTFCRoS2mdYo5xvoemBzACu9OY\n",
       "8V8mGQL6rO9mtFbqmgoWTe8PLP5yTp5pdzJc0KCV/0Rir6RKsRkKn61t5uHYpp1UN7ae+jTHTDYQ\n",
       "UqjTSDI9lHk9gwhPdNRa2AZrrb+9T1C9cdTy89Z0H0/UCQtbRFduH+j/w31zqIMdo2RktcQHpU6I\n",
       "F/v11Iqtohi1+3JjmkhOMfbj/qOlcfIMEelE8jG0hcai3dkNhYP0t7iUwbNGcPpV9lPmt/9EMeRL\n",
       "2D4WGonAoHcqhuAE/QAAAZJBm5BJ4Q8mUwIb//6nhAFb7K3NaQAfnH5RfjR44ZMTAEBZY5GNChFN\n",
       "GWCUJ2fW1QNf7IyP8a/eL8p7hXOut08P1dKB38uD3oqouS759jgYANeYWTPGY1tbeap8uL0txbOw\n",
       "MvZ76Hhi09do6k7CwcXhiNyzAI4QaifDDoY+7Af+AL64J8Bhcj+ce8nA6X76hIA3rum5johprnZU\n",
       "e7NsuWOUGYQe6dV+tBFqHat8riTMVdPY+2rVlnU/5K00bP76IFKN2VrHw0vlzweC3yX8NYT3UXoH\n",
       "iPNRfAr33tFiID4zqh3LrxM9sXtRWH6Qh85WsJgBbFNxjnT4aGIesEVJckfxOB5V+In6mypB3/ka\n",
       "yKwgNDc4mJW0kI95lBC4/iz9efSPq4unsLv9gJ/vJUaL94i0TjSudCz9aI42dfx6sHcW5rTDIiz/\n",
       "HvtDDIe9aefP+qcI/OElH7aALBzkw7x7Wk5ldE6Xmg6LzNyCf0+A2SiIEJtxhMH07HutmX88sTLD\n",
       "VO1d5uhKoJpegFz4nsaGhLTKpIAAAAITQZuySeEPJlMFETw3//6nhAeuwVwA3ZCM5YzlgVx8hifB\n",
       "o3j1w8b4tnaPLZ0O8OMoXWoQcAyZUZVTquWuMrPU5967R5X5hjIdQSPNpCcd/3G3ITQqKqicASMp\n",
       "z15B+fzEEI3tPOntVt8kqjvyB38JrQ67nMebWa3sIlpOk9VJ8yX4AdL7is3oiOipeNzusKfxMbb2\n",
       "E9XfH0r3u21MEy1xt9SI9//7jf3XNfP/gE+/x4GwAESTL4nMRTkTDVGVjRK/haC8eJlNFMPF1nE3\n",
       "GIFnMzMqFc3NAE234Ky4U/lP/1mYyqfN2FCohwPtEiQMYmrAqv0VmlUrQgg+nJTS2kB63q1d4nI8\n",
       "CD591OLoL/RUk4QqnAuhy3BU6i/EZXC5tO16y5gaZrLvNzIrASfiN/okes1M0ROFa4DiBBnS5S1C\n",
       "EgjvIzZr5DRe7t195s/j6I5I7qSV57bx7fHtb8R+XwLlEZJ0F8gh7KtbsGdvZhjKhdr45ga780Bk\n",
       "9NqvJ8tWjP5chG0xuvvkiYRS3uCfK9kZvKGweNfwPqTF/aWm+OW6pOlXdBloGrAuUl4CWG6lvLFA\n",
       "3dXN6VIr8qR84tF2Pc0KwpXhncJV7m68K+3Xhu2bCvg2wewmK3wUBS1ezpvStKsI+AUjlcaH46k4\n",
       "zlCR60Xy50gUdjCI90uMrP/fpy68RLm5XcvJzDGJ6a+YziCNN6nhKQpoAAAA8wGf0WpCvwJK7cAA\n",
       "/jbx2O6BqANhwtcDCrECRIMhKUaqSkWugxFyXxBlfT3FFgrv2zqtoYR4HlJf6zWw5dgXLiA62dgm\n",
       "701MZdXTRinQzWj4f3UDZw/mQSjkReuxD7XsU3A8MS7x/9tbxQIAbDI17wpkGzIAVxvh4vPYAAHc\n",
       "5n14B3opXu3t9HlSq3JbdbIKD3XWxVLggG0CAw9w3NHK+zssKmMt50ye3xlB7/QD8t3Ght9cXEBf\n",
       "CyiLa9o8i7XUM1Fg0CkUYZHRfm/BhVVtaqG8nAt2gjDWddYmf4phZG40Cb6ql3tfQconxIq6BuXj\n",
       "u7vOrQAAAZ1Bm9NJ4Q8mUwIb//6nhAeuwVwAt6wHpEyOM/4BC2kvlLjsQwk2bKmAjB+6AJLEf5q+\n",
       "f0Ch6/BWfUBnO5BT58KBulXVmigI9RniI527MIh8rAoq2Q+rglCvXJMMSP9JFmPha+f0YUYMS2nC\n",
       "09Zg9OffLYzzrgfqlIXsvEtScjuLDSeC9aqXZaWj9ar+kXpFRmvsk81eWK1TXXPKeiQasIFvLgfy\n",
       "baBx0I6phZZ4Q0VH2I2mXLRqm2d7Jax6s+UzbvtsoDgBehGZyP/N0UQnL1ku2bejjEJvowVkdSvD\n",
       "8xj+nuSSnlA292D0Cz+OL39fTS1BJYJNvfm1HQyb1aKNmx+f4xcaNzy47vQC8H420UePUgsgMohx\n",
       "HLkTYPBo5RABoNEZwM6PR6MnW1R8PmWErPodSMhiPdvFnbXQjyyHjKTIdak7gGncbxaqkOtD2YHo\n",
       "iqHgK0owrMbuTV/0ho8ppOtZJZRet2fo5vo9JA9vSMQBTbQ4lMxGcgaPCUghro+mmKQnAAADAAH3\n",
       "j046uC4CjafPZtxoUrlo+IOB+dRBiQAAAZFBm/RJ4Q8mUwIb//6nhAFa44TExPnC4ASjqxnTNyA6\n",
       "3Rn1crNAwuha3Tevi7Hj29KX+7rT4WgnTCqww/NDKIzP/SC2KPNzFhOuwFH5UcIp3RGuyULY45NG\n",
       "tLou2jiTBtXPrFiGjvnYik1XmtHzRrkBoaxWl0En5MlK6jGqt5bHaVxaJZI6IBGsunDRqv95LKQb\n",
       "YmUxMBSCChqtk9ofFCKEjsr/lPkOoMySVS+GDUoWu5p1eDTW/0bXzZjZ7aPboEH/DRI4ieNY06mu\n",
       "+zzzhAAiPh9f/hjZuIMqhLw+zaLSqEuqmfCUjeTU3MelvvyU2ZwLHQCH0xtB6FvbnuvIu3MK7tej\n",
       "FmkhzhtdUpBjMUxGuatdtfqbwlWP5br2UPwd9O4gGMZWquhvVridXE1TfZfeUpWYtsUG6MZu2Nwi\n",
       "pKtL1qC5ZokgbbAfNsmHG6/i+maF3LD31CeZTKxL20KJb7tNiL9qr4/vGxFmQQyhqyCS9ssJxh/k\n",
       "HrpslQgmuEjdNBVs4e1NHEUYcUBjBnKsrSAJeAAAAcJBmhZJ4Q8mUwURPDf//qeEB7P5K4AOct6l\n",
       "lSRvBp9828maJN0WA7SsrU1lu8IWZ7WajfJNbR9pkd1GCBbtPaL/9wxGbcxo8xgnReIuikwKCCOX\n",
       "w/xNCrcbaqWzCxz5fIlwHADnJr51GaPcEkEbYYyRoSVzmBNroliJZTTuh2RmPLUtpnO98/Gw0F0D\n",
       "p/ewGXpXvR324tRcwhQjRX+moGSoiXX2TBXJPiC3U7oN+pzUSGcTmHw6xcOjiWOntx4cpbg7rAhB\n",
       "yhwfEwIhvn4WrG3U0QoNUVQzNEAF4oV9wrKB6bbWs9vnvko6gudBSunHFAAVBSW71hVqTQjnxu0A\n",
       "xDEBBlAFOq4GujEuFsEF+uny31BLONeGiFW22lFF4MI70H40UZ4EmqDKI9JIYr51oPAuussK1kbh\n",
       "9vpz8SeHiNWGpNe2qsxVMKUsiBPKhrzRwJIOsuInlR89O/YBC7siw95U1ZRR6Zwpq+uNmatFCp3q\n",
       "AY1CuTyCH4vpYFxcR3yleIJ/QinZAl+L1KFHY/+nB3wPbIWf/wUHpuUkX3+jgZjW1B3oRdRhYxMt\n",
       "nIzqZKRczeQfZFnunlvY797dU0oRaIz0ImEAAADTAZ41akK/ARrPLacSTxmorDf8hzC9VBt7VSEf\n",
       "QiekArZVibRHvSRxAc1qWFNX7GY0GMluoQ7AC39e4K7gSpySBg5WKegM3ExvlvK3PnKKatcCJA9s\n",
       "7V+LqCCD2efrpFAcauGHkRjKEx+7kbUFabbVx2UmaYadLhuXXTT9Vqqfc5/iKDVlVxthfi84+xcw\n",
       "PpAXPnL7BR8RXycuGHc4a+gX/NnBf82Xu4Q+vASRTHXYuybCaTEph12P+jSOouYdoeNLQ/BCpW01\n",
       "4/yQ7qdbP6gi2JqupAAAAa9BmjdJ4Q8mUwIb//6nhAfsg+4IBQAEZWm+6ZH7/2AvkOV2NaCckeAx\n",
       "/rG3ES5a4igndsdRr8gjhlXXL4Qb5OnpvhwDOZltNaX7PKtiLjTHGzf1o5oK/69eqsDqEe1IVVCr\n",
       "gpxv5f5P3okmP3Q/Pq24RgQkqLcEKMZ492XSb4+hE/rQ02IPwWf+WrDCBUuaSi1klX0z5PoVRXCT\n",
       "2GcV/pE9WC+kZN9/9lQREq8vSu+4hv+dlYSeBJYcZQOs4S+dhqyEW4rVAKquhYWU9Sf5juJK98JN\n",
       "7AK793OSQNs0qMMhtJSOs4vohxUz5Ou0R/Ie1oF44cKBAfH1WP2pcMgzSzMHl01f60DRDCejJqMN\n",
       "tepeaa1otakI4OxVrbq0IjtEK/n/kB2cYvcLr79aA5rUR3pJMBCYLyhhNl6FNCoxrJqxM413GpY9\n",
       "Yikf8xokDkv7dc3Uor7jLybkVGz2MDGtBxEK7RR8Bx1/ZtZtxw6Mc6zBKVMxlYyiFLpVehWt9ooq\n",
       "rFeBu+Xxa1jPcih86tpFfU8NBpeKU8vWsKUNyi8SQC3t0bprqMf4/xzwwhqsSz07YQAAAgRBmlpJ\n",
       "4Q8mUwIZ//6eEAVLXNxhDbQCx9kUqYX1wzKAKizfNTcR+iyWtxuooebuIZhM75O79fF0/T3vExAh\n",
       "E/wasgenbSCdD2HDBjm8kSUnIpUHHiO2YX7IHDycohAsRsUyi4ZtTaKxBNzlaKXdrzcj1ayrcU53\n",
       "LcmnVhmwWazwGYHbFjR0PanpqRpyIrHJrdN7FnS5nqiBqnUZ5WHxPcq4FaLzVmdfe9eHAq8+A6oF\n",
       "/0DLXVVENFBqX7Bum/hHxamG8+2/xXd7aHCq+BaauI1lLF2NtRjSypC3DBK8daLg5ayJroMIx5yd\n",
       "RVF80DKIQBH1W1wLixFlSH9IZAGAOQw+egZFwKaRVqGREjSHVv6MLAcUV+wkAXjTw+3gWtEkup76\n",
       "QfheehFrgWoYnWvw8szmS8YTbbAXmGQbkO6UG9w9/3qon42H81MPuCTx4gJbWI7ncjLVdokat/nr\n",
       "fjs11QKrwDwKiSItNASGHyxQVG6TqzM0axG/s6WFq3w4jGNfpQ3Ch/4O4A4x/j2GCIsuz6iF9+xF\n",
       "8oLsZi0WugYIcSSjxsL8NqGDn6SpE2Ht/gPPdg4eZKwtuOGWbbMtKCRotuHEqIyM8IaUdZbcC5k7\n",
       "VmfLy5z26GHdC0s/cg3LKpNseJ7SxQyU/4zJ/L7YJsbVVpgVvUJPROtfjGJ2j+Np1XDCHv5gd0EA\n",
       "AAE+QZ54RRE8L/8A0sK8j2pA4RDCFeoAIg9STUETMPrWVSfjdW9uNs8WoHA8McV9bhUbP3AWTgaN\n",
       "qpYDyXQTmaBM2K08lYqC1xDZu0i3698gXy9tWH9HX1lIYE0zsYf7zWRYY5GVO0L7s1xyzQ/l+MCx\n",
       "15jWBVMfLdGtEJGMz3lXNJBc680ZLKpVsCVY2AwILk7RvcMvdW/1/IX8EAnnwcWrFyesZvh86Xsl\n",
       "D32iksY8qHCK5uSXzl7IglSuxW0HoNzmQcJhcMFU/c/3wqA2tc3EU9HaU/O2e9yEEV9N4TwB0A6R\n",
       "awlFg5UMZtkryFsUpfJFis5e97IqGSmoz6bEhSkS6wPAC6VtdPP/U6lmCCsEOOJWQMFQyjlT+rUa\n",
       "LTxDbwqixrkAUBq7V3/NxmXyV9rcyf1/fAzqo9qrOJPlXw1wAAABNAGemWpCvwEa4gF0bhdQBcjc\n",
       "J8NZNphsLyNMIQUh8HFQbfca32OihgMO33Hb4GdIj0P4fCfMOyL9rzhq+9qYVRMu9dKIUDpswk1m\n",
       "gIrvD1++BKQM/ladm2LeAUJsWJ1OiE3e2xPyHl10OezALl5/4bohc9yq0UlTTOl47G0cILwAs3xF\n",
       "mZE79fNJzn7jz8TsSUGocE9zz3utOumnOeo8nK4Zho+2k1Dx01QmMQ5bedoYptkzPZ3UBc3aUxfR\n",
       "UKJWVu4AkSxiarwj4ZBpnuLWtZyepHfSqFqVpsMhuKLAxbHalpAaYiEeiQsV4wkZhNsUNG5p95MK\n",
       "YG08tnN1JXpGp4DtYsd8UAwlhwHkPTUv4voqctI64irspOLyVp4pDpAxrmfCXKs2OpBJeIt0ggep\n",
       "At4N7kClAAAB1EGam0moQWiZTAhn//6eEAU/KzXrR0SpWI+mJIYcACG8uRUehIsMMzVuSFT8dHun\n",
       "kfR6QynjAWjp1Poe+7T0QwGD4hFfAFFBpKXU/hE/65j/3eVyuhvLnQkQrTCYIFBDZlKKcH02PZvM\n",
       "uoJTRUCPyiA8BIzyZCuXtcQ16EtwGSPRdZDRbHOM1+36BQ25ItVxDrcvYHla/dLLDzFskxCTD879\n",
       "CsjfksULYTrUcLRV3hQPPMl5hSBf6i1jZkc5HT4VH4GRyFGjuuNViT3RdsKL+EUxKNwOZ0dWtEai\n",
       "81NV8Hxh5Vi/aR+N1ut7l7z0ZlvAY0+kAADSFHd0VFkiAeBQXdtduRUE3n4eQmp8TWVHeDA8O8tW\n",
       "dCRa+ZQqP4n/zoRwESdabiQHse6HjbmmiIdmxa0RykyO+JYfeWFf85HoCbJpY5inVlSQyXWDtpHt\n",
       "hAvkkWwQjy6FRFYTH9xZ3uxnPhnOAv2j/Ow6yKTsvL3qaGYlUVTTfEmyuPWCgnvpmy2rHSUjenDD\n",
       "axeOsZox489XK1xdb8DRqKjVx0Y4Pux4TBj2kfVktgFoN9YyuQepa82/WXDuGLAPVsrTJwK59yhr\n",
       "2nAKC99OWkR0yFnGndHYF8T3VVcEVAAAAYFBmrxJ4QpSZTAhn/6eEAU+h670ZD0vD8RcHrAAIb81\n",
       "61/q7xfTSXhpnauEVcqXR4CWkr1rdEO2K51elcD/kdbf4ohpiISxvoLwNbgn1yIvRmSRGmjebK8o\n",
       "rXP8LHVnTv9sN7fF39rHIu4orAM+/tBWiRvngkjyX/NcpqzAXqMvGkRTWUapp4YWSDBqZ0C/f7qe\n",
       "9Pq8Na6EiTFi2ki6eGfaJg6ZLYFOIhLMWYzqrluWglC6x2UPp773QVvnxngTF7P3yW+Oh0j6PIgk\n",
       "EiZTz13JhfKnBbZPRFBZlumE6Ajydzj0eUv0MBXn3EZJqdWkytVci5yhuowOQ8dWxpdwXhfF8Fwa\n",
       "CscarjGLot4NWGOs1sIuDdIs7I6G46SjInqmzXeTKbwXMvzD9gNsFlnzQyz22CI6h0EjLH8/E0mt\n",
       "XhG0YXo1OpE2V/LEKtqJL6YIr3nAyl1WiIUTmDbrw4PYcCwSb219YqtM7BohOwsYx3Z3mCRNpDQ3\n",
       "pquy2pKwA9ysKwkvAAABZUGa3UnhDomUwIV//jhAFHGH12n9+S8XowCmaBuklPAA1c5uDqe0XYkC\n",
       "klJKvk1XyhrW0juH0WwF4xuXKQ3HYqp1NLI1r/14TYvJkYbpIWQJLz9JypuB5KllP4IB2lcxUk1l\n",
       "MhLfCkBm5p6kU/iGrMi8a/7p6yMRgdEdsVYkq+7SUUKn+THfO0uewvMrfrzJaCx6nkKeE3v17IW5\n",
       "H52tX3zfh6fTNrlGw8ha6+347jqo//8j1HZ++1wAChIVU0xxywdVrNsKYxkN0A62qS07MXl5cmBz\n",
       "RmENwIh5SYjdNGprTz3Y7Q4CSjgks9qFaW8XChCU6tBn4nO36SkcmEpgmDArOtWfgO+4TXe1kBMA\n",
       "B0pxNrtqpUoLSYutWyx5ssNXxBUB2vanDvVTUDpBHL6bvwNwhEiXr+B8Jpgh9WS9lChg+GrJqVGJ\n",
       "O8lcLFis6I8kw0gqkvRamtA5aTDvqWmFbeMc9tbGYQAABE5tb292AAAAbG12aGQAAAAAAAAAAAAA\n",
       "AAAAAAPoAAAF3AABAAABAAAAAAAAAAAAAAAAAQAAAAAAAAAAAAAAAAAAAAEAAAAAAAAAAAAAAAAA\n",
       "AEAAAAAAAAAAAAAAAAAAAAAAAAAAAAAAAAAAAAAAAAACAAADeHRyYWsAAABcdGtoZAAAAAMAAAAA\n",
       "AAAAAAAAAAEAAAAAAAAF3AAAAAAAAAAAAAAAAAAAAAAAAQAAAAAAAAAAAAAAAAAAAAEAAAAAAAAA\n",
       "AAAAAAAAAEAAAAABsAAAASAAAAAAACRlZHRzAAAAHGVsc3QAAAAAAAAAAQAABdwAAAQAAAEAAAAA\n",
       "AvBtZGlhAAAAIG1kaGQAAAAAAAAAAAAAAAAAACgAAAA8AFXEAAAAAAAtaGRscgAAAAAAAAAAdmlk\n",
       "ZQAAAAAAAAAAAAAAAFZpZGVvSGFuZGxlcgAAAAKbbWluZgAAABR2bWhkAAAAAQAAAAAAAAAAAAAA\n",
       "JGRpbmYAAAAcZHJlZgAAAAAAAAABAAAADHVybCAAAAABAAACW3N0YmwAAACzc3RzZAAAAAAAAAAB\n",
       "AAAAo2F2YzEAAAAAAAAAAQAAAAAAAAAAAAAAAAAAAAABsAEgAEgAAABIAAAAAAAAAAEAAAAAAAAA\n",
       "AAAAAAAAAAAAAAAAAAAAAAAAAAAAAAAAAAAY//8AAAAxYXZjQwFkABX/4QAYZ2QAFazZQbCWhAAA\n",
       "AwAEAAADAKA8WLZYAQAGaOvjyyLAAAAAHHV1aWRraEDyXyRPxbo5pRvPAyPzAAAAAAAAABhzdHRz\n",
       "AAAAAAAAAAEAAAAeAAACAAAAABRzdHNzAAAAAAAAAAEAAAABAAAAuGN0dHMAAAAAAAAAFQAAAAMA\n",
       "AAQAAAAAAQAABgAAAAABAAACAAAAAAIAAAQAAAAAAQAABgAAAAABAAACAAAAAAIAAAQAAAAAAQAA\n",
       "BgAAAAABAAACAAAAAAEAAAYAAAAAAQAAAgAAAAACAAAEAAAAAAEAAAYAAAAAAQAAAgAAAAACAAAE\n",
       "AAAAAAEAAAYAAAAAAQAAAgAAAAABAAAEAAAAAAEAAAgAAAAAAgAAAgAAAAADAAAEAAAAABxzdHNj\n",
       "AAAAAAAAAAEAAAABAAAAHgAAAAEAAACMc3RzegAAAAAAAAAAAAAAHgAAGgIAAALLAAABmgAAAgEA\n",
       "AACzAAABUQAAAXwAAAIkAAAAwgAAAXcAAAGsAAABzgAAALsAAAIIAAAA4AAAAXsAAAGWAAACFwAA\n",
       "APcAAAGhAAABlQAAAcYAAADXAAABswAAAggAAAFCAAABOAAAAdgAAAGFAAABaQAAABRzdGNvAAAA\n",
       "AAAAAAEAAAAsAAAAYnVkdGEAAABabWV0YQAAAAAAAAAhaGRscgAAAAAAAAAAbWRpcmFwcGwAAAAA\n",
       "AAAAAAAAAAAtaWxzdAAAACWpdG9vAAAAHWRhdGEAAAABAAAAAExhdmY1Ny41MC4xMDA=\n",
       "\">\n",
       "  Your browser does not support the video tag.\n",
       "</video>"
      ],
      "text/plain": [
       "<IPython.core.display.HTML object>"
      ]
     },
     "execution_count": 63,
     "metadata": {},
     "output_type": "execute_result"
    }
   ],
   "source": [
    "anim = animation.FuncAnimation(fig, animate, frames=rho_n_lax_wen, interval=50)\n",
    "HTML(anim.to_html5_video())"
   ]
  },
  {
   "cell_type": "markdown",
   "metadata": {},
   "source": [
    "Didn't work out too well"
   ]
  },
  {
   "cell_type": "markdown",
   "metadata": {},
   "source": [
    "### MacCormack scheme:"
   ]
  },
  {
   "cell_type": "code",
   "execution_count": 70,
   "metadata": {
    "collapsed": false
   },
   "outputs": [
    {
     "name": "stderr",
     "output_type": "stream",
     "text": [
      "G:\\Program Files (x86)\\Anaconda\\lib\\site-packages\\ipykernel\\__main__.py:4: RuntimeWarning: overflow encountered in square\n"
     ]
    }
   ],
   "source": [
    "rho_n_mac = maccormack(rho_initial,nt,dt,dx,rho_max,u_max)"
   ]
  },
  {
   "cell_type": "code",
   "execution_count": 72,
   "metadata": {
    "collapsed": false
   },
   "outputs": [
    {
     "data": {
      "image/png": "[encoded data removed]",
      "text/plain": [
       "<matplotlib.figure.Figure at 0x173678a2320>"
      ]
     },
     "metadata": {},
     "output_type": "display_data"
    }
   ],
   "source": [
    "fig = pyplot.figure();\n",
    "ax = pyplot.axes(xlim=(0,4),ylim=(-1,8),xlabel='Distance',ylabel='Traffic density');\n",
    "line, = ax.plot([],[],color='#003366', lw=2);\n",
    "\n",
    "def animate(data):\n",
    "    x = numpy.linspace(0,4,nx)\n",
    "    y = data\n",
    "    line.set_data(x,y)\n",
    "    return line,\n",
    "\n",
    "anim = animation.FuncAnimation(fig, animate, frames=rho_n_mac, interval=50)"
   ]
  },
  {
   "cell_type": "code",
   "execution_count": 73,
   "metadata": {
    "collapsed": false
   },
   "outputs": [
    {
     "data": {
      "text/html": [
       "<video width=\"432.0\" height=\"288.0\" controls autoplay loop>\n",
       "  <source type=\"video/mp4\" src=\"data:video/mp4;base64,AAAAHGZ0eXBNNFYgAAACAGlzb21pc28yYXZjMQAAAAhmcmVlAAAw/21kYXQAAAKuBgX//6rcRem9\n",
       "5tlIt5Ys2CDZI+7veDI2NCAtIGNvcmUgMTQ4IHIyNzA1IDNmNWVkNTYgLSBILjI2NC9NUEVHLTQg\n",
       "QVZDIGNvZGVjIC0gQ29weWxlZnQgMjAwMy0yMDE2IC0gaHR0cDovL3d3dy52aWRlb2xhbi5vcmcv\n",
       "eDI2NC5odG1sIC0gb3B0aW9uczogY2FiYWM9MSByZWY9MyBkZWJsb2NrPTE6MDowIGFuYWx5c2U9\n",
       "MHgzOjB4MTEzIG1lPWhleCBzdWJtZT03IHBzeT0xIHBzeV9yZD0xLjAwOjAuMDAgbWl4ZWRfcmVm\n",
       "PTEgbWVfcmFuZ2U9MTYgY2hyb21hX21lPTEgdHJlbGxpcz0xIDh4OGRjdD0xIGNxbT0wIGRlYWR6\n",
       "b25lPTIxLDExIGZhc3RfcHNraXA9MSBjaHJvbWFfcXBfb2Zmc2V0PS0yIHRocmVhZHM9OSBsb29r\n",
       "YWhlYWRfdGhyZWFkcz0xIHNsaWNlZF90aHJlYWRzPTAgbnI9MCBkZWNpbWF0ZT0xIGludGVybGFj\n",
       "ZWQ9MCBibHVyYXlfY29tcGF0PTAgY29uc3RyYWluZWRfaW50cmE9MCBiZnJhbWVzPTMgYl9weXJh\n",
       "bWlkPTIgYl9hZGFwdD0xIGJfYmlhcz0wIGRpcmVjdD0xIHdlaWdodGI9MSBvcGVuX2dvcD0wIHdl\n",
       "aWdodHA9MiBrZXlpbnQ9MjUwIGtleWludF9taW49MjAgc2NlbmVjdXQ9NDAgaW50cmFfcmVmcmVz\n",
       "aD0wIHJjX2xvb2thaGVhZD00MCByYz1jcmYgbWJ0cmVlPTEgY3JmPTIzLjAgcWNvbXA9MC42MCBx\n",
       "cG1pbj0wIHFwbWF4PTY5IHFwc3RlcD00IGlwX3JhdGlvPTEuNDAgYXE9MToxLjAwAIAAABZ3ZYiE\n",
       "ADf//vbw/gU2O5jQlxHN6J0zH78VuLo0N73OAAADAAA33SONum9hL4gEvcA9go26ugmDQqjIxe/F\n",
       "/78+Wq1elnGww/vfI1mVy+rXORGAwO/1b+2LmQeaQGVFbjVEbo4hC2JdjMT7OObQZwBXuCEr/+kA\n",
       "2Smf91PFYHh2Y7DRg9LQq2JBng8yqtT0m/d0gsJe+mrsQ3MpIvdZ55RH9Bal5qPvWbLxpmb2GnRp\n",
       "3fSpQAiGaX5GTsnoenpk991Rv52dSpFh6qAdXa8y/b3FAasi1Vhyb6hYSBcfiwm5/IzArADJfK/a\n",
       "Ve7/PYj8W3LoRQlKw8wlav/2RuM3EtB0V+k6jVG3MIHrl6lEB+YZpjVa4sU/ML9Xu2/ihSDIw+Fm\n",
       "Bd2D1z8CEWbtlA8EOS395pqo50KVW4iZWyRvZ2kEhHt7jCDXWFhvHHICdVpJcfatOTz/7/NEcMQ5\n",
       "+f15IyP359UjdzomTsgvuKtETZxlvHviJlsNC5eKtbAOEbADTRkAjX+OFnMiGPUVhno7cfjdVChT\n",
       "+5LJmNe2tUnx5xhFtfvlVWXmRiv8KlkzHGIwB63wcxP46Q9gpzLADmDglfwShwDKPd0Sp6hP32sR\n",
       "9xoS6+Jj8DTKCsoWdTGu0verbAYGc1MKZ/KV/CfudYMlSmJ94e7k845NOSny4YlEi0x5ueeQm4AA\n",
       "AAMAKHmvO5hpYphQyDxBmb9ML3pfktgC5PWVy3+L6cdRA2cbjM23uPzYTgQaKyPqbnYzO7PuMNMr\n",
       "bIuXqjUcY7+vNoBe0dIpBCUBH2Vv9qfyk/4w+f2z+7o/H7j46wJVaIlDMd8lhyaX4D+R6ip5i56J\n",
       "jpKjjPsAEz6q/UhY8BkofOXdybDUC6sUNGyVDznpWn+YsoZbRFhegBEFMjaOZIm989JmCu0IAZ9x\n",
       "5SccCMLepb1WWMN56KyHeru0vZ/8p781uiOCGqSNrzPszTEZrC7nr1XQ0nT7sNMtnnwlD6cgX1jP\n",
       "krf7NQ9mk3N6AZdudZdKaoZb867B2aw6Elh0xeGYCeNVs/zSaJdfdmkbVdoanryhm+3tuvRuvn+P\n",
       "8UVnKmmx/NAq04MQRqPFrE1BPF/wi7Nypyz2VEkEhZMR5ZQZ4Hs04jDYPbvuUUv2ZhNCFr6d9Qsr\n",
       "o8z1pM7TW2x9Wmt8L2TzL4j/8uzl2HoDmIY4PLPVTMnpC6R3n9l/WMbEF+/KqX7EwvwbBAcSWsD+\n",
       "7s1jAHdGyCTTJDS4DBpfX7pIlyWXK+R4SXIC2PB7ZZtei/ooC+Xf3yPn1XsVKAiJVXaVeZehDwV8\n",
       "ZeaDCf9aGM75q4ejiHTBlcqgj4X4PhJUg71iGuXW2hJVMZgYsRk6Ji71a5brtYN8VwyIK5QxKtcC\n",
       "oJgwExO8wQbewCozTZdMuwYgYTsWtcHv5lkuvCM/xsBf43ybl5bTjLQNBTVic1d+WPORg/kNHuDy\n",
       "5D1gtOh45mmWSdK7vUCS/6b3CLrkjAR4vICPZVULe7YsGH+Kb1Dj41k2XVWfeo9KeU49M0gtgJyj\n",
       "CXLJsD/t/aFZZiARzzZnprhgwjEZm6AvCiAoAAFO4LtbJsiTf4RebAkVoh5bCBE8vfUOS0dLHH33\n",
       "0SObbaQgzdp3umMRaTbwB8apKWFcebGNFfRRu2PRNsO+BT0yi67L0uQheNafIsHsrpWNCL2LwEeT\n",
       "no9VEZbOZeNaUbpBFzRnSNsi0t5Amwtc+rrahqLdyJ+hmmYqwkFKyuvjqLTathqmfpXaJC8YYS4M\n",
       "e4xN7VFv4q0zuh1bJEi31hfVDsiZzfpKhF5V6Mfdt1Hag3U9UARXAxbIOX+ShC+Twi/8KAQJaAVo\n",
       "G+v7SBkk64+/56imgBwEypzjuW9DM588raznpxiTSzTfHmWLsU5jkQOhycOpt8yvzuW/5nrL719x\n",
       "QHz5URpvUpe+D0umD4TDubknLvwxgLFOkEGzo+5vHEYEQKkCL1vEIrX7o9KhIeJI/iAxTLa+avtN\n",
       "/9gWwJU079cxdaN6ThZqU9IbCrOMViuXJoK83UFyDvEVi1TtthbOMBmqSiikmnni1dp0P9amKtZ6\n",
       "oPBFT0+d8piSqARspF3kL03/87gIiQpRi1lOODIsAjj5kr0wIuSoHv42y3qmntezh8BKmccG0DiT\n",
       "oEwarKfPXxIVo252VYW2dcKgZtkjcPpR5hZFeMJig5PUx22rBp4z7DoFnfUAtSvlgDuLUGWvQRSX\n",
       "nXepUhZYTVU3w3Bk6hgdbHkkF3HotGEJgQrt2CGja2iBWdTSYyo/+5lfW2LfJalDZuz8p8FlJJ26\n",
       "sNU3XgoUICTNXEpuNj/QeGYVH7URtqHTbeVwAJ0PX2dT0xxh5KJmL5SgZ99/x9f6e19dDyCWzCda\n",
       "2eoSUOIW2+yOQuT0G++zE+VBcqWLuBMT+YTSyukO/nOfnXhrAlkiJk49sw7VanzMp6MnPGy2Vzia\n",
       "Jg95mH2OZKL7hB9SUdUUZkXRCg+ix1FYpS8RAc8O0MXh/5wo1DTlJQVjuWJACY9A2jeGpbMSYbjY\n",
       "lj8DOECET+F6zovJ3SrUC6HjW1fOmnH45dAzbdll1g8Z2mH4NMoD5DqFnsKJ9ixcrycTfJzgX1tG\n",
       "BcRfReDVXrdEBQxPkXKf2CrFTkWsRIwFpPWXxoautEWrVRL2p+iDNvj+kkPjCV8G0s3ZoZfHmCvz\n",
       "qwvD5/MH0Sr75e7Shy89fxyCHAKXzUQSqhw/1IQxFbm0RisoG22E0TBUj+xYEA3ceJHyAqmup1Ae\n",
       "oXBvVRyGzplGeCcNDSog5+SkDmV3SnytOENERr54xyo0VWsV/f8kcgkESOqh1PjNcm15kbGp+BgS\n",
       "iHLLmMGnpx7A4Elf/hEh1DHt/3rJOk3KfmFTt3TNBDU+CAHjl9l/Bfsy/61Rm9xcToLtBuN8WKxF\n",
       "MZnDXjjCUZ3BPTWLTeWmvMZzrprBtJkL0KB9iv4/3x0yhbH2KgocgpgGW9uxVVl/rzhFKB1fJpxQ\n",
       "VOHlgSUW9yn1QJnucgX8BbUTlV5Mc5G7uvBq9s2riQDQ9x+Q6lbE4o21uuwnDxPKhJ1AceL+jmS5\n",
       "IhwxBEki8u2QSF2UfKUawMArCcgUsI1MYRl2VHC1r4C6SDJdbUUcbh+KAT8okNjqStyIqaosDT3W\n",
       "mdsubZD+a878lxoHGI5/y+mKqVpD6YQ1dU+ZsqMvhVdvzz3KFYcmldI7MbwWzvADmiR+KE9n8wdF\n",
       "ibmEdqCT/XlK8B4gVi576zsoEezjuHiAkVFZeCF6AHMm/kBU6nsN98IDDoa5+PSpKRS2xsm4oZjl\n",
       "6pgxae0JyUOxoCgkgR9HvZWvL/t3rz1CnxdbUaK3aRzos8w6ZUFQel6mGUsajvSeuS8WpxfLxByO\n",
       "gsZiYYnXAPVDr+wjpll+yu7keUASE57Ep0An7dvI9Niyo3H3N+p4q/zQ/vzS2ICYblyl6RGul/tB\n",
       "sw5m/Xc0qJDnHCkVA+ttt8jAPdAyyKlzpIB5jWEq8/SJ4Yt1gqZDuNyNoUt9bVaOpYjmgFCTDzGX\n",
       "oRc1PZ8vLZ7lV6qQk7Edh2ElqE8EooEuDAULa3+Z6ueKc/ReDjITkZWP7HcjQ4k4VqYaK9762jIp\n",
       "JFd0jC0eilJpdnGRWMJyrdVkkGSN2GxsgSFfY4pH/4pIJPkcOkTYKGGgIm1L1Y81eclxzEivcPI6\n",
       "89UJb+OxPOq4/0ZHrDts5cA4QCIp3bhUO8RP26jWNtf0Hb/QXlHx3I3b1VJg9KHb1QP2k8A1QHfW\n",
       "GO1jVWm6r7WJXKjcWIoIemiRSX90InlIPUOzpGBdFZRTkuJGbHKEoPV29LGfNKOZyTPbnV3+g8uT\n",
       "hDLnuuEv+l/LHbwfeb6TiRjfoW63mXbEYr/aFYHV4UhAmqD1dReCM5Fte0uCmxxbJdS9dIUrqwCX\n",
       "TsBZvCuY2q+m7F0MhjxSV6loAl4Zx49D9HrPH08I1ELc/kr/rjARuMb5JEvc2QBXDlVdaLNIIV1h\n",
       "44Qo5NbWzNIS47cn1s4uQInjzE5lQAH5r/WvWE4dT4bhSC8dBl91QwxnaSaQQ25+62iJNCH72R+9\n",
       "wxMVlZ4fN6vsGTcHtNruNWyMQ6b6QQS74ujLAfbGP7el5H4lab17OsyxmuJJ+wyFguS6QBygcCDV\n",
       "zDPjTIlrk4vYugJ7Y8/1oobvrzpdtSCKyvQaMN7CewwnRwia4ksVyk4VD7vnBmbLc5heYQdq/Xl+\n",
       "rUB959vsUUr9WEZFJE8MPrJlHDtRD6ffiBgQkAO/tOhJ3eMkbiAXxufRQ2WQlOsLQi7m0L3wUm6n\n",
       "jSf75KqbWNPlsadRn5SCLNXd0rv4ShAcDMhxNJ8Xlo6/CCie+QksXC4KN3rOb63fgSbrS7oj0lv6\n",
       "1P2NWuKB/LytfvrR3q6kW1bAAO2pjw/o8yJp2kd48RgH0LQgTC8MIu5ZUlx+K5jUUx6OzjirG2xV\n",
       "Qvt6811vUjnKMTIbCAodUuzQDDCPiklb+z9hoZttyH7ZG8J4MfrdPrmaFwZPXPQL4QqZ1yqzsfas\n",
       "6bBXqhr/2JUQgGaNrsRtVtQjEbz1egzKyT4Q2BTEeX/uRfGCjYg226p+393V92n4RrZG4B5DGsIJ\n",
       "d+0HnOymGjJ8fPmMGu1EpoSvWe+xpa319gqw7zVmCMufdUBS/Hij2UHdT8sp7eJ9B0Sv7klEB1io\n",
       "c0oLd9KqfaKAbcBgZURa0PGWdPHZxfFndBZrMxOvgPz73j4fjDP8gpC+wPbMQbzTakWRX/1r7+dA\n",
       "+J+gb9WhgrODPXTweDM5H7KdA9D7qOtUJ/XM7TWf40id5EJlROnJXAyZjumcb2hHioUq6/S/npQk\n",
       "2WlpDRIinH+SHjePw2AeL6gQJFCA05Zwh+zbiQODEAJoNMclsBJV7ao0if/L8JqJyWwLh4Y4idAw\n",
       "tb/0Zndjl/pxQdA+nWSC9O38MDJbv6bmlCkd76lkiAKunsWz5tVeg7x73Ca/zGrs4bdtfBFj6mJs\n",
       "BkRJFPWBUu3ixcAwHBrRM4C5lb3Q52g968zLwisRG/lKpo7w/aoMm7NZaTo2IbqfueZb9m0/OsnI\n",
       "7MguRPqzyKOs5CPzVrauXnbUPhJiQRHwpLX3bTuOStxfbeA7A4RuBpeGOOBwcwAfNllJfjdJORnB\n",
       "bK5+Pna04jfabxf7tdNVmkQiLb/O0FnGuUK15687VO/kDz7OJaXB73FNX+nbqz4mFm7JMmmX5+B0\n",
       "oSgDPfplSFGb5QiQugvY5HxwJi86mtyrT/VvR6wGdNeZkgkfXZWwYmBSp9od3kfxJ7z8el+NC1Zz\n",
       "7Yx2Ln5cbJ1kaTtkcS5kzr6U4yosmllPzBVpeeciGxLFZTys9zIuUEJGfmnIpL82/U+Vx6UPlitR\n",
       "3rbQLzZZO+K4LO2BOVWyR0IWeiPRZDFHWYdVptC60Qoxg4NRPrhr11DEmJ8kwlR57WUL10lLrB9H\n",
       "vxt6RbY/rE61ZNU5/JSZ44BwCt77JRRSkSKkLyiEPlXuRcllJlndk4bcgXTSTfSxv3d3eSjgBCWJ\n",
       "Uh5BXE8BU8nOMHVCaw70a9RaVlgowpK8xWoMBGsgNdVL7UKvow09/XHWfAUNtP/ZPOWPm2pyPhqi\n",
       "lDjx+jQzFQkVX3q71c7KBix8Ka+ZveY0viAEUx+UfA2z8qfNzkLW+3qsHDJRwzsNMx68hwOxt0Wg\n",
       "iNeUsbFqMKbSNBu81Z/SH6C4JhcmN3z3/n8Z1i/p6ewJo/331HWblQrNyvnCLZlYUNLAYqU1DoFB\n",
       "9e8m3uwFjgfhtA+UgY7IQorctE7FP6ChQ7HVkVRp9FK8vntHkMXDsQmITGpPRAP/v0v2Lj7+5LWn\n",
       "lhg8JZtY/RLQ3chz656rmR9GifBtjRemvvwQrcVvwD83BmKZ8hGhVPB0ZbjGN7fAu2mm2C5fl/t+\n",
       "kRQ7eNNsab04MV/ZVGypUlXyjMdr2eIK97s5ws9jGRWpRXCXusSDzFL+kakZZsaSuJ7tzL3YNFNG\n",
       "sCXF4GK0rrW2P8LOdHB6jJzO0aDqk7nchrRmu0NKf+rbrrj1AEpBePfYV+bKQSTPEioRBtRaXRTu\n",
       "Y0wR4G+tmGs0BBOZqCoP/PTGDziJamorbHAd1XjoYbltRjwBqwKq7PVc03P2Ff8bbUw4ud846/dn\n",
       "F0s9xdQhe+sQw6OLJg/+z6d/hRCn5Eo6bqnQY4AYz5mC9OlgQbpEbRpe2dx9Y/DGiPIS/sFQEiC9\n",
       "QvQGrgqwM7q/+sEg4kGTlW83j7yl6AwkSIC8PyruQkswL/Fya3w/hUW4tDWJmm8/3kxws2RisGzV\n",
       "vvLjZNglZwduFg9n08Gl+ICcQD6Sc/lxGjgKwexi455WkmTq3UlM95aZBoy89J8E1qhcpmUYNT8/\n",
       "0Xc5N3mQINLW2Fz9hd9icQLv+afPLQB8XvjDmf2no3up3E7Atk1O8JbFMuMRUsJJ63UI+gYioQCa\n",
       "G5GfQrcdvAi+X1bEKz8b4flqsH/jsa0WG4OdfbfmszbfQAyui/6zS0sZneT+l0zgoD3YpkZ//l/x\n",
       "IEp2Mq1P1K27KiUDdAt0sSNuLtGhEZ4uP6lkmDde9pJ9CgOWbsuLhSVJ/TZK9qmGjxyKsIND4zfO\n",
       "jA/qFVXiAs2aCMurFPxaSgjag57JXe3N6XACYwXpYwRWY617P7wbMHyp67VIAH7XS4QSCT03JSOA\n",
       "JeA9WfrhNy1n1Ji1cIRV2BETybInwC3uq8x8lwWaFPUFQlKVbvH9JBP+HIIxB9xvIrcP8yyG4d3o\n",
       "0EgCzjYrES//qeA9v/ZFoU//RwBTn+0+ZGm/PksZWlqq8+iWzldwNbp3JZiUDAxCCL4K/+yUPHY4\n",
       "Wbw7jdKny0icTYjr3H9MVdZYwNEUNTXroDrfcR6Xxd93p/+vmNPBXx4ArKbXfqtcCYfSHJrNDQVO\n",
       "t9zIz85qDlzrTOP85XRJ28XOScjv9P4NXGaHZJbcuRuUUX/L0DjFc8Z0Zwfj2NpckalX2qLPZzE+\n",
       "Zbqw38K5akHP02LjIdqIlXoe+CuPNScWtKrrL8nxCPJkD5piJu59keThGxYArJGmyjIash7E/eT6\n",
       "kzvXYB6DyfxgdUx/sc0xPzECr1jHPJsgu2COaJaJzOtFktzyLLoZIcgigmHm4NyEJ5acMMRu9/Il\n",
       "YUq2++DF9na3DYni+9bMq3bZRb1FR6w2ljWejDGlwneypgJhGZUI83gC1HYn08RvBLyl8PBkSgeq\n",
       "v6+nCnWJeuqPyeGcuCnstfQRwmpaj6khsWz3WFS5vfkK07w0z0g+g18lGfKIeSujlwk/Ny9bHMsf\n",
       "l8BmOdVqrNW2tD08LbkrAAj+PbCOr2fg7HaXl9Rt5Bge1gHmEb8gt076MaXnxWDhu7AE5gxtcLQr\n",
       "e4TUlaF5KRanpLa7CG/Au+WZSNDzejz12niFQB6iyjCWYUrs/5UlW94Fi/u8FSoNrovgLY3oxWnu\n",
       "xiiMomYU3Pybvvx+51DCTEXj2ABjnRXRyysY/UapCSxUlt6zftNx86rNXFWlQcrX5EmTdMpJfgJv\n",
       "gMQ4p1tKMfx+pxQiZyG6IyP+h+Qnga4iunCBfGzduWNdY2sIOj2XdLRy3PGmeFLAmNqMKrBkzNuo\n",
       "Enz6ZJ2bnPXDz1bHHqTcr+xG/vQ3GUkpX9CskR7lK2RD9fpyOtS65IXCbRIffWauocdUEoiwb4Qm\n",
       "LUVlzpsuT3U1BBnaqCqAIVlp4uQeKswM5kTP9xZAj0AomdAbKDp2VTiF/cvVYW9lAAAESEGaIWxD\n",
       "f/6nhCS9lcAVv2a+tEroQrAGTJZarNmmPy1DqJJ+MgZMCNSkCNUhWVAbJfNQC2/kTyOwQoDp+xRW\n",
       "7Qd2fP8ZXFEf0cZpQLfoKodW2jVRiksZThe5N32wyrx0T7vHbMU/XmbFz6BsDfkNWdaKh7INYwvy\n",
       "Dv9tnwphJNC7GqKUDpurOCKqvwhl7c32mAm3dDYGpkYW0qnCqqSvm4LrHzJ4lDJboI7I5vfvCToi\n",
       "EocVpmynu+wjChXzbgyEUAI1gEIgBKXdFtXkqYXj+5TJ5dbFZAWKeybtd7Le2aDoxs44nPLLFIYf\n",
       "MOGnT2kpwnx803Rxfw1Ip+bNTSw0lfFs6ZIRxpA3S8GZB68lyjd2DZxaAqdG7EmyInPSxn6MtGvo\n",
       "vCPGnKC2vtRai48x2KbO6kF/JRJkrXNDrjTKjcxDtZIhwub71HUzwxHr4GgNzK7sZFyniePB7hbv\n",
       "ED27HLT5BzfuIJU4lHxGk1xUVaqK6ZoSUhb42wg186/CXsq1MREE8fQMpnG/Ia3sTu0oe88BoUV1\n",
       "nh/p3as5XXLT+n92X0GA0nPAEJRWq113zcrj7WrM/mHvNFRiaVpmzTC6Gf2z8pO9ytfHbF+trxYr\n",
       "T5Piv/1B0DKFMcdtSk7nz3+kgQnZxOzglj4zST3V6cPvXXyPGoKH1Mu39MXYpjkCeHrFMpLszwa9\n",
       "6uK42zEdc63HCVk7SfHHzPiIv/ACObpZ3OO2NviGBMXqYOwlwDDCy/9UQuHS7py35y3VGY/wT2oT\n",
       "K4HhCTYlDVYCIUbmW8tZ2DlxwiOhil96Au60mqVc/T464AB1XSb6PFONQTCu0vnc0V2iPdTGNjWh\n",
       "B/tGnCPMii8AgNtT0NQHrGEltQSvLTKbiwvFBEFJv81tNjl1TXtA9MgunvKHrlLGhd4eZBmZfPsN\n",
       "OX4JbFaT1A0/2bpWrBrJswMUyZJk95Jeez4Mwskn4jLuYboKLP4Gw4qfj6Lph9AqShEIn9GzNuoc\n",
       "mtVgWpqbIjilQCVk9R2qA9OD+Ryn/R6mxo6fqjI4oI1sgzp6KJkGiK6EfEYoJxGV4vTbuqaQimid\n",
       "YaLjbnevok9OtuWNZSQhGag1OqmNgcrxTyTmnSmDULO6ydDsHzJ+QygVcEZPPwth8j765YD7xiLc\n",
       "0bU0+KsnWqBk/7a04NwqOiVmRAeffERuckyw5F2nwgMe5AHigXALbYsb5u4cCX0HqVo9H8vv2Ckw\n",
       "us23SzQ3KUtzoIFO47Qok45lzCENIcqa85hUAVT3m+r3qLrQ5GHBgYO+q54eNiJS3NTme0J9milp\n",
       "tzy17LChyKM2yrYvotm8G7vELgrjmT+CBT1Y1Q/7Xn5y1/4fZOqNTsdSYWIZn0LuXBKRs009i5Ee\n",
       "urb13zfBl6lcHZkjgxMQV5IpbbKtaMbwAzZ8zaMH3WcRilxKzUTcemiqPapWCffgZlkK2JqXhZgz\n",
       "t4jHRtSMGfAAAAMmQZpCPCGTKYQ3//6nhAipckAEZWlAguGtVr0SD85kegftdM00UTtiY41pyNcO\n",
       "Q8gvwdxoeUHKI3XO4eaaYwtN3hRTHkueLPZC0MkDyPFK0XbuLQnsNqi0VLd6NwkKru/9YRGyBKPr\n",
       "fbA2vYylMYkr7eTBZbBStRD5jkcQ9/BYMNXqUx3So4EdI0qvjiw++SIwyWLmLWjocYiFNyCiCjgM\n",
       "vazOszwNfjstDY4XBtherR8NqP36U7TNehW/U7cSiwqhJrW3kRUe0RcKb03NNaWg5fOWDsUpJqAn\n",
       "4A8VQPX+4AleEdYwXcPBF/1UoD1/6ebmSca+sT1FbdVF85YRc/igUgr684tC3/SkZZtzobmoUoag\n",
       "/lVRyaamr9lJiHizSXDgEauO0MY0Fz0HS+Qeg/PzmVAsDPzMshjKrPxY0BB+GIb5pvZQeESV1lMJ\n",
       "PLlnJfDpJINnhi9zbkug0pIGKnZLgB2Q1RKxbMuYwAWVB+YifkkMr/EnxVZigai/5VUlJMJsXWwv\n",
       "oc6Br+2M1rfGJzBavNANhJJwrzziy8p5GI4s3ieK4sS+7noIcvqXQRjsoPWam5n1rjmej2uIMBcs\n",
       "rA00DyhwbnNUuglkRYle0wcMG/dvvYqrEUaPw7kvk/0Y4t6qbsJzLar8KM19i/wZGiWShFV0uMCk\n",
       "QuHCFosvB2g1+iEQVrrCjWrRXjxFCByaX9eMYvF1nAjgsRoryVnBrWWMwkGvxK4pbaNkuRlHRmvR\n",
       "c7RLkwF5h+7QqiTZDL1COeqg2kkyhgaHVkXSkFUSaP+GrNiKj4Ipp2OYcoyefuTyiuVpg3rzDlWP\n",
       "mpF77ws28e+VpJMQ/Ul5/WWkAMyEaKOSSP/5vENwVyhsoHa6IMHBdah10zQ3Af1oB+vGAzJWGbL5\n",
       "S9yqHoRVGg+MRQ7jUIUtF/s76z7jpYQljn1ns9BUfV/+ltPOtP6Tr95deW06P7JRptQVKgFJPIaY\n",
       "+58rqwgHTr6u9Zlj0WTuArXufee/E3qmfOp4buxCY6IznzT3Nup+jygOIIM9/i7Pnk4txkqzvc09\n",
       "I9ilE9jfL83Qnw/R0qDg8K6lhnUAAALwQZpjSeEPJlMCG//+p4QkkqiAEZWehpCCC0mqf5hWcR7K\n",
       "DBnZZpiLTV3Dwe8O0k3sH9juQne5/lClp3cJ00a1MOevVjC1D459n3kSxj9Yctqj2s2VuDfUgG9x\n",
       "HmEh4EOxZ9PdXgLxU6b08XBTmWf5LEN8rOlHvfRRX5KTZ/jFPxfoeJJmmQcFyeugVXWzUDEhmJU8\n",
       "Z7UkGpzU/I/FdcSkV/w9zMRNuJve4OhS+l8byO8cFkBc1aWnxxHQCmmlyZLcE6sObtlrpaYK8qr8\n",
       "W9rlZwUmas5a7E9Uvu3Fs6ZD+CtgqtyRzNZ+iLwKQBeJpNWcXLffrKo+vXg+p7OzqLFN8Onz3blE\n",
       "bvBSI5nyi/RcFtLII12VkVmHuiHSHgwwM7gyDnsOaLCudB/dJssLzH8Zv6GiQ316tdCE7HTZNOIh\n",
       "5lVy2TxK0IE/9gkzMUKQUC/3I9vmTVllOonvWVP9H//CISsrBSZCF8uTrRaUen8FTAAzhaEgQ8JY\n",
       "ehj49Y2M3IpPkI82J2ozqb0Nkh74SBCeaV6vWaPw1Zwo4woL8/rEWKruVbUYn+sRzU9VIuxoMEUC\n",
       "v4H8R7FltDdIAuZWoA2uz2F2/2SuNotsOhQiW2BhSdufJYOEI1QcbafJPQMbeAikBcWmcy4L9dd3\n",
       "WOLGoqL6l6hMREZNxXgHwBu+pL9ofF0yBMowhEziDPDcw2ZVFpjFaQZj0k7ZboIkSHLVq4SI+bqk\n",
       "MgHV9///5vporrqStF/iKwZCOus+48TFlv9hGCrH61PWqAzaOY9WGwY2sRpmVjgWxqx/hWf2uy//\n",
       "+S/pZY9ukkzHm42A2XiW2H8RKGqKu6yq/s7/JlkBsrp0z29S8QYbDjABkSelft5LrToLw0XgEaUs\n",
       "gPDFo7fPNXgODANnH78joaHknz+B/QVQIHhi3i3Ai6+rnm+rGver+f3ztareeXJqJGIcxR2N+3Ep\n",
       "+nT/zl/1GAE9g9McZtOjbef8zYf4pW49PV8Krf3hibd4DPgAAAEyQZqESeEPJlMCG//+p4Qkk5uA\n",
       "IlMqKOOfHo0W7JQ5Ylyjhe89vSHvuCGBgfb49ODQtC15CiC9SK1XBlzMqKF/2VYzLTMqKjA8Ae0m\n",
       "NqyodMnuAO+FI2VDlzDjrGb9+XSbwc3l525u0Z8Q3TX1zM+DYBC1sm3+QLjdAC4YvrwMin6R5UnI\n",
       "HOziu9FVQa82Uebp6CM2eBeR8CA0+xwhvmbrGGUbRfM8OjR3nJD5DwK//pU7mqrXLU2oHrDarx3N\n",
       "iACcQplonRayX1GbTXIHC+h2R6GW9R9HV2OCmbV1t2CE51eCB22Pt4lKyE3eVG3djm4hqLSOMsGh\n",
       "TlHLSmmoFYng9kMIbsWlXYlbugLF2iNcX/r2WTxLCUdd0mkEoiYSwlLcvaxiBGQDsFdiKhvUznh/\n",
       "qHKpAAABfkGapUnhDyZTAhv//qeEJL83rgYnu07+gBP5hBQDtAOratp5lbJYcOmcqyneFbKHrn8D\n",
       "E5/hW7+QabfDaoF2XAWaBqyBkzK3zxjbVrGgihDOnQDW26igU4WJ7rxPg/i/taSfrh2EnqQeFauY\n",
       "iTLWiawt/nOsqrgL6hqAi/tnIo8upeSaG6RYitvMVcnfKuavNa3BX09+yZafzmCkqdyUykAGWVDH\n",
       "ST1tahTq54mK7oUDtBpwEOLQvLeS4Z08OJuYAX6dKbAl+yoXZwHw9rdxpuBnxXSX9wLvb0njO2JS\n",
       "q7hqVxf8m/TZP7BiE5lXl1Yq+P8CtCz+IZiAGgYVXjBdpjgNYkfYCarfG3WIuJ4zhjt/FmwPHH83\n",
       "Fogqbo/cKuQMNqowzYv2CYv4DxVHQU09SIryZwoe5/h3lYPcpyA1xPrrpZ6gHD333HGNmtGDLnbk\n",
       "8XzLbETcQVh2uaBbMurLADbGnldhIozC/aKi3SXJf19sMadCvAoltwAJe1l2EUEAAACZQZrHSeEP\n",
       "JlMFETw3//6nhAnv3xQAmmhpagezhTRL0Lp5b4piMZWA/AlQsntKoAuz+WD81CfYwSPsBxtiEULj\n",
       "XrsK2Nt2vvaZ/cRIWzUvhJTOxRW+Gdm6DcnKxwy1tm4CZh5B2beuro8zgKxP9GIg4oyXhcNtLivI\n",
       "Swmp7vmR2NCIcZ63BHdfprIG3+tQiQPLXIWZuzS29BRRAAAAmAGe5mpCvwJ2Oou0dL2OG3t1G8Mv\n",
       "WOFEwWxm+mo+OXgiU88AOPaccokxv6VV5YF0+LE3bUQC/+oDcOJZbj/V5Uk2ztMmuE4QNzEDfMik\n",
       "o3uxZqqWIAyiUm4MkYGS6G3/csN3/URwtLsxZN+PTzXv7/DvqvIfueKtH5uHOw3QIONlA0wC1LbI\n",
       "WiV8ftOaH9PtGDNp46IbdrwvAAAB4EGa6EnhDyZTAhv//qeEC0QOEIAB2ZlC1ApNOcCtON9cne3P\n",
       "J6iZnfIXDQuLCqX4eeru17lSxT03EG9zT6DrLbCu7j8lqlcBl+LIS4En3EWoWMesD6boBN3t+eP7\n",
       "8uhLgMzE4C3m9e7dlkJ0PiKaVk7miXBUlUzg861G6uwQagq8lo1JxcUZpedNWxkWCPc8SacNqvkp\n",
       "B0+p1eBzw6pj3IHvzpCdAtrayADM9VkJvqXwgFcXrhjSyNsMXZZ0HyQ+RcZkM1G231F64ShoTtuy\n",
       "YnxwVnq6hdcQnmVdlE8spG0WOigmmMEMvwn9mJQiq7RdBnKiyat71lyninHXM7rCIIJQMJ6SnhTs\n",
       "xMKpBdUB5vy/8FtbP0VJrpdpZRZev8Jam6PmsczOw42HjwkvRcGJktwtOQEPyvvU8ekT0kt/1M8U\n",
       "F2w9SM6k76fJhDBqX6HfDEajDJrEaY/7g6KNmB6Fak2/ZsWhVT/LDZLvVeq78r4W1eiR3lfgOjw9\n",
       "5AoYyuoUvA+/xuGKWN6glye78k4A4Pk+VXkzYx7Hq3xa4gcxwUaXhSCAq7v/K81NUsAA3HVKvf0v\n",
       "ikaijLIzP+0pzlAQ3CoZzmeZ2U1IeAJN98wmfQJyP7EF5TcScslMLyTJRcY+YAAAAXlBmwlJ4Q8m\n",
       "UwIb//6nhBiOU/kABo3kmwTO5QfyKHhYwIqTG9vNMB19ZToSmf7dGOX0vl+8eSJClSktMqI3mRsw\n",
       "5vSGVwjFRErXG+5qNHcGeNKgllI4fmgNpfuritZ6ZXhU4+95L1nSjwcvCX2UkxEAM+adL63kDvvY\n",
       "miawL1SU70hxPedsVsmqLNhkLk2MTSrl9hU9jNh/hB4HuiFHURX1N9ROut940oktjYq5jT0cBVkV\n",
       "w52KiOKQdF8BM92DJC7OeBvb9o8QcQBPQ8vIW1gtYUkhzBEtGs5xpuZRjwis5eDnwfwDeoh4kkVB\n",
       "0okPv0scWh5dM4NTdgGpM9Vv9FwncvsVV4V6UFm5COOmenos8TxrmmtPbKyLn8yUDVCJF6GbnTux\n",
       "gzNi7T4OAoeLER9jYQ8opdGrfb+o3AyIZMxMtRVMuduTIFEJIydqnoU21EdblMshumEq9T0Qy7Px\n",
       "/MlO/QGftRROjxOPh4Ob7r+0wRkgi87/BfFGTAAAAWhBmypJ4Q8mUwIb//6nhBncA7KOtgA0P5es\n",
       "iTlm1sHNyPQe2PYs4fnYtjUBH42AJi+kAAqHkkL4DDM6WFxA2RTf+yqo4aLtlYeUn4bq767Kb2D7\n",
       "z9DQhsZ+BGLo4WjMbwQQglBF57f+KRFVvvIHr9MSW8l4e5EDSoYxX0VCfqsr8iT+IfGYbE4XGni+\n",
       "kbmH6W7sONwL2VIJEahua74GxZKb8crbUYFhQRrHrwC64WBHrXe9oZTFc+axc3uGM1Cj+E2nmHpH\n",
       "QjUoFght/FtebJIDgCyloh3XaC121lmUBi2qqzz/yS1WoXbnFVWwsG5mkVCn9mrK6Uz0lcRq+N7f\n",
       "s5qBwq6z9Aut4vA4FH6TWTvxQDyX47/2TqbS9rPnyiqHWSHasiV0UvWFKjqZOxaz795oP7zmlBBI\n",
       "u8bZ/ywuTUUyyuwrMoSOPyQfd/yOR9aYpZba6vUJz5d3QTBmf8S+V7rCL2RJVU/Bn9EAAAC7QZtL\n",
       "SeEPJlMCG//+p4QU/vKs2gAGhXECpHTujSrFptVGEtHSI26ajJXgxkH+BJrHf2oN2pk7romicicn\n",
       "25y/ACqgc/E7y3idZoeL3oLOUepdAnxuUEBO8jnOymfZaZx/7TONTG0Mih7rJYgTON1Ku0OXN/pt\n",
       "Ou2aQwyV16/Jg+nqCkvKvPv4+ksOsdBCrHGZAN4XtqJUYT0a0NQKI3FDzG45W6rhC+xlbWYh0EC0\n",
       "gHL9Omr0XuzXaDY/NwAAAHVBm2xJ4Q8mUwIb//6nhBSRmhXJAHLMoXPNnv//2q8dw/PVzsi9134R\n",
       "cuKQE9BaRi7zLTeA9kYkV+4nXafZVOYymatYyYdk2sPCTheLOYEkXsbpRhevqHL6yN15tqLVCR5u\n",
       "rE1n+6drcdlNqcN9rKfnTJDXGcAAAABNQZuOSeEPJlMFETw3//6nhAGR/A6u2x/Aaqw9MP0t3/m7\n",
       "3YQBlSoyprllPZ6tsEKb/6kH7HG6i65tsoiyJhZS0nbGoCHifMhM8hmrhZcAAAAwAZ+takK/AS7q\n",
       "pNaEVZRDtmmQRmX7i4PQATqGUuvYRZZF3U6rw6ApW5n7IqReVHrHAAAAOkGbr0nhDyZTAhv//qeE\n",
       "AAATUdoBv3j6pllQMbQAdC6H/1Sw+7paufcDy4q8Me+3XdDzPOnzFgcgr0EAAAAwQZvQSeEPJlMC\n",
       "Hf/+qZYAAAnBPU2rfiDbbrxp9wPiAAKnb3vYGQEPFUx0577WR0ocAAAANUGb8knhDyZTBRE8O//+\n",
       "qZYAAAnPyNYMokp1d9ZdVfDfcDyoACHwBRzlNzppplG5+UfII6DgAAAAKAGeEWpCvwEu5IC4VBBE\n",
       "O2zzNr/Wn4nknkAH7PU63gv+YqsyKmFmbkEAAAAwQZoUSeEPJlMFPDf//qeEAAAS7pvanNwEdsXA\n",
       "qRMPBAFNq0naRDnTTTKNR8kZ4tV0AAAAKAGeM2pCvwEu5IC4UcikqTabW2snF2fKUABOoZS66G9x\n",
       "3UWYEe6NHaAAAAAxQZo2SeEPJlMFPDf//qeEAAASUesIdP4C2267Q/cD5lADbaajTSTPnPunW/6T\n",
       "UymGIQAAACgBnlVqQr8BLuSAuE+IpK0Im1ZzhWK4nTwAnUMpddDe43LHxUCBSMSAAAAAMEGaV0nh\n",
       "DyZTAhv//qeEAAASUd8sdP4C2267Q/cD5lADbaajTSTPnPunW/6TUymGIQAAADNBmnlJ4Q8mUwUR\n",
       "PDf//qeEAAASbpvX6rAUc2o91idGRMVTADXpV0AzX38Sr63yRnKH7MEAAAAoAZ6YakK/AS7kgLhP\n",
       "kEQ7fHRsbsJ3DA+kaACdQyl10N7mR9quk7VMagAAAC5BmppJ4Q8mUwIb//6nhAAAEdHaAd72qN2x\n",
       "P9+4HzKAEk72hime/A/Snfav7j9hAAAAMEGau0nhDyZTAhn//p4QAABFQ9V7f8YDbeUbggBVI/xz\n",
       "OjDd/hXsiAHM5Ree68OP2AAAAC1Bmt1J4Q8mUwURPCv//jhAAAEO+BvDXaTPCktcBBO4dcQAmUYv\n",
       "wrL9/yzEdXEAAAAbAZ78akK/AS7kgLhNWUQ7hKpsbsf43J4IqiPhAAAEPm1vb3YAAABsbXZoZAAA\n",
       "AAAAAAAAAAAAAAAAA+gAAAXcAAEAAAEAAAAAAAAAAAAAAAABAAAAAAAAAAAAAAAAAAAAAQAAAAAA\n",
       "AAAAAAAAAAAAQAAAAAAAAAAAAAAAAAAAAAAAAAAAAAAAAAAAAAAAAAIAAANodHJhawAAAFx0a2hk\n",
       "AAAAAwAAAAAAAAAAAAAAAQAAAAAAAAXcAAAAAAAAAAAAAAAAAAAAAAABAAAAAAAAAAAAAAAAAAAA\n",
       "AQAAAAAAAAAAAAAAAAAAQAAAAAGwAAABIAAAAAAAJGVkdHMAAAAcZWxzdAAAAAAAAAABAAAF3AAA\n",
       "BAAAAQAAAAAC4G1kaWEAAAAgbWRoZAAAAAAAAAAAAAAAAAAAKAAAADwAVcQAAAAAAC1oZGxyAAAA\n",
       "AAAAAAB2aWRlAAAAAAAAAAAAAAAAVmlkZW9IYW5kbGVyAAAAAottaW5mAAAAFHZtaGQAAAABAAAA\n",
       "AAAAAAAAAAAkZGluZgAAABxkcmVmAAAAAAAAAAEAAAAMdXJsIAAAAAEAAAJLc3RibAAAALNzdHNk\n",
       "AAAAAAAAAAEAAACjYXZjMQAAAAAAAAABAAAAAAAAAAAAAAAAAAAAAAGwASAASAAAAEgAAAAAAAAA\n",
       "AQAAAAAAAAAAAAAAAAAAAAAAAAAAAAAAAAAAAAAAAAAAABj//wAAADFhdmNDAWQAFf/hABhnZAAV\n",
       "rNlBsJaEAAADAAQAAAMAoDxYtlgBAAZo6+PLIsAAAAAcdXVpZGtoQPJfJE/FujmlG88DI/MAAAAA\n",
       "AAAAGHN0dHMAAAAAAAAAAQAAAB4AAAIAAAAAFHN0c3MAAAAAAAAAAQAAAAEAAACoY3R0cwAAAAAA\n",
       "AAATAAAABgAABAAAAAABAAAGAAAAAAEAAAIAAAAABQAABAAAAAABAAAGAAAAAAEAAAIAAAAAAgAA\n",
       "BAAAAAABAAAGAAAAAAEAAAIAAAAAAQAABgAAAAABAAACAAAAAAEAAAYAAAAAAQAAAgAAAAABAAAE\n",
       "AAAAAAEAAAYAAAAAAQAAAgAAAAACAAAEAAAAAAEAAAYAAAAAAQAAAgAAAAAcc3RzYwAAAAAAAAAB\n",
       "AAAAAQAAAB4AAAABAAAAjHN0c3oAAAAAAAAAAAAAAB4AABktAAAETAAAAyoAAAL0AAABNgAAAYIA\n",
       "AACdAAAAnAAAAeQAAAF9AAABbAAAAL8AAAB5AAAAUQAAADQAAAA+AAAANAAAADkAAAAsAAAANAAA\n",
       "ACwAAAA1AAAALAAAADQAAAA3AAAALAAAADIAAAA0AAAAMQAAAB8AAAAUc3RjbwAAAAAAAAABAAAA\n",
       "LAAAAGJ1ZHRhAAAAWm1ldGEAAAAAAAAAIWhkbHIAAAAAAAAAAG1kaXJhcHBsAAAAAAAAAAAAAAAA\n",
       "LWlsc3QAAAAlqXRvbwAAAB1kYXRhAAAAAQAAAABMYXZmNTcuNTAuMTAw\n",
       "\">\n",
       "  Your browser does not support the video tag.\n",
       "</video>"
      ],
      "text/plain": [
       "<IPython.core.display.HTML object>"
      ]
     },
     "execution_count": 73,
     "metadata": {},
     "output_type": "execute_result"
    }
   ],
   "source": [
    "anim = animation.FuncAnimation(fig, animate, frames=rho_n_mac, interval=50)\n",
    "HTML(anim.to_html5_video())"
   ]
  },
  {
   "cell_type": "code",
   "execution_count": null,
   "metadata": {
    "collapsed": true
   },
   "outputs": [],
   "source": []
  }
 ],
 "metadata": {
  "anaconda-cloud": {},
  "kernelspec": {
   "display_name": "Python [Root]",
   "language": "python",
   "name": "Python [Root]"
  },
  "language_info": {
   "codemirror_mode": {
    "name": "ipython",
    "version": 3
   },
   "file_extension": ".py",
   "mimetype": "text/x-python",
   "name": "python",
   "nbconvert_exporter": "python",
   "pygments_lexer": "ipython3",
   "version": "3.5.2"
  }
 },
 "nbformat": 4,
 "nbformat_minor": 0
}
