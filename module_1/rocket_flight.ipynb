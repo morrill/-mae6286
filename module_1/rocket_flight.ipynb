{
 "cells": [
  {
   "cell_type": "code",
   "execution_count": 1,
   "metadata": {
    "collapsed": true
   },
   "outputs": [],
   "source": [
    "from math import sin, cos, log, ceil\n",
    "import numpy as np\n",
    "import matplotlib.pyplot as plt\n",
    "%matplotlib inline\n",
    "from matplotlib import rcParams\n",
    "rcParams['font.family'] = 'serif'\n",
    "rcParams['font.size'] = 16"
   ]
  },
  {
   "cell_type": "code",
   "execution_count": 45,
   "metadata": {
    "collapsed": true
   },
   "outputs": [],
   "source": [
    "# problem parameters\n",
    "ms = 50         # mass of the rocket shell [kg]\n",
    "g = 9.81         # acceleration due to gravity [m/s^2]\n",
    "rho = 1.091      # average air density [kg/m^3], assumed constant\n",
    "A = np.pi*0.5**2 # max cross sectional area of rocket [m]\n",
    "v_e = 325        # exhaust speed [m/s]\n",
    "C_D = 0.15       # drag coefficient\n",
    "\n",
    "# initial conditions\n",
    "mp0 = 100        # initial mass of rocket propellant [kg] (at t = 0)\n",
    "mp_dot = 20      # fuel burn rate [kg/s]\n",
    "A = np.pi*0.5**2 # max cross sectional area of rocket [m]\n",
    "v_e = 325        # exhaust speed [m/s]\n",
    "\n",
    "dt = 0.1         # time increment [s]\n",
    "fuel_time = 10   # information we know about fuel burning\n",
    "N_fuel = int(fuel_time/dt)+1\n",
    "\n",
    "T = 100          # first guess at total time [s]\n",
    "N = int(T/dt)+1\n",
    "t = np.linspace(0,T,N) # time discretization"
   ]
  },
  {
   "cell_type": "code",
   "execution_count": 48,
   "metadata": {
    "collapsed": true
   },
   "outputs": [],
   "source": [
    "def fuel(mp, mp_dot, dt):\n",
    "    \"\"\" This calculates how much fuel is left in the rocket. It fills up an array for mp\"\"\"\n",
    "    return mp - dt*mp_dot\n",
    "\n",
    "def euler_step(u, f, dt):\n",
    "    return u + dt*f(u)\n",
    "\n",
    "def f(u):\n",
    "    h = u[0]\n",
    "    v = u[1]\n",
    "    mp = u[2]\n",
    "    return np.array([v,\n",
    "                    -g + (20*v_e - 0.5*rho*v*np.abs(v)*A*C_D)/(ms + mp),\n",
    "                    -mp_dot])"
   ]
  },
  {
   "cell_type": "code",
   "execution_count": 52,
   "metadata": {
    "collapsed": false
   },
   "outputs": [
    {
     "name": "stderr",
     "output_type": "stream",
     "text": [
      "/home/gil/anaconda3/lib/python3.5/site-packages/ipykernel/__main__.py:13: RuntimeWarning: divide by zero encountered in double_scalars\n"
     ]
    }
   ],
   "source": [
    "T = 100          # first guess at total time [s]\n",
    "N = int(T/dt)+1\n",
    "t = np.linspace(0,T,N) # time discretization\n",
    "\n",
    "# initiallize things\n",
    "u = np.empty((N,3))\n",
    "u[0] = np.array([0, 0, mp0])\n",
    "\n",
    "#time loop\n",
    "for n in range(N-1):\n",
    "    u[n+1] = euler_step(u[n], f, dt)"
   ]
  },
  {
   "cell_type": "code",
   "execution_count": 42,
   "metadata": {
    "collapsed": false
   },
   "outputs": [
    {
     "name": "stdout",
     "output_type": "stream",
     "text": [
      "At time t = 3.2 seconds, there is 36.00 [kg] of rocket propellent remaining in the rocket\n"
     ]
    }
   ],
   "source": [
    "# how much fuel is there?\n",
    "mp = np.empty(N_fuel)\n",
    "mp[0] = mp0\n",
    "for i in range(N_fuel-1):\n",
    "    if i < 50:\n",
    "        mp[i+1] = fuel(mp[i], mp_dot, dt)\n",
    "    else:\n",
    "        mp[i+1] = 0\n",
    "print('At time t = 3.2 seconds, there is %0.2f [kg] of rocket propellent remaining in the rocket' % mp[int(3.2/dt)])"
   ]
  },
  {
   "cell_type": "code",
   "execution_count": 55,
   "metadata": {
    "collapsed": false
   },
   "outputs": [
    {
     "data": {
      "text/plain": [
       "array([  100.,    98.,    96., ..., -1896., -1898., -1900.])"
      ]
     },
     "execution_count": 55,
     "metadata": {},
     "output_type": "execute_result"
    }
   ],
   "source": [
    "u[:,2]"
   ]
  }
 ],
 "metadata": {
  "anaconda-cloud": {},
  "kernelspec": {
   "display_name": "Python [default]",
   "language": "python",
   "name": "python3"
  },
  "language_info": {
   "codemirror_mode": {
    "name": "ipython",
    "version": 3
   },
   "file_extension": ".py",
   "mimetype": "text/x-python",
   "name": "python",
   "nbconvert_exporter": "python",
   "pygments_lexer": "ipython3",
   "version": "3.5.2"
  }
 },
 "nbformat": 4,
 "nbformat_minor": 1
}
