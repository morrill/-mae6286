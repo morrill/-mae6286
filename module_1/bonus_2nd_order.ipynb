{
 "cells": [
  {
   "cell_type": "code",
   "execution_count": 1,
   "metadata": {
    "collapsed": true
   },
   "outputs": [],
   "source": [
    "from math import sin, cos, log\n",
    "import numpy as np\n",
    "import matplotlib.pyplot as plt\n",
    "%matplotlib inline\n",
    "from matplotlib import rcParams\n",
    "rcParams['font.family'] = 'serif'\n",
    "rcParams['font.size'] = 16"
   ]
  },
  {
   "cell_type": "code",
   "execution_count": 2,
   "metadata": {
    "collapsed": true
   },
   "outputs": [],
   "source": [
    "# model parameters:\n",
    "g = 9.8      # gravity in m s^{-2}\n",
    "v_t = 4.9    # trim velocity in m s^{-1}   \n",
    "C_D = 1/5.0  # drag coefficient --- or D/L if C_L=1\n",
    "C_L = 1.0    # for convenience, use C_L = 1\n",
    "\n",
    "### set initial conditions ###\n",
    "v0 = 6.5     # start at the trim velocity (or add a delta)\n",
    "theta0 = -0.1 # initial angle of trajectory\n",
    "x0 = 0.0     # horizotal position is arbitrary\n",
    "y0 = 2.0     # initial altitude"
   ]
  },
  {
   "cell_type": "code",
   "execution_count": 37,
   "metadata": {
    "collapsed": true
   },
   "outputs": [],
   "source": [
    "def f(u):\n",
    "    \"\"\"Returns the right-hand side of the phugoid system of equations.\n",
    "    \n",
    "    Parameters\n",
    "    ----------\n",
    "    u : array of float\n",
    "        array containing the solution at time n.\n",
    "        \n",
    "    Returns\n",
    "    -------\n",
    "    dudt : array of float\n",
    "        array containing the RHS given u.\n",
    "    \"\"\"\n",
    "    \n",
    "    v = u[0]\n",
    "    theta = u[1]\n",
    "    x = u[2]\n",
    "    y = u[3]\n",
    "    return np.array([-g*sin(theta) - C_D/C_L*g/v_t**2*v**2,\n",
    "                      -g*cos(theta)/v + g/v_t**2*v,\n",
    "                      v*cos(theta),\n",
    "                      v*sin(theta)])\n",
    "\n",
    "\n",
    "def euler_step(u, f, dt):\n",
    "    \"\"\"Returns the solution at the next time-step using Euler's method.\n",
    "    \n",
    "    Parameters\n",
    "    ----------\n",
    "    u : array of float\n",
    "        solution at the previous time-step.\n",
    "    f : function\n",
    "        function to compute the right hand-side of the system of equation.\n",
    "    dt : float\n",
    "        time-increment.\n",
    "    \n",
    "    Returns\n",
    "    -------\n",
    "    u_n_plus_1 : array of float\n",
    "        approximate solution at the next time step.\n",
    "    \"\"\"\n",
    "    \n",
    "    return u + dt * f(u)\n",
    "\n",
    "\n",
    "def get_diffgrid(u_current, u_fine, dt):\n",
    "    \"\"\"Returns the difference between one grid and the fine one using L-1 norm.\n",
    "    \n",
    "    Parameters\n",
    "    ----------\n",
    "    u_current : array of float\n",
    "        solution on the current grid.\n",
    "    u_finest : array of float\n",
    "        solution on the fine grid.\n",
    "    dt : float\n",
    "        time-increment on the current grid.\n",
    "    \n",
    "    Returns\n",
    "    -------\n",
    "    diffgrid : float\n",
    "        difference computed in the L-1 norm.\n",
    "    \"\"\"\n",
    "    \n",
    "    N_current = len(u_current[:,0])\n",
    "    N_fine = len(u_fine[:,0])\n",
    "   \n",
    "    grid_size_ratio = np.ceil(N_fine/N_current)\n",
    "    \n",
    "    diffgrid = dt * np.sum( np.abs(u_current[:,2]- u_fine[::grid_size_ratio,2])) \n",
    "    \n",
    "    return diffgrid"
   ]
  },
  {
   "cell_type": "code",
   "execution_count": 8,
   "metadata": {
    "collapsed": true
   },
   "outputs": [],
   "source": [
    "def rk2_step(u, f, dt):\n",
    "    \"\"\" Returns the solution at the next time-step using 2nd-order Runge-Kutta.\n",
    "    \n",
    "    Parameters\n",
    "    ----------\n",
    "    u : array of float\n",
    "        solution at the provious time step\n",
    "    f : function\n",
    "        function to compute the right hand-side of the system of equations\n",
    "    dt : float\n",
    "        time-increment.\n",
    "    \n",
    "    Returns\n",
    "    -------\n",
    "    u_n_plus1 : array of float\n",
    "        solution at the next time step\n",
    "    \"\"\"\n",
    "    u_star = u + 0.5*dt*f(u)\n",
    "    return u + dt*f(u_star)"
   ]
  },
  {
   "cell_type": "code",
   "execution_count": 11,
   "metadata": {
    "collapsed": false
   },
   "outputs": [],
   "source": [
    "# set time-increment and discretize the time\n",
    "T = 15.           # final time\n",
    "dt = 0.01         # set time-increment\n",
    "N = int(T/dt) + 1 # number of time-steps\n",
    "\n",
    "# initial conditions\n",
    "u_euler = np.empty((N, 4))\n",
    "u_rk2 = np.empty((N, 4))\n",
    "\n",
    "# initialize the array containting the solution for each time step\n",
    "u_euler[0] = np.array([v0, theta0, x0, y0])\n",
    "u_rk2[0] = np.array([v0, theta0, x0, y0])\n",
    "\n",
    "# use for loop to call the function rd2_step()\n",
    "for n in range(N-1):\n",
    "    u_euler[n+1] = euler_step(u_euler[n], f, dt)\n",
    "    u_rk2[n+1] = rk2_step(u_rk2[n], f, dt)"
   ]
  },
  {
   "cell_type": "code",
   "execution_count": 21,
   "metadata": {
    "collapsed": true
   },
   "outputs": [],
   "source": [
    "x_euler = u_euler[:,2]\n",
    "y_euler = u_euler[:,3]\n",
    "x_rk2 = u_rk2[:,2]\n",
    "y_rk2 = u_rk2[:,3]"
   ]
  },
  {
   "cell_type": "code",
   "execution_count": 22,
   "metadata": {
    "collapsed": false
   },
   "outputs": [
    {
     "data": {
      "text/plain": [
       "310"
      ]
     },
     "execution_count": 22,
     "metadata": {},
     "output_type": "execute_result"
    }
   ],
   "source": [
    "np.where(y_euler < 0)[0][0]"
   ]
  },
  {
   "cell_type": "code",
   "execution_count": 23,
   "metadata": {
    "collapsed": false
   },
   "outputs": [],
   "source": [
    "# get index of element of y where altitude becomes negative\n",
    "idx_negative_euler = np.where(y_euler < 0.0)[0]\n",
    "if len(idx_negative_euler)==0:\n",
    "    idx_ground_euler = N-1\n",
    "    print('Euler integration has not touched ground yet!')\n",
    "else:\n",
    "    idx_ground_euler = idx_negative_euler[0]\n",
    "\n",
    "idx_negative_rk2 = np.where(y_rk2 < 0.0)[0]\n",
    "if len(idx_negative_rk2)==0:\n",
    "    idx_ground_rk2 = N-1\n",
    "    print('Runge-Kutta integration has not touched ground yet!')\n",
    "else: idx_ground_rk2 = idx_negative_rk2[0]"
   ]
  },
  {
   "cell_type": "code",
   "execution_count": 24,
   "metadata": {
    "collapsed": false
   },
   "outputs": [
    {
     "name": "stdout",
     "output_type": "stream",
     "text": [
      "Are the x-values close? False\n",
      "Are the y-values close? False\n"
     ]
    }
   ],
   "source": [
    "# check to see if the paths match\n",
    "print('Are the x-values close? {}'.format(np.allclose(x_euler, x_rk2)))\n",
    "print('Are the y-values close? {}'.format(np.allclose(y_euler, y_rk2)))"
   ]
  },
  {
   "cell_type": "code",
   "execution_count": 34,
   "metadata": {
    "collapsed": false
   },
   "outputs": [
    {
     "data": {
      "image/png": "[encoded data removed]",
      "text/plain": [
       "<matplotlib.figure.Figure at 0x7f3bf44f32e8>"
      ]
     },
     "metadata": {},
     "output_type": "display_data"
    }
   ],
   "source": [
    "# plot the glider path\n",
    "plt.figure(figsize=(10,6))\n",
    "plt.subplot(121)\n",
    "plt.grid(True)\n",
    "plt.xlabel('$x$')\n",
    "plt.ylabel('$y$')\n",
    "plt.plot(x_euler[:idx_ground_euler], y_euler[:idx_ground_euler], 'k-', label='Euler')\n",
    "plt.plot(x_rk2[:idx_ground_rk2], y_rk2[:idx_ground_rk2], 'r--', label='RK2')\n",
    "plt.title('distance traveled: {:.2f} m'.format(x_rk2[idx_ground_rk2-1]))\n",
    "plt.legend()\n",
    "\n",
    "# taking a closer look\n",
    "plt.subplot(122)\n",
    "plt.grid(True)\n",
    "plt.xlabel('$x$')\n",
    "plt.ylabel('$y$')\n",
    "plt.plot(x_euler, y_euler, 'k-', label='Euler')\n",
    "plt.plot(x_rk2, y_rk2, 'r--', label='RK2')\n",
    "plt.xlim(0,5)\n",
    "plt.ylim(1.8,2.5);"
   ]
  },
  {
   "cell_type": "code",
   "execution_count": 35,
   "metadata": {
    "collapsed": true
   },
   "outputs": [],
   "source": [
    "# use for loop to compute the solution for different grid sizes\n",
    "dt_values = np.array([0.1, 0.05, 0.01, 0.005, 0.001])\n",
    "u_values = np.empty_like(dt_values, dtype=np.ndarray)\n",
    "\n",
    "for i, dt in enumerate(dt_values):\n",
    "    N = int(T/dt)+1  # number of time-steps\n",
    "    \n",
    "    # discretize the time t\n",
    "    t = np.linspace(0.0, T, N)\n",
    "    \n",
    "    # initialize array containing the solution at each time step\n",
    "    u = np.empty((N, 4))\n",
    "    u[0] = np.array([v0, theta0, x0, y0])\n",
    "    \n",
    "    # time loop\n",
    "    for n in range(N-1):\n",
    "        u[n+1] = rk2_step(u[n], f, dt)\n",
    "        \n",
    "    # store the value of u related to one grid\n",
    "    u_values[i] = u"
   ]
  },
  {
   "cell_type": "code",
   "execution_count": 38,
   "metadata": {
    "collapsed": false
   },
   "outputs": [
    {
     "name": "stderr",
     "output_type": "stream",
     "text": [
      "/home/gil/anaconda3/lib/python3.5/site-packages/ipykernel/__main__.py:69: DeprecationWarning: using a non-integer number instead of an integer will result in an error in the future\n"
     ]
    }
   ],
   "source": [
    "# compute differences\n",
    "diffgrid = np.empty_like(dt_values)\n",
    "for i, dt in enumerate(dt_values):\n",
    "    diffgrid[i] = get_diffgrid(u_values[i], u_values[-1], dt)"
   ]
  },
  {
   "cell_type": "code",
   "execution_count": 46,
   "metadata": {
    "collapsed": false
   },
   "outputs": [
    {
     "data": {
      "image/png": "[encoded data removed]",
      "text/plain": [
       "<matplotlib.figure.Figure at 0x7f3bf45557b8>"
      ]
     },
     "metadata": {},
     "output_type": "display_data"
    }
   ],
   "source": [
    "# plot the thing\n",
    "plt.figure(figsize=(6,6))\n",
    "plt.grid(True)\n",
    "plt.xlabel(r'$\\Delta t$', fontsize=18)\n",
    "plt.ylabel(r'$L_1$-norm of the grid differences', fontsize=18)\n",
    "plt.xlim(1e-4,1)\n",
    "plt.ylim(1e-4,1)\n",
    "plt.axis('equal')\n",
    "plt.loglog(dt_values[:-1], diffgrid[:-1], color='k', ls='--', lw=2, marker='o');"
   ]
  },
  {
   "cell_type": "code",
   "execution_count": 50,
   "metadata": {
    "collapsed": false
   },
   "outputs": [
    {
     "name": "stdout",
     "output_type": "stream",
     "text": [
      "The order of convergence is alpha = 1.983\n"
     ]
    },
    {
     "name": "stderr",
     "output_type": "stream",
     "text": [
      "/home/gil/anaconda3/lib/python3.5/site-packages/ipykernel/__main__.py:69: DeprecationWarning: using a non-integer number instead of an integer will result in an error in the future\n"
     ]
    }
   ],
   "source": [
    "# check the order of convergence\n",
    "r = 2\n",
    "h = 0.001\n",
    "dt_values = np.array([h, r*h, r**2*h])\n",
    "u_values = np.empty_like(dt_values, dtype=np.ndarray)\n",
    "\n",
    "for i, dt in enumerate(dt_values):\n",
    "    N = int(T/dt)+1\n",
    "    \n",
    "    # discretize the time\n",
    "    t = np.linspace(0.0, T, N)\n",
    "    \n",
    "    # initialize array containing solution for each time step\n",
    "    u = np.empty((N, 4))\n",
    "    u[0] = np.array([v0, theta0, x0, y0])\n",
    "    \n",
    "    # time loop\n",
    "    for n in range(N-1):\n",
    "        u[n+1] = rk2_step(u[n], f, dt)\n",
    "    \n",
    "    # store value of u for each dt\n",
    "    u_values[i] = u\n",
    "    \n",
    "# calculate order of convergence\n",
    "alpha = (log(get_diffgrid(u_values[2], u_values[1], dt_values[2])) - log(get_diffgrid(u_values[1], u_values[0], dt_values[1])))/log(r)\n",
    "\n",
    "print('The order of convergence is alpha = {:.3f}'.format(alpha))"
   ]
  },
  {
   "cell_type": "markdown",
   "metadata": {},
   "source": [
    "### Challenge task: \n",
    "\n",
    "How much time does each calculation method take?"
   ]
  },
  {
   "cell_type": "code",
   "execution_count": 52,
   "metadata": {
    "collapsed": false
   },
   "outputs": [],
   "source": [
    "import time"
   ]
  },
  {
   "cell_type": "code",
   "execution_count": 54,
   "metadata": {
    "collapsed": false
   },
   "outputs": [],
   "source": [
    "def time_euler():\n",
    "    # set time-increment and discretize the time\n",
    "    T = 15.           # final time\n",
    "    dt = 0.01         # set time-increment\n",
    "    N = int(T/dt) + 1 # number of time-steps\n",
    "\n",
    "    # initial conditions\n",
    "    u_euler = np.empty((N, 4))\n",
    "    \n",
    "    # initialize the array containting the solution for each time step\n",
    "    u_euler[0] = np.array([v0, theta0, x0, y0])\n",
    "    \n",
    "    # use for loop to call the function rd2_step()\n",
    "    for n in range(N-1):\n",
    "        u_euler[n+1] = euler_step(u_euler[n], f, dt)\n",
    "    return\n",
    "\n",
    "def time_rk2():\n",
    "    # set time-increment and discretize the time\n",
    "    T = 15.           # final time\n",
    "    dt = 0.01         # set time-increment\n",
    "    N = int(T/dt) + 1 # number of time-steps\n",
    "\n",
    "    # initial conditions\n",
    "    u_rk2 = np.empty((N, 4))\n",
    "    \n",
    "    # initialize the array containting the solution for each time step\n",
    "    u_rk2[0] = np.array([v0, theta0, x0, y0])\n",
    "    \n",
    "    # use for loop to call the function rd2_step()\n",
    "    for n in range(N-1):\n",
    "        u_rk2[n+1] = rk2_step(u_euler[n], f, dt)\n",
    "    return"
   ]
  },
  {
   "cell_type": "code",
   "execution_count": 72,
   "metadata": {
    "collapsed": false
   },
   "outputs": [
    {
     "name": "stdout",
     "output_type": "stream",
     "text": [
      "Euler method took: 36.816 miliseconds\n",
      "Runga-Kutta 2 method took: 48.966 miliseconds\n"
     ]
    }
   ],
   "source": [
    "# time the solutions:\n",
    "k = int(100) # number of times to run the function and average time over\n",
    "\n",
    "# time the Euler method\n",
    "t0 = time.clock()\n",
    "for i in range(k): time_euler()\n",
    "t1 = time.clock()\n",
    "euler_time = (t1-t0)/k*1000 # average time to complete method in miliseconds\n",
    "\n",
    "# time the RK2 method:\n",
    "t0 = time.clock()\n",
    "for i in range(k): time_rk2()\n",
    "t1 = time.clock()\n",
    "rk2_time = (t1-t0)/k*1000 # average time to complete method in miliseconds\n",
    "print('Euler method took: %0.3f miliseconds\\nRunga-Kutta 2 method took: %0.3f miliseconds' % (euler_time, rk2_time))"
   ]
  },
  {
   "cell_type": "markdown",
   "metadata": {},
   "source": [
    "### end of challenge\n",
    "\n",
    "onto the leapfrog method:"
   ]
  },
  {
   "cell_type": "code",
   "execution_count": 75,
   "metadata": {
    "collapsed": true
   },
   "outputs": [],
   "source": [
    "def leapfrog_step(unm1, u, f, dt):\n",
    "    \"\"\" Returns the solution time-step n+1 using a leapfrog method\n",
    "    \n",
    "    Parameters\n",
    "    ----------\n",
    "    unm1 : array of float\n",
    "        solutions at time-step n-1.\n",
    "    u : array of float\n",
    "        solution at time-step n\n",
    "    f : function\n",
    "        function to compute RHS of the system of equations\n",
    "    dt : float\n",
    "        time-increment\n",
    "    \"\"\"\n",
    "    return unm1 + 2.0*dt*f(u)"
   ]
  },
  {
   "cell_type": "code",
   "execution_count": 74,
   "metadata": {
    "collapsed": true
   },
   "outputs": [],
   "source": [
    "# model parameters:\n",
    "g = 9.8      # gravity in m s^{-2}\n",
    "v_t = 4.9    # trim velocity in m s^{-1}   \n",
    "C_D = 1/5.0  # drag coefficient --- or D/L if C_L=1\n",
    "C_L = 1.0    # for convenience, use C_L = 1\n",
    "\n",
    "### set initial conditions ###\n",
    "v0 = 6.5     # start at the trim velocity (or add a delta)\n",
    "theta0 = -0.1 # initial angle of trajectory\n",
    "x0 = 0.0     # horizotal position is arbitrary\n",
    "y0 = 2.0     # initial altitude\n",
    "\n",
    "# set time-increment and discretize the time\n",
    "T  = 15.0                           # final time\n",
    "dt = 0.01                             # set time-increment\n",
    "N  = int(T/dt) + 1                   # number of time-steps\n",
    "\n",
    "# set initial conditions\n",
    "u_leapfrog = np.empty((N, 4))\n",
    "\n",
    "# initialize the array containing the solution for each time-step\n",
    "u_leapfrog[0] = np.array([v0, theta0, x0, y0])\n",
    "\n",
    "# first step using RK2\n",
    "u_leapfrog[1] = rk2_step(u_leapfrog[0], f, dt)"
   ]
  },
  {
   "cell_type": "code",
   "execution_count": 76,
   "metadata": {
    "collapsed": true
   },
   "outputs": [],
   "source": [
    "# for loop to call leapfrog_step function\n",
    "for n in range(1,N-1):\n",
    "    u_leapfrog[n+1] = leapfrog_step(u_leapfrog[n-1], u_leapfrog[n], f, dt)"
   ]
  },
  {
   "cell_type": "code",
   "execution_count": 77,
   "metadata": {
    "collapsed": true
   },
   "outputs": [],
   "source": [
    "# get glider spatial coordinates\n",
    "x_leapfrog = u_leapfrog[:,2]\n",
    "y_leapfrog = u_leapfrog[:,3]\n",
    "\n",
    "# get index of element where y becomes negative\n",
    "idx_negative_leapfrog = np.where(y_leapfrog < 0.0)[0]\n",
    "\n",
    "if len(idx_negative_leapfrog)==0:\n",
    "    idx_ground_leapfrog = N-1\n",
    "    pring('The glider has not reached the ground yet!')\n",
    "else:\n",
    "    idx_ground_leapfrog = idx_negative_leapfrog[0]"
   ]
  },
  {
   "cell_type": "code",
   "execution_count": 78,
   "metadata": {
    "collapsed": false
   },
   "outputs": [
    {
     "data": {
      "image/png": "[encoded data removed]",
      "text/plain": [
       "<matplotlib.figure.Figure at 0x7f3bf407ae48>"
      ]
     },
     "metadata": {},
     "output_type": "display_data"
    }
   ],
   "source": [
    "# plot the glider path\n",
    "plt.figure(figsize=(11,8))\n",
    "plt.subplot(121)\n",
    "plt.grid(True)\n",
    "plt.xlabel('$x$')\n",
    "plt.ylabel('$y$')\n",
    "plt.plot(x_leapfrog[:idx_ground_leapfrog], y_leapfrog[:idx_ground_leapfrog], color='k', ls='-', lw=2)\n",
    "plt.title('distance traveled: {:.3f}'.format(x_leapfrog[idx_ground_leapfrog-1]), fontsize=18);\n",
    "\n",
    "# Let's take a closer look!\n",
    "plt.subplot(122)\n",
    "plt.grid(True)\n",
    "plt.xlabel('$x$')\n",
    "plt.ylabel('$y$')\n",
    "plt.plot(x_leapfrog[:idx_ground_leapfrog], y_leapfrog[:idx_ground_leapfrog], color='k', ls=':', lw=2)\n",
    "plt.plot(x_rk2, y_rk2, 'r--', label='RK2')\n",
    "plt.xlim(0,5)\n",
    "plt.ylim(1.8,2.5);"
   ]
  }
 ],
 "metadata": {
  "kernelspec": {
   "display_name": "Python [default]",
   "language": "python",
   "name": "python3"
  },
  "language_info": {
   "codemirror_mode": {
    "name": "ipython",
    "version": 3
   },
   "file_extension": ".py",
   "mimetype": "text/x-python",
   "name": "python",
   "nbconvert_exporter": "python",
   "pygments_lexer": "ipython3",
   "version": "3.5.2"
  }
 },
 "nbformat": 4,
 "nbformat_minor": 1
}
