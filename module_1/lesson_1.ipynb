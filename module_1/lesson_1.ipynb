{
 "cells": [
  {
   "cell_type": "code",
   "execution_count": 8,
   "metadata": {
    "collapsed": true
   },
   "outputs": [],
   "source": [
    "%matplotlib inline"
   ]
  },
  {
   "cell_type": "code",
   "execution_count": 9,
   "metadata": {
    "collapsed": false
   },
   "outputs": [
    {
     "data": {
      "text/plain": [
       "'/home/morrill/mae6286'"
      ]
     },
     "execution_count": 9,
     "metadata": {},
     "output_type": "execute_result"
    }
   ],
   "source": [
    "pwd"
   ]
  },
  {
   "cell_type": "markdown",
   "metadata": {},
   "source": [
    "ls = list\n",
    "\n",
    ".. takes us up one folder in the current directory, to \"morrill/\"\n",
    "\n",
    "we then put the path into the lesson 01 folder for the numerical mooc repository (/numerical-mooc/lessons/01_phugoid/) to find the file name of the .py file that defines the function for plotting phugoid oscillations. "
   ]
  },
  {
   "cell_type": "code",
   "execution_count": 10,
   "metadata": {
    "collapsed": false
   },
   "outputs": [
    {
     "name": "stdout",
     "output_type": "stream",
     "text": [
      "01_01_Phugoid_Theory.ipynb        \u001b[0m\u001b[01;34mfigures\u001b[0m/\r\n",
      "01_02_Phugoid_Oscillation.ipynb   \u001b[01;32mphugoid.py\u001b[0m*\r\n",
      "01_03_PhugoidFullModel.ipynb      README.md\r\n",
      "01_04_Second_Order_Methods.ipynb  Rocket_Assignment.ipynb\r\n",
      "burn.rate.png\r\n"
     ]
    }
   ],
   "source": [
    "ls ../numerical-mooc/lessons/01_phugoid/"
   ]
  },
  {
   "cell_type": "markdown",
   "metadata": {},
   "source": [
    "Now we can call the cell magic \"run\" to run that .py file so that the funciton is defined."
   ]
  },
  {
   "cell_type": "code",
   "execution_count": 11,
   "metadata": {
    "collapsed": true
   },
   "outputs": [],
   "source": [
    "%run ../numerical-mooc/lessons/01_phugoid/phugoid.py"
   ]
  },
  {
   "cell_type": "markdown",
   "metadata": {},
   "source": [
    "Now we'll play with the plotting function to reproduce the cases shown in the lesson.\n",
    "\n",
    "First lets solve equation 15 for $C$ so that we can more easily select values for $z$, $z_t$, and $\\theta$. Then lets define a funtion to solve it for us.\n",
    "\n",
    "Equation (15) solved for C:\n",
    "\n",
    "\n",
    "$$\\begin{equation}\n",
    "C = \\frac{\\cos \\theta - \\frac{z}{3z_t}}{\\sqrt{\\frac{z_t}{zt}}}\n",
    "\\end{equation}$$"
   ]
  },
  {
   "cell_type": "code",
   "execution_count": 892,
   "metadata": {
    "collapsed": true
   },
   "outputs": [],
   "source": [
    "def solveC(z,zt,theta):\n",
    "    C = (numpy.cos(theta) - z/(3*zt))/numpy.sqrt(zt/z)\n",
    "    return C"
   ]
  },
  {
   "cell_type": "code",
   "execution_count": 894,
   "metadata": {
    "collapsed": false
   },
   "outputs": [
    {
     "name": "stdout",
     "output_type": "stream",
     "text": [
      "C = 0.440\n"
     ]
    }
   ],
   "source": [
    "solveC(1,1,numpy.pi)\n",
    "print(\"C = %.3f\" % C)"
   ]
  },
  {
   "cell_type": "markdown",
   "metadata": {},
   "source": [
    "# Idea for picking values to plot:\n",
    "This is a new idea I had. Write a function that randomly tries inputs for equation 15 until it gets a specified/desirerd C value. Then output them.\n",
    "\n",
    "And so here is it below."
   ]
  },
  {
   "cell_type": "code",
   "execution_count": 895,
   "metadata": {
    "collapsed": false
   },
   "outputs": [],
   "source": [
    "import random\n",
    "def give_input():\n",
    "    count = 0\n",
    "    i = 0\n",
    "    while i < 1:\n",
    "        z = random.uniform(1e-3,1000)\n",
    "        zt = random.uniform(1e-3,1000)\n",
    "        theta = random.uniform(0,numpy.pi)\n",
    "        C = solveC(z,zt,theta)\n",
    "        count+=1\n",
    "        if C > 0 and C < 2/3:\n",
    "            i+=1\n",
    "    return (z,zt,theta,C,count)"
   ]
  },
  {
   "cell_type": "markdown",
   "metadata": {},
   "source": [
    "The function, give_input() randomly tries inputs of z, and zt between 0.001 and 1000 and theta between 0 and pi for equation 15 solved for C until the value of C is between 0 and 2/3. It then outputs those parameters to be used in the plottin function plot_flight_path.\n",
    "\n",
    "See the below example for calling the function, printing the result, and plotting the returned parameters."
   ]
  },
  {
   "cell_type": "code",
   "execution_count": 913,
   "metadata": {
    "collapsed": false
   },
   "outputs": [
    {
     "name": "stdout",
     "output_type": "stream",
     "text": [
      "z = 167.07\n",
      "zt = 810.07\n",
      "theta = 1.24\n",
      "C = 0.116\n",
      "times through loop = 5\n"
     ]
    },
    {
     "data": {
      "image/png": "[encoded data removed]",
      "text/plain": [
       "<matplotlib.figure.Figure at 0x7f4be7d68860>"
      ]
     },
     "metadata": {},
     "output_type": "display_data"
    }
   ],
   "source": [
    "[z,zt,theta,C,count] = give_input()\n",
    "a = ''\n",
    "print(\"z = %0.2f\\nzt = %0.2f\\ntheta = %0.2f\\nC = %0.3f\\ntimes through loop = %.f\" % (z,zt,theta,C,count))\n",
    "plot_flight_path(zt,z,theta)"
   ]
  },
  {
   "cell_type": "code",
   "execution_count": null,
   "metadata": {
    "collapsed": true
   },
   "outputs": [],
   "source": []
  }
 ],
 "metadata": {
  "anaconda-cloud": {},
  "kernelspec": {
   "display_name": "Python [default]",
   "language": "python",
   "name": "python3"
  },
  "language_info": {
   "codemirror_mode": {
    "name": "ipython",
    "version": 3
   },
   "file_extension": ".py",
   "mimetype": "text/x-python",
   "name": "python",
   "nbconvert_exporter": "python",
   "pygments_lexer": "ipython3",
   "version": "3.5.2"
  }
 },
 "nbformat": 4,
 "nbformat_minor": 0
}
