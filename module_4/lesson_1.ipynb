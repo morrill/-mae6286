{
 "cells": [
  {
   "cell_type": "code",
   "execution_count": 2,
   "metadata": {
    "collapsed": false
   },
   "outputs": [],
   "source": [
    "import numpy\n",
    "from matplotlib import pyplot, rcParams\n",
    "%matplotlib inline\n",
    "rcParams['font.family'] = 'serif'\n",
    "rcParams['font.size'] = 16"
   ]
  },
  {
   "cell_type": "code",
   "execution_count": 5,
   "metadata": {
    "collapsed": false
   },
   "outputs": [],
   "source": [
    "L = 1\n",
    "nt = 100\n",
    "nx = 51\n",
    "alpha = 1.22e-3\n",
    "\n",
    "dx = L/(nx-1)\n",
    "\n",
    "Ti = numpy.zeros(nx)\n",
    "Ti[0] = 100"
   ]
  },
  {
   "cell_type": "code",
   "execution_count": 8,
   "metadata": {
    "collapsed": true
   },
   "outputs": [],
   "source": [
    "def ftcs(T, nt, dt, dx, alpha):\n",
    "    \"\"\"Solves the diffusion equation with forward-time, centered-space scheme\n",
    "    \n",
    "    Parameters:\n",
    "    -----------\n",
    "    T: array of float\n",
    "        Initial temperature distribution\n",
    "    \n",
    "    nt: int\n",
    "        Number of time steps\n",
    "    \n",
    "    dt: float\n",
    "        time step size\n",
    "    \n",
    "    dx: float\n",
    "        Mesh size\n",
    "        \n",
    "    alpha: float\n",
    "        Diffusion coefficient (thermal diffusibity)\n",
    "        \n",
    "    Returns:\n",
    "    --------\n",
    "    T: array of float\n",
    "        Temperature profile after nt time steps with forward in time shceme\n",
    "    \n",
    "    \"\"\"\n",
    "    \n",
    "    for n in range(nt):\n",
    "        Tn = T.copy()\n",
    "        T[1:-1] = Tn[1:-1] + alpha*dt/dx**2*(Tn[2:] - 2*Tn[1:-1] + Tn[0:-2])\n",
    "        \n",
    "    return T"
   ]
  },
  {
   "cell_type": "code",
   "execution_count": 9,
   "metadata": {
    "collapsed": false
   },
   "outputs": [],
   "source": [
    "sigma = 1/2\n",
    "dt = sigma*dx**2/alpha\n",
    "T = ftcs(Ti.copy(), nt, dt, dx, alpha)"
   ]
  },
  {
   "cell_type": "code",
   "execution_count": 10,
   "metadata": {
    "collapsed": false
   },
   "outputs": [
    {
     "data": {
      "image/png": "[encoded data removed]",
      "text/plain": [
       "<matplotlib.figure.Figure at 0x2145916a080>"
      ]
     },
     "metadata": {},
     "output_type": "display_data"
    }
   ],
   "source": [
    "pyplot.plot(numpy.linspace(0,1,nx), T, color='#003366', ls='-', lw=3)\n",
    "pyplot.ylim(0,100)\n",
    "pyplot.xlabel('Length of Rod')\n",
    "pyplot.ylabel('Temperature');"
   ]
  },
  {
   "cell_type": "code",
   "execution_count": null,
   "metadata": {
    "collapsed": true
   },
   "outputs": [],
   "source": []
  }
 ],
 "metadata": {
  "kernelspec": {
   "display_name": "Python [Root]",
   "language": "python",
   "name": "Python [Root]"
  },
  "language_info": {
   "codemirror_mode": {
    "name": "ipython",
    "version": 3
   },
   "file_extension": ".py",
   "mimetype": "text/x-python",
   "name": "python",
   "nbconvert_exporter": "python",
   "pygments_lexer": "ipython3",
   "version": "3.5.2"
  }
 },
 "nbformat": 4,
 "nbformat_minor": 0
}
